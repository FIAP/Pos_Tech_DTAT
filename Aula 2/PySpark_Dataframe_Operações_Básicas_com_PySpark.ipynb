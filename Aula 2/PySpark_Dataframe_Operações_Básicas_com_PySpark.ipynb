{
  "nbformat": 4,
  "nbformat_minor": 0,
  "metadata": {
    "colab": {
      "provenance": []
    },
    "kernelspec": {
      "name": "python3",
      "display_name": "Python 3"
    },
    "language_info": {
      "name": "python"
    }
  },
  "cells": [
    {
      "cell_type": "markdown",
      "source": [
        "# Creating and Manipulation in PySpark DataFrame"
      ],
      "metadata": {
        "id": "PgHnsi52fTxr"
      }
    },
    {
      "cell_type": "code",
      "source": [
        "!pip install pyspark\n",
        "import pyspark\n",
        "from pyspark.sql import SparkSession\n",
        "spark=SparkSession.builder.appName(\"pysparkdf\").getOrCreate()"
      ],
      "metadata": {
        "colab": {
          "base_uri": "https://localhost:8080/"
        },
        "id": "RP1guNIYe2U7",
        "outputId": "a61acbb3-80c7-4482-f639-c911c431e714"
      },
      "execution_count": 1,
      "outputs": [
        {
          "output_type": "stream",
          "name": "stdout",
          "text": [
            "Collecting pyspark\n",
            "  Downloading pyspark-3.4.1.tar.gz (310.8 MB)\n",
            "\u001b[2K     \u001b[90m━━━━━━━━━━━━━━━━━━━━━━━━━━━━━━━━━━━━━━━\u001b[0m \u001b[32m310.8/310.8 MB\u001b[0m \u001b[31m2.3 MB/s\u001b[0m eta \u001b[36m0:00:00\u001b[0m\n",
            "\u001b[?25h  Preparing metadata (setup.py) ... \u001b[?25l\u001b[?25hdone\n",
            "Requirement already satisfied: py4j==0.10.9.7 in /usr/local/lib/python3.10/dist-packages (from pyspark) (0.10.9.7)\n",
            "Building wheels for collected packages: pyspark\n",
            "  Building wheel for pyspark (setup.py) ... \u001b[?25l\u001b[?25hdone\n",
            "  Created wheel for pyspark: filename=pyspark-3.4.1-py2.py3-none-any.whl size=311285387 sha256=62395fb37372667f249fa066872adef5d7eb8ac041dac293f3722299ed33de14\n",
            "  Stored in directory: /root/.cache/pip/wheels/0d/77/a3/ff2f74cc9ab41f8f594dabf0579c2a7c6de920d584206e0834\n",
            "Successfully built pyspark\n",
            "Installing collected packages: pyspark\n",
            "Successfully installed pyspark-3.4.1\n"
          ]
        }
      ]
    },
    {
      "cell_type": "markdown",
      "source": [
        "## Importing Data"
      ],
      "metadata": {
        "id": "7I3EIkpnfrrT"
      }
    },
    {
      "cell_type": "code",
      "execution_count": 2,
      "metadata": {
        "id": "0AMDPqUkesch"
      },
      "outputs": [],
      "source": [
        "df = spark.read.csv('cereal.csv', sep = ',', inferSchema = True, header = True)"
      ]
    },
    {
      "cell_type": "markdown",
      "source": [
        "## Reading the Schema"
      ],
      "metadata": {
        "id": "ucoOWQ1NfuZp"
      }
    },
    {
      "cell_type": "code",
      "source": [
        "df.printSchema()"
      ],
      "metadata": {
        "colab": {
          "base_uri": "https://localhost:8080/"
        },
        "id": "l9ZEXMCKfxoE",
        "outputId": "0a4c9329-6aa2-41a9-89c5-f315915fdf40"
      },
      "execution_count": 3,
      "outputs": [
        {
          "output_type": "stream",
          "name": "stdout",
          "text": [
            "root\n",
            " |-- name: string (nullable = true)\n",
            " |-- mfr: string (nullable = true)\n",
            " |-- type: string (nullable = true)\n",
            " |-- calories: integer (nullable = true)\n",
            " |-- protein: integer (nullable = true)\n",
            " |-- fat: integer (nullable = true)\n",
            " |-- sodium: integer (nullable = true)\n",
            " |-- fiber: double (nullable = true)\n",
            " |-- carbo: double (nullable = true)\n",
            " |-- sugars: integer (nullable = true)\n",
            " |-- potass: integer (nullable = true)\n",
            " |-- vitamins: integer (nullable = true)\n",
            " |-- shelf: integer (nullable = true)\n",
            " |-- weight: double (nullable = true)\n",
            " |-- cups: double (nullable = true)\n",
            " |-- rating: double (nullable = true)\n",
            "\n"
          ]
        }
      ]
    },
    {
      "cell_type": "markdown",
      "source": [
        "# Select()"
      ],
      "metadata": {
        "id": "8CryY4XBg2Dy"
      }
    },
    {
      "cell_type": "code",
      "source": [
        "df.select('name', 'mfr', 'rating').show()"
      ],
      "metadata": {
        "colab": {
          "base_uri": "https://localhost:8080/"
        },
        "id": "4qEK9Hh-f5z5",
        "outputId": "4a7711f1-fc91-461a-98d0-10f943226a06"
      },
      "execution_count": 5,
      "outputs": [
        {
          "output_type": "stream",
          "name": "stdout",
          "text": [
            "+--------------------+---+---------+\n",
            "|                name|mfr|   rating|\n",
            "+--------------------+---+---------+\n",
            "|           100% Bran|  N|68.402973|\n",
            "|   100% Natural Bran|  Q|33.983679|\n",
            "|            All-Bran|  K|59.425505|\n",
            "|All-Bran with Ext...|  K|93.704912|\n",
            "|      Almond Delight|  R|34.384843|\n",
            "|Apple Cinnamon Ch...|  G|29.509541|\n",
            "|         Apple Jacks|  K|33.174094|\n",
            "|             Basic 4|  G|37.038562|\n",
            "|           Bran Chex|  R|49.120253|\n",
            "|         Bran Flakes|  P|53.313813|\n",
            "|        Cap'n'Crunch|  Q|18.042851|\n",
            "|            Cheerios|  G|50.764999|\n",
            "|Cinnamon Toast Cr...|  G|19.823573|\n",
            "|            Clusters|  G|40.400208|\n",
            "|         Cocoa Puffs|  G|22.736446|\n",
            "|           Corn Chex|  R|41.445019|\n",
            "|         Corn Flakes|  K|45.863324|\n",
            "|           Corn Pops|  K|35.782791|\n",
            "|       Count Chocula|  G|22.396513|\n",
            "|  Cracklin' Oat Bran|  K|40.448772|\n",
            "+--------------------+---+---------+\n",
            "only showing top 20 rows\n",
            "\n"
          ]
        }
      ]
    },
    {
      "cell_type": "markdown",
      "source": [
        "# withColumn()"
      ],
      "metadata": {
        "id": "YFkz5fi3g4rN"
      }
    },
    {
      "cell_type": "code",
      "source": [
        "df.withColumn(\"Calories\",df['calories'].cast(\"Integer\")).printSchema()"
      ],
      "metadata": {
        "colab": {
          "base_uri": "https://localhost:8080/"
        },
        "id": "Kym19ml9f9Ui",
        "outputId": "6751ddec-12e2-49a6-f885-7b78b1a16310"
      },
      "execution_count": 6,
      "outputs": [
        {
          "output_type": "stream",
          "name": "stdout",
          "text": [
            "root\n",
            " |-- name: string (nullable = true)\n",
            " |-- mfr: string (nullable = true)\n",
            " |-- type: string (nullable = true)\n",
            " |-- Calories: integer (nullable = true)\n",
            " |-- protein: integer (nullable = true)\n",
            " |-- fat: integer (nullable = true)\n",
            " |-- sodium: integer (nullable = true)\n",
            " |-- fiber: double (nullable = true)\n",
            " |-- carbo: double (nullable = true)\n",
            " |-- sugars: integer (nullable = true)\n",
            " |-- potass: integer (nullable = true)\n",
            " |-- vitamins: integer (nullable = true)\n",
            " |-- shelf: integer (nullable = true)\n",
            " |-- weight: double (nullable = true)\n",
            " |-- cups: double (nullable = true)\n",
            " |-- rating: double (nullable = true)\n",
            "\n"
          ]
        }
      ]
    },
    {
      "cell_type": "markdown",
      "source": [
        "# groupBy()"
      ],
      "metadata": {
        "id": "Avu4Pd5Qg7Fh"
      }
    },
    {
      "cell_type": "code",
      "source": [
        "df.groupBy(\"calories\").count().show()"
      ],
      "metadata": {
        "colab": {
          "base_uri": "https://localhost:8080/"
        },
        "id": "RYs1skB4f_mB",
        "outputId": "d7aebd7a-1a7f-4e2f-90e1-afd4f0619ad8"
      },
      "execution_count": 8,
      "outputs": [
        {
          "output_type": "stream",
          "name": "stdout",
          "text": [
            "+--------+-----+\n",
            "|calories|count|\n",
            "+--------+-----+\n",
            "|     140|    3|\n",
            "|     120|   10|\n",
            "|     100|   17|\n",
            "|     130|    2|\n",
            "|      50|    3|\n",
            "|      80|    1|\n",
            "|     160|    1|\n",
            "|      70|    2|\n",
            "|      90|    7|\n",
            "|     110|   29|\n",
            "|     150|    2|\n",
            "+--------+-----+\n",
            "\n"
          ]
        }
      ]
    },
    {
      "cell_type": "markdown",
      "source": [
        "# orderBy()"
      ],
      "metadata": {
        "id": "461dECcGg-Cc"
      }
    },
    {
      "cell_type": "code",
      "source": [
        "df.orderBy(\"calories\").show(50)"
      ],
      "metadata": {
        "colab": {
          "base_uri": "https://localhost:8080/"
        },
        "id": "mAsEHrKmgCC0",
        "outputId": "8529fada-cc4d-428b-cb51-ab3e546dd1c2"
      },
      "execution_count": 10,
      "outputs": [
        {
          "output_type": "stream",
          "name": "stdout",
          "text": [
            "+--------------------+---+----+--------+-------+---+------+-----+-----+------+------+--------+-----+------+----+---------+\n",
            "|                name|mfr|type|calories|protein|fat|sodium|fiber|carbo|sugars|potass|vitamins|shelf|weight|cups|   rating|\n",
            "+--------------------+---+----+--------+-------+---+------+-----+-----+------+------+--------+-----+------+----+---------+\n",
            "|All-Bran with Ext...|  K|   C|      50|      4|  0|   140| 14.0|  8.0|     0|   330|      25|    3|   1.0| 0.5|93.704912|\n",
            "|         Puffed Rice|  Q|   C|      50|      1|  0|     0|  0.0| 13.0|     0|    15|       0|    3|   0.5| 1.0|60.756112|\n",
            "|        Puffed Wheat|  Q|   C|      50|      2|  0|     0|  1.0| 10.0|     0|    50|       0|    3|   0.5| 1.0|63.005645|\n",
            "|           100% Bran|  N|   C|      70|      4|  1|   130| 10.0|  5.0|     6|   280|      25|    3|   1.0|0.33|68.402973|\n",
            "|            All-Bran|  K|   C|      70|      4|  1|   260|  9.0|  7.0|     5|   320|      25|    3|   1.0|0.33|59.425505|\n",
            "|      Shredded Wheat|  N|   C|      80|      2|  0|     0|  3.0| 16.0|     0|    95|       0|    1|  0.83| 1.0|68.235885|\n",
            "|           Bran Chex|  R|   C|      90|      2|  1|   200|  4.0| 15.0|     6|   125|      25|    1|   1.0|0.67|49.120253|\n",
            "|         Bran Flakes|  P|   C|      90|      3|  0|   210|  5.0| 13.0|     5|   190|      25|    3|   1.0|0.67|53.313813|\n",
            "|   Nutri-grain Wheat|  K|   C|      90|      3|  0|   170|  3.0| 18.0|     2|    90|      25|    3|   1.0| 1.0|59.642837|\n",
            "|      Raisin Squares|  K|   C|      90|      2|  0|     0|  2.0| 15.0|     6|   110|      25|    3|   1.0| 0.5|55.333142|\n",
            "|Shredded Wheat 'n...|  N|   C|      90|      3|  0|     0|  4.0| 19.0|     0|   140|       0|    1|   1.0|0.67|74.472949|\n",
            "|Shredded Wheat sp...|  N|   C|      90|      3|  0|     0|  3.0| 20.0|     0|   120|       0|    1|   1.0|0.67|72.801787|\n",
            "|Strawberry Fruit ...|  N|   C|      90|      2|  0|    15|  3.0| 15.0|     5|    90|      25|    2|   1.0| 1.0|59.363993|\n",
            "|         Corn Flakes|  K|   C|     100|      2|  0|   290|  1.0| 21.0|     2|    35|      25|    1|   1.0| 1.0|45.863324|\n",
            "|Cream of Wheat (Q...|  N|   H|     100|      3|  0|    80|  1.0| 21.0|     0|    -1|       0|    2|   1.0| 1.0|64.533816|\n",
            "|Crispy Wheat & Ra...|  G|   C|     100|      2|  1|   140|  2.0| 11.0|    10|   120|      25|    3|   1.0|0.75|36.176196|\n",
            "|         Double Chex|  R|   C|     100|      2|  0|   190|  1.0| 18.0|     5|    80|      25|    3|   1.0|0.75|44.330856|\n",
            "| Frosted Mini-Wheats|  K|   C|     100|      3|  0|     0|  3.0| 14.0|     7|   100|      25|    2|   1.0| 0.8|58.345141|\n",
            "|        Golden Crisp|  P|   C|     100|      2|  0|    45|  0.0| 11.0|    15|    40|      25|    1|   1.0|0.88|35.252444|\n",
            "|   Grape Nuts Flakes|  P|   C|     100|      3|  1|   140|  3.0| 15.0|     5|    85|      25|    3|   1.0|0.88|52.076897|\n",
            "|                Life|  Q|   C|     100|      4|  2|   150|  2.0| 12.0|     6|    95|      25|    2|   1.0|0.67|45.328074|\n",
            "|               Maypo|  A|   H|     100|      4|  1|     0|  0.0| 16.0|     3|    95|      25|    2|   1.0| 1.0|54.850917|\n",
            "|Multi-Grain Cheerios|  G|   C|     100|      2|  1|   220|  2.0| 15.0|     6|    90|      25|    1|   1.0| 1.0|40.105965|\n",
            "|          Product 19|  K|   C|     100|      3|  0|   320|  1.0| 20.0|     3|    45|     100|    3|   1.0| 1.0| 41.50354|\n",
            "|  Quaker Oat Squares|  Q|   C|     100|      4|  1|   135|  2.0| 14.0|     6|   110|      25|    3|   1.0| 0.5|49.511874|\n",
            "|      Quaker Oatmeal|  Q|   H|     100|      5|  2|     0|  2.7| -1.0|    -1|   110|       0|    1|   1.0|0.67|50.828392|\n",
            "|     Raisin Nut Bran|  G|   C|     100|      3|  2|   140|  2.5| 10.5|     8|   140|      25|    3|   1.0| 0.5|  39.7034|\n",
            "|   Total Whole Grain|  G|   C|     100|      3|  1|   200|  3.0| 16.0|     3|   110|     100|    3|   1.0| 1.0|46.658844|\n",
            "|          Wheat Chex|  R|   C|     100|      3|  1|   230|  3.0| 17.0|     3|   115|      25|    1|   1.0|0.67|49.787445|\n",
            "|            Wheaties|  G|   C|     100|      3|  1|   200|  3.0| 17.0|     3|   110|      25|    1|   1.0| 1.0|51.592193|\n",
            "|      Almond Delight|  R|   C|     110|      2|  2|   200|  1.0| 14.0|     8|    -1|      25|    3|   1.0|0.75|34.384843|\n",
            "|Apple Cinnamon Ch...|  G|   C|     110|      2|  2|   180|  1.5| 10.5|    10|    70|      25|    1|   1.0|0.75|29.509541|\n",
            "|         Apple Jacks|  K|   C|     110|      2|  0|   125|  1.0| 11.0|    14|    30|      25|    2|   1.0| 1.0|33.174094|\n",
            "|            Cheerios|  G|   C|     110|      6|  2|   290|  2.0| 17.0|     1|   105|      25|    1|   1.0|1.25|50.764999|\n",
            "|            Clusters|  G|   C|     110|      3|  2|   140|  2.0| 13.0|     7|   105|      25|    3|   1.0| 0.5|40.400208|\n",
            "|         Cocoa Puffs|  G|   C|     110|      1|  1|   180|  0.0| 12.0|    13|    55|      25|    2|   1.0| 1.0|22.736446|\n",
            "|           Corn Chex|  R|   C|     110|      2|  0|   280|  0.0| 22.0|     3|    25|      25|    1|   1.0| 1.0|41.445019|\n",
            "|           Corn Pops|  K|   C|     110|      1|  0|    90|  1.0| 13.0|    12|    20|      25|    2|   1.0| 1.0|35.782791|\n",
            "|       Count Chocula|  G|   C|     110|      1|  1|   180|  0.0| 12.0|    13|    65|      25|    2|   1.0| 1.0|22.396513|\n",
            "|  Cracklin' Oat Bran|  K|   C|     110|      3|  3|   140|  4.0| 10.0|     7|   160|      25|    3|   1.0| 0.5|40.448772|\n",
            "|             Crispix|  K|   C|     110|      2|  0|   220|  1.0| 21.0|     3|    30|      25|    3|   1.0| 1.0|46.895644|\n",
            "|         Froot Loops|  K|   C|     110|      2|  1|   125|  1.0| 11.0|    13|    30|      25|    2|   1.0| 1.0|32.207582|\n",
            "|      Frosted Flakes|  K|   C|     110|      1|  0|   200|  1.0| 14.0|    11|    25|      25|    1|   1.0|0.75|31.435973|\n",
            "|      Fruity Pebbles|  P|   C|     110|      1|  1|   135|  0.0| 13.0|    12|    25|      25|    2|   1.0|0.75|28.025765|\n",
            "|      Golden Grahams|  G|   C|     110|      1|  1|   280|  0.0| 15.0|     9|    45|      25|    2|   1.0|0.75|23.804043|\n",
            "|          Grape-Nuts|  P|   C|     110|      3|  0|   170|  3.0| 17.0|     3|    90|      25|    3|   1.0|0.25|53.371007|\n",
            "|  Honey Nut Cheerios|  G|   C|     110|      3|  1|   250|  1.5| 11.5|    10|    90|      25|    1|   1.0|0.75|31.072217|\n",
            "|          Honey-comb|  P|   C|     110|      1|  0|   180|  0.0| 14.0|    11|    35|      25|    1|   1.0|1.33|28.742414|\n",
            "|Just Right Crunch...|  K|   C|     110|      2|  1|   170|  1.0| 17.0|     6|    60|     100|    3|   1.0| 1.0|36.523683|\n",
            "|                 Kix|  G|   C|     110|      2|  1|   260|  0.0| 21.0|     3|    40|      25|    2|   1.0| 1.5|39.241114|\n",
            "+--------------------+---+----+--------+-------+---+------+-----+-----+------+------+--------+-----+------+----+---------+\n",
            "only showing top 50 rows\n",
            "\n"
          ]
        }
      ]
    },
    {
      "cell_type": "markdown",
      "source": [
        "# Case When()"
      ],
      "metadata": {
        "id": "ZvoLjFLlhC2y"
      }
    },
    {
      "cell_type": "code",
      "source": [
        "from pyspark.sql.functions import when"
      ],
      "metadata": {
        "id": "0BkjHZaLggtb"
      },
      "execution_count": 11,
      "outputs": []
    },
    {
      "cell_type": "code",
      "source": [
        "df.select(\"name\", df.vitamins, when(df.vitamins >= \"25\", \"rich in vitamins\")).show(50)"
      ],
      "metadata": {
        "colab": {
          "base_uri": "https://localhost:8080/"
        },
        "id": "5gta6F8fgeVO",
        "outputId": "f264fc4a-7da5-48a9-ce66-bb1fe5ff2868"
      },
      "execution_count": 14,
      "outputs": [
        {
          "output_type": "stream",
          "name": "stdout",
          "text": [
            "+--------------------+--------+----------------------------------------------------+\n",
            "|                name|vitamins|CASE WHEN (vitamins >= 25) THEN rich in vitamins END|\n",
            "+--------------------+--------+----------------------------------------------------+\n",
            "|           100% Bran|      25|                                    rich in vitamins|\n",
            "|   100% Natural Bran|       0|                                                null|\n",
            "|            All-Bran|      25|                                    rich in vitamins|\n",
            "|All-Bran with Ext...|      25|                                    rich in vitamins|\n",
            "|      Almond Delight|      25|                                    rich in vitamins|\n",
            "|Apple Cinnamon Ch...|      25|                                    rich in vitamins|\n",
            "|         Apple Jacks|      25|                                    rich in vitamins|\n",
            "|             Basic 4|      25|                                    rich in vitamins|\n",
            "|           Bran Chex|      25|                                    rich in vitamins|\n",
            "|         Bran Flakes|      25|                                    rich in vitamins|\n",
            "|        Cap'n'Crunch|      25|                                    rich in vitamins|\n",
            "|            Cheerios|      25|                                    rich in vitamins|\n",
            "|Cinnamon Toast Cr...|      25|                                    rich in vitamins|\n",
            "|            Clusters|      25|                                    rich in vitamins|\n",
            "|         Cocoa Puffs|      25|                                    rich in vitamins|\n",
            "|           Corn Chex|      25|                                    rich in vitamins|\n",
            "|         Corn Flakes|      25|                                    rich in vitamins|\n",
            "|           Corn Pops|      25|                                    rich in vitamins|\n",
            "|       Count Chocula|      25|                                    rich in vitamins|\n",
            "|  Cracklin' Oat Bran|      25|                                    rich in vitamins|\n",
            "|Cream of Wheat (Q...|       0|                                                null|\n",
            "|             Crispix|      25|                                    rich in vitamins|\n",
            "|Crispy Wheat & Ra...|      25|                                    rich in vitamins|\n",
            "|         Double Chex|      25|                                    rich in vitamins|\n",
            "|         Froot Loops|      25|                                    rich in vitamins|\n",
            "|      Frosted Flakes|      25|                                    rich in vitamins|\n",
            "| Frosted Mini-Wheats|      25|                                    rich in vitamins|\n",
            "|Fruit & Fibre Dat...|      25|                                    rich in vitamins|\n",
            "|       Fruitful Bran|      25|                                    rich in vitamins|\n",
            "|      Fruity Pebbles|      25|                                    rich in vitamins|\n",
            "|        Golden Crisp|      25|                                    rich in vitamins|\n",
            "|      Golden Grahams|      25|                                    rich in vitamins|\n",
            "|   Grape Nuts Flakes|      25|                                    rich in vitamins|\n",
            "|          Grape-Nuts|      25|                                    rich in vitamins|\n",
            "|  Great Grains Pecan|      25|                                    rich in vitamins|\n",
            "|    Honey Graham Ohs|      25|                                    rich in vitamins|\n",
            "|  Honey Nut Cheerios|      25|                                    rich in vitamins|\n",
            "|          Honey-comb|      25|                                    rich in vitamins|\n",
            "|Just Right Crunch...|     100|                                    rich in vitamins|\n",
            "|Just Right Fruit ...|     100|                                    rich in vitamins|\n",
            "|                 Kix|      25|                                    rich in vitamins|\n",
            "|                Life|      25|                                    rich in vitamins|\n",
            "|        Lucky Charms|      25|                                    rich in vitamins|\n",
            "|               Maypo|      25|                                    rich in vitamins|\n",
            "|Muesli Raisins; D...|      25|                                    rich in vitamins|\n",
            "|Muesli Raisins; P...|      25|                                    rich in vitamins|\n",
            "|Mueslix Crispy Blend|      25|                                    rich in vitamins|\n",
            "|Multi-Grain Cheerios|      25|                                    rich in vitamins|\n",
            "|    Nut&Honey Crunch|      25|                                    rich in vitamins|\n",
            "|Nutri-Grain Almon...|      25|                                    rich in vitamins|\n",
            "+--------------------+--------+----------------------------------------------------+\n",
            "only showing top 50 rows\n",
            "\n"
          ]
        }
      ]
    },
    {
      "cell_type": "markdown",
      "source": [
        "# filter()"
      ],
      "metadata": {
        "id": "oCNE9jk7hF_f"
      }
    },
    {
      "cell_type": "code",
      "source": [
        "df.filter(df.calories >= \"100\").show(50)"
      ],
      "metadata": {
        "colab": {
          "base_uri": "https://localhost:8080/"
        },
        "id": "kjVLOMBvgjwn",
        "outputId": "177764ae-b0bf-4308-8868-3dc213fc177b"
      },
      "execution_count": 16,
      "outputs": [
        {
          "output_type": "stream",
          "name": "stdout",
          "text": [
            "+--------------------+---+----+--------+-------+---+------+-----+-----+------+------+--------+-----+------+----+---------+\n",
            "|                name|mfr|type|calories|protein|fat|sodium|fiber|carbo|sugars|potass|vitamins|shelf|weight|cups|   rating|\n",
            "+--------------------+---+----+--------+-------+---+------+-----+-----+------+------+--------+-----+------+----+---------+\n",
            "|   100% Natural Bran|  Q|   C|     120|      3|  5|    15|  2.0|  8.0|     8|   135|       0|    3|   1.0| 1.0|33.983679|\n",
            "|      Almond Delight|  R|   C|     110|      2|  2|   200|  1.0| 14.0|     8|    -1|      25|    3|   1.0|0.75|34.384843|\n",
            "|Apple Cinnamon Ch...|  G|   C|     110|      2|  2|   180|  1.5| 10.5|    10|    70|      25|    1|   1.0|0.75|29.509541|\n",
            "|         Apple Jacks|  K|   C|     110|      2|  0|   125|  1.0| 11.0|    14|    30|      25|    2|   1.0| 1.0|33.174094|\n",
            "|             Basic 4|  G|   C|     130|      3|  2|   210|  2.0| 18.0|     8|   100|      25|    3|  1.33|0.75|37.038562|\n",
            "|        Cap'n'Crunch|  Q|   C|     120|      1|  2|   220|  0.0| 12.0|    12|    35|      25|    2|   1.0|0.75|18.042851|\n",
            "|            Cheerios|  G|   C|     110|      6|  2|   290|  2.0| 17.0|     1|   105|      25|    1|   1.0|1.25|50.764999|\n",
            "|Cinnamon Toast Cr...|  G|   C|     120|      1|  3|   210|  0.0| 13.0|     9|    45|      25|    2|   1.0|0.75|19.823573|\n",
            "|            Clusters|  G|   C|     110|      3|  2|   140|  2.0| 13.0|     7|   105|      25|    3|   1.0| 0.5|40.400208|\n",
            "|         Cocoa Puffs|  G|   C|     110|      1|  1|   180|  0.0| 12.0|    13|    55|      25|    2|   1.0| 1.0|22.736446|\n",
            "|           Corn Chex|  R|   C|     110|      2|  0|   280|  0.0| 22.0|     3|    25|      25|    1|   1.0| 1.0|41.445019|\n",
            "|         Corn Flakes|  K|   C|     100|      2|  0|   290|  1.0| 21.0|     2|    35|      25|    1|   1.0| 1.0|45.863324|\n",
            "|           Corn Pops|  K|   C|     110|      1|  0|    90|  1.0| 13.0|    12|    20|      25|    2|   1.0| 1.0|35.782791|\n",
            "|       Count Chocula|  G|   C|     110|      1|  1|   180|  0.0| 12.0|    13|    65|      25|    2|   1.0| 1.0|22.396513|\n",
            "|  Cracklin' Oat Bran|  K|   C|     110|      3|  3|   140|  4.0| 10.0|     7|   160|      25|    3|   1.0| 0.5|40.448772|\n",
            "|Cream of Wheat (Q...|  N|   H|     100|      3|  0|    80|  1.0| 21.0|     0|    -1|       0|    2|   1.0| 1.0|64.533816|\n",
            "|             Crispix|  K|   C|     110|      2|  0|   220|  1.0| 21.0|     3|    30|      25|    3|   1.0| 1.0|46.895644|\n",
            "|Crispy Wheat & Ra...|  G|   C|     100|      2|  1|   140|  2.0| 11.0|    10|   120|      25|    3|   1.0|0.75|36.176196|\n",
            "|         Double Chex|  R|   C|     100|      2|  0|   190|  1.0| 18.0|     5|    80|      25|    3|   1.0|0.75|44.330856|\n",
            "|         Froot Loops|  K|   C|     110|      2|  1|   125|  1.0| 11.0|    13|    30|      25|    2|   1.0| 1.0|32.207582|\n",
            "|      Frosted Flakes|  K|   C|     110|      1|  0|   200|  1.0| 14.0|    11|    25|      25|    1|   1.0|0.75|31.435973|\n",
            "| Frosted Mini-Wheats|  K|   C|     100|      3|  0|     0|  3.0| 14.0|     7|   100|      25|    2|   1.0| 0.8|58.345141|\n",
            "|Fruit & Fibre Dat...|  P|   C|     120|      3|  2|   160|  5.0| 12.0|    10|   200|      25|    3|  1.25|0.67|40.917047|\n",
            "|       Fruitful Bran|  K|   C|     120|      3|  0|   240|  5.0| 14.0|    12|   190|      25|    3|  1.33|0.67|41.015492|\n",
            "|      Fruity Pebbles|  P|   C|     110|      1|  1|   135|  0.0| 13.0|    12|    25|      25|    2|   1.0|0.75|28.025765|\n",
            "|        Golden Crisp|  P|   C|     100|      2|  0|    45|  0.0| 11.0|    15|    40|      25|    1|   1.0|0.88|35.252444|\n",
            "|      Golden Grahams|  G|   C|     110|      1|  1|   280|  0.0| 15.0|     9|    45|      25|    2|   1.0|0.75|23.804043|\n",
            "|   Grape Nuts Flakes|  P|   C|     100|      3|  1|   140|  3.0| 15.0|     5|    85|      25|    3|   1.0|0.88|52.076897|\n",
            "|          Grape-Nuts|  P|   C|     110|      3|  0|   170|  3.0| 17.0|     3|    90|      25|    3|   1.0|0.25|53.371007|\n",
            "|  Great Grains Pecan|  P|   C|     120|      3|  3|    75|  3.0| 13.0|     4|   100|      25|    3|   1.0|0.33|45.811716|\n",
            "|    Honey Graham Ohs|  Q|   C|     120|      1|  2|   220|  1.0| 12.0|    11|    45|      25|    2|   1.0| 1.0|21.871292|\n",
            "|  Honey Nut Cheerios|  G|   C|     110|      3|  1|   250|  1.5| 11.5|    10|    90|      25|    1|   1.0|0.75|31.072217|\n",
            "|          Honey-comb|  P|   C|     110|      1|  0|   180|  0.0| 14.0|    11|    35|      25|    1|   1.0|1.33|28.742414|\n",
            "|Just Right Crunch...|  K|   C|     110|      2|  1|   170|  1.0| 17.0|     6|    60|     100|    3|   1.0| 1.0|36.523683|\n",
            "|Just Right Fruit ...|  K|   C|     140|      3|  1|   170|  2.0| 20.0|     9|    95|     100|    3|   1.3|0.75|36.471512|\n",
            "|                 Kix|  G|   C|     110|      2|  1|   260|  0.0| 21.0|     3|    40|      25|    2|   1.0| 1.5|39.241114|\n",
            "|                Life|  Q|   C|     100|      4|  2|   150|  2.0| 12.0|     6|    95|      25|    2|   1.0|0.67|45.328074|\n",
            "|        Lucky Charms|  G|   C|     110|      2|  1|   180|  0.0| 12.0|    12|    55|      25|    2|   1.0| 1.0|26.734515|\n",
            "|               Maypo|  A|   H|     100|      4|  1|     0|  0.0| 16.0|     3|    95|      25|    2|   1.0| 1.0|54.850917|\n",
            "|Muesli Raisins; D...|  R|   C|     150|      4|  3|    95|  3.0| 16.0|    11|   170|      25|    3|   1.0| 1.0|37.136863|\n",
            "|Muesli Raisins; P...|  R|   C|     150|      4|  3|   150|  3.0| 16.0|    11|   170|      25|    3|   1.0| 1.0|34.139765|\n",
            "|Mueslix Crispy Blend|  K|   C|     160|      3|  2|   150|  3.0| 17.0|    13|   160|      25|    3|   1.5|0.67|30.313351|\n",
            "|Multi-Grain Cheerios|  G|   C|     100|      2|  1|   220|  2.0| 15.0|     6|    90|      25|    1|   1.0| 1.0|40.105965|\n",
            "|    Nut&Honey Crunch|  K|   C|     120|      2|  1|   190|  0.0| 15.0|     9|    40|      25|    2|   1.0|0.67|29.924285|\n",
            "|Nutri-Grain Almon...|  K|   C|     140|      3|  2|   220|  3.0| 21.0|     7|   130|      25|    3|  1.33|0.67| 40.69232|\n",
            "|Oatmeal Raisin Crisp|  G|   C|     130|      3|  2|   170|  1.5| 13.5|    10|   120|      25|    3|  1.25| 0.5|30.450843|\n",
            "|Post Nat. Raisin ...|  P|   C|     120|      3|  1|   200|  6.0| 11.0|    14|   260|      25|    3|  1.33|0.67|37.840594|\n",
            "|          Product 19|  K|   C|     100|      3|  0|   320|  1.0| 20.0|     3|    45|     100|    3|   1.0| 1.0| 41.50354|\n",
            "|  Quaker Oat Squares|  Q|   C|     100|      4|  1|   135|  2.0| 14.0|     6|   110|      25|    3|   1.0| 0.5|49.511874|\n",
            "|      Quaker Oatmeal|  Q|   H|     100|      5|  2|     0|  2.7| -1.0|    -1|   110|       0|    1|   1.0|0.67|50.828392|\n",
            "+--------------------+---+----+--------+-------+---+------+-----+-----+------+------+--------+-----+------+----+---------+\n",
            "only showing top 50 rows\n",
            "\n"
          ]
        }
      ]
    },
    {
      "cell_type": "markdown",
      "source": [
        "# isNull()/isNotNull()"
      ],
      "metadata": {
        "id": "-HRkuU4dhImn"
      }
    },
    {
      "cell_type": "code",
      "source": [
        "from pyspark.sql.functions import *"
      ],
      "metadata": {
        "id": "vnN4l9nTgnFL"
      },
      "execution_count": 17,
      "outputs": []
    },
    {
      "cell_type": "code",
      "source": [
        "df.filter(df.name.isNotNull()).show()"
      ],
      "metadata": {
        "colab": {
          "base_uri": "https://localhost:8080/"
        },
        "id": "Q1CzL9hbLA4r",
        "outputId": "8cdb5c42-3682-484c-b151-4bf5619a154e"
      },
      "execution_count": 18,
      "outputs": [
        {
          "output_type": "stream",
          "name": "stdout",
          "text": [
            "+--------------------+---+----+--------+-------+---+------+-----+-----+------+------+--------+-----+------+----+---------+\n",
            "|                name|mfr|type|calories|protein|fat|sodium|fiber|carbo|sugars|potass|vitamins|shelf|weight|cups|   rating|\n",
            "+--------------------+---+----+--------+-------+---+------+-----+-----+------+------+--------+-----+------+----+---------+\n",
            "|           100% Bran|  N|   C|      70|      4|  1|   130| 10.0|  5.0|     6|   280|      25|    3|   1.0|0.33|68.402973|\n",
            "|   100% Natural Bran|  Q|   C|     120|      3|  5|    15|  2.0|  8.0|     8|   135|       0|    3|   1.0| 1.0|33.983679|\n",
            "|            All-Bran|  K|   C|      70|      4|  1|   260|  9.0|  7.0|     5|   320|      25|    3|   1.0|0.33|59.425505|\n",
            "|All-Bran with Ext...|  K|   C|      50|      4|  0|   140| 14.0|  8.0|     0|   330|      25|    3|   1.0| 0.5|93.704912|\n",
            "|      Almond Delight|  R|   C|     110|      2|  2|   200|  1.0| 14.0|     8|    -1|      25|    3|   1.0|0.75|34.384843|\n",
            "|Apple Cinnamon Ch...|  G|   C|     110|      2|  2|   180|  1.5| 10.5|    10|    70|      25|    1|   1.0|0.75|29.509541|\n",
            "|         Apple Jacks|  K|   C|     110|      2|  0|   125|  1.0| 11.0|    14|    30|      25|    2|   1.0| 1.0|33.174094|\n",
            "|             Basic 4|  G|   C|     130|      3|  2|   210|  2.0| 18.0|     8|   100|      25|    3|  1.33|0.75|37.038562|\n",
            "|           Bran Chex|  R|   C|      90|      2|  1|   200|  4.0| 15.0|     6|   125|      25|    1|   1.0|0.67|49.120253|\n",
            "|         Bran Flakes|  P|   C|      90|      3|  0|   210|  5.0| 13.0|     5|   190|      25|    3|   1.0|0.67|53.313813|\n",
            "|        Cap'n'Crunch|  Q|   C|     120|      1|  2|   220|  0.0| 12.0|    12|    35|      25|    2|   1.0|0.75|18.042851|\n",
            "|            Cheerios|  G|   C|     110|      6|  2|   290|  2.0| 17.0|     1|   105|      25|    1|   1.0|1.25|50.764999|\n",
            "|Cinnamon Toast Cr...|  G|   C|     120|      1|  3|   210|  0.0| 13.0|     9|    45|      25|    2|   1.0|0.75|19.823573|\n",
            "|            Clusters|  G|   C|     110|      3|  2|   140|  2.0| 13.0|     7|   105|      25|    3|   1.0| 0.5|40.400208|\n",
            "|         Cocoa Puffs|  G|   C|     110|      1|  1|   180|  0.0| 12.0|    13|    55|      25|    2|   1.0| 1.0|22.736446|\n",
            "|           Corn Chex|  R|   C|     110|      2|  0|   280|  0.0| 22.0|     3|    25|      25|    1|   1.0| 1.0|41.445019|\n",
            "|         Corn Flakes|  K|   C|     100|      2|  0|   290|  1.0| 21.0|     2|    35|      25|    1|   1.0| 1.0|45.863324|\n",
            "|           Corn Pops|  K|   C|     110|      1|  0|    90|  1.0| 13.0|    12|    20|      25|    2|   1.0| 1.0|35.782791|\n",
            "|       Count Chocula|  G|   C|     110|      1|  1|   180|  0.0| 12.0|    13|    65|      25|    2|   1.0| 1.0|22.396513|\n",
            "|  Cracklin' Oat Bran|  K|   C|     110|      3|  3|   140|  4.0| 10.0|     7|   160|      25|    3|   1.0| 0.5|40.448772|\n",
            "+--------------------+---+----+--------+-------+---+------+-----+-----+------+------+--------+-----+------+----+---------+\n",
            "only showing top 20 rows\n",
            "\n"
          ]
        }
      ]
    },
    {
      "cell_type": "markdown",
      "source": [
        "# isNull()"
      ],
      "metadata": {
        "id": "UhlLFymIhNDd"
      }
    },
    {
      "cell_type": "code",
      "source": [
        "df.filter(df.name.isNull()).show()"
      ],
      "metadata": {
        "colab": {
          "base_uri": "https://localhost:8080/"
        },
        "id": "uFiatSsOgpUs",
        "outputId": "9a655b50-cf12-436d-c2ed-e94cc11677e7"
      },
      "execution_count": null,
      "outputs": [
        {
          "output_type": "stream",
          "name": "stdout",
          "text": [
            "+----+---+----+--------+-------+---+------+-----+-----+------+------+--------+-----+------+----+------+\n",
            "|name|mfr|type|calories|protein|fat|sodium|fiber|carbo|sugars|potass|vitamins|shelf|weight|cups|rating|\n",
            "+----+---+----+--------+-------+---+------+-----+-----+------+------+--------+-----+------+----+------+\n",
            "+----+---+----+--------+-------+---+------+-----+-----+------+------+--------+-----+------+----+------+\n",
            "\n"
          ]
        }
      ]
    }
  ]
}