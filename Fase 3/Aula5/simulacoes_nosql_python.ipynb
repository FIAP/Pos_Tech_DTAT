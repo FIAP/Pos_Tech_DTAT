{
 "cells": [
  {
   "cell_type": "markdown",
   "id": "d2a20b58",
   "metadata": {},
   "source": [
    "## 1. 🗃️ MongoDB com `mongomock`"
   ]
  },
  {
   "cell_type": "markdown",
   "metadata": {},
   "source": [
    "## 🗃️ `mongomock` – Biblioteca para simular MongoDB em memória\n",
    "\n",
    "A biblioteca `mongomock` é uma alternativa leve e útil para simular o comportamento do MongoDB localmente, **sem a necessidade de instalar ou conectar-se a um servidor real**.\n",
    "\n",
    "Ela é amplamente usada em **testes automatizados**, prototipagem, ambientes educacionais e notebooks onde se deseja testar lógica MongoDB sem infraestrutura.\n",
    "\n",
    "Internamente, ela utiliza estruturas de dados Python (como `dict` e `list`) para replicar o comportamento dos comandos do `pymongo`.\n",
    "\n",
    "---\n",
    "\n",
    "### ✅ Como instalar"
   ]
  },
  {
   "cell_type": "code",
   "execution_count": 1,
   "metadata": {},
   "outputs": [
    {
     "name": "stdout",
     "output_type": "stream",
     "text": [
      "Collecting mongomock\n",
      "  Downloading mongomock-4.3.0-py2.py3-none-any.whl (64 kB)\n",
      "\u001b[2K     \u001b[90m━━━━━━━━━━━━━━━━━━━━━━━━━━━━━━━━━━━━━━━━\u001b[0m \u001b[32m64.9/64.9 kB\u001b[0m \u001b[31m1.7 MB/s\u001b[0m eta \u001b[36m0:00:00\u001b[0m\n",
      "\u001b[?25hRequirement already satisfied: packaging in /Library/Frameworks/Python.framework/Versions/3.11/lib/python3.11/site-packages (from mongomock) (25.0)\n",
      "Requirement already satisfied: pytz in /Library/Frameworks/Python.framework/Versions/3.11/lib/python3.11/site-packages (from mongomock) (2023.3)\n",
      "Collecting sentinels\n",
      "  Downloading sentinels-1.0.0.tar.gz (4.1 kB)\n",
      "  Preparing metadata (setup.py) ... \u001b[?25ldone\n",
      "\u001b[?25hBuilding wheels for collected packages: sentinels\n",
      "  Building wheel for sentinels (setup.py) ... \u001b[?25ldone\n",
      "\u001b[?25h  Created wheel for sentinels: filename=sentinels-1.0.0-py3-none-any.whl size=3172 sha256=628eb9c1e56edb23fe78470656992041c396e9d85e9d2b5e5379e7eefaf6b4d9\n",
      "  Stored in directory: /Users/thiagogeneroso/Library/Caches/pip/wheels/39/e6/05/d0ca91a2c6be3e4b2a6b4e721fe778f9186b9a383ea05300e8\n",
      "Successfully built sentinels\n",
      "Installing collected packages: sentinels, mongomock\n",
      "Successfully installed mongomock-4.3.0 sentinels-1.0.0\n",
      "\u001b[33mWARNING: There was an error checking the latest version of pip.\u001b[0m\u001b[33m\n",
      "\u001b[0mNote: you may need to restart the kernel to use updated packages.\n"
     ]
    }
   ],
   "source": [
    "%pip install mongomock"
   ]
  },
  {
   "cell_type": "markdown",
   "metadata": {},
   "source": [
    "### 🧰 Funções e métodos utilizados\n",
    "\n",
    "| Função / Método                     | Explicação                                                                |\n",
    "|------------------------------------|---------------------------------------------------------------------------|\n",
    "| `mongomock.MongoClient()`          | Cria uma instância mock do cliente MongoDB                                |\n",
    "| `client['nome_do_banco']`          | Acessa um banco de dados dentro da conexão                                |\n",
    "| `db['nome_da_colecao']`            | Acessa uma coleção dentro do banco mockado                                |\n",
    "| `insert_one(documento)`            | Insere um documento JSON-like na coleção                                  |\n",
    "| `find(filtro)`                     | Retorna todos os documentos que atendem a um filtro (como SELECT * WHERE) |\n",
    "| `update_one(filtro, {\"$set\": {}})` | Atualiza um campo específico em um único documento                        |\n",
    "| `delete_one(filtro)`               | Remove o primeiro documento que atende ao critério do filtro              |\n",
    "| `list(collection.find())`          | Transforma o cursor de resultados em uma lista Python                     |\n",
    "| `pprint(lista)`                    | Imprime os dados formatados para facilitar a leitura                      |\n"
   ]
  },
  {
   "cell_type": "markdown",
   "metadata": {},
   "source": [
    "## 🧪 Exemplo prático com `mongomock` – CRUD completo com explicações\n",
    "\n",
    "Este exemplo simula o comportamento do MongoDB localmente usando a biblioteca `mongomock`. A seguir, executaremos os comandos CRUD.\n",
    "\n",
    "---\n"
   ]
  },
  {
   "cell_type": "code",
   "execution_count": 2,
   "metadata": {},
   "outputs": [],
   "source": [
    "# Importa a biblioteca mongomock para simular o MongoDB em memória\n",
    "import mongomock\n",
    "\n",
    "# Importa pprint para imprimir documentos de forma mais legível\n",
    "from pprint import pprint"
   ]
  },
  {
   "cell_type": "markdown",
   "metadata": {},
   "source": [
    "---\n",
    "\n",
    "### 🔗 Conexão com o \"banco\" e criação da coleção"
   ]
  },
  {
   "cell_type": "code",
   "execution_count": 3,
   "metadata": {},
   "outputs": [],
   "source": [
    "# Cria uma conexão simulada com o MongoDB (sem servidor real)\n",
    "client = mongomock.MongoClient()\n",
    "\n",
    "# Acessa ou cria o banco de dados chamado 'loja'\n",
    "db = client['loja']\n",
    "\n",
    "# Acessa ou cria a coleção 'produtos' dentro do banco\n",
    "produtos = db['produtos']"
   ]
  },
  {
   "cell_type": "markdown",
   "metadata": {},
   "source": [
    "---\n",
    "\n",
    "### 📥 Create – Inserção de documento"
   ]
  },
  {
   "cell_type": "code",
   "execution_count": 5,
   "metadata": {},
   "outputs": [
    {
     "name": "stdout",
     "output_type": "stream",
     "text": [
      "Após inserção:\n",
      "[{'_id': ObjectId(3d316fe6-5625-11f0-b175-5eeeaffdd600),\n",
      "  'nome': 'Camiseta',\n",
      "  'preco': 49.9}]\n"
     ]
    }
   ],
   "source": [
    "# Insere um documento na coleção 'produtos'\n",
    "produtos.insert_one({\"nome\": \"Camiseta\", \"preco\": 49.9})\n",
    "\n",
    "# Mostra todos os documentos da coleção após a inserção\n",
    "print(\"Após inserção:\")\n",
    "pprint(list(produtos.find()))"
   ]
  },
  {
   "cell_type": "markdown",
   "metadata": {},
   "source": [
    "### 🔍 Analisando os campos do documento\n",
    "\n",
    "#### `_id: ObjectId(...)`\n",
    "- O MongoDB (e também o `mongomock`) cria automaticamente um campo chamado `_id` em todo documento inserido.\n",
    "- Esse campo serve como **identificador único** do documento dentro da coleção.\n",
    "- O `ObjectId` é um valor gerado automaticamente que garante unicidade.\n",
    "- Mesmo sendo uma simulação, o formato gerado por `mongomock` é visualmente semelhante ao do MongoDB real.\n",
    "\n",
    "\n",
    "#### `'nome': 'Camiseta'`\n",
    "- Este é o campo de **nome do produto**.\n",
    "- Foi definido manualmente durante a inserção.\n",
    "- No caso, o valor `\"Camiseta\"` representa o nome do item cadastrado.\n",
    "\n",
    "\n",
    "#### `'preco': 49.9`\n",
    "- Representa o campo de **preço do produto**.\n",
    "- Também foi informado na inserção e armazena o valor numérico `49.9`.\n",
    "\n",
    "\n",
    "### 🧠 Importância do campo `_id`\n",
    "\n",
    "O campo `_id` é **obrigatório e exclusivo** em todo documento do MongoDB:\n",
    "\n",
    "- Serve para identificar cada documento de forma única.\n",
    "- Permite buscas diretas e otimizadas usando:\n",
    "\n",
    "```python\n",
    "db.produtos.find({'_id': ObjectId('...')})\n",
    "```\n",
    "\n",
    "- Evita duplicações, pois dois documentos não podem ter o mesmo _id.\n"
   ]
  },
  {
   "cell_type": "markdown",
   "metadata": {},
   "source": [
    "## 📦 Inserindo documentos em lote no MongoDB com `insert_many()`\n",
    "\n",
    "Ao invés de inserir documentos um por um com `insert_one()`, podemos usar `insert_many()` para realizar **inserções em lote**, de forma mais eficiente e organizada.\n",
    "\n",
    "---\n",
    "\n",
    "### ✅ Sintaxe básica:\n"
   ]
  },
  {
   "cell_type": "code",
   "execution_count": 29,
   "metadata": {},
   "outputs": [
    {
     "data": {
      "text/plain": [
       "<mongomock.results.InsertManyResult at 0x109dbfc00>"
      ]
     },
     "execution_count": 29,
     "metadata": {},
     "output_type": "execute_result"
    }
   ],
   "source": [
    "produtos.insert_many([\n",
    "    {\"nome\": \"Camiseta\", \"preco\": 49.9},\n",
    "    {\"nome\": \"Calça Jeans\", \"preco\": 89.9},\n",
    "    {\"nome\": \"Tênis\", \"preco\": 199.9},\n",
    "    {\"nome\": \"Boné\", \"preco\": 29.9}\n",
    "])"
   ]
  },
  {
   "cell_type": "code",
   "execution_count": 31,
   "metadata": {},
   "outputs": [
    {
     "data": {
      "text/plain": [
       "<mongomock.results.InsertManyResult at 0x109dbe440>"
      ]
     },
     "execution_count": 31,
     "metadata": {},
     "output_type": "execute_result"
    }
   ],
   "source": [
    "# Insere múltiplos documentos na coleção 'produtos'\n",
    "\n",
    "produtos.insert_many([\n",
    "    {\n",
    "        \"nome\": \"Camiseta\",\n",
    "        \"preco\": 49.90,\n",
    "        \"estoque\": 20,\n",
    "        \"avaliacoes\": [\n",
    "            {\"cliente\": \"Ana\", \"nota\": 5},\n",
    "            {\"cliente\": \"Bruno\", \"nota\": 4}\n",
    "        ]\n",
    "    },\n",
    "    {\n",
    "        \"nome\": \"Calça Jeans\",\n",
    "        \"preco\": 89.90,\n",
    "        \"estoque\": 15,\n",
    "        \"avaliacoes\": [\n",
    "            {\"cliente\": \"Carlos\", \"nota\": 4}\n",
    "        ]\n",
    "    },\n",
    "    {\n",
    "        \"nome\": \"Tênis Esportivo\",\n",
    "        \"preco\": 199.90,\n",
    "        \"estoque\": 8,\n",
    "        \"avaliacoes\": [\n",
    "            {\"cliente\": \"Daniela\", \"nota\": 5},\n",
    "            {\"cliente\": \"Eduardo\", \"nota\": 3}\n",
    "        ]\n",
    "    },\n",
    "    {\n",
    "        \"nome\": \"Boné\",\n",
    "        \"preco\": 29.90,\n",
    "        \"estoque\": 50,\n",
    "        \"avaliacoes\": [\n",
    "            {\"cliente\": \"Fernanda\", \"nota\": 4}\n",
    "        ]\n",
    "    },\n",
    "    {\n",
    "        \"nome\": \"Jaqueta Corta-Vento\",\n",
    "        \"preco\": 149.90,\n",
    "        \"estoque\": 10,\n",
    "        \"avaliacoes\": [\n",
    "            {\"cliente\": \"Gabriel\", \"nota\": 5},\n",
    "            {\"cliente\": \"Helena\", \"nota\": 5}\n",
    "        ]\n",
    "    },\n",
    "    {\n",
    "        \"nome\": \"Meia\",\n",
    "        \"preco\": 9.90,\n",
    "        \"estoque\": 100,\n",
    "        \"avaliacoes\": [\n",
    "            {\"cliente\": \"Igor\", \"nota\": 3}\n",
    "        ]\n",
    "    },\n",
    "    {\n",
    "        \"nome\": \"Relógio Digital\",\n",
    "        \"preco\": 299.90,\n",
    "        \"estoque\": 5,\n",
    "        \"avaliacoes\": [\n",
    "            {\"cliente\": \"Joana\", \"nota\": 4}\n",
    "        ]\n",
    "    },\n",
    "    {\n",
    "        \"nome\": \"Óculos de Sol\",\n",
    "        \"preco\": 119.90,\n",
    "        \"estoque\": 12,\n",
    "        \"avaliacoes\": [\n",
    "            {\"cliente\": \"Karina\", \"nota\": 5},\n",
    "            {\"cliente\": \"Lucas\", \"nota\": 4}\n",
    "        ]\n",
    "    },\n",
    "    {\n",
    "        \"nome\": \"Mochila\",\n",
    "        \"preco\": 139.90,\n",
    "        \"estoque\": 7,\n",
    "        \"avaliacoes\": [\n",
    "            {\"cliente\": \"Marcos\", \"nota\": 3}\n",
    "        ]\n",
    "    },\n",
    "    {\n",
    "        \"nome\": \"Carteira\",\n",
    "        \"preco\": 69.90,\n",
    "        \"estoque\": 25,\n",
    "        \"avaliacoes\": [\n",
    "            {\"cliente\": \"Nina\", \"nota\": 4}\n",
    "        ]\n",
    "    }\n",
    "])\n"
   ]
  },
  {
   "cell_type": "markdown",
   "metadata": {},
   "source": [
    "Cada elemento da lista é um **dicionário Python**, representando um **documento MongoDB**.\n",
    "\n",
    "Os documentos são inseridos **todos de uma vez** na coleção `produtos`.\n",
    "\n",
    "O MongoDB atribui um campo **`_id` automaticamente** a cada documento, caso ele não seja fornecido.\n",
    "\n",
    "---\n",
    "\n",
    "### 🔍 Acessando os IDs inseridos\n",
    "\n",
    "```python\n",
    "resultado = produtos.insert_many([\n",
    "    {\"nome\": \"Camiseta\", \"preco\": 49.9},\n",
    "    {\"nome\": \"Calça Jeans\", \"preco\": 89.9}\n",
    "])\n",
    "\n",
    "print(resultado.inserted_ids)\n",
    "```\n",
    "\n",
    "- O objeto `resultado` é do tipo **`InsertManyResult`**.\n",
    "- O atributo **`.inserted_ids`** retorna uma **lista com os `_id` de cada documento** inserido com sucesso."
   ]
  },
  {
   "cell_type": "markdown",
   "metadata": {},
   "source": [
    "---\n",
    "\n",
    "### 🧠 Por que usar `insert_many()`?\n",
    "\n",
    "- **Performance**: reduz a sobrecarga de múltiplas conexões com o banco.\n",
    "- **Produtividade**: permite montar testes e cargas iniciais com poucos comandos.\n",
    "- **Organização**: melhora a legibilidade do código em casos com muitos documentos.\n",
    "\n",
    "\n",
    "### ⚠️ Cuidados\n",
    "\n",
    "- Se algum documento violar uma restrição (como duplicação de `_id`), a operação pode lançar uma exceção e:\n",
    "  - Não inserir nenhum item, **ou**\n",
    "  - Inserir apenas os válidos (dependendo da configuração).\n",
    "- É recomendável **validar os dados antes** de inseri-los em lote.\n"
   ]
  },
  {
   "cell_type": "markdown",
   "metadata": {},
   "source": [
    "### 📖 Como ler documentos após `insert_many()` no MongoDB\n",
    "\n",
    "Após inserir os documentos com `insert_many()`, você pode ler (consultar) os dados da coleção usando o método `.find()` do MongoDB, que retorna todos os documentos da coleção (ou os que atendem a um filtro).\n",
    "\n",
    "---\n",
    "\n",
    "### ✅ Ler todos os documentos\n",
    "\n"
   ]
  },
  {
   "cell_type": "code",
   "execution_count": 32,
   "metadata": {},
   "outputs": [
    {
     "name": "stdout",
     "output_type": "stream",
     "text": [
      "{'nome': 'Camiseta', 'preco': 49.9, '_id': ObjectId(1c538f44-5629-11f0-b175-5eeeaffdd600)}\n",
      "{'nome': 'Calça Jeans', 'preco': 89.9, '_id': ObjectId(1c53da1c-5629-11f0-b175-5eeeaffdd600)}\n",
      "{'nome': 'Tênis', 'preco': 199.9, '_id': ObjectId(1c53db84-5629-11f0-b175-5eeeaffdd600)}\n",
      "{'nome': 'Boné', 'preco': 29.9, '_id': ObjectId(1c53dc7e-5629-11f0-b175-5eeeaffdd600)}\n",
      "{'nome': 'Camiseta', 'preco': 49.9, 'estoque': 20, 'avaliacoes': [{'cliente': 'Ana', 'nota': 5}, {'cliente': 'Bruno', 'nota': 4}], '_id': ObjectId(70425778-5630-11f0-b175-5eeeaffdd600)}\n",
      "{'nome': 'Calça Jeans', 'preco': 89.9, 'estoque': 15, 'avaliacoes': [{'cliente': 'Carlos', 'nota': 4}], '_id': ObjectId(70426cf4-5630-11f0-b175-5eeeaffdd600)}\n",
      "{'nome': 'Tênis Esportivo', 'preco': 199.9, 'estoque': 8, 'avaliacoes': [{'cliente': 'Daniela', 'nota': 5}, {'cliente': 'Eduardo', 'nota': 3}], '_id': ObjectId(70426e0c-5630-11f0-b175-5eeeaffdd600)}\n",
      "{'nome': 'Boné', 'preco': 29.9, 'estoque': 50, 'avaliacoes': [{'cliente': 'Fernanda', 'nota': 4}], '_id': ObjectId(70426ede-5630-11f0-b175-5eeeaffdd600)}\n",
      "{'nome': 'Jaqueta Corta-Vento', 'preco': 149.9, 'estoque': 10, 'avaliacoes': [{'cliente': 'Gabriel', 'nota': 5}, {'cliente': 'Helena', 'nota': 5}], '_id': ObjectId(70426f7e-5630-11f0-b175-5eeeaffdd600)}\n",
      "{'nome': 'Meia', 'preco': 9.9, 'estoque': 100, 'avaliacoes': [{'cliente': 'Igor', 'nota': 3}], '_id': ObjectId(70427028-5630-11f0-b175-5eeeaffdd600)}\n",
      "{'nome': 'Relógio Digital', 'preco': 299.9, 'estoque': 5, 'avaliacoes': [{'cliente': 'Joana', 'nota': 4}], '_id': ObjectId(704270be-5630-11f0-b175-5eeeaffdd600)}\n",
      "{'nome': 'Óculos de Sol', 'preco': 119.9, 'estoque': 12, 'avaliacoes': [{'cliente': 'Karina', 'nota': 5}, {'cliente': 'Lucas', 'nota': 4}], '_id': ObjectId(7042715e-5630-11f0-b175-5eeeaffdd600)}\n",
      "{'nome': 'Mochila', 'preco': 139.9, 'estoque': 7, 'avaliacoes': [{'cliente': 'Marcos', 'nota': 3}], '_id': ObjectId(704271f4-5630-11f0-b175-5eeeaffdd600)}\n",
      "{'nome': 'Carteira', 'preco': 69.9, 'estoque': 25, 'avaliacoes': [{'cliente': 'Nina', 'nota': 4}], '_id': ObjectId(70427280-5630-11f0-b175-5eeeaffdd600)}\n",
      "{'nome': 'Camiseta', 'preco': 49.9, 'estoque': 20, 'avaliacoes': [{'cliente': 'Ana', 'nota': 5}, {'cliente': 'Bruno', 'nota': 4}], '_id': ObjectId(8b1fe722-5630-11f0-b175-5eeeaffdd600)}\n",
      "{'nome': 'Calça Jeans', 'preco': 89.9, 'estoque': 15, 'avaliacoes': [{'cliente': 'Carlos', 'nota': 4}], '_id': ObjectId(8b1fee52-5630-11f0-b175-5eeeaffdd600)}\n",
      "{'nome': 'Tênis Esportivo', 'preco': 199.9, 'estoque': 8, 'avaliacoes': [{'cliente': 'Daniela', 'nota': 5}, {'cliente': 'Eduardo', 'nota': 3}], '_id': ObjectId(8b1fef1a-5630-11f0-b175-5eeeaffdd600)}\n",
      "{'nome': 'Boné', 'preco': 29.9, 'estoque': 50, 'avaliacoes': [{'cliente': 'Fernanda', 'nota': 4}], '_id': ObjectId(8b1fefd8-5630-11f0-b175-5eeeaffdd600)}\n",
      "{'nome': 'Jaqueta Corta-Vento', 'preco': 149.9, 'estoque': 10, 'avaliacoes': [{'cliente': 'Gabriel', 'nota': 5}, {'cliente': 'Helena', 'nota': 5}], '_id': ObjectId(8b1ffa46-5630-11f0-b175-5eeeaffdd600)}\n",
      "{'nome': 'Meia', 'preco': 9.9, 'estoque': 100, 'avaliacoes': [{'cliente': 'Igor', 'nota': 3}], '_id': ObjectId(8b1ffb72-5630-11f0-b175-5eeeaffdd600)}\n",
      "{'nome': 'Relógio Digital', 'preco': 299.9, 'estoque': 5, 'avaliacoes': [{'cliente': 'Joana', 'nota': 4}], '_id': ObjectId(8b1ffc08-5630-11f0-b175-5eeeaffdd600)}\n",
      "{'nome': 'Óculos de Sol', 'preco': 119.9, 'estoque': 12, 'avaliacoes': [{'cliente': 'Karina', 'nota': 5}, {'cliente': 'Lucas', 'nota': 4}], '_id': ObjectId(8b1ffc8a-5630-11f0-b175-5eeeaffdd600)}\n",
      "{'nome': 'Mochila', 'preco': 139.9, 'estoque': 7, 'avaliacoes': [{'cliente': 'Marcos', 'nota': 3}], '_id': ObjectId(8b1ffd70-5630-11f0-b175-5eeeaffdd600)}\n",
      "{'nome': 'Carteira', 'preco': 69.9, 'estoque': 25, 'avaliacoes': [{'cliente': 'Nina', 'nota': 4}], '_id': ObjectId(8b1ffdfc-5630-11f0-b175-5eeeaffdd600)}\n"
     ]
    }
   ],
   "source": [
    "for doc in produtos.find():\n",
    "    print(doc)"
   ]
  },
  {
   "cell_type": "markdown",
   "metadata": {},
   "source": [
    "---\n",
    "\n",
    "### 🔍 Ler com filtro (exemplo: produtos com preço menor que 100)"
   ]
  },
  {
   "cell_type": "code",
   "execution_count": 19,
   "metadata": {},
   "outputs": [
    {
     "name": "stdout",
     "output_type": "stream",
     "text": [
      "{'nome': 'Camiseta', 'preco': 49.9, '_id': ObjectId(1c538f44-5629-11f0-b175-5eeeaffdd600)}\n",
      "{'nome': 'Calça Jeans', 'preco': 89.9, '_id': ObjectId(1c53da1c-5629-11f0-b175-5eeeaffdd600)}\n",
      "{'nome': 'Boné', 'preco': 29.9, '_id': ObjectId(1c53dc7e-5629-11f0-b175-5eeeaffdd600)}\n"
     ]
    }
   ],
   "source": [
    "for doc in produtos.find({\"preco\": {\"$lt\": 100}}):\n",
    "    print(doc)\n"
   ]
  },
  {
   "cell_type": "markdown",
   "metadata": {},
   "source": [
    "* $lt: operador de comparação \"menor que\" (less than)"
   ]
  },
  {
   "cell_type": "markdown",
   "metadata": {},
   "source": [
    "### 🖨️ Ler todos os documentos e imprimir de forma organizada (`pprint`)"
   ]
  },
  {
   "cell_type": "code",
   "execution_count": 13,
   "metadata": {},
   "outputs": [
    {
     "name": "stdout",
     "output_type": "stream",
     "text": [
      "[{'_id': ObjectId(1c538f44-5629-11f0-b175-5eeeaffdd600),\n",
      "  'nome': 'Camiseta',\n",
      "  'preco': 49.9},\n",
      " {'_id': ObjectId(1c53da1c-5629-11f0-b175-5eeeaffdd600),\n",
      "  'nome': 'Calça Jeans',\n",
      "  'preco': 89.9},\n",
      " {'_id': ObjectId(1c53db84-5629-11f0-b175-5eeeaffdd600),\n",
      "  'nome': 'Tênis',\n",
      "  'preco': 199.9},\n",
      " {'_id': ObjectId(1c53dc7e-5629-11f0-b175-5eeeaffdd600),\n",
      "  'nome': 'Boné',\n",
      "  'preco': 29.9}]\n"
     ]
    }
   ],
   "source": [
    "# Importa a função pprint (\"pretty print\") da biblioteca padrão\n",
    "# Ela é usada para imprimir estruturas de dados (como listas de dicionários)\n",
    "# de forma organizada, com identação automática e fácil leitura visual.\n",
    "from pprint import pprint\n",
    "\n",
    "\n",
    "pprint(list(produtos.find()))"
   ]
  },
  {
   "cell_type": "markdown",
   "metadata": {},
   "source": [
    "- O método `.find()` retorna um **cursor**, que é um iterador sobre os documentos da coleção.\n",
    "- A função `list()` **converte o cursor em uma lista** de dicionários Python.\n",
    "- A função `pprint()` **imprime essa lista com formatação identada e legível**, facilitando a visualização, especialmente em contextos de:\n",
    "\n",
    "  - **Aulas**\n",
    "  - **Apresentações**\n",
    "  - **Depuração de dados**\n"
   ]
  },
  {
   "cell_type": "markdown",
   "metadata": {},
   "source": [
    "---\n",
    "\n",
    "## 📚 Principais comandos `.find()` no MongoDB\n",
    "\n",
    "| Comando | Descrição |\n",
    "|--------|-----------|\n",
    "| `db.colecao.find()` | Retorna todos os documentos da coleção |\n",
    "| `db.colecao.find({campo: valor})` | Filtra documentos com base em um valor exato |\n",
    "| `db.colecao.find({}, {campo1: 1, campo2: 0})` | Projeta campos específicos (inclusão ou exclusão) |\n",
    "| `db.colecao.find().sort({campo: 1})` | Ordena documentos (1 = crescente, -1 = decrescente) |\n",
    "| `db.colecao.find().limit(n)` | Limita a quantidade de resultados retornados |\n",
    "| `db.colecao.find().skip(n)` | Ignora os primeiros n resultados |\n",
    "| `db.colecao.find({campo: {$exists: true}})` | Filtra documentos que possuem determinado campo |\n",
    "| `db.colecao.find({campo: {$type: \"string\"}})` | Filtra documentos pelo tipo de dado de um campo |\n",
    "\n",
    "---\n",
    "\n",
    "## 🔧 Operadores de Comparação\n",
    "\n",
    "| Operador | Descrição |\n",
    "|----------|-----------|\n",
    "| `$eq` | Igual a (`{preco: {$eq: 50}}`) |\n",
    "| `$ne` | Diferente de (`{preco: {$ne: 100}}`) |\n",
    "| `$gt` | Maior que (`{preco: {$gt: 100}}`) |\n",
    "| `$gte` | Maior ou igual a (`{preco: {$gte: 50}}`) |\n",
    "| `$lt` | Menor que (`{preco: {$lt: 100}}`) |\n",
    "| `$lte` | Menor ou igual a (`{preco: {$lte: 200}}`) |\n",
    "| `$in` | Dentro de uma lista (`{nome: {$in: [\"Camisa\", \"Calça\"]}}`) |\n",
    "| `$nin` | Fora de uma lista (`{nome: {$nin: [\"Tênis\", \"Boné\"]}}`) |\n",
    "\n",
    "---\n",
    "\n",
    "## 🧠 Operadores Lógicos\n",
    "\n",
    "| Operador | Descrição |\n",
    "|----------|-----------|\n",
    "| `$and` | Todos os critérios devem ser verdadeiros |\n",
    "| `$or` | Pelo menos um dos critérios deve ser verdadeiro |\n",
    "| `$not` | Inverte a condição |\n",
    "| `$nor` | Nenhum dos critérios pode ser verdadeiro |\n",
    "\n",
    "### Exemplo com `$and`:\n",
    "\n",
    "```javascript\n",
    "db.produtos.find({\n",
    "  $and: [\n",
    "    { preco: { $gt: 50 } },\n",
    "    { preco: { $lt: 200 } }\n",
    "  ]\n",
    "})\n",
    "```\n",
    "\n",
    "---\n",
    "\n",
    "## 🔍 Operadores de Elemento\n",
    "\n",
    "| Operador  | Descrição                             |\n",
    "|-----------|----------------------------------------|\n",
    "| `$exists` | Verifica se o campo existe             |\n",
    "| `$type`   | Verifica o tipo de dado do campo       |\n",
    "\n",
    "---\n",
    "\n",
    "## 🔄 Operadores para Arrays\n",
    "\n",
    "| Operador     | Descrição                                                                 |\n",
    "|--------------|---------------------------------------------------------------------------|\n",
    "| `$all`       | Todos os elementos especificados devem estar presentes no array           |\n",
    "| `$size`      | Filtra documentos onde o array tem o tamanho exato especificado           |\n",
    "| `$elemMatch` | Combina elementos de arrays que atendem a múltiplos critérios simultâneos |\n",
    "\n"
   ]
  },
  {
   "cell_type": "markdown",
   "metadata": {},
   "source": [
    "## 📌 Exemplos de Operadores no MongoDB `.find()`\n",
    "\n",
    "---\n",
    "\n",
    "### 1. `$eq` – Igual a\n"
   ]
  },
  {
   "cell_type": "code",
   "execution_count": 20,
   "metadata": {},
   "outputs": [
    {
     "name": "stdout",
     "output_type": "stream",
     "text": [
      "{'nome': 'Camiseta', 'preco': 49.9, '_id': ObjectId(1c538f44-5629-11f0-b175-5eeeaffdd600)}\n"
     ]
    }
   ],
   "source": [
    "for doc in produtos.find({ \"preco\": { \"$eq\": 49.9 } }):\n",
    "    print(doc)\n"
   ]
  },
  {
   "cell_type": "markdown",
   "metadata": {},
   "source": [
    "### 2. `$gt` – Maior que"
   ]
  },
  {
   "cell_type": "code",
   "execution_count": 21,
   "metadata": {},
   "outputs": [
    {
     "name": "stdout",
     "output_type": "stream",
     "text": [
      "{'nome': 'Tênis', 'preco': 199.9, '_id': ObjectId(1c53db84-5629-11f0-b175-5eeeaffdd600)}\n"
     ]
    }
   ],
   "source": [
    "for doc in produtos.find({ \"preco\": { \"$gt\": 100 } }):\n",
    "    print(doc)"
   ]
  },
  {
   "cell_type": "markdown",
   "metadata": {},
   "source": [
    "### 3. `$lt` – Menor que\n"
   ]
  },
  {
   "cell_type": "code",
   "execution_count": 23,
   "metadata": {},
   "outputs": [],
   "source": [
    "for doc in produtos.find({ \"estoque\": { \"$lt\": 10 } }):\n",
    "    print(doc)"
   ]
  },
  {
   "cell_type": "markdown",
   "metadata": {},
   "source": [
    "### 4. `$in` – Dentro de uma lista"
   ]
  },
  {
   "cell_type": "code",
   "execution_count": 26,
   "metadata": {},
   "outputs": [
    {
     "name": "stdout",
     "output_type": "stream",
     "text": [
      "{'nome': 'Camiseta', 'preco': 49.9, '_id': ObjectId(1c538f44-5629-11f0-b175-5eeeaffdd600)}\n",
      "{'nome': 'Boné', 'preco': 29.9, '_id': ObjectId(1c53dc7e-5629-11f0-b175-5eeeaffdd600)}\n"
     ]
    }
   ],
   "source": [
    "for doc in produtos.find({ \"nome\": { \"$in\": [\"Camiseta\", \"Boné\"] } }):\n",
    "    print(doc)"
   ]
  },
  {
   "cell_type": "markdown",
   "metadata": {},
   "source": [
    "### 5. `$and` – Todos os critérios"
   ]
  },
  {
   "cell_type": "code",
   "execution_count": 33,
   "metadata": {},
   "outputs": [
    {
     "name": "stdout",
     "output_type": "stream",
     "text": [
      "{'nome': 'Camiseta', 'preco': 49.9, 'estoque': 20, 'avaliacoes': [{'cliente': 'Ana', 'nota': 5}, {'cliente': 'Bruno', 'nota': 4}], '_id': ObjectId(70425778-5630-11f0-b175-5eeeaffdd600)}\n",
      "{'nome': 'Calça Jeans', 'preco': 89.9, 'estoque': 15, 'avaliacoes': [{'cliente': 'Carlos', 'nota': 4}], '_id': ObjectId(70426cf4-5630-11f0-b175-5eeeaffdd600)}\n",
      "{'nome': 'Óculos de Sol', 'preco': 119.9, 'estoque': 12, 'avaliacoes': [{'cliente': 'Karina', 'nota': 5}, {'cliente': 'Lucas', 'nota': 4}], '_id': ObjectId(7042715e-5630-11f0-b175-5eeeaffdd600)}\n",
      "{'nome': 'Carteira', 'preco': 69.9, 'estoque': 25, 'avaliacoes': [{'cliente': 'Nina', 'nota': 4}], '_id': ObjectId(70427280-5630-11f0-b175-5eeeaffdd600)}\n",
      "{'nome': 'Camiseta', 'preco': 49.9, 'estoque': 20, 'avaliacoes': [{'cliente': 'Ana', 'nota': 5}, {'cliente': 'Bruno', 'nota': 4}], '_id': ObjectId(8b1fe722-5630-11f0-b175-5eeeaffdd600)}\n",
      "{'nome': 'Calça Jeans', 'preco': 89.9, 'estoque': 15, 'avaliacoes': [{'cliente': 'Carlos', 'nota': 4}], '_id': ObjectId(8b1fee52-5630-11f0-b175-5eeeaffdd600)}\n",
      "{'nome': 'Óculos de Sol', 'preco': 119.9, 'estoque': 12, 'avaliacoes': [{'cliente': 'Karina', 'nota': 5}, {'cliente': 'Lucas', 'nota': 4}], '_id': ObjectId(8b1ffc8a-5630-11f0-b175-5eeeaffdd600)}\n",
      "{'nome': 'Carteira', 'preco': 69.9, 'estoque': 25, 'avaliacoes': [{'cliente': 'Nina', 'nota': 4}], '_id': ObjectId(8b1ffdfc-5630-11f0-b175-5eeeaffdd600)}\n"
     ]
    }
   ],
   "source": [
    "for doc in produtos.find({\n",
    "    \"$and\": [\n",
    "        { \"preco\": { \"$gt\": 30 } },\n",
    "        { \"estoque\": { \"$gt\": 10 } }\n",
    "    ]\n",
    "}):\n",
    "    print(doc)"
   ]
  },
  {
   "cell_type": "markdown",
   "metadata": {},
   "source": [
    "### 6. `$or` – Qualquer critério"
   ]
  },
  {
   "cell_type": "code",
   "execution_count": 36,
   "metadata": {},
   "outputs": [
    {
     "name": "stdout",
     "output_type": "stream",
     "text": [
      "{'nome': 'Tênis', 'preco': 199.9, '_id': ObjectId(1c53db84-5629-11f0-b175-5eeeaffdd600)}\n",
      "{'nome': 'Boné', 'preco': 29.9, '_id': ObjectId(1c53dc7e-5629-11f0-b175-5eeeaffdd600)}\n",
      "{'nome': 'Boné', 'preco': 29.9, 'estoque': 50, 'avaliacoes': [{'cliente': 'Fernanda', 'nota': 4}], '_id': ObjectId(70426ede-5630-11f0-b175-5eeeaffdd600)}\n",
      "{'nome': 'Meia', 'preco': 9.9, 'estoque': 100, 'avaliacoes': [{'cliente': 'Igor', 'nota': 3}], '_id': ObjectId(70427028-5630-11f0-b175-5eeeaffdd600)}\n",
      "{'nome': 'Boné', 'preco': 29.9, 'estoque': 50, 'avaliacoes': [{'cliente': 'Fernanda', 'nota': 4}], '_id': ObjectId(8b1fefd8-5630-11f0-b175-5eeeaffdd600)}\n",
      "{'nome': 'Meia', 'preco': 9.9, 'estoque': 100, 'avaliacoes': [{'cliente': 'Igor', 'nota': 3}], '_id': ObjectId(8b1ffb72-5630-11f0-b175-5eeeaffdd600)}\n"
     ]
    }
   ],
   "source": [
    "for doc in produtos.find({\n",
    "    \"$or\": [\n",
    "        { \"preco\": { \"$lt\": 40 } },\n",
    "        { \"nome\": \"Tênis\" }\n",
    "    ]\n",
    "}):\n",
    "    print(doc)"
   ]
  },
  {
   "cell_type": "markdown",
   "metadata": {},
   "source": [
    "### 7. `$exists` – Campo presente"
   ]
  },
  {
   "cell_type": "code",
   "execution_count": 39,
   "metadata": {},
   "outputs": [
    {
     "name": "stdout",
     "output_type": "stream",
     "text": [
      "{'nome': 'Camiseta', 'preco': 49.9, 'estoque': 20, 'avaliacoes': [{'cliente': 'Ana', 'nota': 5}, {'cliente': 'Bruno', 'nota': 4}], '_id': ObjectId(70425778-5630-11f0-b175-5eeeaffdd600)}\n",
      "{'nome': 'Calça Jeans', 'preco': 89.9, 'estoque': 15, 'avaliacoes': [{'cliente': 'Carlos', 'nota': 4}], '_id': ObjectId(70426cf4-5630-11f0-b175-5eeeaffdd600)}\n",
      "{'nome': 'Tênis Esportivo', 'preco': 199.9, 'estoque': 8, 'avaliacoes': [{'cliente': 'Daniela', 'nota': 5}, {'cliente': 'Eduardo', 'nota': 3}], '_id': ObjectId(70426e0c-5630-11f0-b175-5eeeaffdd600)}\n",
      "{'nome': 'Boné', 'preco': 29.9, 'estoque': 50, 'avaliacoes': [{'cliente': 'Fernanda', 'nota': 4}], '_id': ObjectId(70426ede-5630-11f0-b175-5eeeaffdd600)}\n",
      "{'nome': 'Jaqueta Corta-Vento', 'preco': 149.9, 'estoque': 10, 'avaliacoes': [{'cliente': 'Gabriel', 'nota': 5}, {'cliente': 'Helena', 'nota': 5}], '_id': ObjectId(70426f7e-5630-11f0-b175-5eeeaffdd600)}\n",
      "{'nome': 'Meia', 'preco': 9.9, 'estoque': 100, 'avaliacoes': [{'cliente': 'Igor', 'nota': 3}], '_id': ObjectId(70427028-5630-11f0-b175-5eeeaffdd600)}\n",
      "{'nome': 'Relógio Digital', 'preco': 299.9, 'estoque': 5, 'avaliacoes': [{'cliente': 'Joana', 'nota': 4}], '_id': ObjectId(704270be-5630-11f0-b175-5eeeaffdd600)}\n",
      "{'nome': 'Óculos de Sol', 'preco': 119.9, 'estoque': 12, 'avaliacoes': [{'cliente': 'Karina', 'nota': 5}, {'cliente': 'Lucas', 'nota': 4}], '_id': ObjectId(7042715e-5630-11f0-b175-5eeeaffdd600)}\n",
      "{'nome': 'Mochila', 'preco': 139.9, 'estoque': 7, 'avaliacoes': [{'cliente': 'Marcos', 'nota': 3}], '_id': ObjectId(704271f4-5630-11f0-b175-5eeeaffdd600)}\n",
      "{'nome': 'Carteira', 'preco': 69.9, 'estoque': 25, 'avaliacoes': [{'cliente': 'Nina', 'nota': 4}], '_id': ObjectId(70427280-5630-11f0-b175-5eeeaffdd600)}\n",
      "{'nome': 'Camiseta', 'preco': 49.9, 'estoque': 20, 'avaliacoes': [{'cliente': 'Ana', 'nota': 5}, {'cliente': 'Bruno', 'nota': 4}], '_id': ObjectId(8b1fe722-5630-11f0-b175-5eeeaffdd600)}\n",
      "{'nome': 'Calça Jeans', 'preco': 89.9, 'estoque': 15, 'avaliacoes': [{'cliente': 'Carlos', 'nota': 4}], '_id': ObjectId(8b1fee52-5630-11f0-b175-5eeeaffdd600)}\n",
      "{'nome': 'Tênis Esportivo', 'preco': 199.9, 'estoque': 8, 'avaliacoes': [{'cliente': 'Daniela', 'nota': 5}, {'cliente': 'Eduardo', 'nota': 3}], '_id': ObjectId(8b1fef1a-5630-11f0-b175-5eeeaffdd600)}\n",
      "{'nome': 'Boné', 'preco': 29.9, 'estoque': 50, 'avaliacoes': [{'cliente': 'Fernanda', 'nota': 4}], '_id': ObjectId(8b1fefd8-5630-11f0-b175-5eeeaffdd600)}\n",
      "{'nome': 'Jaqueta Corta-Vento', 'preco': 149.9, 'estoque': 10, 'avaliacoes': [{'cliente': 'Gabriel', 'nota': 5}, {'cliente': 'Helena', 'nota': 5}], '_id': ObjectId(8b1ffa46-5630-11f0-b175-5eeeaffdd600)}\n",
      "{'nome': 'Meia', 'preco': 9.9, 'estoque': 100, 'avaliacoes': [{'cliente': 'Igor', 'nota': 3}], '_id': ObjectId(8b1ffb72-5630-11f0-b175-5eeeaffdd600)}\n",
      "{'nome': 'Relógio Digital', 'preco': 299.9, 'estoque': 5, 'avaliacoes': [{'cliente': 'Joana', 'nota': 4}], '_id': ObjectId(8b1ffc08-5630-11f0-b175-5eeeaffdd600)}\n",
      "{'nome': 'Óculos de Sol', 'preco': 119.9, 'estoque': 12, 'avaliacoes': [{'cliente': 'Karina', 'nota': 5}, {'cliente': 'Lucas', 'nota': 4}], '_id': ObjectId(8b1ffc8a-5630-11f0-b175-5eeeaffdd600)}\n",
      "{'nome': 'Mochila', 'preco': 139.9, 'estoque': 7, 'avaliacoes': [{'cliente': 'Marcos', 'nota': 3}], '_id': ObjectId(8b1ffd70-5630-11f0-b175-5eeeaffdd600)}\n",
      "{'nome': 'Carteira', 'preco': 69.9, 'estoque': 25, 'avaliacoes': [{'cliente': 'Nina', 'nota': 4}], '_id': ObjectId(8b1ffdfc-5630-11f0-b175-5eeeaffdd600)}\n"
     ]
    }
   ],
   "source": [
    "for doc in produtos.find({ \"estoque\": { \"$exists\": True } }):\n",
    "    print(doc)"
   ]
  },
  {
   "cell_type": "markdown",
   "metadata": {},
   "source": [
    "### 8. `$type` – Tipo do campo\n"
   ]
  },
  {
   "cell_type": "code",
   "execution_count": 43,
   "metadata": {},
   "outputs": [
    {
     "name": "stdout",
     "output_type": "stream",
     "text": [
      "{'nome': 'Camiseta', 'preco': 49.9, '_id': ObjectId(1c538f44-5629-11f0-b175-5eeeaffdd600)}\n",
      "{'nome': 'Calça Jeans', 'preco': 89.9, '_id': ObjectId(1c53da1c-5629-11f0-b175-5eeeaffdd600)}\n",
      "{'nome': 'Tênis', 'preco': 199.9, '_id': ObjectId(1c53db84-5629-11f0-b175-5eeeaffdd600)}\n",
      "{'nome': 'Boné', 'preco': 29.9, '_id': ObjectId(1c53dc7e-5629-11f0-b175-5eeeaffdd600)}\n",
      "{'nome': 'Camiseta', 'preco': 49.9, 'estoque': 20, 'avaliacoes': [{'cliente': 'Ana', 'nota': 5}, {'cliente': 'Bruno', 'nota': 4}], '_id': ObjectId(70425778-5630-11f0-b175-5eeeaffdd600)}\n",
      "{'nome': 'Calça Jeans', 'preco': 89.9, 'estoque': 15, 'avaliacoes': [{'cliente': 'Carlos', 'nota': 4}], '_id': ObjectId(70426cf4-5630-11f0-b175-5eeeaffdd600)}\n",
      "{'nome': 'Tênis Esportivo', 'preco': 199.9, 'estoque': 8, 'avaliacoes': [{'cliente': 'Daniela', 'nota': 5}, {'cliente': 'Eduardo', 'nota': 3}], '_id': ObjectId(70426e0c-5630-11f0-b175-5eeeaffdd600)}\n",
      "{'nome': 'Boné', 'preco': 29.9, 'estoque': 50, 'avaliacoes': [{'cliente': 'Fernanda', 'nota': 4}], '_id': ObjectId(70426ede-5630-11f0-b175-5eeeaffdd600)}\n",
      "{'nome': 'Jaqueta Corta-Vento', 'preco': 149.9, 'estoque': 10, 'avaliacoes': [{'cliente': 'Gabriel', 'nota': 5}, {'cliente': 'Helena', 'nota': 5}], '_id': ObjectId(70426f7e-5630-11f0-b175-5eeeaffdd600)}\n",
      "{'nome': 'Meia', 'preco': 9.9, 'estoque': 100, 'avaliacoes': [{'cliente': 'Igor', 'nota': 3}], '_id': ObjectId(70427028-5630-11f0-b175-5eeeaffdd600)}\n",
      "{'nome': 'Relógio Digital', 'preco': 299.9, 'estoque': 5, 'avaliacoes': [{'cliente': 'Joana', 'nota': 4}], '_id': ObjectId(704270be-5630-11f0-b175-5eeeaffdd600)}\n",
      "{'nome': 'Óculos de Sol', 'preco': 119.9, 'estoque': 12, 'avaliacoes': [{'cliente': 'Karina', 'nota': 5}, {'cliente': 'Lucas', 'nota': 4}], '_id': ObjectId(7042715e-5630-11f0-b175-5eeeaffdd600)}\n",
      "{'nome': 'Mochila', 'preco': 139.9, 'estoque': 7, 'avaliacoes': [{'cliente': 'Marcos', 'nota': 3}], '_id': ObjectId(704271f4-5630-11f0-b175-5eeeaffdd600)}\n",
      "{'nome': 'Carteira', 'preco': 69.9, 'estoque': 25, 'avaliacoes': [{'cliente': 'Nina', 'nota': 4}], '_id': ObjectId(70427280-5630-11f0-b175-5eeeaffdd600)}\n",
      "{'nome': 'Camiseta', 'preco': 49.9, 'estoque': 20, 'avaliacoes': [{'cliente': 'Ana', 'nota': 5}, {'cliente': 'Bruno', 'nota': 4}], '_id': ObjectId(8b1fe722-5630-11f0-b175-5eeeaffdd600)}\n",
      "{'nome': 'Calça Jeans', 'preco': 89.9, 'estoque': 15, 'avaliacoes': [{'cliente': 'Carlos', 'nota': 4}], '_id': ObjectId(8b1fee52-5630-11f0-b175-5eeeaffdd600)}\n",
      "{'nome': 'Tênis Esportivo', 'preco': 199.9, 'estoque': 8, 'avaliacoes': [{'cliente': 'Daniela', 'nota': 5}, {'cliente': 'Eduardo', 'nota': 3}], '_id': ObjectId(8b1fef1a-5630-11f0-b175-5eeeaffdd600)}\n",
      "{'nome': 'Boné', 'preco': 29.9, 'estoque': 50, 'avaliacoes': [{'cliente': 'Fernanda', 'nota': 4}], '_id': ObjectId(8b1fefd8-5630-11f0-b175-5eeeaffdd600)}\n",
      "{'nome': 'Jaqueta Corta-Vento', 'preco': 149.9, 'estoque': 10, 'avaliacoes': [{'cliente': 'Gabriel', 'nota': 5}, {'cliente': 'Helena', 'nota': 5}], '_id': ObjectId(8b1ffa46-5630-11f0-b175-5eeeaffdd600)}\n",
      "{'nome': 'Meia', 'preco': 9.9, 'estoque': 100, 'avaliacoes': [{'cliente': 'Igor', 'nota': 3}], '_id': ObjectId(8b1ffb72-5630-11f0-b175-5eeeaffdd600)}\n",
      "{'nome': 'Relógio Digital', 'preco': 299.9, 'estoque': 5, 'avaliacoes': [{'cliente': 'Joana', 'nota': 4}], '_id': ObjectId(8b1ffc08-5630-11f0-b175-5eeeaffdd600)}\n",
      "{'nome': 'Óculos de Sol', 'preco': 119.9, 'estoque': 12, 'avaliacoes': [{'cliente': 'Karina', 'nota': 5}, {'cliente': 'Lucas', 'nota': 4}], '_id': ObjectId(8b1ffc8a-5630-11f0-b175-5eeeaffdd600)}\n",
      "{'nome': 'Mochila', 'preco': 139.9, 'estoque': 7, 'avaliacoes': [{'cliente': 'Marcos', 'nota': 3}], '_id': ObjectId(8b1ffd70-5630-11f0-b175-5eeeaffdd600)}\n",
      "{'nome': 'Carteira', 'preco': 69.9, 'estoque': 25, 'avaliacoes': [{'cliente': 'Nina', 'nota': 4}], '_id': ObjectId(8b1ffdfc-5630-11f0-b175-5eeeaffdd600)}\n"
     ]
    }
   ],
   "source": [
    "for doc in produtos.find({ \"preco\": { \"$type\": \"double\" } }):\n",
    "    print(doc)"
   ]
  },
  {
   "cell_type": "markdown",
   "metadata": {},
   "source": [
    "### 9. `$elemMatch` – Elemento em array"
   ]
  },
  {
   "cell_type": "code",
   "execution_count": 45,
   "metadata": {},
   "outputs": [
    {
     "name": "stdout",
     "output_type": "stream",
     "text": [
      "{'_id': ObjectId(70425778-5630-11f0-b175-5eeeaffdd600),\n",
      " 'avaliacoes': [{'cliente': 'Ana', 'nota': 5}, {'cliente': 'Bruno', 'nota': 4}],\n",
      " 'estoque': 20,\n",
      " 'nome': 'Camiseta',\n",
      " 'preco': 49.9}\n",
      "{'_id': ObjectId(8b1fe722-5630-11f0-b175-5eeeaffdd600),\n",
      " 'avaliacoes': [{'cliente': 'Ana', 'nota': 5}, {'cliente': 'Bruno', 'nota': 4}],\n",
      " 'estoque': 20,\n",
      " 'nome': 'Camiseta',\n",
      " 'preco': 49.9}\n"
     ]
    }
   ],
   "source": [
    "for doc in produtos.find({\n",
    "    \"avaliacoes\": {\n",
    "        \"$elemMatch\": {\n",
    "            \"cliente\": \"Ana\",\n",
    "            \"nota\": 5\n",
    "        }\n",
    "    }\n",
    "}):\n",
    "    pprint(doc)"
   ]
  },
  {
   "cell_type": "markdown",
   "metadata": {},
   "source": [
    "## 🧠 O que é Aggregation no MongoDB?\n",
    "\n",
    "O **Aggregation Framework** do MongoDB é uma poderosa ferramenta usada para **processar e transformar dados** em coleções. Ele permite realizar operações como:\n",
    "\n",
    "- Agrupamentos\n",
    "- Filtragens avançadas\n",
    "- Cálculos (soma, média, contagem, etc.)\n",
    "- Projeções e transformações de campos\n",
    "- Análises estatísticas\n",
    "\n",
    "---\n",
    "\n",
    "### 🔁 Como funciona?\n",
    "\n",
    "A base do aggregation é um **pipeline** de estágios (etapas), onde cada estágio transforma os dados antes de passá-los adiante.\n",
    "\n",
    "**Exemplo básico de pipeline:**\n",
    "\n",
    "```python\n",
    "[\n",
    "  { \"$match\": { \"preco\": { \"$gt\": 100 } } },\n",
    "  { \"$group\": { \"_id\": \"$nome\", \"media_avaliacoes\": { \"$avg\": \"$avaliacoes.nota\" } } }\n",
    "]\n"
   ]
  },
  {
   "cell_type": "markdown",
   "metadata": {},
   "source": [
    "### 🔩 Principais Estágios do Aggregation\n",
    "\n",
    "| Estágio    | Função                                                                 |\n",
    "|------------|------------------------------------------------------------------------|\n",
    "| `$match`   | Filtra os documentos (como WHERE)                                       |\n",
    "| `$group`   | Agrupa os dados e permite usar operadores como `$sum`, `$avg`, etc.    |\n",
    "| `$project` | Seleciona e transforma campos                                           |\n",
    "| `$sort`    | Ordena os documentos (1 = ascendente, -1 = descendente)                |\n",
    "| `$limit`   | Limita o número de resultados                                           |\n",
    "| `$unwind`  | Desestrutura arrays para processamento item a item                     |\n",
    "| `$count`   | Conta o total de documentos                                             |\n",
    "\n",
    "---\n",
    "\n",
    "### 🎯 Quando usar?\n",
    "\n",
    "- Para relatórios e dashboards  \n",
    "- Para análises estatísticas de coleções  \n",
    "- Para transformar e agregar dados complexos  \n",
    "- Quando `.find()` não é suficiente para responder à pergunta de negócio"
   ]
  },
  {
   "cell_type": "markdown",
   "metadata": {},
   "source": [
    "## 📊 Tabela de Agregações MongoDB com `aggregate()`\n",
    "\n",
    "| Nº | Objetivo                                          | Estágio/Operação                        | Comando Resumido                                                                                                                                     |\n",
    "|----|---------------------------------------------------|-----------------------------------------|------------------------------------------------------------------------------------------------------------------------------------------------------|\n",
    "| 1  | Contar produtos por faixa de preço                | `$bucket`                               | Agrupa produtos por faixas de `preco` e conta com `$sum`                                                                                             |\n",
    "| 2  | Calcular média de preços                          | `$group` + `$avg`                       | `{ \"$group\": { \"_id\": None, \"media_preco\": { \"$avg\": \"$preco\" } } }`                                                                                |\n",
    "| 3  | Contar avaliações por cliente                     | `$unwind` + `$group` + `$sum`           | `{ \"$group\": { \"_id\": \"$avaliacoes.cliente\", \"total\": { \"$sum\": 1 } } }` após unwind em `avaliacoes`                                               |\n",
    "| 4  | Média de nota por produto                         | `$unwind` + `$group` + `$avg`           | `{ \"$group\": { \"_id\": \"$nome\", \"media\": { \"$avg\": \"$avaliacoes.nota\" } } }`                                                                         |\n",
    "| 5  | Somar estoque total                               | `$group` + `$sum`                       | `{ \"$group\": { \"_id\": None, \"estoque_total\": { \"$sum\": \"$estoque\" } } }`                                                                            |\n",
    "| 6  | Calcular campo com desconto de 10%                | `$project` + `$multiply`                | `{ \"$project\": { \"preco_com_desconto\": { \"$multiply\": [\"$preco\", 0.9] } } }`                                                                         |\n",
    "| 7  | Contar total de documentos com `$count`           | `$count`                                | `{ \"$count\": \"total_documentos\" }`                                                                                                                   |\n",
    "| 8  | Agrupar e ordenar por campo                       | `$group` + `$sort`                      | Agrupar por `categoria`, somar estoque e ordenar por `total_estoque` com `{ \"$sort\": { \"total_estoque\": -1 } }`                                     |\n",
    "| 9  | Filtrar produtos antes da agregação               | `$match` + outros estágios              | Usar `$match` para filtrar produtos com `preco > 50` antes de um `$group`, por exemplo                                                               |\n",
    "| 10 | Agrupar e limitar resultados                      | `$group` + `$limit`                     | Agrupar e exibir apenas os `3` primeiros resultados com `{ \"$limit\": 3 }`                                                                            |\n"
   ]
  },
  {
   "cell_type": "markdown",
   "metadata": {},
   "source": [
    "---\n",
    "\n",
    "### 📌 Exemplo prático"
   ]
  },
  {
   "cell_type": "code",
   "execution_count": 47,
   "metadata": {},
   "outputs": [
    {
     "data": {
      "text/plain": [
       "[{'media_precos': 115.90000000000005, '_id': None}]"
      ]
     },
     "execution_count": 47,
     "metadata": {},
     "output_type": "execute_result"
    }
   ],
   "source": [
    "pipeline = [\n",
    "    { \"$match\": { \"estoque\": { \"$gt\": 0 } } },\n",
    "    { \"$group\": { \"_id\": None, \"media_precos\": { \"$avg\": \"$preco\" } } }\n",
    "]\n",
    "\n",
    "list(produtos.aggregate(pipeline))"
   ]
  },
  {
   "cell_type": "code",
   "execution_count": 60,
   "metadata": {},
   "outputs": [
    {
     "name": "stdout",
     "output_type": "stream",
     "text": [
      "[{'_id': 'Relógio Digital', 'media_precos': 299.9, 'soma_precos': 599.8},\n",
      " {'_id': 'Tênis Esportivo', 'media_precos': 199.9, 'soma_precos': 399.8},\n",
      " {'_id': 'Jaqueta Corta-Vento', 'media_precos': 149.9, 'soma_precos': 299.8},\n",
      " {'_id': 'Mochila', 'media_precos': 139.9, 'soma_precos': 279.8},\n",
      " {'_id': 'Óculos de Sol', 'media_precos': 119.9, 'soma_precos': 239.8},\n",
      " {'_id': 'Calça Jeans', 'media_precos': 89.9, 'soma_precos': 179.8},\n",
      " {'_id': 'Carteira', 'media_precos': 69.9, 'soma_precos': 139.8},\n",
      " {'_id': 'Camiseta', 'media_precos': 49.9, 'soma_precos': 99.8},\n",
      " {'_id': 'Boné', 'media_precos': 29.9, 'soma_precos': 59.8},\n",
      " {'_id': 'Meia', 'media_precos': 9.9, 'soma_precos': 19.8}]\n"
     ]
    }
   ],
   "source": [
    "pipeline = [\n",
    "    { \"$match\": { \"estoque\": { \"$gt\": 0 } } },\n",
    "    { \"$group\": {\n",
    "        \"_id\": \"$nome\",\n",
    "        \"media_precos\": { \"$avg\": \"$preco\" },\n",
    "        \"soma_precos\": { \"$sum\": \"$preco\" }\n",
    "    }}\n",
    "    ,{ \"$sort\": { \"soma_precos\": -1 } }  # Ordena do maior (-1) para o menor (1)\n",
    "]\n",
    "\n",
    "result = list(produtos.aggregate(pipeline))\n",
    "pprint(result)"
   ]
  },
  {
   "cell_type": "markdown",
   "metadata": {},
   "source": [
    "---\n",
    "\n",
    "### ✏️ Update – Atualização de documento"
   ]
  },
  {
   "cell_type": "markdown",
   "metadata": {},
   "source": [
    "📌 Exemplo 1 – Atualizar um campo com `$set`"
   ]
  },
  {
   "cell_type": "code",
   "execution_count": 63,
   "metadata": {},
   "outputs": [
    {
     "name": "stdout",
     "output_type": "stream",
     "text": [
      "Antes da atualização:\n",
      " \n",
      "[{'_id': ObjectId(1c53dc7e-5629-11f0-b175-5eeeaffdd600),\n",
      "  'nome': 'Boné',\n",
      "  'preco': 34.9},\n",
      " {'_id': ObjectId(70426ede-5630-11f0-b175-5eeeaffdd600),\n",
      "  'avaliacoes': [{'cliente': 'Fernanda', 'nota': 4}],\n",
      "  'estoque': 50,\n",
      "  'nome': 'Boné',\n",
      "  'preco': 29.9},\n",
      " {'_id': ObjectId(8b1fefd8-5630-11f0-b175-5eeeaffdd600),\n",
      "  'avaliacoes': [{'cliente': 'Fernanda', 'nota': 4}],\n",
      "  'estoque': 50,\n",
      "  'nome': 'Boné',\n",
      "  'preco': 29.9}]\n",
      " \n",
      "Documentos modificados: 1\n",
      " \n",
      "Depois da atualização:\n",
      " \n",
      "[{'_id': ObjectId(1c53dc7e-5629-11f0-b175-5eeeaffdd600),\n",
      "  'nome': 'Boné',\n",
      "  'preco': 40},\n",
      " {'_id': ObjectId(70426ede-5630-11f0-b175-5eeeaffdd600),\n",
      "  'avaliacoes': [{'cliente': 'Fernanda', 'nota': 4}],\n",
      "  'estoque': 50,\n",
      "  'nome': 'Boné',\n",
      "  'preco': 29.9},\n",
      " {'_id': ObjectId(8b1fefd8-5630-11f0-b175-5eeeaffdd600),\n",
      "  'avaliacoes': [{'cliente': 'Fernanda', 'nota': 4}],\n",
      "  'estoque': 50,\n",
      "  'nome': 'Boné',\n",
      "  'preco': 29.9}]\n"
     ]
    }
   ],
   "source": [
    "# Antes da atualização\n",
    "print(\"Antes da atualização:\")\n",
    "print(\" \")\n",
    "pprint(list(produtos.find({ \"nome\": \"Boné\" })))\n",
    "\n",
    "# Atualização\n",
    "res1 = produtos.update_one(\n",
    "    { \"nome\": \"Boné\" }, \n",
    "    { \"$set\": { \"preco\": 40 } }\n",
    ")\n",
    "\n",
    "# Resultado\n",
    "print(\" \")\n",
    "print(f\"Documentos modificados: {res1.modified_count}\")\n",
    "print(\" \")\n",
    "print(\"Depois da atualização:\")\n",
    "print(\" \")\n",
    "pprint(list(produtos.find({ \"nome\": \"Boné\" })))\n"
   ]
  },
  {
   "cell_type": "markdown",
   "metadata": {},
   "source": [
    "📌 Exemplo 2 – Incrementar valor com `$inc`"
   ]
  },
  {
   "cell_type": "code",
   "execution_count": 66,
   "metadata": {},
   "outputs": [
    {
     "name": "stdout",
     "output_type": "stream",
     "text": [
      "Antes do incremento:\n",
      "[{'_id': ObjectId(1c538f44-5629-11f0-b175-5eeeaffdd600),\n",
      "  'estoque': 10,\n",
      "  'nome': 'Camiseta',\n",
      "  'preco': 49.9},\n",
      " {'_id': ObjectId(70425778-5630-11f0-b175-5eeeaffdd600),\n",
      "  'avaliacoes': [{'cliente': 'Ana', 'nota': 5},\n",
      "                 {'cliente': 'Bruno', 'nota': 4}],\n",
      "  'estoque': 20,\n",
      "  'nome': 'Camiseta',\n",
      "  'preco': 49.9},\n",
      " {'_id': ObjectId(8b1fe722-5630-11f0-b175-5eeeaffdd600),\n",
      "  'avaliacoes': [{'cliente': 'Ana', 'nota': 5},\n",
      "                 {'cliente': 'Bruno', 'nota': 4}],\n",
      "  'estoque': 20,\n",
      "  'nome': 'Camiseta',\n",
      "  'preco': 49.9}]\n",
      "Documentos modificados: 1\n",
      "Depois do incremento:\n",
      "[{'_id': ObjectId(1c538f44-5629-11f0-b175-5eeeaffdd600),\n",
      "  'estoque': 15,\n",
      "  'nome': 'Camiseta',\n",
      "  'preco': 49.9},\n",
      " {'_id': ObjectId(70425778-5630-11f0-b175-5eeeaffdd600),\n",
      "  'avaliacoes': [{'cliente': 'Ana', 'nota': 5},\n",
      "                 {'cliente': 'Bruno', 'nota': 4}],\n",
      "  'estoque': 20,\n",
      "  'nome': 'Camiseta',\n",
      "  'preco': 49.9},\n",
      " {'_id': ObjectId(8b1fe722-5630-11f0-b175-5eeeaffdd600),\n",
      "  'avaliacoes': [{'cliente': 'Ana', 'nota': 5},\n",
      "                 {'cliente': 'Bruno', 'nota': 4}],\n",
      "  'estoque': 20,\n",
      "  'nome': 'Camiseta',\n",
      "  'preco': 49.9}]\n"
     ]
    }
   ],
   "source": [
    "# Antes da atualização\n",
    "print(\"Antes do incremento:\")\n",
    "pprint(list(produtos.find({ \"nome\": \"Camiseta\" })))\n",
    "\n",
    "# Incrementa o estoque\n",
    "res2 = produtos.update_one(\n",
    "    { \"nome\": \"Camiseta\" },\n",
    "    { \"$inc\": { \"estoque\": 5 } }\n",
    ")\n",
    "\n",
    "# Resultado\n",
    "print(f\"Documentos modificados: {res2.modified_count}\")\n",
    "print(\"Depois do incremento:\")\n",
    "pprint(list(produtos.find({ \"nome\": \"Camiseta\" })))\n"
   ]
  },
  {
   "cell_type": "markdown",
   "metadata": {},
   "source": [
    "📌 Exemplo 3 – Atualizar múltiplos documentos com `update_many`"
   ]
  },
  {
   "cell_type": "code",
   "execution_count": 67,
   "metadata": {},
   "outputs": [
    {
     "name": "stdout",
     "output_type": "stream",
     "text": [
      "Antes da atualização em lote:\n",
      "[{'_id': ObjectId(1c53db84-5629-11f0-b175-5eeeaffdd600),\n",
      "  'nome': 'Tênis',\n",
      "  'preco': 199.9},\n",
      " {'_id': ObjectId(70426e0c-5630-11f0-b175-5eeeaffdd600),\n",
      "  'avaliacoes': [{'cliente': 'Daniela', 'nota': 5},\n",
      "                 {'cliente': 'Eduardo', 'nota': 3}],\n",
      "  'estoque': 8,\n",
      "  'nome': 'Tênis Esportivo',\n",
      "  'preco': 199.9},\n",
      " {'_id': ObjectId(704270be-5630-11f0-b175-5eeeaffdd600),\n",
      "  'avaliacoes': [{'cliente': 'Joana', 'nota': 4}],\n",
      "  'estoque': 5,\n",
      "  'nome': 'Relógio Digital',\n",
      "  'preco': 299.9},\n",
      " {'_id': ObjectId(8b1fef1a-5630-11f0-b175-5eeeaffdd600),\n",
      "  'avaliacoes': [{'cliente': 'Daniela', 'nota': 5},\n",
      "                 {'cliente': 'Eduardo', 'nota': 3}],\n",
      "  'estoque': 8,\n",
      "  'nome': 'Tênis Esportivo',\n",
      "  'preco': 199.9},\n",
      " {'_id': ObjectId(8b1ffc08-5630-11f0-b175-5eeeaffdd600),\n",
      "  'avaliacoes': [{'cliente': 'Joana', 'nota': 4}],\n",
      "  'estoque': 5,\n",
      "  'nome': 'Relógio Digital',\n",
      "  'preco': 299.9}]\n",
      "Documentos modificados: 5\n",
      "Depois da atualização em lote:\n",
      "[{'_id': ObjectId(1c53db84-5629-11f0-b175-5eeeaffdd600),\n",
      "  'estoque': 0,\n",
      "  'nome': 'Tênis',\n",
      "  'preco': 199.9},\n",
      " {'_id': ObjectId(70426e0c-5630-11f0-b175-5eeeaffdd600),\n",
      "  'avaliacoes': [{'cliente': 'Daniela', 'nota': 5},\n",
      "                 {'cliente': 'Eduardo', 'nota': 3}],\n",
      "  'estoque': 0,\n",
      "  'nome': 'Tênis Esportivo',\n",
      "  'preco': 199.9},\n",
      " {'_id': ObjectId(704270be-5630-11f0-b175-5eeeaffdd600),\n",
      "  'avaliacoes': [{'cliente': 'Joana', 'nota': 4}],\n",
      "  'estoque': 0,\n",
      "  'nome': 'Relógio Digital',\n",
      "  'preco': 299.9},\n",
      " {'_id': ObjectId(8b1fef1a-5630-11f0-b175-5eeeaffdd600),\n",
      "  'avaliacoes': [{'cliente': 'Daniela', 'nota': 5},\n",
      "                 {'cliente': 'Eduardo', 'nota': 3}],\n",
      "  'estoque': 0,\n",
      "  'nome': 'Tênis Esportivo',\n",
      "  'preco': 199.9},\n",
      " {'_id': ObjectId(8b1ffc08-5630-11f0-b175-5eeeaffdd600),\n",
      "  'avaliacoes': [{'cliente': 'Joana', 'nota': 4}],\n",
      "  'estoque': 0,\n",
      "  'nome': 'Relógio Digital',\n",
      "  'preco': 299.9}]\n"
     ]
    }
   ],
   "source": [
    "# Antes da atualização\n",
    "print(\"Antes da atualização em lote:\")\n",
    "pprint(list(produtos.find({ \"preco\": { \"$gt\": 150 } })))\n",
    "\n",
    "# Atualiza em lote\n",
    "res3 = produtos.update_many(\n",
    "    { \"preco\": { \"$gt\": 150 } },\n",
    "    { \"$set\": { \"estoque\": 0 } }\n",
    ")\n",
    "\n",
    "# Resultado\n",
    "print(f\"Documentos modificados: {res3.modified_count}\")\n",
    "print(\"Depois da atualização em lote:\")\n",
    "pprint(list(produtos.find({ \"preco\": { \"$gt\": 150 } })))\n"
   ]
  },
  {
   "cell_type": "markdown",
   "metadata": {},
   "source": [
    "---\n",
    "\n",
    "### ✅ Conclusão\n",
    "\n",
    "- **update_one()**: altera apenas o **primeiro documento** que atende ao filtro.\n",
    "\n",
    "- **update_many()**: altera **todos os documentos** que atendem ao filtro.\n",
    "\n",
    "- **$set**: define um **novo valor** para um campo específico.  \n",
    "  Exemplo: `{ \"$set\": { \"preco\": 49.9 } }`\n",
    "\n",
    "- **$inc**: **incrementa ou decrementa** numericamente o valor de um campo.  \n",
    "  Exemplo: `{ \"$inc\": { \"estoque\": 5 } }`\n",
    "\n",
    "- **.modified_count**: retorna o **número de documentos realmente alterados** pela operação.\n"
   ]
  },
  {
   "cell_type": "code",
   "execution_count": null,
   "metadata": {},
   "outputs": [],
   "source": []
  },
  {
   "cell_type": "markdown",
   "metadata": {},
   "source": [
    "---\n",
    "\n",
    "### ❌ Delete – Remoção de documento\n"
   ]
  },
  {
   "cell_type": "markdown",
   "metadata": {},
   "source": [
    "📌 Exemplo 1 – `delete_one()`"
   ]
  },
  {
   "cell_type": "code",
   "execution_count": 68,
   "metadata": {},
   "outputs": [
    {
     "name": "stdout",
     "output_type": "stream",
     "text": [
      "Removidos: 1\n"
     ]
    }
   ],
   "source": [
    "# Remove apenas o primeiro produto com nome \"Camiseta\"\n",
    "resultado = produtos.delete_one({ \"nome\": \"Camiseta\" })\n",
    "print(\"Removidos:\", resultado.deleted_count)\n"
   ]
  },
  {
   "cell_type": "markdown",
   "metadata": {},
   "source": [
    "📌 Exemplo 2 – `delete_many()` com filtro"
   ]
  },
  {
   "cell_type": "code",
   "execution_count": 69,
   "metadata": {},
   "outputs": [
    {
     "name": "stdout",
     "output_type": "stream",
     "text": [
      "Removidos: 5\n"
     ]
    }
   ],
   "source": [
    "# Remove todos os produtos com estoque igual a 0\n",
    "resultado = produtos.delete_many({ \"estoque\": 0 })\n",
    "print(\"Removidos:\", resultado.deleted_count)"
   ]
  },
  {
   "cell_type": "markdown",
   "metadata": {},
   "source": [
    "📌 **Exemplo 3 – `delete_many()` sem filtro (⚠️ cuidado!)**"
   ]
  },
  {
   "cell_type": "code",
   "execution_count": 70,
   "metadata": {},
   "outputs": [
    {
     "name": "stdout",
     "output_type": "stream",
     "text": [
      "Removidos: 18\n"
     ]
    }
   ],
   "source": [
    "# Remove todos os documentos da coleção\n",
    "resultado = produtos.delete_many({})\n",
    "print(\"Removidos:\", resultado.deleted_count)"
   ]
  },
  {
   "cell_type": "markdown",
   "metadata": {},
   "source": [
    "🔍 **Explicação:**\n",
    "\n",
    "Esse comando remove **todos os documentos** da coleção `produtos`.\n",
    "\n",
    "É equivalente a um **TRUNCATE** em SQL.\n",
    "\n",
    "⚠️ **Use com muita cautela**, pois **não há como desfazer** essa operação sem backup.\n",
    "\n",
    "🧠 **Dica**:  \n",
    "Sempre revise o filtro antes de executar um `delete_many({})`.  \n",
    "Ideal para **testes locais**, **reinicializações controladas** ou **reset de dados simulados**.\n"
   ]
  },
  {
   "cell_type": "markdown",
   "metadata": {},
   "source": [
    "### ✅ Explicações Finais sobre Delete\n",
    "\n",
    "- **delete_one()**: remove apenas **o primeiro documento** que atende ao filtro.\n",
    "\n",
    "- **delete_many()**: remove **todos os documentos** que atendem ao filtro.\n",
    "\n",
    "- **Filtro**: define **quais documentos** serão removidos.  \n",
    "  Exemplo: `{ \"nome\": \"Camiseta\" }` ou `{ \"estoque\": 0 }`\n",
    "\n",
    "- **{} vazio**: se usado como filtro, remove **todos os documentos da coleção**.  \n",
    "  ⚠️ Use com cautela!\n",
    "\n",
    "- **.deleted_count**: retorna o **número de documentos efetivamente removidos**.\n"
   ]
  },
  {
   "cell_type": "markdown",
   "id": "43fcf319",
   "metadata": {},
   "source": [
    "## 2. 🔑 Redis com `fakeredis`"
   ]
  },
  {
   "cell_type": "code",
   "execution_count": null,
   "id": "1f2f6faf",
   "metadata": {},
   "outputs": [],
   "source": [
    "import fakeredis\n",
    "\n",
    "r = fakeredis.FakeRedis()\n",
    "\n",
    "# Create\n",
    "r.set(\"produto:001\", \"Tênis Esportivo\")\n",
    "print(\"Valor criado:\", r.get(\"produto:001\").decode())\n",
    "\n",
    "# Update\n",
    "r.set(\"produto:001\", \"Tênis Corrida Premium\")\n",
    "print(\"Valor atualizado:\", r.get(\"produto:001\").decode())\n",
    "\n",
    "# Delete\n",
    "r.delete(\"produto:001\")\n",
    "print(\"Após remoção:\", r.get(\"produto:001\"))  # Deve retornar None\n"
   ]
  },
  {
   "cell_type": "markdown",
   "id": "c833afa4",
   "metadata": {},
   "source": [
    "## 3. 🌐 Grafos com `networkx`"
   ]
  },
  {
   "cell_type": "code",
   "execution_count": null,
   "id": "a854a804",
   "metadata": {},
   "outputs": [],
   "source": [
    "import networkx as nx\n",
    "\n",
    "G = nx.Graph()\n",
    "\n",
    "# Create\n",
    "G.add_node(\"Maria\")\n",
    "G.add_node(\"João\")\n",
    "G.add_edge(\"Maria\", \"João\", rel=\"amigo\")\n",
    "\n",
    "# Read\n",
    "print(\"Vizinhos de Maria:\", list(G.neighbors(\"Maria\")))\n",
    "\n",
    "# Update\n",
    "G[\"Maria\"][\"João\"][\"peso\"] = 5\n",
    "print(\"Aresta Maria-João:\", G.get_edge_data(\"Maria\", \"João\"))\n",
    "\n",
    "# Delete\n",
    "G.remove_edge(\"Maria\", \"João\")\n",
    "print(\"Arestas após remoção:\", list(G.edges()))\n"
   ]
  },
  {
   "cell_type": "markdown",
   "id": "31994f23",
   "metadata": {},
   "source": [
    "## 4. 📊 Cassandra com `pandas + parquet`"
   ]
  },
  {
   "cell_type": "code",
   "execution_count": null,
   "id": "74c0f3fc",
   "metadata": {},
   "outputs": [],
   "source": [
    "import pandas as pd\n",
    "\n",
    "# Create\n",
    "df = pd.DataFrame([\n",
    "    {\"sensor_id\": \"s1\", \"timestamp\": \"2024-06-01 12:00\", \"temperatura\": 26.4}\n",
    "])\n",
    "df.to_parquet(\"leituras.parquet\", index=False)\n",
    "\n",
    "# Read\n",
    "df_lido = pd.read_parquet(\"leituras.parquet\")\n",
    "print(\"Leitura inicial:\")\n",
    "print(df_lido)\n",
    "\n",
    "# Update\n",
    "df_lido.loc[0, \"temperatura\"] = 27.0\n",
    "print(\"Após atualização:\")\n",
    "print(df_lido)\n",
    "\n",
    "# Delete\n",
    "df_lido = df_lido[df_lido[\"sensor_id\"] != \"s1\"]\n",
    "print(\"Após remoção:\")\n",
    "print(df_lido)\n"
   ]
  }
 ],
 "metadata": {
  "kernelspec": {
   "display_name": "Python 3",
   "language": "python",
   "name": "python3"
  },
  "language_info": {
   "codemirror_mode": {
    "name": "ipython",
    "version": 3
   },
   "file_extension": ".py",
   "mimetype": "text/x-python",
   "name": "python",
   "nbconvert_exporter": "python",
   "pygments_lexer": "ipython3",
   "version": "3.11.4"
  }
 },
 "nbformat": 4,
 "nbformat_minor": 5
}
