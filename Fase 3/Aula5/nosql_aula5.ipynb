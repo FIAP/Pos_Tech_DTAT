{
 "cells": [
  {
   "cell_type": "markdown",
   "metadata": {},
   "source": [
    "# Aula5 NoSQL com Python 🧪\n",
    "\n",
    "Nesta aula, vamos explorar **4 tipos de bancos de dados NoSQL** com exemplos práticos utilizando bibliotecas Python que simulam ou se conectam com os bancos reais.\n",
    "\n",
    "## 📚 Introdução aos Bancos NoSQL\n",
    "\n",
    "Os bancos NoSQL surgiram para resolver limitações dos bancos relacionais em cenários de:\n",
    "\n",
    "- Alta escalabilidade\n",
    "- Alta disponibilidade\n",
    "- Dados sem estrutura fixa\n",
    "- Velocidade de leitura/escrita em larga escala\n",
    "\n",
    "### Tipos de Bancos NoSQL:\n",
    "\n",
    "| Tipo         | Banco Exemplo  | Características principais                             |\n",
    "|--------------|----------------|--------------------------------------------------------|\n",
    "| Documento    | MongoDB        | Armazena documentos JSON/BSON                          |\n",
    "| Chave-Valor  | Redis          | Extremamente rápido, ideal para cache e sessões        |\n",
    "| Colunar      | Cassandra      | Armazena grandes volumes com leitura distribuída       |\n",
    "| Grafos       | Neo4j, NetworkX| Foco em relacionamentos e redes (amigos, caminhos, etc)|\n",
    "\n",
    "## 🧩 O que é CRUD?\n",
    "\n",
    "CRUD é um acrônimo que representa as **4 operações básicas** que podem ser realizadas sobre dados persistidos em um sistema:\n",
    "\n",
    "| Letra | Operação | Significado                | Equivalente em SQL |\n",
    "|-------|----------|----------------------------|---------------------|\n",
    "| C     | Create   | Criar um novo registro     | `INSERT INTO`       |\n",
    "| R     | Read     | Ler/consultar dados        | `SELECT`            |\n",
    "| U     | Update   | Atualizar dados existentes | `UPDATE`            |\n",
    "| D     | Delete   | Remover dados              | `DELETE FROM`       |\n",
    "\n",
    "### 🎯 Por que o CRUD é importante?\n",
    "\n",
    "- É a base de qualquer aplicação de dados: **sistemas web, APIs, bancos e microsserviços**\n",
    "- Permite **manipular registros de forma estruturada e padronizada**\n",
    "- Está presente em **REST APIs**, **bancos relacionais e NoSQL**, e até em **arquiteturas serverless**\n",
    "\n",
    "---\n",
    "\n",
    "### ✅ Casos de uso mais comuns do MongoDB:\n",
    "\n",
    "| Cenário                         | Por que usar MongoDB?                                                                 |\n",
    "|---------------------------------|----------------------------------------------------------------------------------------|\n",
    "| 🌐 **Aplicações Web**           | Armazena usuários, produtos, posts, comentários em documentos aninhados               |\n",
    "| 📱 **APIs REST e GraphQL**      | Retorna JSON diretamente dos documentos sem transformações complexas                  |\n",
    "| ⚙️ **Microsserviços**           | Cada serviço pode ter sua própria coleção com schema flexível                         |\n",
    "| 🛒 **E-commerce**               | Produtos com atributos dinâmicos (ex: cor, tamanho, estoque, avaliações)              |\n",
    "| 🧾 **Logs e eventos**           | Ingestão rápida de dados sem schema fixo                                              |\n",
    "| 🎯 **Plataformas de recomendação** | Permite armazenar perfis, preferências e histórico de usuários em documentos únicos |\n",
    "| 🧠 **Aplicações com IA ou Analytics** | Armazena resultados de inferência, metadados e dados heterogêneos               |\n",
    "\n",
    "---\n",
    "\n",
    "### 🧠 Por que o MongoDB é tão usado?\n",
    "\n",
    "- 💡 **Sem schema fixo**: ideal para dados que mudam com frequência  \n",
    "- ⚡ **Escalabilidade horizontal** com sharding nativo  \n",
    "- 🔄 **Documentos aninhados** → evita joins e melhora performance  \n",
    "- 🌍 **Alta disponibilidade** com réplicas automáticas  \n",
    "- 🧩 **Integração fácil** com JavaScript, Node.js, Python, etc.\n",
    "\n",
    "---\n",
    "\n",
    "A seguir, veremos exemplos de comandos e operações em **Redis**, **Cassandra** e **Grafos**, com explicações e simulações práticas.\n"
   ]
  },
  {
   "cell_type": "markdown",
   "id": "d2a20b58",
   "metadata": {},
   "source": [
    "## 1. 🗃️ MongoDB com `mongomock`"
   ]
  },
  {
   "cell_type": "markdown",
   "id": "9bd77733",
   "metadata": {},
   "source": [
    "## 🗃️ `mongomock` – Biblioteca para simular MongoDB em memória\n",
    "\n",
    "A biblioteca `mongomock` é uma alternativa leve e útil para simular o comportamento do MongoDB localmente, **sem a necessidade de instalar ou conectar-se a um servidor real**.\n",
    "\n",
    "Ela é amplamente usada em **testes automatizados**, prototipagem, ambientes educacionais e notebooks onde se deseja testar lógica MongoDB sem infraestrutura.\n",
    "\n",
    "Internamente, ela utiliza estruturas de dados Python (como `dict` e `list`) para replicar o comportamento dos comandos do `pymongo`.\n",
    "\n",
    "---\n",
    "\n",
    "### ✅ Como instalar"
   ]
  },
  {
   "cell_type": "code",
   "execution_count": null,
   "id": "465c5ab9",
   "metadata": {},
   "outputs": [],
   "source": [
    "%pip install mongomock"
   ]
  },
  {
   "cell_type": "markdown",
   "id": "8e20fffd",
   "metadata": {},
   "source": [
    "### 🧰 Funções e métodos utilizados\n",
    "\n",
    "| Função / Método                     | Explicação                                                                |\n",
    "|------------------------------------|---------------------------------------------------------------------------|\n",
    "| `mongomock.MongoClient()`          | Cria uma instância mock do cliente MongoDB                                |\n",
    "| `client['nome_do_banco']`          | Acessa um banco de dados dentro da conexão                                |\n",
    "| `db['nome_da_colecao']`            | Acessa uma coleção dentro do banco mockado                                |\n",
    "| `insert_one(documento)`            | Insere um documento JSON-like na coleção                                  |\n",
    "| `find(filtro)`                     | Retorna todos os documentos que atendem a um filtro (como SELECT * WHERE) |\n",
    "| `update_one(filtro, {\"$set\": {}})` | Atualiza um campo específico em um único documento                        |\n",
    "| `delete_one(filtro)`               | Remove o primeiro documento que atende ao critério do filtro              |\n",
    "| `list(collection.find())`          | Transforma o cursor de resultados em uma lista Python                     |\n",
    "| `pprint(lista)`                    | Imprime os dados formatados para facilitar a leitura                      |\n"
   ]
  },
  {
   "cell_type": "markdown",
   "id": "9ff9a639",
   "metadata": {},
   "source": [
    "## 🧪 Exemplo prático com `mongomock` – CRUD completo com explicações\n",
    "\n",
    "Este exemplo simula o comportamento do MongoDB localmente usando a biblioteca `mongomock`. A seguir, executaremos os comandos CRUD.\n",
    "\n",
    "---\n"
   ]
  },
  {
   "cell_type": "code",
   "execution_count": null,
   "id": "96b22b1c",
   "metadata": {},
   "outputs": [],
   "source": [
    "# Importa a biblioteca mongomock para simular o MongoDB em memória\n",
    "import mongomock\n",
    "\n",
    "# Importa pprint para imprimir documentos de forma mais legível\n",
    "from pprint import pprint"
   ]
  },
  {
   "cell_type": "markdown",
   "id": "459f9c7f",
   "metadata": {},
   "source": [
    "---\n",
    "\n",
    "### 🔗 Conexão com o \"banco\" e criação da coleção"
   ]
  },
  {
   "cell_type": "code",
   "execution_count": null,
   "id": "acf2abf4",
   "metadata": {},
   "outputs": [],
   "source": [
    "# Cria uma conexão simulada com o MongoDB (sem servidor real)\n",
    "client = mongomock.MongoClient()\n",
    "\n",
    "# Acessa ou cria o banco de dados chamado 'loja'\n",
    "db = client['loja']\n",
    "\n",
    "# Acessa ou cria a coleção 'produtos' dentro do banco\n",
    "produtos = db['produtos']"
   ]
  },
  {
   "cell_type": "markdown",
   "id": "5b87e91e",
   "metadata": {},
   "source": [
    "---\n",
    "\n",
    "### 📥 Create – Inserção de documento"
   ]
  },
  {
   "cell_type": "code",
   "execution_count": null,
   "id": "7a2ca999",
   "metadata": {},
   "outputs": [],
   "source": [
    "# Insere um documento na coleção 'produtos'\n",
    "produtos.insert_one({\"nome\": \"Camiseta\", \"preco\": 49.9})\n",
    "\n",
    "# Mostra todos os documentos da coleção após a inserção\n",
    "print(\"Após inserção:\")\n",
    "pprint(list(produtos.find()))"
   ]
  },
  {
   "cell_type": "markdown",
   "id": "d6026086",
   "metadata": {},
   "source": [
    "### 🔍 Analisando os campos do documento\n",
    "\n",
    "#### `_id: ObjectId(...)`\n",
    "- O MongoDB (e também o `mongomock`) cria automaticamente um campo chamado `_id` em todo documento inserido.\n",
    "- Esse campo serve como **identificador único** do documento dentro da coleção.\n",
    "- O `ObjectId` é um valor gerado automaticamente que garante unicidade.\n",
    "- Mesmo sendo uma simulação, o formato gerado por `mongomock` é visualmente semelhante ao do MongoDB real.\n",
    "\n",
    "\n",
    "#### `'nome': 'Camiseta'`\n",
    "- Este é o campo de **nome do produto**.\n",
    "- Foi definido manualmente durante a inserção.\n",
    "- No caso, o valor `\"Camiseta\"` representa o nome do item cadastrado.\n",
    "\n",
    "\n",
    "#### `'preco': 49.9`\n",
    "- Representa o campo de **preço do produto**.\n",
    "- Também foi informado na inserção e armazena o valor numérico `49.9`.\n",
    "\n",
    "\n",
    "### 🧠 Importância do campo `_id`\n",
    "\n",
    "O campo `_id` é **obrigatório e exclusivo** em todo documento do MongoDB:\n",
    "\n",
    "- Serve para identificar cada documento de forma única.\n",
    "- Permite buscas diretas e otimizadas usando:\n",
    "\n",
    "```python\n",
    "db.produtos.find({'_id': ObjectId('...')})\n",
    "```\n",
    "\n",
    "- Evita duplicações, pois dois documentos não podem ter o mesmo _id.\n"
   ]
  },
  {
   "cell_type": "markdown",
   "id": "003bb130",
   "metadata": {},
   "source": [
    "## 📦 Inserindo documentos em lote no MongoDB com `insert_many()`\n",
    "\n",
    "Ao invés de inserir documentos um por um com `insert_one()`, podemos usar `insert_many()` para realizar **inserções em lote**, de forma mais eficiente e organizada.\n",
    "\n",
    "---\n",
    "\n",
    "### ✅ Sintaxe básica:\n"
   ]
  },
  {
   "cell_type": "code",
   "execution_count": null,
   "id": "7512075c",
   "metadata": {},
   "outputs": [],
   "source": [
    "produtos.insert_many([\n",
    "    {\"nome\": \"Camiseta\", \"preco\": 49.9},\n",
    "    {\"nome\": \"Calça Jeans\", \"preco\": 89.9},\n",
    "    {\"nome\": \"Tênis\", \"preco\": 199.9},\n",
    "    {\"nome\": \"Boné\", \"preco\": 29.9}\n",
    "])"
   ]
  },
  {
   "cell_type": "code",
   "execution_count": null,
   "id": "6188a897",
   "metadata": {},
   "outputs": [],
   "source": [
    "# Insere múltiplos documentos na coleção 'produtos'\n",
    "\n",
    "produtos.insert_many([\n",
    "    {\n",
    "        \"nome\": \"Camiseta\",\n",
    "        \"preco\": 49.90,\n",
    "        \"estoque\": 20,\n",
    "        \"avaliacoes\": [\n",
    "            {\"cliente\": \"Ana\", \"nota\": 5},\n",
    "            {\"cliente\": \"Bruno\", \"nota\": 4}\n",
    "        ]\n",
    "    },\n",
    "    {\n",
    "        \"nome\": \"Calça Jeans\",\n",
    "        \"preco\": 89.90,\n",
    "        \"estoque\": 15,\n",
    "        \"avaliacoes\": [\n",
    "            {\"cliente\": \"Carlos\", \"nota\": 4}\n",
    "        ]\n",
    "    },\n",
    "    {\n",
    "        \"nome\": \"Tênis Esportivo\",\n",
    "        \"preco\": 199.90,\n",
    "        \"estoque\": 8,\n",
    "        \"avaliacoes\": [\n",
    "            {\"cliente\": \"Daniela\", \"nota\": 5},\n",
    "            {\"cliente\": \"Eduardo\", \"nota\": 3}\n",
    "        ]\n",
    "    },\n",
    "    {\n",
    "        \"nome\": \"Boné\",\n",
    "        \"preco\": 29.90,\n",
    "        \"estoque\": 50,\n",
    "        \"avaliacoes\": [\n",
    "            {\"cliente\": \"Fernanda\", \"nota\": 4}\n",
    "        ]\n",
    "    },\n",
    "    {\n",
    "        \"nome\": \"Jaqueta Corta-Vento\",\n",
    "        \"preco\": 149.90,\n",
    "        \"estoque\": 10,\n",
    "        \"avaliacoes\": [\n",
    "            {\"cliente\": \"Gabriel\", \"nota\": 5},\n",
    "            {\"cliente\": \"Helena\", \"nota\": 5}\n",
    "        ]\n",
    "    },\n",
    "    {\n",
    "        \"nome\": \"Meia\",\n",
    "        \"preco\": 9.90,\n",
    "        \"estoque\": 100,\n",
    "        \"avaliacoes\": [\n",
    "            {\"cliente\": \"Igor\", \"nota\": 3}\n",
    "        ]\n",
    "    },\n",
    "    {\n",
    "        \"nome\": \"Relógio Digital\",\n",
    "        \"preco\": 299.90,\n",
    "        \"estoque\": 5,\n",
    "        \"avaliacoes\": [\n",
    "            {\"cliente\": \"Joana\", \"nota\": 4}\n",
    "        ]\n",
    "    },\n",
    "    {\n",
    "        \"nome\": \"Óculos de Sol\",\n",
    "        \"preco\": 119.90,\n",
    "        \"estoque\": 12,\n",
    "        \"avaliacoes\": [\n",
    "            {\"cliente\": \"Karina\", \"nota\": 5},\n",
    "            {\"cliente\": \"Lucas\", \"nota\": 4}\n",
    "        ]\n",
    "    },\n",
    "    {\n",
    "        \"nome\": \"Mochila\",\n",
    "        \"preco\": 139.90,\n",
    "        \"estoque\": 7,\n",
    "        \"avaliacoes\": [\n",
    "            {\"cliente\": \"Marcos\", \"nota\": 3}\n",
    "        ]\n",
    "    },\n",
    "    {\n",
    "        \"nome\": \"Carteira\",\n",
    "        \"preco\": 69.90,\n",
    "        \"estoque\": 25,\n",
    "        \"avaliacoes\": [\n",
    "            {\"cliente\": \"Nina\", \"nota\": 4}\n",
    "        ]\n",
    "    }\n",
    "])\n"
   ]
  },
  {
   "cell_type": "markdown",
   "id": "5a34ecb5",
   "metadata": {},
   "source": [
    "Cada elemento da lista é um **dicionário Python**, representando um **documento MongoDB**.\n",
    "\n",
    "Os documentos são inseridos **todos de uma vez** na coleção `produtos`.\n",
    "\n",
    "O MongoDB atribui um campo **`_id` automaticamente** a cada documento, caso ele não seja fornecido.\n",
    "\n",
    "---\n",
    "\n",
    "### 🔍 Acessando os IDs inseridos\n",
    "\n",
    "```python\n",
    "resultado = produtos.insert_many([\n",
    "    {\"nome\": \"Camiseta\", \"preco\": 49.9},\n",
    "    {\"nome\": \"Calça Jeans\", \"preco\": 89.9}\n",
    "])\n",
    "\n",
    "print(resultado.inserted_ids)\n",
    "```\n",
    "\n",
    "- O objeto `resultado` é do tipo **`InsertManyResult`**.\n",
    "- O atributo **`.inserted_ids`** retorna uma **lista com os `_id` de cada documento** inserido com sucesso."
   ]
  },
  {
   "cell_type": "markdown",
   "id": "fda9f7d6",
   "metadata": {},
   "source": [
    "---\n",
    "\n",
    "### 🧠 Por que usar `insert_many()`?\n",
    "\n",
    "- **Performance**: reduz a sobrecarga de múltiplas conexões com o banco.\n",
    "- **Produtividade**: permite montar testes e cargas iniciais com poucos comandos.\n",
    "- **Organização**: melhora a legibilidade do código em casos com muitos documentos.\n",
    "\n",
    "\n",
    "### ⚠️ Cuidados\n",
    "\n",
    "- Se algum documento violar uma restrição (como duplicação de `_id`), a operação pode lançar uma exceção e:\n",
    "  - Não inserir nenhum item, **ou**\n",
    "  - Inserir apenas os válidos (dependendo da configuração).\n",
    "- É recomendável **validar os dados antes** de inseri-los em lote.\n"
   ]
  },
  {
   "cell_type": "markdown",
   "id": "b45c53e4",
   "metadata": {},
   "source": [
    "### 📖 Como ler documentos após `insert_many()` no MongoDB\n",
    "\n",
    "Após inserir os documentos com `insert_many()`, você pode ler (consultar) os dados da coleção usando o método `.find()` do MongoDB, que retorna todos os documentos da coleção (ou os que atendem a um filtro).\n",
    "\n",
    "---\n",
    "\n",
    "### ✅ Ler todos os documentos\n",
    "\n"
   ]
  },
  {
   "cell_type": "code",
   "execution_count": null,
   "id": "0293bf4a",
   "metadata": {},
   "outputs": [],
   "source": [
    "for doc in produtos.find():\n",
    "    print(doc)"
   ]
  },
  {
   "cell_type": "markdown",
   "id": "0eb58647",
   "metadata": {},
   "source": [
    "---\n",
    "\n",
    "### 🔍 Ler com filtro (exemplo: produtos com preço menor que 100)"
   ]
  },
  {
   "cell_type": "code",
   "execution_count": null,
   "id": "6348f021",
   "metadata": {},
   "outputs": [],
   "source": [
    "for doc in produtos.find({\"preco\": {\"$lt\": 100}}):\n",
    "    print(doc)\n"
   ]
  },
  {
   "cell_type": "markdown",
   "id": "0c804cdb",
   "metadata": {},
   "source": [
    "* $lt: operador de comparação \"menor que\" (less than)"
   ]
  },
  {
   "cell_type": "markdown",
   "id": "69634916",
   "metadata": {},
   "source": [
    "### 🖨️ Ler todos os documentos e imprimir de forma organizada (`pprint`)"
   ]
  },
  {
   "cell_type": "code",
   "execution_count": null,
   "id": "6ef1bb21",
   "metadata": {},
   "outputs": [],
   "source": [
    "# Importa a função pprint (\"pretty print\") da biblioteca padrão\n",
    "# Ela é usada para imprimir estruturas de dados (como listas de dicionários)\n",
    "# de forma organizada, com identação automática e fácil leitura visual.\n",
    "from pprint import pprint\n",
    "\n",
    "\n",
    "pprint(list(produtos.find()))"
   ]
  },
  {
   "cell_type": "markdown",
   "id": "f7b97c60",
   "metadata": {},
   "source": [
    "- O método `.find()` retorna um **cursor**, que é um iterador sobre os documentos da coleção.\n",
    "- A função `list()` **converte o cursor em uma lista** de dicionários Python.\n",
    "- A função `pprint()` **imprime essa lista com formatação identada e legível**, facilitando a visualização, especialmente em contextos de:\n",
    "\n",
    "  - **Aulas**\n",
    "  - **Apresentações**\n",
    "  - **Depuração de dados**\n"
   ]
  },
  {
   "cell_type": "markdown",
   "id": "daeee73a",
   "metadata": {},
   "source": [
    "---\n",
    "\n",
    "## 📚 Principais comandos `.find()` no MongoDB\n",
    "\n",
    "| Comando | Descrição |\n",
    "|--------|-----------|\n",
    "| `db.colecao.find()` | Retorna todos os documentos da coleção |\n",
    "| `db.colecao.find({campo: valor})` | Filtra documentos com base em um valor exato |\n",
    "| `db.colecao.find({}, {campo1: 1, campo2: 0})` | Projeta campos específicos (inclusão ou exclusão) |\n",
    "| `db.colecao.find().sort({campo: 1})` | Ordena documentos (1 = crescente, -1 = decrescente) |\n",
    "| `db.colecao.find().limit(n)` | Limita a quantidade de resultados retornados |\n",
    "| `db.colecao.find().skip(n)` | Ignora os primeiros n resultados |\n",
    "| `db.colecao.find({campo: {$exists: true}})` | Filtra documentos que possuem determinado campo |\n",
    "| `db.colecao.find({campo: {$type: \"string\"}})` | Filtra documentos pelo tipo de dado de um campo |\n",
    "\n",
    "---\n",
    "\n",
    "## 🔧 Operadores de Comparação\n",
    "\n",
    "| Operador | Descrição |\n",
    "|----------|-----------|\n",
    "| `$eq` | Igual a (`{preco: {$eq: 50}}`) |\n",
    "| `$ne` | Diferente de (`{preco: {$ne: 100}}`) |\n",
    "| `$gt` | Maior que (`{preco: {$gt: 100}}`) |\n",
    "| `$gte` | Maior ou igual a (`{preco: {$gte: 50}}`) |\n",
    "| `$lt` | Menor que (`{preco: {$lt: 100}}`) |\n",
    "| `$lte` | Menor ou igual a (`{preco: {$lte: 200}}`) |\n",
    "| `$in` | Dentro de uma lista (`{nome: {$in: [\"Camisa\", \"Calça\"]}}`) |\n",
    "| `$nin` | Fora de uma lista (`{nome: {$nin: [\"Tênis\", \"Boné\"]}}`) |\n",
    "\n",
    "---\n",
    "\n",
    "## 🧠 Operadores Lógicos\n",
    "\n",
    "| Operador | Descrição |\n",
    "|----------|-----------|\n",
    "| `$and` | Todos os critérios devem ser verdadeiros |\n",
    "| `$or` | Pelo menos um dos critérios deve ser verdadeiro |\n",
    "| `$not` | Inverte a condição |\n",
    "| `$nor` | Nenhum dos critérios pode ser verdadeiro |\n",
    "\n",
    "### Exemplo com `$and`:\n",
    "\n",
    "```javascript\n",
    "db.produtos.find({\n",
    "  $and: [\n",
    "    { preco: { $gt: 50 } },\n",
    "    { preco: { $lt: 200 } }\n",
    "  ]\n",
    "})\n",
    "```\n",
    "\n",
    "---\n",
    "\n",
    "## 🔍 Operadores de Elemento\n",
    "\n",
    "| Operador  | Descrição                             |\n",
    "|-----------|----------------------------------------|\n",
    "| `$exists` | Verifica se o campo existe             |\n",
    "| `$type`   | Verifica o tipo de dado do campo       |\n",
    "\n",
    "---\n",
    "\n",
    "## 🔄 Operadores para Arrays\n",
    "\n",
    "| Operador     | Descrição                                                                 |\n",
    "|--------------|---------------------------------------------------------------------------|\n",
    "| `$all`       | Todos os elementos especificados devem estar presentes no array           |\n",
    "| `$size`      | Filtra documentos onde o array tem o tamanho exato especificado           |\n",
    "| `$elemMatch` | Combina elementos de arrays que atendem a múltiplos critérios simultâneos |\n",
    "\n"
   ]
  },
  {
   "cell_type": "markdown",
   "id": "70940568",
   "metadata": {},
   "source": [
    "## 📌 Exemplos de Operadores no MongoDB `.find()`\n",
    "\n",
    "---\n",
    "\n",
    "### 1. `$eq` – Igual a\n"
   ]
  },
  {
   "cell_type": "code",
   "execution_count": null,
   "id": "d0425b63",
   "metadata": {},
   "outputs": [],
   "source": [
    "for doc in produtos.find({ \"preco\": { \"$eq\": 49.9 } }):\n",
    "    print(doc)\n"
   ]
  },
  {
   "cell_type": "markdown",
   "id": "12a79fff",
   "metadata": {},
   "source": [
    "### 2. `$gt` – Maior que"
   ]
  },
  {
   "cell_type": "code",
   "execution_count": null,
   "id": "90805e60",
   "metadata": {},
   "outputs": [],
   "source": [
    "for doc in produtos.find({ \"preco\": { \"$gt\": 100 } }):\n",
    "    print(doc)"
   ]
  },
  {
   "cell_type": "markdown",
   "id": "7e434244",
   "metadata": {},
   "source": [
    "### 3. `$lt` – Menor que\n"
   ]
  },
  {
   "cell_type": "code",
   "execution_count": null,
   "id": "86f9792c",
   "metadata": {},
   "outputs": [],
   "source": [
    "for doc in produtos.find({ \"estoque\": { \"$lt\": 10 } }):\n",
    "    print(doc)"
   ]
  },
  {
   "cell_type": "markdown",
   "id": "ab20254f",
   "metadata": {},
   "source": [
    "### 4. `$in` – Dentro de uma lista"
   ]
  },
  {
   "cell_type": "code",
   "execution_count": null,
   "id": "482eb4b5",
   "metadata": {},
   "outputs": [],
   "source": [
    "for doc in produtos.find({ \"nome\": { \"$in\": [\"Camiseta\", \"Boné\"] } }):\n",
    "    print(doc)"
   ]
  },
  {
   "cell_type": "markdown",
   "id": "cbbc9277",
   "metadata": {},
   "source": [
    "### 5. `$and` – Todos os critérios"
   ]
  },
  {
   "cell_type": "code",
   "execution_count": null,
   "id": "972b14ed",
   "metadata": {},
   "outputs": [],
   "source": [
    "for doc in produtos.find({\n",
    "    \"$and\": [\n",
    "        { \"preco\": { \"$gt\": 30 } },\n",
    "        { \"estoque\": { \"$gt\": 10 } }\n",
    "    ]\n",
    "}):\n",
    "    print(doc)"
   ]
  },
  {
   "cell_type": "markdown",
   "id": "e37857af",
   "metadata": {},
   "source": [
    "### 6. `$or` – Qualquer critério"
   ]
  },
  {
   "cell_type": "code",
   "execution_count": null,
   "id": "7a9d11b0",
   "metadata": {},
   "outputs": [],
   "source": [
    "for doc in produtos.find({\n",
    "    \"$or\": [\n",
    "        { \"preco\": { \"$lt\": 40 } },\n",
    "        { \"nome\": \"Tênis\" }\n",
    "    ]\n",
    "}):\n",
    "    print(doc)"
   ]
  },
  {
   "cell_type": "markdown",
   "id": "a6041ad3",
   "metadata": {},
   "source": [
    "### 7. `$exists` – Campo presente"
   ]
  },
  {
   "cell_type": "code",
   "execution_count": null,
   "id": "acd1da6d",
   "metadata": {},
   "outputs": [],
   "source": [
    "for doc in produtos.find({ \"estoque\": { \"$exists\": True } }):\n",
    "    print(doc)"
   ]
  },
  {
   "cell_type": "markdown",
   "id": "d2669b1c",
   "metadata": {},
   "source": [
    "### 8. `$type` – Tipo do campo\n"
   ]
  },
  {
   "cell_type": "code",
   "execution_count": null,
   "id": "23adc604",
   "metadata": {},
   "outputs": [],
   "source": [
    "for doc in produtos.find({ \"preco\": { \"$type\": \"double\" } }):\n",
    "    print(doc)"
   ]
  },
  {
   "cell_type": "markdown",
   "id": "9561458a",
   "metadata": {},
   "source": [
    "### 9. `$elemMatch` – Elemento em array"
   ]
  },
  {
   "cell_type": "code",
   "execution_count": null,
   "id": "43b2d322",
   "metadata": {},
   "outputs": [],
   "source": [
    "for doc in produtos.find({\n",
    "    \"avaliacoes\": {\n",
    "        \"$elemMatch\": {\n",
    "            \"cliente\": \"Ana\",\n",
    "            \"nota\": 5\n",
    "        }\n",
    "    }\n",
    "}):\n",
    "    pprint(doc)"
   ]
  },
  {
   "cell_type": "markdown",
   "id": "4ea696fb",
   "metadata": {},
   "source": [
    "## 🧠 O que é Aggregation no MongoDB?\n",
    "\n",
    "O **Aggregation Framework** do MongoDB é uma poderosa ferramenta usada para **processar e transformar dados** em coleções. Ele permite realizar operações como:\n",
    "\n",
    "- Agrupamentos\n",
    "- Filtragens avançadas\n",
    "- Cálculos (soma, média, contagem, etc.)\n",
    "- Projeções e transformações de campos\n",
    "- Análises estatísticas\n",
    "\n",
    "---\n",
    "\n",
    "### 🔁 Como funciona?\n",
    "\n",
    "A base do aggregation é um **pipeline** de estágios (etapas), onde cada estágio transforma os dados antes de passá-los adiante.\n",
    "\n",
    "**Exemplo básico de pipeline:**\n",
    "\n",
    "```python\n",
    "[\n",
    "  { \"$match\": { \"preco\": { \"$gt\": 100 } } },\n",
    "  { \"$group\": { \"_id\": \"$nome\", \"media_avaliacoes\": { \"$avg\": \"$avaliacoes.nota\" } } }\n",
    "]\n"
   ]
  },
  {
   "cell_type": "markdown",
   "id": "5d048de4",
   "metadata": {},
   "source": [
    "### 🔩 Principais Estágios do Aggregation\n",
    "\n",
    "| Estágio    | Função                                                                 |\n",
    "|------------|------------------------------------------------------------------------|\n",
    "| `$match`   | Filtra os documentos (como WHERE)                                       |\n",
    "| `$group`   | Agrupa os dados e permite usar operadores como `$sum`, `$avg`, etc.    |\n",
    "| `$project` | Seleciona e transforma campos                                           |\n",
    "| `$sort`    | Ordena os documentos (1 = ascendente, -1 = descendente)                |\n",
    "| `$limit`   | Limita o número de resultados                                           |\n",
    "| `$unwind`  | Desestrutura arrays para processamento item a item                     |\n",
    "| `$count`   | Conta o total de documentos                                             |\n",
    "\n",
    "---\n",
    "\n",
    "### 🎯 Quando usar?\n",
    "\n",
    "- Para relatórios e dashboards  \n",
    "- Para análises estatísticas de coleções  \n",
    "- Para transformar e agregar dados complexos  \n",
    "- Quando `.find()` não é suficiente para responder à pergunta de negócio"
   ]
  },
  {
   "cell_type": "markdown",
   "id": "18782650",
   "metadata": {},
   "source": [
    "## 📊 Tabela de Agregações MongoDB com `aggregate()`\n",
    "\n",
    "| Nº | Objetivo                                          | Estágio/Operação                        | Comando Resumido                                                                                                                                     |\n",
    "|----|---------------------------------------------------|-----------------------------------------|------------------------------------------------------------------------------------------------------------------------------------------------------|\n",
    "| 1  | Contar produtos por faixa de preço                | `$bucket`                               | Agrupa produtos por faixas de `preco` e conta com `$sum`                                                                                             |\n",
    "| 2  | Calcular média de preços                          | `$group` + `$avg`                       | `{ \"$group\": { \"_id\": None, \"media_preco\": { \"$avg\": \"$preco\" } } }`                                                                                |\n",
    "| 3  | Contar avaliações por cliente                     | `$unwind` + `$group` + `$sum`           | `{ \"$group\": { \"_id\": \"$avaliacoes.cliente\", \"total\": { \"$sum\": 1 } } }` após unwind em `avaliacoes`                                               |\n",
    "| 4  | Média de nota por produto                         | `$unwind` + `$group` + `$avg`           | `{ \"$group\": { \"_id\": \"$nome\", \"media\": { \"$avg\": \"$avaliacoes.nota\" } } }`                                                                         |\n",
    "| 5  | Somar estoque total                               | `$group` + `$sum`                       | `{ \"$group\": { \"_id\": None, \"estoque_total\": { \"$sum\": \"$estoque\" } } }`                                                                            |\n",
    "| 6  | Calcular campo com desconto de 10%                | `$project` + `$multiply`                | `{ \"$project\": { \"preco_com_desconto\": { \"$multiply\": [\"$preco\", 0.9] } } }`                                                                         |\n",
    "| 7  | Contar total de documentos com `$count`           | `$count`                                | `{ \"$count\": \"total_documentos\" }`                                                                                                                   |\n",
    "| 8  | Agrupar e ordenar por campo                       | `$group` + `$sort`                      | Agrupar por `categoria`, somar estoque e ordenar por `total_estoque` com `{ \"$sort\": { \"total_estoque\": -1 } }`                                     |\n",
    "| 9  | Filtrar produtos antes da agregação               | `$match` + outros estágios              | Usar `$match` para filtrar produtos com `preco > 50` antes de um `$group`, por exemplo                                                               |\n",
    "| 10 | Agrupar e limitar resultados                      | `$group` + `$limit`                     | Agrupar e exibir apenas os `3` primeiros resultados com `{ \"$limit\": 3 }`                                                                            |\n"
   ]
  },
  {
   "cell_type": "markdown",
   "id": "c8f26237",
   "metadata": {},
   "source": [
    "---\n",
    "\n",
    "### 📌 Exemplo prático"
   ]
  },
  {
   "cell_type": "code",
   "execution_count": 1,
   "id": "48c62370",
   "metadata": {},
   "outputs": [
    {
     "ename": "NameError",
     "evalue": "name 'produtos' is not defined",
     "output_type": "error",
     "traceback": [
      "\u001b[0;31m---------------------------------------------------------------------------\u001b[0m",
      "\u001b[0;31mNameError\u001b[0m                                 Traceback (most recent call last)",
      "\u001b[1;32m/Users/thiagogeneroso/Documents/FIAP - DA/Fase3 - Big data/aula4-pratica/Aula5/nosql_aula5.ipynb Célula 49\u001b[0m line \u001b[0;36m6\n\u001b[1;32m      <a href='vscode-notebook-cell:/Users/thiagogeneroso/Documents/FIAP%20-%20DA/Fase3%20-%20Big%20data/aula4-pratica/Aula5/nosql_aula5.ipynb#X66sZmlsZQ%3D%3D?line=0'>1</a>\u001b[0m pipeline \u001b[39m=\u001b[39m [\n\u001b[1;32m      <a href='vscode-notebook-cell:/Users/thiagogeneroso/Documents/FIAP%20-%20DA/Fase3%20-%20Big%20data/aula4-pratica/Aula5/nosql_aula5.ipynb#X66sZmlsZQ%3D%3D?line=1'>2</a>\u001b[0m     { \u001b[39m\"\u001b[39m\u001b[39m$match\u001b[39m\u001b[39m\"\u001b[39m: { \u001b[39m\"\u001b[39m\u001b[39mestoque\u001b[39m\u001b[39m\"\u001b[39m: { \u001b[39m\"\u001b[39m\u001b[39m$gt\u001b[39m\u001b[39m\"\u001b[39m: \u001b[39m0\u001b[39m } } },\n\u001b[1;32m      <a href='vscode-notebook-cell:/Users/thiagogeneroso/Documents/FIAP%20-%20DA/Fase3%20-%20Big%20data/aula4-pratica/Aula5/nosql_aula5.ipynb#X66sZmlsZQ%3D%3D?line=2'>3</a>\u001b[0m     { \u001b[39m\"\u001b[39m\u001b[39m$group\u001b[39m\u001b[39m\"\u001b[39m: { \u001b[39m\"\u001b[39m\u001b[39m_id\u001b[39m\u001b[39m\"\u001b[39m: \u001b[39mNone\u001b[39;00m, \u001b[39m\"\u001b[39m\u001b[39mmedia_precos\u001b[39m\u001b[39m\"\u001b[39m: { \u001b[39m\"\u001b[39m\u001b[39m$avg\u001b[39m\u001b[39m\"\u001b[39m: \u001b[39m\"\u001b[39m\u001b[39m$preco\u001b[39m\u001b[39m\"\u001b[39m } } }\n\u001b[1;32m      <a href='vscode-notebook-cell:/Users/thiagogeneroso/Documents/FIAP%20-%20DA/Fase3%20-%20Big%20data/aula4-pratica/Aula5/nosql_aula5.ipynb#X66sZmlsZQ%3D%3D?line=3'>4</a>\u001b[0m ]\n\u001b[0;32m----> <a href='vscode-notebook-cell:/Users/thiagogeneroso/Documents/FIAP%20-%20DA/Fase3%20-%20Big%20data/aula4-pratica/Aula5/nosql_aula5.ipynb#X66sZmlsZQ%3D%3D?line=5'>6</a>\u001b[0m \u001b[39mlist\u001b[39m(produtos\u001b[39m.\u001b[39maggregate(pipeline))\n",
      "\u001b[0;31mNameError\u001b[0m: name 'produtos' is not defined"
     ]
    }
   ],
   "source": [
    "pipeline = [\n",
    "    { \"$match\": { \"estoque\": { \"$gt\": 0 } } },\n",
    "    { \"$group\": { \"_id\": None, \"media_precos\": { \"$avg\": \"$preco\" } } }\n",
    "]\n",
    "\n",
    "list(produtos.aggregate(pipeline))"
   ]
  },
  {
   "cell_type": "code",
   "execution_count": null,
   "id": "f990cc8f",
   "metadata": {},
   "outputs": [],
   "source": [
    "pipeline = [\n",
    "    { \"$match\": { \"estoque\": { \"$gt\": 0 } } },\n",
    "    { \"$group\": {\n",
    "        \"_id\": \"$nome\",\n",
    "        \"media_precos\": { \"$avg\": \"$preco\" },\n",
    "        \"soma_precos\": { \"$sum\": \"$preco\" }\n",
    "    }}\n",
    "    ,{ \"$sort\": { \"soma_precos\": -1 } }  # Ordena do maior (-1) para o menor (1)\n",
    "]\n",
    "\n",
    "result = list(produtos.aggregate(pipeline))\n",
    "pprint(result)"
   ]
  },
  {
   "cell_type": "markdown",
   "id": "16855e9c",
   "metadata": {},
   "source": [
    "---\n",
    "\n",
    "### ✏️ Update – Atualização de documento"
   ]
  },
  {
   "cell_type": "markdown",
   "id": "7d073816",
   "metadata": {},
   "source": [
    "📌 Exemplo 1 – Atualizar um campo com `$set`"
   ]
  },
  {
   "cell_type": "code",
   "execution_count": null,
   "id": "caa8de40",
   "metadata": {},
   "outputs": [],
   "source": [
    "# Antes da atualização\n",
    "print(\"Antes da atualização:\")\n",
    "print(\" \")\n",
    "pprint(list(produtos.find({ \"nome\": \"Boné\" })))\n",
    "\n",
    "# Atualização\n",
    "res1 = produtos.update_one(\n",
    "    { \"nome\": \"Boné\" }, \n",
    "    { \"$set\": { \"preco\": 40 } }\n",
    ")\n",
    "\n",
    "# Resultado\n",
    "print(\" \")\n",
    "print(f\"Documentos modificados: {res1.modified_count}\")\n",
    "print(\" \")\n",
    "print(\"Depois da atualização:\")\n",
    "print(\" \")\n",
    "pprint(list(produtos.find({ \"nome\": \"Boné\" })))\n"
   ]
  },
  {
   "cell_type": "markdown",
   "id": "5830d5a8",
   "metadata": {},
   "source": [
    "📌 Exemplo 2 – Incrementar valor com `$inc`"
   ]
  },
  {
   "cell_type": "code",
   "execution_count": null,
   "id": "f997c32e",
   "metadata": {},
   "outputs": [],
   "source": [
    "# Antes da atualização\n",
    "print(\"Antes do incremento:\")\n",
    "pprint(list(produtos.find({ \"nome\": \"Camiseta\" })))\n",
    "\n",
    "# Incrementa o estoque\n",
    "res2 = produtos.update_one(\n",
    "    { \"nome\": \"Camiseta\" },\n",
    "    { \"$inc\": { \"estoque\": 5 } }\n",
    ")\n",
    "\n",
    "# Resultado\n",
    "print(f\"Documentos modificados: {res2.modified_count}\")\n",
    "print(\"Depois do incremento:\")\n",
    "pprint(list(produtos.find({ \"nome\": \"Camiseta\" })))\n"
   ]
  },
  {
   "cell_type": "markdown",
   "id": "752c5276",
   "metadata": {},
   "source": [
    "📌 Exemplo 3 – Atualizar múltiplos documentos com `update_many`"
   ]
  },
  {
   "cell_type": "code",
   "execution_count": null,
   "id": "4423704a",
   "metadata": {},
   "outputs": [],
   "source": [
    "# Antes da atualização\n",
    "print(\"Antes da atualização em lote:\")\n",
    "pprint(list(produtos.find({ \"preco\": { \"$gt\": 150 } })))\n",
    "\n",
    "# Atualiza em lote\n",
    "res3 = produtos.update_many(\n",
    "    { \"preco\": { \"$gt\": 150 } },\n",
    "    { \"$set\": { \"estoque\": 0 } }\n",
    ")\n",
    "\n",
    "# Resultado\n",
    "print(f\"Documentos modificados: {res3.modified_count}\")\n",
    "print(\"Depois da atualização em lote:\")\n",
    "pprint(list(produtos.find({ \"preco\": { \"$gt\": 150 } })))\n"
   ]
  },
  {
   "cell_type": "markdown",
   "id": "949afd96",
   "metadata": {},
   "source": [
    "---\n",
    "\n",
    "### ✅ Conclusão\n",
    "\n",
    "- **update_one()**: altera apenas o **primeiro documento** que atende ao filtro.\n",
    "\n",
    "- **update_many()**: altera **todos os documentos** que atendem ao filtro.\n",
    "\n",
    "- **$set**: define um **novo valor** para um campo específico.  \n",
    "  Exemplo: `{ \"$set\": { \"preco\": 49.9 } }`\n",
    "\n",
    "- **$inc**: **incrementa ou decrementa** numericamente o valor de um campo.  \n",
    "  Exemplo: `{ \"$inc\": { \"estoque\": 5 } }`\n",
    "\n",
    "- **.modified_count**: retorna o **número de documentos realmente alterados** pela operação.\n"
   ]
  },
  {
   "cell_type": "markdown",
   "id": "de7e4e4d",
   "metadata": {},
   "source": [
    "---\n",
    "\n",
    "### ❌ Delete – Remoção de documento\n"
   ]
  },
  {
   "cell_type": "markdown",
   "id": "f2725a13",
   "metadata": {},
   "source": [
    "📌 Exemplo 1 – `delete_one()`"
   ]
  },
  {
   "cell_type": "code",
   "execution_count": null,
   "id": "e6945f26",
   "metadata": {},
   "outputs": [],
   "source": [
    "# Remove apenas o primeiro produto com nome \"Camiseta\"\n",
    "resultado = produtos.delete_one({ \"nome\": \"Camiseta\" })\n",
    "print(\"Removidos:\", resultado.deleted_count)\n"
   ]
  },
  {
   "cell_type": "markdown",
   "id": "2a615130",
   "metadata": {},
   "source": [
    "📌 Exemplo 2 – `delete_many()` com filtro"
   ]
  },
  {
   "cell_type": "code",
   "execution_count": null,
   "id": "ef304beb",
   "metadata": {},
   "outputs": [],
   "source": [
    "# Remove todos os produtos com estoque igual a 0\n",
    "resultado = produtos.delete_many({ \"estoque\": 0 })\n",
    "print(\"Removidos:\", resultado.deleted_count)"
   ]
  },
  {
   "cell_type": "markdown",
   "id": "9a0e6464",
   "metadata": {},
   "source": [
    "📌 **Exemplo 3 – `delete_many()` sem filtro (⚠️ cuidado!)**"
   ]
  },
  {
   "cell_type": "code",
   "execution_count": null,
   "id": "806ea126",
   "metadata": {},
   "outputs": [],
   "source": [
    "# Remove todos os documentos da coleção\n",
    "resultado = produtos.delete_many({})\n",
    "print(\"Removidos:\", resultado.deleted_count)"
   ]
  },
  {
   "cell_type": "markdown",
   "id": "d9882cec",
   "metadata": {},
   "source": [
    "🔍 **Explicação:**\n",
    "\n",
    "Esse comando remove **todos os documentos** da coleção `produtos`.\n",
    "\n",
    "É equivalente a um **TRUNCATE** em SQL.\n",
    "\n",
    "⚠️ **Use com muita cautela**, pois **não há como desfazer** essa operação sem backup.\n",
    "\n",
    "🧠 **Dica**:  \n",
    "Sempre revise o filtro antes de executar um `delete_many({})`.  \n",
    "Ideal para **testes locais**, **reinicializações controladas** ou **reset de dados simulados**.\n"
   ]
  },
  {
   "cell_type": "markdown",
   "id": "4dddbcdd",
   "metadata": {},
   "source": [
    "### ✅ Explicações Finais sobre Delete\n",
    "\n",
    "- **delete_one()**: remove apenas **o primeiro documento** que atende ao filtro.\n",
    "\n",
    "- **delete_many()**: remove **todos os documentos** que atendem ao filtro.\n",
    "\n",
    "- **Filtro**: define **quais documentos** serão removidos.  \n",
    "  Exemplo: `{ \"nome\": \"Camiseta\" }` ou `{ \"estoque\": 0 }`\n",
    "\n",
    "- **{} vazio**: se usado como filtro, remove **todos os documentos da coleção**.  \n",
    "  ⚠️ Use com cautela!\n",
    "\n",
    "- **.deleted_count**: retorna o **número de documentos efetivamente removidos**.\n"
   ]
  },
  {
   "cell_type": "markdown",
   "id": "cc7a3d15",
   "metadata": {},
   "source": [
    "---\n",
    "\n",
    "## 2. 🔑 Redis – Armazenamento em Chave-Valor de Alta Performance\n",
    "\n",
    "O **Redis** (Remote Dictionary Server) é um banco de dados NoSQL do tipo **chave-valor** (*key-value*), extremamente rápido e leve, que armazena os dados em **memória RAM**.\n",
    "\n",
    "Ele é amplamente utilizado em aplicações que exigem **baixa latência**, como:\n",
    "\n",
    "- 🔐 **Armazenamento de sessões de usuários**\n",
    "- ⚡ **Cache de dados dinâmicos**\n",
    "- ⏱️ **Filas de tarefas e mensagens**\n",
    "- 📊 **Contadores e rankings em tempo real**\n",
    "\n",
    "---\n",
    "\n",
    "### ✅ Características do Redis\n",
    "\n",
    "- Tudo em memória → **respostas em milissegundos**\n",
    "- Suporte a diversos tipos de dados: `strings`, `hashes`, `listas`, `sets`, `sorted sets`, entre outros\n",
    "- Operações **atômicas** e simples de usar\n",
    "- **Persistência opcional**: pode gravar no disco se desejado\n",
    "- Suporte a **pub/sub** (publicação e assinatura de mensagens)\n",
    "\n",
    "---\n",
    "\n",
    "## 🧪 `fakeredis` – Simulando Redis com Python\n",
    "\n",
    "A biblioteca `fakeredis` permite **simular localmente** um servidor Redis diretamente no Python, **sem necessidade de instalar ou subir o Redis real**.\n",
    "\n",
    "Ela é ideal para:\n",
    "\n",
    "- 🧪 **Testes unitários** sem dependência de infraestrutura\n",
    "- 💻 **Prototipagem em notebooks**\n",
    "- 🎓 **Ambientes educacionais e treinamentos**\n",
    "\n",
    "Internamente, o `fakeredis` usa estruturas de dados do Python (`dict`, `list`, `set`) para reproduzir o comportamento real do Redis com a mesma API do pacote `redis-py`.\n",
    "\n"
   ]
  },
  {
   "cell_type": "markdown",
   "metadata": {},
   "source": [
    "### 🎯 Quando usar Redis na prática?\n",
    "\n",
    "- 🌐 **Web apps**: guardar sessão de login (ex: Flask, Django)\n",
    "- 🛒 **E-commerce**: cache de preços e disponibilidade de produtos\n",
    "- 📈 **Analytics**: contadores de visitas por página ou acessos\n",
    "- ⚙️ **Backends escaláveis**: gerenciamento de filas de eventos (ex: envio de e-mails, notificações)\n"
   ]
  },
  {
   "cell_type": "markdown",
   "id": "ec05fae5",
   "metadata": {},
   "source": [
    "### ✅ Como instalar"
   ]
  },
  {
   "cell_type": "code",
   "execution_count": null,
   "metadata": {},
   "outputs": [],
   "source": [
    "%pip install fakeredis"
   ]
  },
  {
   "cell_type": "markdown",
   "metadata": {},
   "source": [
    "## 🔑 Principais Tipos de Dados e Operadores do Redis (via fakeredis)\n",
    "\n",
    "## 📦 1. Strings (Texto ou Números Simples)\n",
    "\n",
    "| Comando      | Descrição                                                | Exemplo                          |\n",
    "|--------------|----------------------------------------------------------|----------------------------------|\n",
    "| `SET`        | Define o valor de uma chave                              | `SET user:1 \"João\"`             |\n",
    "| `GET`        | Retorna o valor da chave                                 | `GET user:1`                    |\n",
    "| `INCR`       | Incrementa um valor numérico armazenado como string      | `INCR contador`                |\n",
    "| `DECR`       | Decrementa o valor numérico                              | `DECR contador`                |\n",
    "| `SETEX`      | Define valor com expiração                               | `SETEX sessao 60 token_abc`    |\n",
    "| `EXPIRE`     | Define TTL para uma chave já existente                   | `EXPIRE contador 30`           |\n",
    "| `TTL`        | Mostra tempo restante de expiração                       | `TTL sessao`                    |\n",
    "\n",
    "---\n",
    "\n",
    "## 🔢 2. Listas (Filas)\n",
    "\n",
    "| Comando      | Descrição                                                | Exemplo                          |\n",
    "|--------------|----------------------------------------------------------|----------------------------------|\n",
    "| `LPUSH`      | Adiciona ao início da lista                              | `LPUSH fila tarefa1`            |\n",
    "| `RPUSH`      | Adiciona ao fim da lista                                 | `RPUSH fila tarefa2`            |\n",
    "| `LPOP`       | Remove o primeiro elemento                               | `LPOP fila`                     |\n",
    "| `RPOP`       | Remove o último elemento                                 | `RPOP fila`                     |\n",
    "| `LRANGE`     | Retorna um intervalo da lista                            | `LRANGE fila 0 -1`              |\n",
    "| `LLEN`       | Tamanho da lista                                         | `LLEN fila`                     |\n",
    "\n",
    "---\n",
    "\n",
    "## 🧩 3. Hashes (Mapas de chave-valor)\n",
    "\n",
    "| Comando      | Descrição                                                | Exemplo                          |\n",
    "|--------------|----------------------------------------------------------|----------------------------------|\n",
    "| `HSET`       | Define um campo e valor em um hash                       | `HSET produto:1 nome \"Camisa\"`  |\n",
    "| `HGET`       | Retorna o valor de um campo específico                   | `HGET produto:1 nome`           |\n",
    "| `HGETALL`    | Retorna todos os campos de um hash                       | `HGETALL produto:1`             |\n",
    "| `HDEL`       | Remove um campo do hash                                  | `HDEL produto:1 nome`           |\n",
    "\n",
    "---\n",
    "\n",
    "## 🎯 4. Sets (Conjuntos Únicos)\n",
    "\n",
    "| Comando      | Descrição                                                | Exemplo                          |\n",
    "|--------------|----------------------------------------------------------|----------------------------------|\n",
    "| `SADD`       | Adiciona um elemento ao set                              | `SADD usuarios \"João\"`          |\n",
    "| `SREM`       | Remove um elemento                                       | `SREM usuarios \"João\"`          |\n",
    "| `SMEMBERS`   | Lista todos os membros                                   | `SMEMBERS usuarios`             |\n",
    "| `SISMEMBER`  | Verifica se um valor está presente                       | `SISMEMBER usuarios \"João\"`     |\n",
    "\n",
    "---\n",
    "\n",
    "## 🛠️ Outros comandos úteis\n",
    "\n",
    "| Comando      | Descrição                                                |\n",
    "|--------------|----------------------------------------------------------|\n",
    "| `DEL`        | Remove uma ou mais chaves                                |\n",
    "| `EXISTS`     | Verifica se a chave existe                               |\n",
    "| `FLUSHALL`   | Apaga todo o banco (simulado em `fakeredis`)            |\n",
    "| `TYPE`       | Retorna o tipo da chave (`string`, `list`, `set`, etc.) |\n",
    "\n",
    "---\n",
    "\n",
    "## 💡 Dicas para Aulas com `fakeredis`\n",
    "\n",
    "- Ideal para simular **cache**, **filas**, **sessões** e **dados temporários**.\n",
    "- Permite testar comandos sem precisar subir o Redis.\n",
    "- Ótimo para explicar conceitos de chave-valor, expiração e estruturas simples.\n",
    "\n",
    "---\n",
    "\n",
    "## ⚠️ Limitações\n",
    "\n",
    "- `fakeredis` é apenas para uso local e testes.\n",
    "- Não simula perfeitamente todos os comportamentos de Redis real (ex: persistência, pub/sub).\n"
   ]
  },
  {
   "cell_type": "markdown",
   "id": "7d23130d",
   "metadata": {},
   "source": [
    "---\n",
    "\n",
    "## 🧪 Exemplos práticos dos principais tipos de dados do Redis\n",
    "\n",
    "O Redis suporta diversos tipos nativos. Abaixo estão exemplos reais de uso com `fakeredis` ou `redis-py`:\n"
   ]
  },
  {
   "cell_type": "code",
   "execution_count": null,
   "metadata": {},
   "outputs": [],
   "source": [
    "import fakeredis\n",
    "\n",
    "# Cria uma instância Redis fake\n",
    "redis = fakeredis.FakeRedis()"
   ]
  },
  {
   "cell_type": "markdown",
   "metadata": {},
   "source": [
    "---\n",
    "\n",
    "### 1️⃣ `String` – Armazenar valores simples (ex: tokens, contadores)"
   ]
  },
  {
   "cell_type": "code",
   "execution_count": null,
   "metadata": {},
   "outputs": [],
   "source": [
    "redis.set(\"token:usuario123\", \"abc123xyz\")\n",
    "print(redis.get(\"token:usuario123\").decode()) # Retorna o valor do token como string"
   ]
  },
  {
   "cell_type": "markdown",
   "metadata": {},
   "source": [
    "As strings são retornadas como bytes, por isso usamos .decode()."
   ]
  },
  {
   "cell_type": "markdown",
   "metadata": {},
   "source": [
    "### 2️⃣ `Hash` – Estrutura semelhante a um dicionário (ideal para representar objetos)\n",
    "\n",
    "Hashes são ideais para armazenar **estruturas de dados associativas**, como objetos JSON ou dicionários Python. São amplamente usados para representar **entidades com múltiplos atributos**, como produtos, usuários ou configurações.\n",
    "\n",
    "#### 🛒 Exemplo – Produto"
   ]
  },
  {
   "cell_type": "code",
   "execution_count": null,
   "metadata": {},
   "outputs": [],
   "source": [
    "redis.hset(\"produto:100\", mapping={\"nome\": \"Tênis\", \"preco\": \"199.90\"})\n",
    "resultado = redis.hgetall(\"produto:100\")\n",
    "\n",
    "# 🔍 Visualizar com decodificação\n",
    "pprint({k.decode(): v.decode() for k, v in resultado.items()})\n"
   ]
  },
  {
   "cell_type": "markdown",
   "metadata": {},
   "source": [
    "Como hgetall() retorna um dicionário de bytes, usamos .decode() em cada chave e valor."
   ]
  },
  {
   "cell_type": "markdown",
   "metadata": {},
   "source": [
    "### 3️⃣ `List` – Lista ordenada (ideal para filas e logs)\n",
    "\n",
    "As listas do Redis são estruturas **ordenadas** que armazenam elementos na ordem de inserção. Elas funcionam como **filas** ou **pilhas**, dependendo dos comandos utilizados.\n",
    "\n",
    "São amplamente utilizadas em:\n",
    "\n",
    "- 📬 **Filas de envio de e-mails**\n",
    "- 📝 **Logs de atividades**\n",
    "- 🔄 **Filas de tarefas para workers assíncronos**\n",
    "\n",
    "---\n",
    "\n",
    "### 📌 Como controlar o fluxo:\n",
    "\n",
    "- ✅ `rpush` + `lpop` → Comportamento de **FIFO** (First-In, First-Out)  \n",
    "  🔄 Útil para **filas**, onde o **primeiro a entrar é o primeiro a sair**.\n",
    "\n",
    "- ✅ `rpush` + `rpop` → Comportamento de **LIFO** (Last-In, First-Out)  \n",
    "  🔁 Útil para **pilhas**, onde o **último a entrar é o primeiro a sair**.\n",
    "\n",
    "---\n",
    "\n",
    "### 🧠 Dica prática:\n",
    "\n",
    "As **Redis Lists** são ideais para **processamento assíncrono**, como em:\n",
    "\n",
    "- ✅ Filas de tarefas (ex: envio de e-mails, notificações)\n",
    "- ✅ Sistemas de mensageria\n",
    "- ✅ Jobs em background\n",
    "- ✅ Orquestração de microserviços\n",
    "\n",
    "\n",
    "#### 📧 Exemplo – Fila de envio de e-mails:\n"
   ]
  },
  {
   "cell_type": "code",
   "execution_count": null,
   "metadata": {},
   "outputs": [],
   "source": [
    "# Adiciona elementos ao final da lista\n",
    "redis.rpush(\"fila_emails\", \"user1@email.com\", \"user2@email.com\")\n",
    "\n",
    "# Recuperando o proximo e-mail\n",
    "email = redis.lpop(\"fila_emails\")\n",
    "print(email.decode())\n"
   ]
  },
  {
   "cell_type": "markdown",
   "metadata": {},
   "source": [
    "### 4️⃣ `Set` – Conjunto não ordenado e sem duplicatas (ideal para tags, seguidores)\n",
    "\n",
    "Os conjuntos (`sets`) no Redis são estruturas que **não permitem elementos duplicados** e **não possuem ordem garantida**. Eles são ideais para:\n",
    "\n",
    "- 👥 **Listas de seguidores**\n",
    "- 🏷️ **Tags de produtos**\n",
    "- ✅ **Controle de presença**\n",
    "\n",
    "#### 👤 Exemplo – Seguidores de um usuário:\n"
   ]
  },
  {
   "cell_type": "code",
   "execution_count": null,
   "metadata": {},
   "outputs": [],
   "source": [
    "redis.keys(\"*\")"
   ]
  },
  {
   "cell_type": "code",
   "execution_count": null,
   "metadata": {},
   "outputs": [],
   "source": [
    "redis.sadd(\"seguidores:ana\", \"bruno\", \"carlos\", \"daniela\")"
   ]
  },
  {
   "cell_type": "code",
   "execution_count": null,
   "metadata": {},
   "outputs": [],
   "source": [
    "seguidores = redis.smembers(\"seguidores:ana\")\n",
    "print({item.decode() for item in seguidores})"
   ]
  },
  {
   "cell_type": "markdown",
   "metadata": {},
   "source": [
    "### 🧠 Dica prática: Entendendo melhor os `Sets` no Redis\n",
    "\n",
    "Os `sets` no Redis funcionam como **conjuntos matemáticos**: **não permitem valores duplicados** e **não têm ordem definida**.\n",
    "\n",
    "---\n",
    "\n",
    "#### ✅ Garantem **unicidade automática**\n",
    "\n",
    "Ao adicionar um item com `sadd`, se ele já existir no conjunto, ele **não será duplicado**. Isso torna os `sets` ideais para:\n",
    "\n",
    "- Controle de **tags únicas**\n",
    "- Listas de **seguidores** (sem repetir)\n",
    "- Registro de **presenças ou votos únicos**\n"
   ]
  },
  {
   "cell_type": "code",
   "execution_count": null,
   "metadata": {},
   "outputs": [],
   "source": [
    "redis.sadd(\"visitantes\", \"ana\", \"bruno\", \"ana\")  # 'ana' será inserida apenas uma vez"
   ]
  },
  {
   "cell_type": "markdown",
   "metadata": {},
   "source": [
    "### 💡 Exemplo funcional:"
   ]
  },
  {
   "cell_type": "code",
   "execution_count": null,
   "metadata": {},
   "outputs": [],
   "source": [
    "redis.flushdb()  # (opcional) limpa tudo\n",
    "\n",
    "# Criando os conjuntos corretamente\n",
    "redis.sadd(\"seguidores:ana\", \"bruno\", \"carla\", \"daniel\")\n",
    "redis.sadd(\"seguidores:bruno\", \"daniel\", \"erica\")"
   ]
  },
  {
   "cell_type": "markdown",
   "metadata": {},
   "source": [
    "### 🔁 Operações de conjunto  \n",
    "Redis permite fazer operações matemáticas entre dois ou mais conjuntos, assim como na teoria dos conjuntos:\n",
    "\n",
    "### 🔗 `sinter` → Interseção  \n",
    "Retorna os elementos comuns entre dois conjuntos.\n"
   ]
  },
  {
   "cell_type": "code",
   "execution_count": null,
   "metadata": {},
   "outputs": [],
   "source": [
    "# Verifica se 'bruno' é um seguidor de 'ana'\n",
    "redis.sinter(\"seguidores:ana\", \"seguidores:bruno\")\n"
   ]
  },
  {
   "cell_type": "markdown",
   "metadata": {},
   "source": [
    "### ➕ `sunion` → União  \n",
    "Retorna todos os elementos distintos presentes em qualquer um dos conjuntos.\n"
   ]
  },
  {
   "cell_type": "code",
   "execution_count": null,
   "metadata": {},
   "outputs": [],
   "source": [
    "# União dos dois conjuntos\n",
    "resultado = redis.sunion(\"seguidores:ana\", \"seguidores:bruno\")\n",
    "print({x.decode() for x in resultado})  # {'bruno', 'carla', 'daniel', 'erica'}"
   ]
  },
  {
   "cell_type": "markdown",
   "metadata": {},
   "source": [
    "### ➖ `sdiff` → Diferença  \n",
    "Retorna os elementos que estão em um conjunto, mas não no outro.\n"
   ]
  },
  {
   "cell_type": "code",
   "execution_count": null,
   "metadata": {},
   "outputs": [],
   "source": [
    "redis.sdiff(\"seguidores:ana\", \"seguidores:bruno\")"
   ]
  },
  {
   "cell_type": "markdown",
   "metadata": {},
   "source": [
    "### 5️⃣ Sorted Set – Conjunto Ordenado por Pontuação (Ideal para Rankings)\n",
    "\n",
    "Os **Sorted Sets** combinam o comportamento dos conjuntos com uma pontuação numérica.  \n",
    "Cada elemento tem um **score** que define sua **posição ordenada**.\n",
    "\n",
    "#### 📌 Ideais para:\n",
    "- 🏆 Rankings de jogos  \n",
    "- 📈 Top produtos, top acessos  \n",
    "- 🎯 Sistemas de recomendação  \n",
    "\n",
    "---\n",
    "\n",
    "### 🕹️ Exemplo – Ranking de um Game\n",
    "\n"
   ]
  },
  {
   "cell_type": "code",
   "execution_count": null,
   "metadata": {},
   "outputs": [],
   "source": [
    "# Inserindo jogadores e suas pontuações\n",
    "redis.zadd(\"ranking:game\", {\n",
    "    \"ana\": 1500,\n",
    "    \"bruno\": 2200,\n",
    "    \"carlos\": 1800\n",
    "})"
   ]
  },
  {
   "cell_type": "markdown",
   "metadata": {},
   "source": [
    "🔍 Visualizando o ranking"
   ]
  },
  {
   "cell_type": "code",
   "execution_count": null,
   "metadata": {},
   "outputs": [],
   "source": [
    "ranking = redis.zrevrange(\"ranking:game\", 0, 2, withscores=True)\n",
    "print([(nome.decode(), score) for nome, score in ranking])\n"
   ]
  },
  {
   "cell_type": "markdown",
   "metadata": {},
   "source": [
    "### 🧠 Dica prática\n",
    "\n",
    "- A **pontuação** pode ser usada para representar: nível, pontos, relevância, engajamento etc.\n",
    "- O comando `zadd` **atualiza automaticamente** a pontuação de um membro existente.\n",
    "- Consultas como `zrange`, `zrevrange`, `zrank` permitem acesso rápido aos **top-N elementos**.\n"
   ]
  },
  {
   "cell_type": "markdown",
   "metadata": {},
   "source": [
    "### 🔍 Exemplos de Consultas com Sorted Set (Redis)\n",
    "\n",
    "Após armazenar elementos em um `Sorted Set` com `ZADD`, você pode consultar os **top-N elementos** com comandos específicos.\n",
    "\n",
    "---\n",
    "\n",
    "#### 📊 `ZRANGE` – Lista ordenada do menor para o maior score\n",
    "\n",
    "🧠 Explicação:\n",
    "Retorna os elementos com menor pontuação primeiro (posição 0 até 2). Ideal para verificar os últimos colocados ou menor desempenho.\n"
   ]
  },
  {
   "cell_type": "code",
   "execution_count": null,
   "metadata": {},
   "outputs": [],
   "source": [
    "# Exibe os 3 primeiros do ranking (ordem crescente de pontuação)\n",
    "redis.zrange(\"ranking:game\", 0, 2, withscores=True)"
   ]
  },
  {
   "cell_type": "markdown",
   "metadata": {},
   "source": [
    "### 📈 `ZREVRANGE` – Lista ordenada do maior para o menor score\n",
    "\n",
    "🧠 Explicação:\n",
    "Retorna os elementos com maior pontuação primeiro (posição 0 até 2). Ideal para Top-N rankings.\n"
   ]
  },
  {
   "cell_type": "code",
   "execution_count": null,
   "metadata": {},
   "outputs": [],
   "source": [
    "# Exibe os 3 primeiros do ranking (ordem decrescente)\n",
    "redis.zrevrange(\"ranking:game\", 0, 2, withscores=True)"
   ]
  },
  {
   "cell_type": "markdown",
   "metadata": {},
   "source": [
    "### 🏷️ `ZRANK` – Posição de um elemento na ordem crescente\n",
    "\n",
    "🧠 Explicação:\n",
    "Retorna a posição (rank) do elemento, começando do 0. Neste caso, 'carlos' está na segunda posição (1500 < 1800 < 2200)."
   ]
  },
  {
   "cell_type": "code",
   "execution_count": null,
   "metadata": {},
   "outputs": [],
   "source": [
    "# Verifica a posição da 'ana' no ranking (do menor para o maior)\n",
    "redis.zrank(\"ranking:game\", \"ana\")"
   ]
  },
  {
   "cell_type": "code",
   "execution_count": null,
   "metadata": {},
   "outputs": [],
   "source": [
    "# Obter os jogadores em ordem crescente com score\n",
    "jogadores = redis.zrange(\"ranking:game\", 0, -1, withscores=True)\n",
    "\n",
    "# Exibir rank (ZRANK), nome e score\n",
    "print(\"🔢 Ordem por ZRANGE (crescente):\")\n",
    "print(f\"{'Rank':<5} {'Jogador':<10} {'Score'}\")\n",
    "\n",
    "for nome, score in jogadores:\n",
    "    jogador = nome.decode()\n",
    "    rank = redis.zrank(\"ranking:game\", jogador)\n",
    "    print(f\"{rank:<5} {jogador:<10} {score}\")"
   ]
  },
  {
   "cell_type": "markdown",
   "metadata": {},
   "source": [
    "### 🔁 `ZREVRANK` – Posição na ordem decrescente\n",
    "\n",
    "🧠 Explicação:\n",
    "Agora o ranking é invertido (maior para menor), e 'carlos' está na segunda posição a partir do topo."
   ]
  },
  {
   "cell_type": "code",
   "execution_count": null,
   "metadata": {},
   "outputs": [],
   "source": [
    "# Posição do jogador 'ana' do maior para o menor\n",
    "redis.zrevrank(\"ranking:game\", \"ana\")"
   ]
  },
  {
   "cell_type": "code",
   "execution_count": null,
   "metadata": {},
   "outputs": [],
   "source": [
    "# Obter os jogadores em ordem decrescente com score\n",
    "jogadores = redis.zrevrange(\"ranking:game\", 0, -1, withscores=True)\n",
    "\n",
    "# Exibir rank (ZREVRANK), nome e score\n",
    "print(\"🔁 Ordem por ZREVRANGE (decrescente):\")\n",
    "print(f\"{'Rank':<5} {'Jogador':<10} {'Score'}\")\n",
    "\n",
    "for nome, score in jogadores:\n",
    "    jogador = nome.decode()\n",
    "    rank = redis.zrevrank(\"ranking:game\", jogador)\n",
    "    print(f\"{rank:<5} {jogador:<10} {score}\")\n"
   ]
  },
  {
   "cell_type": "markdown",
   "id": "19bc672d",
   "metadata": {},
   "source": [
    "---\n",
    "\n",
    "## 3.  🗂️ Introdução ao Cassandra (via Astra DB)\n",
    "\n",
    "## 🚀 O que é o Cassandra?\n",
    "\n",
    "O **Apache Cassandra** é um banco de dados NoSQL altamente escalável e distribuído, projetado para lidar com grandes volumes de dados em tempo real, com alta disponibilidade, tolerância a falhas e sem ponto único de falha.\n",
    "\n",
    "### 🎯 Quando usar Cassandra?\n",
    "\n",
    "- Aplicações que exigem **escalabilidade horizontal massiva**\n",
    "- Casos de uso com **alta taxa de escrita e leitura rápida por chave**\n",
    "- Ambientes distribuídos geograficamente (ex: apps globais)\n",
    "- Armazenamento de eventos, logs, sensores IoT, e-commerce, etc.\n",
    "\n",
    "### 🌩️ Astra DB\n",
    "\n",
    "A **Astra DB**, da DataStax, é uma versão gerenciada do Cassandra na nuvem. Ela elimina a complexidade de instalação, escalonamento e manutenção, permitindo usar Cassandra via APIs e drivers padrão.\n",
    "\n",
    "---\n",
    "\n"
   ]
  },
  {
   "cell_type": "markdown",
   "metadata": {},
   "source": [
    "# 🛠️ Passo a Passo: Como Habilitar e Usar o Astra DB Studio\n",
    "\n",
    "O **Astra DB Studio** é a interface web interativa da DataStax para explorar, consultar e gerenciar seu banco de dados Cassandra na nuvem com facilidade.\n",
    "\n",
    "---\n",
    "\n",
    "## ✅ 1. Criar uma Conta na DataStax\n",
    "\n",
    "1. Acesse: [https://www.datastax.com/astra](https://www.datastax.com/astra)\n",
    "2. Clique em **Sign Up** ou **Create Account**\n",
    "3. Use seu e-mail, GitHub ou Google para autenticação\n",
    "4. Confirme o cadastro e acesse o painel do Astra DB\n",
    "\n",
    "---\n",
    "\n",
    "## ✅ 2. Criar uma Instância de Banco de Dados\n",
    "\n",
    "1. Após login, clique em **\"Create Database\"**\n",
    "2. Preencha os campos:\n",
    "   - **Database Name**: ex: `curso-nosql`\n",
    "   - **Keyspace Name**: ex: `loja`\n",
    "   - **Provider**: escolha `AWS`, `GCP` ou `Azure`\n",
    "   - **Region**: escolha uma região próxima (`us-east-1` por exemplo)\n",
    "3. Clique em **Create Database**\n",
    "4. Aguarde o status mudar para `ACTIVE`\n",
    "\n",
    "---\n",
    "\n",
    "## ✅ 3. Acessar o Astra DB Studio\n",
    "\n",
    "1. No painel do Astra DB, clique no nome do banco de dados criado\n",
    "2. Na barra lateral esquerda, clique em **\"Studio\"**\n",
    "3. O **Astra DB Studio** será aberto em nova aba com URL como:\n"
   ]
  },
  {
   "cell_type": "markdown",
   "metadata": {},
   "source": [
    "\n",
    "---\n",
    "\n",
    "## 🎯 O que dá para fazer no Studio?\n",
    "\n",
    "- Escrever consultas CQL (linguagem do Cassandra)\n",
    "- Criar tabelas e keyspaces\n",
    "- Inserir, atualizar e consultar dados\n",
    "- Visualizar o schema e os índices\n",
    "- Testar funções como `TTL`, `WRITETIME`, `now()`, `uuid()`\n",
    "\n",
    "---\n",
    "\n",
    "## 🔐 Dica: Secure Connect Bundle\n",
    "\n",
    "Para usar seu Astra DB em Python, Spark, Java ou outro cliente, baixe o **Secure Connect Bundle**:\n",
    "\n",
    "1. Vá até o painel do banco\n",
    "2. Clique em **\"Connect\"**\n",
    "3. Escolha **\"Python\"** ou outro driver\n",
    "4. Clique em **\"Download Bundle\"**\n",
    "\n",
    "O bundle contém as credenciais e certificados necessários para autenticação segura.\n",
    "\n",
    "---\n",
    "\n",
    "## 🧪 Exemplo de Teste no Studio\n",
    "\n",
    "```sql\n",
    "CREATE TABLE produtos (\n",
    "id UUID PRIMARY KEY,\n",
    "nome TEXT,\n",
    "preco DECIMAL,\n",
    "estoque INT\n",
    ");\n",
    "\n",
    "INSERT INTO produtos (id, nome, preco, estoque)\n",
    "VALUES (uuid(), 'Camiseta', 49.9, 25);\n",
    "\n",
    "SELECT * FROM produtos;\n"
   ]
  },
  {
   "cell_type": "markdown",
   "id": "df858f19",
   "metadata": {},
   "source": [
    "### ✅ Como instalar"
   ]
  },
  {
   "cell_type": "code",
   "execution_count": null,
   "metadata": {},
   "outputs": [],
   "source": [
    "%pip install cassandra-driver"
   ]
  },
  {
   "cell_type": "markdown",
   "id": "57372677",
   "metadata": {},
   "source": [
    "\n",
    "## 📋 Tabela – Principais Comandos CQL (Cassandra Query Language)\n",
    "\n",
    "| Nº | Comando CQL                                          | Descrição                                                                 |\n",
    "|----|------------------------------------------------------|---------------------------------------------------------------------------|\n",
    "| 1  | `CREATE KEYSPACE loja ...`                           | Cria um keyspace (banco de dados lógico)                                 |\n",
    "| 2  | `USE loja;`                                          | Seleciona o keyspace para as próximas operações                          |\n",
    "| 3  | `CREATE TABLE produtos (...)`                        | Cria uma tabela com chave primária                                       |\n",
    "| 4  | `INSERT INTO produtos (...) VALUES (...);`           | Insere um novo registro                                                  |\n",
    "| 5  | `SELECT * FROM produtos;`                            | Retorna todos os registros da tabela                                     |\n",
    "| 6  | `SELECT nome, preco FROM produtos WHERE id = ?;`     | Consulta por chave primária (obrigatória)                                |\n",
    "| 7  | `UPDATE produtos SET preco = 299.90 WHERE id = ?;`   | Atualiza campo de um registro (via chave primária)                       |\n",
    "| 8  | `DELETE FROM produtos WHERE id = ?;`                 | Deleta um registro                                                       |\n",
    "| 9  | `TRUNCATE produtos;`                                 | Remove todos os registros da tabela (mantém estrutura)                   |\n",
    "| 10 | `DROP TABLE produtos;`                               | Remove completamente a tabela                                            |\n",
    "| 11 | `CREATE INDEX ON produtos (nome);`                   | Cria um índice secundário para permitir filtros por `nome`               |\n",
    "| 12 | `SELECT * FROM produtos WHERE nome = 'Tênis';`       | Consulta usando índice secundário (após criar o índice)                  |\n",
    "\n"
   ]
  },
  {
   "cell_type": "markdown",
   "id": "61555063",
   "metadata": {},
   "source": [
    "### 🧪 Exemplo prático com Cassandra"
   ]
  },
  {
   "cell_type": "markdown",
   "metadata": {},
   "source": [
    "### ✅ 1. Conectar ao Astra DB\n",
    "\n",
    "```python\n",
    "from astrapy import DataAPIClient\n",
    "\n",
    "# Substitua com seu token e endpoint\n",
    "client = DataAPIClient(\"AstraCS:seu_token_aqui\")\n",
    "\n",
    "db = client.get_database_by_api_endpoint(\n",
    "  \"https://<seu-endpoint>.apps.astra.datastax.com\"\n",
    ")"
   ]
  },
  {
   "cell_type": "code",
   "execution_count": null,
   "metadata": {},
   "outputs": [],
   "source": [
    "%pip install --upgrade astrapy"
   ]
  },
  {
   "cell_type": "markdown",
   "metadata": {},
   "source": [
    "token: AstraCS:nzPydtmbLZucAZMXYcMIqRYs:9a53ae4104f0a588e39202303d27c133a377e4c6cb49883fa42a5c5e7bbcfd51"
   ]
  },
  {
   "cell_type": "code",
   "execution_count": null,
   "metadata": {},
   "outputs": [],
   "source": [
    "%pip install astrapy\n"
   ]
  },
  {
   "cell_type": "code",
   "execution_count": 72,
   "metadata": {},
   "outputs": [
    {
     "name": "stdout",
     "output_type": "stream",
     "text": [
      "Connected to Astra DB: ['movie_reviews', 'produtos']\n"
     ]
    }
   ],
   "source": [
    "from astrapy import DataAPIClient\n",
    "import uuid\n",
    "\n",
    "# Initialize the client\n",
    "client = DataAPIClient(\"AstraCS:nzPydtmbLZucAZMXYcMIqRYs:9a53ae4104f0a588e39202303d27c133a377e4c6cb49883fa42a5c5e7bbcfd51\")\n",
    "db = client.get_database_by_api_endpoint(\n",
    "  \"https://1c8f3159-ff67-4dbc-869b-d152d828002d-us-east-2.apps.astra.datastax.com\"\n",
    ")\n",
    "\n",
    "print(f\"Connected to Astra DB: {db.list_collection_names()}\")"
   ]
  },
  {
   "cell_type": "markdown",
   "metadata": {},
   "source": [
    "#### ✅ 2. Criar ou acessar a coleção produtos"
   ]
  },
  {
   "cell_type": "code",
   "execution_count": null,
   "metadata": {},
   "outputs": [],
   "source": [
    "# Cria a coleção (caso não exista)\n",
    "produtos = db.create_collection(\"produtos\")"
   ]
  },
  {
   "cell_type": "markdown",
   "metadata": {},
   "source": [
    "#### ✅ 3. Inserir um documento"
   ]
  },
  {
   "cell_type": "code",
   "execution_count": null,
   "metadata": {},
   "outputs": [],
   "source": [
    "import uuid\n",
    "\n",
    "# Insere um documento\n",
    "produtos.insert_one({\n",
    "    \"_id\": str(uuid.uuid4()),\n",
    "    \"nome\": \"Tênis Esportivo\",\n",
    "    \"preco\": 199.90,\n",
    "    \"categoria\": \"calçados\",\n",
    "    \"estoque\": 30\n",
    "})"
   ]
  },
  {
   "cell_type": "markdown",
   "metadata": {},
   "source": [
    "#### ✅ 4. Inserir vários documentos"
   ]
  },
  {
   "cell_type": "code",
   "execution_count": 73,
   "metadata": {},
   "outputs": [
    {
     "data": {
      "text/plain": [
       "CollectionInsertManyResult(inserted_ids=['a4ec0901-499a-4ed6-920c-859385b4bcc3', 'a96f8910-958c-4a47-9d03-8c9dbfa36d6b'], raw_results=...)"
      ]
     },
     "execution_count": 73,
     "metadata": {},
     "output_type": "execute_result"
    }
   ],
   "source": [
    "produtos.insert_many([\n",
    "    {\n",
    "        \"_id\": str(uuid.uuid4()),\n",
    "        \"nome\": \"Camiseta Dry Fit\",\n",
    "        \"preco\": 59.90,\n",
    "        \"categoria\": \"vestuário\",\n",
    "        \"estoque\": 50\n",
    "    },\n",
    "    {\n",
    "        \"_id\": str(uuid.uuid4()),\n",
    "        \"nome\": \"Garrafa Térmica\",\n",
    "        \"preco\": 89.90,\n",
    "        \"categoria\": \"acessórios\",\n",
    "        \"estoque\": 15\n",
    "    }\n",
    "])\n"
   ]
  },
  {
   "cell_type": "markdown",
   "metadata": {},
   "source": [
    "#### ✅ 5. Buscar todos os produtos"
   ]
  },
  {
   "cell_type": "code",
   "execution_count": 74,
   "metadata": {},
   "outputs": [
    {
     "name": "stdout",
     "output_type": "stream",
     "text": [
      "{'_id': '417fe5d9-fb13-407f-abbc-c45c9953c03d',\n",
      " 'categoria': 'calçados',\n",
      " 'estoque': 30,\n",
      " 'nome': 'Tênis Esportivo',\n",
      " 'preco': 199.9}\n",
      "{'_id': 'a96f8910-958c-4a47-9d03-8c9dbfa36d6b',\n",
      " 'categoria': 'acessórios',\n",
      " 'estoque': 15,\n",
      " 'nome': 'Garrafa Térmica',\n",
      " 'preco': 89.9}\n",
      "{'_id': 'a4ec0901-499a-4ed6-920c-859385b4bcc3',\n",
      " 'categoria': 'vestuário',\n",
      " 'estoque': 50,\n",
      " 'nome': 'Camiseta Dry Fit',\n",
      " 'preco': 59.9}\n"
     ]
    }
   ],
   "source": [
    "for doc in produtos.find():\n",
    "    pprint(doc)"
   ]
  },
  {
   "cell_type": "markdown",
   "metadata": {},
   "source": [
    "#### ✅ 6. Buscar por preço maior que R$ 60"
   ]
  },
  {
   "cell_type": "code",
   "execution_count": 77,
   "metadata": {},
   "outputs": [
    {
     "name": "stdout",
     "output_type": "stream",
     "text": [
      "{'_id': '417fe5d9-fb13-407f-abbc-c45c9953c03d',\n",
      " 'categoria': 'calçados',\n",
      " 'estoque': 30,\n",
      " 'nome': 'Tênis Esportivo',\n",
      " 'preco': 199.9}\n",
      "{'_id': 'a96f8910-958c-4a47-9d03-8c9dbfa36d6b',\n",
      " 'categoria': 'acessórios',\n",
      " 'estoque': 15,\n",
      " 'nome': 'Garrafa Térmica',\n",
      " 'preco': 89.9}\n"
     ]
    }
   ],
   "source": [
    "for doc in (produtos.find({\"preco\": {\"$gt\": 60}})):\n",
    "    pprint(doc)"
   ]
  },
  {
   "cell_type": "markdown",
   "metadata": {},
   "source": [
    "## 📋 Tabela – Principais Comandos Astra DB (Data API)\n",
    "\n",
    "| Nº | Operação              | Comando                                   | Descrição                                                                 |\n",
    "|----|------------------------|--------------------------------------------|---------------------------------------------------------------------------|\n",
    "| 1  | Inserir (1 doc)        | `insert_one({...})`                        | Insere um documento único na coleção                                     |\n",
    "| 2  | Inserir (vários docs)  | `insert_many([{...}, {...}])`              | Insere múltiplos documentos                                               |\n",
    "| 3  | Buscar todos           | `find()`                                   | Retorna todos os documentos da coleção                                   |\n",
    "| 4  | Buscar com filtro      | `find({\"campo\": valor})`                   | Retorna documentos que satisfazem a condição                             |\n",
    "| 5  | Buscar por intervalo   | `find({\"campo\": {\"$gt\": valor}})`          | Filtros com operadores (`$gt`, `$lt`, `$in`, etc.)                       |\n",
    "| 6  | Buscar único doc       | `find_one({\"campo\": valor})`               | Retorna o primeiro documento que satisfaz o filtro                       |\n",
    "| 7  | Atualizar campo        | `update_one({\"filtro\"}, {\"$set\": {...}})`  | Atualiza os campos de um documento específico                            |\n",
    "| 8  | Incrementar campo      | `update_one(..., {\"$inc\": {\"campo\": x}})`  | Incrementa (ou decrementa) um valor numérico                             |\n",
    "| 9  | Deletar doc            | `delete_one({\"campo\": valor})`             | Remove o primeiro documento que satisfaz o filtro                        |\n",
    "| 10 | Deletar vários docs    | `delete_many({\"campo\": valor})`            | Remove todos os documentos que satisfazem o filtro                       |\n",
    "| 11 | Contar todos           | `count_documents({})`                      | Retorna a quantidade total de documentos                                 |\n",
    "| 12 | Contar com filtro      | `count_documents({\"campo\": valor})`        | Retorna o total de documentos que satisfazem o filtro                    |\n"
   ]
  },
  {
   "cell_type": "markdown",
   "metadata": {},
   "source": [
    "## 🧠 Quando Usar o Cassandra – E Por Quê?\n",
    "\n",
    "O **Apache Cassandra** é um banco de dados NoSQL distribuído, projetado para **alta escalabilidade**, **alta disponibilidade** e **escrita massiva em tempo real**, sem ponto único de falha.\n",
    "\n",
    "---\n",
    "\n",
    "### ✅ Quando Usar Cassandra\n",
    "\n",
    "| Cenário                                               | Por que Cassandra é ideal?                                                                 |\n",
    "|--------------------------------------------------------|---------------------------------------------------------------------------------------------|\n",
    "| 🌎 Aplicações Globais com Alta Disponibilidade         | Sua arquitetura peer-to-peer permite replicação geográfica automática                      |\n",
    "| ⚡ Altas Taxas de Escrita                              | Cassandra é otimizado para ingestões rápidas e constantes em grandes volumes               |\n",
    "| 🏢 Dados distribuídos em múltiplos datacenters         | Suporta replicação entre datacenters com consistência configurável                         |\n",
    "| 💬 Aplicações em tempo real                            | Suporta leitura e escrita rápidas, ideal para logs, mensagens, sensores, etc.              |\n",
    "| 📈 Crescimento horizontal de dados                     | Escala facilmente apenas adicionando nós, sem reestruturação do cluster                    |\n",
    "| 💾 Modelos com leitura por chave primária              | Cada leitura precisa conhecer a partição — excelente para acessos diretos e específicos    |\n",
    "\n",
    "---\n",
    "\n",
    "### 🚫 Quando **evitar** Cassandra\n",
    "\n",
    "| Situação                                                | Motivo                                                                                      |\n",
    "|----------------------------------------------------------|---------------------------------------------------------------------------------------------|\n",
    "| ❌ Consultas analíticas complexas ou agregações pesadas  | Cassandra não é OLAP e não possui suporte eficiente a joins ou `GROUP BY`, `COUNT(*)`, etc.|\n",
    "| ❌ Aplicações que exigem transações multi-linha          | Cassandra não oferece transações completas como bancos relacionais                         |\n",
    "| ❌ Mudanças frequentes no esquema                        | Embora NoSQL, Cassandra requer modelagem voltada para leitura e não é tão flexível quanto MongoDB |\n",
    "\n",
    "---\n",
    "\n",
    "### 🎯 Casos Reais de Uso\n",
    "\n",
    "- **Netflix**: armazena estados de visualização e preferências de usuários globalmente\n",
    "- **Uber**: gerencia localizações, corridas e eventos com baixa latência\n",
    "- **Spotify**: armazena sessões de usuários e logs de reprodução em escala massiva\n",
    "\n",
    "---\n",
    "\n",
    "### 🧾 Resumo\n",
    "\n",
    "> Cassandra é a melhor escolha quando o **volume é massivo**, o **tempo de resposta deve ser rápido**, e a **disponibilidade não pode falhar**.  \n",
    "> Se seu sistema precisa escalar de forma **horizontal, sem comprometer performance**, Cassandra é um dos bancos mais robustos do mercado NoSQL.\n",
    "\n"
   ]
  },
  {
   "cell_type": "markdown",
   "metadata": {},
   "source": [
    "---\n",
    "\n",
    "## 4. 🧠 Grafos O que é um Grafo?\n",
    "\n",
    "Um **grafo** é uma estrutura de dados composta por **nós (ou vértices)** e **arestas (ou conexões)**. Ele representa **relações entre entidades**, sendo amplamente utilizado em cenários onde a **conexão entre elementos é tão ou mais importante que os próprios elementos**.\n",
    "\n",
    "## 📌 Conceitos-chave\n",
    "\n",
    "- **Nó (ou vértice)**: representa uma entidade (como uma pessoa, produto, local).\n",
    "- **Aresta (ou ligação)**: representa uma relação entre dois nós (ex: amizade, transação, rota).\n",
    "- **Grafo direcionado**: as conexões têm direção (ex: “segue”, “enviou”).\n",
    "- **Grafo não-direcionado**: as conexões são bidirecionais (ex: “amizade”, “parceria”).\n",
    "\n",
    "## 🧭 Exemplos de uso na vida real\n",
    "\n",
    "| Cenário               | O que são os nós?       | O que são as arestas?             |\n",
    "|-----------------------|--------------------------|-----------------------------------|\n",
    "| Rede Social           | Usuários                 | Relação de amizade ou seguidores  |\n",
    "| Google Maps           | Cidades                  | Rodovias ou rotas                 |\n",
    "| E-commerce            | Produtos ou Clientes     | Compras ou recomendações          |\n",
    "| Sistema bancário      | Contas                   | Transferências financeiras        |\n",
    "| Investigação policial | Pessoas ou empresas      | Ligações, mensagens ou transações |\n",
    "\n",
    "Grafos são muito poderosos para **descobrir padrões**, **rastrear conexões ocultas**, e **resolver problemas de caminhos e redes**.\n",
    "\n",
    "Por exemplo, com grafos é possível:\n",
    "\n",
    "- Encontrar o caminho mais curto entre dois pontos (como em rotas de GPS).\n",
    "- Identificar influenciadores em redes sociais.\n",
    "- Detectar fraudes financeiras baseadas em conexões entre contas.\n",
    "- Recomendação de amigos, produtos ou conteúdos com base em similaridade de conexões.\n",
    "\n",
    "## 🧪 Grafos vs Outros Modelos\n",
    "\n",
    "Diferente de bancos relacionais ou NoSQL tradicionais (documento, chave-valor), os **bancos de grafos** permitem navegar com eficiência por conexões, mesmo em redes altamente interligadas.\n",
    "\n",
    "Isso é especialmente útil quando a **estrutura relacional é imprevisível ou muito complexa**, o que dificultaria o uso de JOINs tradicionais.\n",
    "\n",
    "---\n",
    "\n",
    "## 🚀 Por que usar grafos?\n",
    "\n",
    "- Permite analisar **redes sociais**, **mapas**, **recomendações**, **cadeias de suprimentos**, entre outros.\n",
    "- Operações como \"amigos de amigos\", \"menor caminho\" ou \"influência\" são naturais em grafos.\n",
    "- Bancos de dados como **Neo4j**, **Amazon Neptune**, e ferramentas como **networkx** facilitam essa modelagem.\n",
    "\n",
    "---\n",
    "\n",
    "Na próxima seção, veremos como utilizar a biblioteca `networkx` em Python para simular operações comuns de bancos de grafos, como criação de nós, adição de relações, e buscas por conexões.\n",
    "\n"
   ]
  },
  {
   "cell_type": "markdown",
   "id": "d2a743d2",
   "metadata": {},
   "source": [
    "---\n",
    "\n",
    "## 🔗 `networkx` – Simulando Grafos com Python\n",
    "\n",
    "O `networkx` é uma biblioteca poderosa para representar grafos. Bancos de grafos são ideais para dados com **fortes relações**, como redes sociais, rotas logísticas e sistemas de recomendação.\n",
    "\n",
    "Ele simula o comportamento de bancos como o **Neo4j**, permitindo modelar **nós e arestas** com muita flexibilidade.\n"
   ]
  },
  {
   "cell_type": "markdown",
   "id": "e420b603",
   "metadata": {},
   "source": [
    "### ✅ Como instalar"
   ]
  },
  {
   "cell_type": "code",
   "execution_count": 78,
   "metadata": {},
   "outputs": [
    {
     "name": "stdout",
     "output_type": "stream",
     "text": [
      "Collecting networkx\n",
      "  Downloading networkx-3.5-py3-none-any.whl (2.0 MB)\n",
      "\u001b[2K     \u001b[90m━━━━━━━━━━━━━━━━━━━━━━━━━━━━━━━━━━━━━━━━\u001b[0m \u001b[32m2.0/2.0 MB\u001b[0m \u001b[31m17.5 MB/s\u001b[0m eta \u001b[36m0:00:00\u001b[0m00:01\u001b[0m00:01\u001b[0m\n",
      "\u001b[?25hInstalling collected packages: networkx\n",
      "Successfully installed networkx-3.5\n",
      "\u001b[33mWARNING: There was an error checking the latest version of pip.\u001b[0m\u001b[33m\n",
      "\u001b[0mNote: you may need to restart the kernel to use updated packages.\n"
     ]
    }
   ],
   "source": [
    "%pip install networkx"
   ]
  },
  {
   "cell_type": "markdown",
   "id": "09114af9",
   "metadata": {},
   "source": [
    "\n",
    "### 🧰 Principais comandos com `networkx`\n",
    "\n",
    "| Comando                  | Explicação                                |\n",
    "|--------------------------|-------------------------------------------|\n",
    "| `nx.Graph()`             | Cria um grafo não-direcionado             |\n",
    "| `G.add_node()`           | Adiciona um nó (entidade)                 |\n",
    "| `G.add_edge()`           | Adiciona uma conexão entre dois nós       |\n",
    "| `G.nodes()`              | Lista os nós existentes                   |\n",
    "| `G.edges()`              | Lista as arestas (conexões)               |\n",
    "| `nx.shortest_path()`     | Encontra o menor caminho entre dois nós   |\n"
   ]
  },
  {
   "cell_type": "markdown",
   "id": "50d2c98b",
   "metadata": {},
   "source": [
    "### 🧪 Exemplo prático – Rede de amizades"
   ]
  },
  {
   "cell_type": "markdown",
   "metadata": {},
   "source": [
    "### 🛠️ Importanto as bibliotecas"
   ]
  },
  {
   "cell_type": "code",
   "execution_count": 79,
   "metadata": {},
   "outputs": [],
   "source": [
    "import networkx as nx\n",
    "from pprint import pprint"
   ]
  },
  {
   "cell_type": "markdown",
   "metadata": {},
   "source": [
    "#### 📌 Criação de um Grafo Direcionado com `networkx`"
   ]
  },
  {
   "cell_type": "code",
   "execution_count": 80,
   "metadata": {},
   "outputs": [],
   "source": [
    "# Cria um grafo direcionado\n",
    "G = nx.DiGraph()"
   ]
  },
  {
   "cell_type": "markdown",
   "metadata": {},
   "source": [
    "#### 🔹 Adiciona nós (entidades/pessoas da rede)"
   ]
  },
  {
   "cell_type": "code",
   "execution_count": 81,
   "metadata": {},
   "outputs": [],
   "source": [
    "G.add_node(\"Maria\")   # Cria um nó com o nome \"Maria\"\n",
    "G.add_node(\"João\")    # Cria um nó com o nome \"João\"\n",
    "G.add_node(\"Carlos\")  # Cria um nó com o nome \"Carlos\""
   ]
  },
  {
   "cell_type": "markdown",
   "metadata": {},
   "source": [
    "#### 🔹 Adiciona arestas (ligações entre os nós com direção)"
   ]
  },
  {
   "cell_type": "code",
   "execution_count": 82,
   "metadata": {},
   "outputs": [],
   "source": [
    "G.add_edge(\"Maria\", \"João\")     # Maria segue João → cria uma seta de Maria para João\n",
    "G.add_edge(\"João\", \"Carlos\")    # João segue Carlos → cria uma seta de João para Carlos\n",
    "G.add_edge(\"Maria\", \"Carlos\")   # Maria segue Carlos → cria uma seta de Maria para Carlos"
   ]
  },
  {
   "cell_type": "markdown",
   "metadata": {},
   "source": [
    "#### 🔹 Cria uma figura com tamanho definido para exibição do grafo"
   ]
  },
  {
   "cell_type": "code",
   "execution_count": 86,
   "metadata": {},
   "outputs": [
    {
     "data": {
      "image/png": "[encoded data removed]",
      "text/plain": [
       "<Figure size 600x400 with 1 Axes>"
      ]
     },
     "metadata": {},
     "output_type": "display_data"
    }
   ],
   "source": [
    "import matplotlib.pyplot as plt\n",
    "\n",
    "# 🔹 Cria uma figura com tamanho definido para exibição do grafo\n",
    "plt.figure(figsize=(6,4))\n",
    "\n",
    "# 🔹 Desenha o grafo na tela\n",
    "nx.draw_networkx(\n",
    "    G,                     # O grafo a ser desenhado\n",
    "    with_labels=True,      # Mostra os nomes dos nós\n",
    "    node_color='lightblue',# Cor dos nós\n",
    "    arrows=True            # Habilita as setas indicando a direção das conexões\n",
    ")\n",
    "\n",
    "# 🔹 Título do gráfico\n",
    "plt.title(\"Grafo Direcionado - Relações de Seguimento\")\n",
    "\n",
    "# 🔹 Exibe o gráfico\n",
    "plt.show()"
   ]
  },
  {
   "cell_type": "markdown",
   "metadata": {},
   "source": [
    "# 📊 Quando usar Grafos?\n",
    "\n",
    "Grafos são ideais quando o **relacionamento entre os dados é tão importante quanto os próprios dados**.\n",
    "\n",
    "Use grafos quando:\n",
    "- Precisa encontrar **conexões indiretas** entre elementos (ex: amigos de amigos).\n",
    "- Precisa analisar **redes complexas**: redes sociais, logística, recomendação, fraude, etc.\n",
    "- A modelagem com tabelas relacionais ficaria **muito complexa e com muitos joins**.\n",
    "\n",
    "---\n",
    "\n",
    "# 📌 Casos de Uso Reais\n",
    "\n",
    "| Área | Exemplo de Uso |\n",
    "|------|----------------|\n",
    "| **Redes Sociais** | \"Quem segue quem\", \"amigos em comum\", \"grau de separação\" |\n",
    "| **Logística / Transporte** | Cálculo de rotas, menor caminho, entrega otimizada |\n",
    "| **Recomendações** | Produtos conectados por comportamento de usuários |\n",
    "| **Detecção de Fraudes** | Relações entre contas bancárias, transações e padrões suspeitos |\n",
    "| **Genética / Biologia** | Relações entre genes, proteínas e doenças |\n",
    "| **Cinemas / Filmes** | Ator-trabalhou-em-Filme → para recomendações ou conexões |\n",
    "\n",
    "---\n",
    "\n",
    "# 🧰 Comandos úteis em `networkx`\n",
    "\n",
    "| Comando | Explicação |\n",
    "|--------|------------|\n",
    "| `G.add_node('X')` | Adiciona um nó (vértice) |\n",
    "| `G.add_edge('A', 'B')` | Adiciona uma aresta entre A e B (direcionada se `DiGraph`) |\n",
    "| `G.nodes` | Lista todos os nós |\n",
    "| `G.edges` | Lista todas as conexões (arestas) |\n",
    "| `G.successors('X')` | Nós que recebem aresta a partir de X |\n",
    "| `G.predecessors('X')` | Nós que apontam para X |\n",
    "| `nx.shortest_path(G, 'A', 'B')` | Caminho mais curto entre A e B |\n",
    "| `nx.degree(G)` | Quantidade de conexões de cada nó |\n",
    "| `nx.closeness_centrality(G)` | Grau de \"influência\" dos nós na rede |\n",
    "| `nx.draw_networkx(G)` | Visualiza o grafo |\n",
    "\n",
    "---\n",
    "\n",
    "# 🔗 Relação com Neo4j\n",
    "\n",
    "- `networkx` simula em Python o que bancos como **Neo4j** fazem com dados persistidos.\n",
    "- Em Neo4j, os comandos são em **Cypher** (ex: `MATCH (a)-[:AMIGO]->(b)`), mas a lógica de nós e conexões é idêntica.\n",
    "- É comum usar `networkx` para:\n",
    "  - prototipar soluções de grafos localmente.\n",
    "  - treinar e visualizar pequenos conjuntos de dados.\n",
    "  - desenvolver algoritmos que depois podem ser adaptados para ambientes com **Neo4j** ou **Amazon Neptune**.\n",
    "\n",
    "---\n",
    "\n",
    "# 🔁 Comparação de Comandos: `networkx` (Python) vs. Neo4j (Cypher)\n",
    "\n",
    "| Objetivo                          | `networkx` (Python)                                   | Neo4j (Cypher)                                                   |\n",
    "|----------------------------------|-------------------------------------------------------|------------------------------------------------------------------|\n",
    "| ➕ Adicionar um nó               | `G.add_node(\"Maria\")`                                 | `CREATE (m:Pessoa {nome: 'Maria'})`                             |\n",
    "| 🔗 Criar relação (aresta)        | `G.add_edge(\"Maria\", \"João\")`                         | `MATCH (a:Pessoa {nome:'Maria'}), (b:Pessoa {nome:'João'})`<br>`CREATE (a)-[:SEGUE]->(b)` |\n",
    "| 👀 Listar nós                    | `G.nodes`                                             | `MATCH (n) RETURN n`                                            |\n",
    "| 🔍 Listar arestas                | `G.edges`                                             | `MATCH ()-[r]->() RETURN r`                                     |\n",
    "| 🔁 Sucessores (grafo direcionado)| `list(G.successors(\"Maria\"))`                         | `MATCH (m:Pessoa {nome:'Maria'})-[:SEGUE]->(s) RETURN s`        |\n",
    "| 🔁 Predecessores                 | `list(G.predecessors(\"João\"))`                        | `MATCH (p)-[:SEGUE]->(j:Pessoa {nome:'João'}) RETURN p`         |\n",
    "| 🧭 Caminho mais curto            | `nx.shortest_path(G, \"Maria\", \"Carlos\")`             | `MATCH p=shortestPath((a:Pessoa {nome:'Maria'})-[*]->(b:Pessoa {nome:'Carlos'})) RETURN p` |\n",
    "| 📊 Grau de conexão (degree)     | `G.degree(\"Maria\")`                                   | `MATCH (n:Pessoa {nome:'Maria'})-[r]-() RETURN COUNT(r)`        |\n",
    "| 🎯 Centralidade (influência)    | `nx.closeness_centrality(G)`                          | (Requer APOC ou análise via Neo4j Graph Data Science)           |\n",
    "| 📈 Visualizar grafo             | `nx.draw_networkx(G)`                                 | Visual via Neo4j Browser ou Bloom                               |\n",
    "\n",
    "---\n",
    "\n",
    "# 🧠 Dica Final\n",
    "\n",
    "Modelos baseados em grafos são **mais flexíveis** para representar conexões complexas.\n",
    "\n",
    "> Se você precisa **entender relações**, **descobrir padrões** ou **otimizar caminhos**, pense em usar grafos.\n",
    "\n"
   ]
  },
  {
   "cell_type": "markdown",
   "metadata": {},
   "source": [
    "## 🕵️‍♀️ Atividade: Detecção de Fraudes com Grafos\n",
    "\n",
    "### 🧠 Cenário\n",
    "Você trabalha em uma instituição financeira que deseja detectar possíveis fraudes bancárias. Para isso, você analisará **relações entre contas bancárias e transações** usando **grafos direcionados**.\n",
    "\n",
    "Cada **nó** representa uma **conta bancária**.  \n",
    "Cada **aresta** representa uma **transação**, com direção da origem para o destino.\n",
    "\n",
    "---\n",
    "\n",
    "### 📊 Objetivo da atividade\n",
    "- Modelar um grafo com contas e transações\n",
    "- Detectar **caminhos incomuns** entre contas\n",
    "- Identificar **contas intermediárias suspeitas**\n",
    "- Simular um caso de **lavagem de dinheiro**\n",
    "\n"
   ]
  },
  {
   "cell_type": "markdown",
   "metadata": {},
   "source": [
    "---\n",
    "\n",
    "### 📊 Gráfico 1 – Transações Suspeitas (vermelho)\n"
   ]
  },
  {
   "cell_type": "code",
   "execution_count": 90,
   "metadata": {},
   "outputs": [
    {
     "data": {
      "image/png": "[encoded data removed]",
      "text/plain": [
       "<Figure size 800x500 with 1 Axes>"
      ]
     },
     "metadata": {},
     "output_type": "display_data"
    }
   ],
   "source": [
    "import networkx as nx\n",
    "import matplotlib.pyplot as plt\n",
    "\n",
    "# Cria o grafo direcionado\n",
    "G1 = nx.DiGraph()\n",
    "\n",
    "# Nós\n",
    "contas = [\"A001\", \"A002\", \"A003\", \"A004\", \"A005\", \"A006\"]\n",
    "G1.add_nodes_from(contas)\n",
    "\n",
    "# Arestas suspeitas\n",
    "G1.add_edge(\"A001\", \"A002\", valor=5000)\n",
    "G1.add_edge(\"A002\", \"A003\", valor=4800)\n",
    "G1.add_edge(\"A003\", \"A004\", valor=4700)\n",
    "G1.add_edge(\"A004\", \"A005\", valor=4600)\n",
    "G1.add_edge(\"A005\", \"A006\", valor=4500)\n",
    "\n",
    "# Plot\n",
    "plt.figure(figsize=(8, 5))\n",
    "pos = nx.spring_layout(G1, seed=42)\n",
    "nx.draw(G1, pos, with_labels=True, node_color='lightyellow', edge_color='red', arrows=True)\n",
    "nx.draw_networkx_edge_labels(G1, pos, edge_labels=nx.get_edge_attributes(G1, 'valor'))\n",
    "plt.title(\"🚨 Fluxo de Transações Suspeitas\")\n",
    "plt.show()\n"
   ]
  },
  {
   "cell_type": "markdown",
   "metadata": {},
   "source": [
    "- Representa um fluxo **linear e encadeado** de transações:  \n",
    "  `A001 → A002 → A003 → A004 → A005 → A006`\n",
    "\n",
    "- Os valores são **altos e decrescentes**:  \n",
    "  `5000 → 4800 → 4700 → 4600 → 4500`\n",
    "\n",
    "#### 🔍 Interpretação:\n",
    "- Esse padrão é típico de **lavagem de dinheiro**, onde o valor original é diluído em várias contas.\n",
    "- A estrutura **sem ramificações** é um indício de automação ou fraude coordenada.\n",
    "- A conta **A006**, no final da cadeia, pode representar um **\"laranja\"**.\n",
    "- A ausência de caminhos de retorno sugere **movimentação unidirecional**, típica de atividades ilícitas.\n"
   ]
  },
  {
   "cell_type": "markdown",
   "metadata": {},
   "source": [
    "### 📊 Gráfico 2 – Transações Legítimas (verde)\n"
   ]
  },
  {
   "cell_type": "code",
   "execution_count": 88,
   "metadata": {},
   "outputs": [],
   "source": [
    "# Adiciona arestas (transações suspeitas)\n",
    "G.add_edge(\"A001\", \"A002\", valor=1000)"
   ]
  },
  {
   "cell_type": "code",
   "execution_count": 94,
   "metadata": {},
   "outputs": [
    {
     "data": {
      "image/png": "[encoded data removed]",
      "text/plain": [
       "<Figure size 800x500 with 1 Axes>"
      ]
     },
     "metadata": {},
     "output_type": "display_data"
    }
   ],
   "source": [
    "import networkx as nx\n",
    "import matplotlib.pyplot as plt\n",
    "\n",
    "# Cria o grafo\n",
    "G2 = nx.DiGraph()\n",
    "\n",
    "# Nós envolvidos em transações legítimas\n",
    "G2.add_nodes_from([\"A001\", \"A006\", \"A007\", \"A008\"])\n",
    "\n",
    "# Arestas legítimas\n",
    "G2.add_edge(\"A001\", \"A007\", valor=200)     # Transação pequena confiável\n",
    "G2.add_edge(\"A007\", \"A006\", valor=180)     # Outra transação pequena\n",
    "G2.add_edge(\"A008\", \"A001\", valor=300)     # Reverso, ainda legítimo\n",
    "\n",
    "# Plot\n",
    "plt.figure(figsize=(8, 5))\n",
    "pos = nx.spring_layout(G2, seed=42)\n",
    "nx.draw(G2, pos, with_labels=True, node_color='lightgreen', edge_color='green', arrows=True)\n",
    "nx.draw_networkx_edge_labels(G2, pos, edge_labels=nx.get_edge_attributes(G2, 'valor'))\n",
    "plt.title(\"✅ Transações Legítimas entre Contas Confiáveis\")\n",
    "plt.show()\n"
   ]
  },
  {
   "cell_type": "markdown",
   "metadata": {},
   "source": [
    "- Simula transações **comuns e descentralizadas** entre contas:\n",
    "  - `A001 → A007 → A006` (valores pequenos: 200 e 180)\n",
    "  - `A008 → A001` (300) – exemplo de retorno de valores\n",
    "\n",
    "#### 🔍 Interpretação:\n",
    "- Os valores são baixos e plausíveis para transações normais (como pagamento de serviços, empréstimos entre pessoas, etc.).\n",
    "- O fluxo **não linear** e **com retornos** simula uma rede de relacionamentos reais.\n",
    "- Reforça a ideia de que **grafos legítimos são ramificados e dinâmicos**.\n",
    "- Pode incluir contas confiáveis com **interações diversas e não sequenciais**.\n"
   ]
  },
  {
   "cell_type": "markdown",
   "metadata": {},
   "source": [
    "### 📊 Gráfico 3 – Combinado (Legítimo + Suspeito)"
   ]
  },
  {
   "cell_type": "code",
   "execution_count": 95,
   "metadata": {},
   "outputs": [
    {
     "data": {
      "image/png": "[encoded data removed]",
      "text/plain": [
       "<Figure size 1000x600 with 1 Axes>"
      ]
     },
     "metadata": {},
     "output_type": "display_data"
    }
   ],
   "source": [
    "import networkx as nx\n",
    "import matplotlib.pyplot as plt\n",
    "\n",
    "# Cria grafo combinado\n",
    "G3 = nx.DiGraph()\n",
    "\n",
    "# Nós\n",
    "contas = [\"A001\", \"A002\", \"A003\", \"A004\", \"A005\", \"A006\", \"A007\", \"A008\"]\n",
    "G3.add_nodes_from(contas)\n",
    "\n",
    "# Arestas suspeitas (vermelhas)\n",
    "G3.add_edge(\"A001\", \"A002\", valor=5000, tipo='suspeita')\n",
    "G3.add_edge(\"A002\", \"A003\", valor=4800, tipo='suspeita')\n",
    "G3.add_edge(\"A003\", \"A004\", valor=4700, tipo='suspeita')\n",
    "G3.add_edge(\"A004\", \"A005\", valor=4600, tipo='suspeita')\n",
    "G3.add_edge(\"A005\", \"A006\", valor=4500, tipo='suspeita')\n",
    "\n",
    "# Arestas legítimas (verdes)\n",
    "G3.add_edge(\"A001\", \"A007\", valor=200, tipo='legitima')\n",
    "G3.add_edge(\"A007\", \"A006\", valor=180, tipo='legitima')\n",
    "G3.add_edge(\"A003\", \"A008\", valor=250, tipo='legitima')\n",
    "\n",
    "# Layout e plot\n",
    "plt.figure(figsize=(10, 6))\n",
    "pos = nx.spring_layout(G3, seed=42)\n",
    "\n",
    "# Cores condicionais\n",
    "edge_colors = ['red' if G3[u][v]['tipo'] == 'suspeita' else 'green' for u, v in G3.edges()]\n",
    "\n",
    "nx.draw(G3, pos, with_labels=True, node_color='lightblue', edge_color=edge_colors, arrows=True)\n",
    "nx.draw_networkx_edge_labels(G3, pos, edge_labels={(u, v): G3[u][v]['valor'] for u, v in G3.edges()})\n",
    "plt.title(\"🔍 Análise Combinada: Transações Suspeitas vs Legítimas\")\n",
    "plt.show()\n"
   ]
  },
  {
   "cell_type": "markdown",
   "metadata": {},
   "source": [
    "- Mostra ambos os padrões sobrepostos no mesmo grafo:\n",
    "  - **🔴 Transações suspeitas** (linha contínua com valores altos)\n",
    "  - **🟢 Transações legítimas** (valores pequenos, caminhos variados)\n",
    "\n",
    "#### 🔍 Interpretação:\n",
    "- Permite comparar diretamente **comportamentos distintos** dentro do mesmo sistema.\n",
    "- Ajuda a treinar o olhar do analista para identificar **anomalias estruturais**.\n",
    "- Conta com **nós compartilhados** (como A001), que podem atuar como **pontos de bifurcação** entre fluxos legítimos e suspeitos.\n",
    "\n",
    "---\n",
    "\n",
    "### 🧠 O que o aluno deve aprender?\n",
    "\n",
    "- Como usar grafos para **detectar padrões suspeitos** em transações financeiras.\n",
    "- A diferença visual entre:\n",
    "  - Um fluxo fraudulento (sequencial, valores altos, sem retorno)\n",
    "  - Um fluxo legítimo (descentralizado, múltiplas direções, valores baixos)\n",
    "- A importância da **visualização e análise topológica** para investigações de fraudes."
   ]
  },
  {
   "cell_type": "markdown",
   "metadata": {},
   "source": [
    "---\n",
    "\n",
    "## ⚖️ Comparativo Estratégico – Cassandra vs Outros Bancos NoSQL\n",
    "\n",
    "| Critério                        | **Cassandra**                          | **MongoDB**                          | **Redis**                            | **Bancos de Grafos (ex: Neo4j)**          |\n",
    "|--------------------------------|----------------------------------------|--------------------------------------|--------------------------------------|-------------------------------------------|\n",
    "| 📄 Tipo de dados               | Tabelas com chave primária e partições | Documentos JSON                      | Chave-valor (e estruturas internas)  | Nós, Arestas, Propriedades                |\n",
    "| 🔁 Modelo de consistência      | Eventual (configurável)               | Forte/replicável com eventual        | Eventual, por padrão                 | Forte em transações entre nós            |\n",
    "| 🚀 Performance em escrita      | Altíssima                             | Boa                                  | Excelente                            | Moderada                                 |\n",
    "| 📊 Consultas flexíveis         | Limitadas (sem join, group by)        | Alta (com filtros, arrays, agregação)| Baixa (requere modelagem manual)     | Muito alta (caminhos, padrões complexos) |\n",
    "| 🔗 Relacionamentos             | Não indicado                          | Possível, mas limitado               | Não indicado                         | Altamente indicado                       |\n",
    "| 🌍 Multi datacenter            | Suporte nativo                        | Requer configuração extra            | Suporte via Redis Enterprise         | Possível em algumas versões              |\n",
    "| 🏗️ Escalabilidade horizontal   | Sim, nativamente                      | Sim (sharding)                       | Sim                                  | Limitado                                 |\n",
    "| 📚 Casos típicos               | IoT, logs, tempo real, métricas       | CMS, apps web, e-commerce            | Cache, sessões, filas, ranking       | Redes sociais, fraude, rota, recomendação |\n",
    "\n",
    "---\n",
    "\n",
    "## 🎯 Casos Reais\n",
    "\n",
    "- **Cassandra** → Netflix, Uber, Spotify\n",
    "- **MongoDB** → eBay, Forbes, The New York Times\n",
    "- **Redis** → Twitter, GitHub, StackOverflow\n",
    "- **Neo4j (Grafos)** → LinkedIn, NASA, Siemens, DHL\n",
    "\n",
    "---\n",
    "\n",
    "## ✅ Conclusão\n",
    "\n",
    "Cada banco NoSQL resolve um **problema específico**:\n",
    "\n",
    "- **Cassandra**: ideal para grandes volumes de dados em alta velocidade com replicação global.\n",
    "- **MongoDB**: flexível para apps que precisam de documentos complexos e buscas variadas.\n",
    "- **Redis**: inigualável em **cache**, filas e operações em memória.\n",
    "- **Grafos**: excelente para modelar conexões, redes sociais, fraudes e roteamento.\n",
    "\n",
    "---\n",
    "\n",
    "## 📌 Dica para projetos reais:\n",
    "\n",
    "> Escolha o banco NoSQL **com base no padrão de leitura e escrita** da sua aplicação, não apenas na tecnologia mais popular."
   ]
  }
 ],
 "metadata": {
  "kernelspec": {
   "display_name": "Python 3",
   "language": "python",
   "name": "python3"
  },
  "language_info": {
   "codemirror_mode": {
    "name": "ipython",
    "version": 3
   },
   "file_extension": ".py",
   "mimetype": "text/x-python",
   "name": "python",
   "nbconvert_exporter": "python",
   "pygments_lexer": "ipython3",
   "version": "3.11.4"
  }
 },
 "nbformat": 4,
 "nbformat_minor": 5
}
