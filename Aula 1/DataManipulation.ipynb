{
  "cells": [
    {
      "cell_type": "markdown",
      "source": [
        "## PySpark - Instalando a biblioteca PySpark no Google Colab"
      ],
      "metadata": {
        "id": "yv-ANCZf_MX3"
      }
    },
    {
      "cell_type": "code",
      "execution_count": 3,
      "metadata": {
        "colab": {
          "base_uri": "https://localhost:8080/"
        },
        "id": "anLHk85lyQ5G",
        "outputId": "d3868430-3c62-4a3d-ba7a-b8c0125767bd"
      },
      "outputs": [
        {
          "output_type": "stream",
          "name": "stdout",
          "text": [
            "Requirement already satisfied: pyspark in /usr/local/lib/python3.10/dist-packages (3.4.1)\n",
            "Requirement already satisfied: py4j==0.10.9.7 in /usr/local/lib/python3.10/dist-packages (from pyspark) (0.10.9.7)\n"
          ]
        }
      ],
      "source": [
        "!pip install pyspark"
      ]
    },
    {
      "cell_type": "code",
      "execution_count": 2,
      "metadata": {
        "colab": {
          "base_uri": "https://localhost:8080/"
        },
        "id": "rt3m6PxECGIY",
        "outputId": "331ef275-b201-4d7e-ef3f-1e79c9a30983"
      },
      "outputs": [
        {
          "output_type": "stream",
          "name": "stdout",
          "text": [
            "Collecting findspark\n",
            "  Downloading findspark-2.0.1-py2.py3-none-any.whl (4.4 kB)\n",
            "Installing collected packages: findspark\n",
            "Successfully installed findspark-2.0.1\n"
          ]
        }
      ],
      "source": [
        "!pip install findspark"
      ]
    },
    {
      "cell_type": "code",
      "execution_count": 4,
      "metadata": {
        "id": "gJ6HCddh0rBI"
      },
      "outputs": [],
      "source": [
        "import findspark\n",
        "findspark.init()\n",
        "from pyspark.sql import SparkSession\n",
        "spark = SparkSession.builder.master(\"local[*]\").getOrCreate()"
      ]
    },
    {
      "cell_type": "code",
      "execution_count": 5,
      "metadata": {
        "colab": {
          "base_uri": "https://localhost:8080/"
        },
        "id": "77fvmo9F0szJ",
        "outputId": "e655d709-f2c6-4620-8a38-5a3dd9b64e2c"
      },
      "outputs": [
        {
          "output_type": "stream",
          "name": "stdout",
          "text": [
            "+--------------------+\n",
            "|               hello|\n",
            "+--------------------+\n",
            "|Sucesso total, es...|\n",
            "+--------------------+\n",
            "\n"
          ]
        }
      ],
      "source": [
        "df = spark.sql('''select 'Sucesso total, estamos online!' as hello''')\n",
        "df.show()"
      ]
    },
    {
      "cell_type": "code",
      "execution_count": 10,
      "metadata": {
        "id": "QWbHuaova0PH"
      },
      "outputs": [],
      "source": [
        "# Import spark libraries\n",
        "from pyspark.sql import Row, DataFrame\n",
        "from pyspark.sql.types import StringType, StructType, StructField, IntegerType\n",
        "from pyspark.sql.functions import col, expr, lit, substring, concat, concat_ws, when, coalesce\n",
        "from pyspark.sql import functions as F # for more sql functions\n",
        "from functools import reduce"
      ]
    },
    {
      "cell_type": "markdown",
      "metadata": {
        "id": "tDLaLZjzzpWg"
      },
      "source": [
        "# Data manipulation using spark"
      ]
    },
    {
      "cell_type": "code",
      "execution_count": 11,
      "metadata": {
        "colab": {
          "base_uri": "https://localhost:8080/"
        },
        "id": "1Ql57n4Iz4kX",
        "outputId": "bcccbbd6-3ce6-420e-c7a8-37cc79a1cf49"
      },
      "outputs": [
        {
          "output_type": "stream",
          "name": "stdout",
          "text": [
            "df.count  : 561\n",
            "df.col ct : 6\n",
            "df.columns: ['Bank Name', 'City', 'ST', 'CERT', 'Acquiring Institution', 'Closing Date']\n"
          ]
        }
      ],
      "source": [
        "df = spark.read.csv('banklist.csv', sep = ',', inferSchema = True, header = True)\n",
        "\n",
        "print('df.count  :', df.count())\n",
        "print('df.col ct :', len(df.columns))\n",
        "print('df.columns:', df.columns)"
      ]
    },
    {
      "cell_type": "markdown",
      "metadata": {
        "id": "lviT9J99TMmr"
      },
      "source": [
        "# Using SQL in PySpark"
      ]
    },
    {
      "cell_type": "code",
      "execution_count": 12,
      "metadata": {
        "colab": {
          "base_uri": "https://localhost:8080/"
        },
        "id": "Jce3V6YyT_tm",
        "outputId": "4e9918ce-eae1-4b17-e828-6a2ca12aa2af"
      },
      "outputs": [
        {
          "output_type": "stream",
          "name": "stdout",
          "text": [
            "+--------------------------------+-------------+------------+\n",
            "|Bank Name                       |City         |Closing Date|\n",
            "+--------------------------------+-------------+------------+\n",
            "|The First State Bank            |Barboursville|3-Apr-20    |\n",
            "|Ericson State Bank              |Ericson      |14-Feb-20   |\n",
            "|City National Bank of New Jersey|Newark       |1-Nov-19    |\n",
            "|Resolute Bank                   |Maumee       |25-Oct-19   |\n",
            "+--------------------------------+-------------+------------+\n",
            "only showing top 4 rows\n",
            "\n"
          ]
        }
      ],
      "source": [
        "df.createOrReplaceTempView(\"banklist\")\n",
        "\n",
        "df_check = spark.sql('''select `Bank Name`, City, `Closing Date` from banklist''')\n",
        "df_check.show(4, truncate=False)"
      ]
    },
    {
      "cell_type": "markdown",
      "metadata": {
        "id": "A_h4nezoVoMP"
      },
      "source": [
        "# Dataframe Basic Operations"
      ]
    },
    {
      "cell_type": "code",
      "execution_count": 13,
      "metadata": {
        "colab": {
          "base_uri": "https://localhost:8080/"
        },
        "id": "LJSOwS4Eturw",
        "outputId": "5e01fe2a-842e-464a-e5fc-344280207d1e"
      },
      "outputs": [
        {
          "output_type": "stream",
          "name": "stdout",
          "text": [
            "+-------+--------------------+-------+----+-----------------+---------------------+------------+\n",
            "|summary|           Bank Name|   City|  ST|             CERT|Acquiring Institution|Closing Date|\n",
            "+-------+--------------------+-------+----+-----------------+---------------------+------------+\n",
            "|  count|                 561|    561| 561|              561|                  561|         561|\n",
            "|   mean|                null|   null|null|31685.68449197861|                 null|        null|\n",
            "| stddev|                null|   null|null|16446.65659309965|                 null|        null|\n",
            "|    min|1st American Stat...|Acworth|  AL|               91|      1st United Bank|    1-Aug-08|\n",
            "|    max|               ebank|Wyoming|  WY|            58701|  Your Community Bank|    9-Sep-11|\n",
            "+-------+--------------------+-------+----+-----------------+---------------------+------------+\n",
            "\n"
          ]
        }
      ],
      "source": [
        "df.describe().show()"
      ]
    },
    {
      "cell_type": "code",
      "execution_count": 14,
      "metadata": {
        "colab": {
          "base_uri": "https://localhost:8080/"
        },
        "id": "FwVXN5fZn3Jz",
        "outputId": "24991a98-b749-4202-b9f8-1cd2f8d74f19"
      },
      "outputs": [
        {
          "output_type": "stream",
          "name": "stdout",
          "text": [
            "+-------+-------+----+\n",
            "|summary|   City|  ST|\n",
            "+-------+-------+----+\n",
            "|  count|    561| 561|\n",
            "|   mean|   null|null|\n",
            "| stddev|   null|null|\n",
            "|    min|Acworth|  AL|\n",
            "|    max|Wyoming|  WY|\n",
            "+-------+-------+----+\n",
            "\n"
          ]
        }
      ],
      "source": [
        "df.describe('City', 'ST').show()"
      ]
    },
    {
      "cell_type": "markdown",
      "metadata": {
        "id": "RDht33CnhVL5"
      },
      "source": [
        "# Counts, Columns and Schema"
      ]
    },
    {
      "cell_type": "code",
      "execution_count": 18,
      "metadata": {
        "colab": {
          "base_uri": "https://localhost:8080/"
        },
        "id": "O63DzXi1VoaN",
        "outputId": "939744c8-b9ae-46ea-d0f8-56d3071f3206"
      },
      "outputs": [
        {
          "output_type": "stream",
          "name": "stdout",
          "text": [
            "Total de linhas: 561\n",
            "Total de colunas: 6\n",
            "Tipo de dados: [('Bank Name', 'string'), ('City', 'string'), ('ST', 'string'), ('CERT', 'int'), ('Acquiring Institution', 'string'), ('Closing Date', 'string')]\n",
            "Schema: StructType([StructField('Bank Name', StringType(), True), StructField('City', StringType(), True), StructField('ST', StringType(), True), StructField('CERT', IntegerType(), True), StructField('Acquiring Institution', StringType(), True), StructField('Closing Date', StringType(), True)])\n"
          ]
        }
      ],
      "source": [
        "print('Total de linhas:', df.count())\n",
        "print('Total de colunas:', len(df.columns))\n",
        "print('Tipo de dados:', df.dtypes)\n",
        "print('Schema:', df.schema)"
      ]
    },
    {
      "cell_type": "code",
      "execution_count": 19,
      "metadata": {
        "colab": {
          "base_uri": "https://localhost:8080/"
        },
        "id": "AeG5OcIq1vfg",
        "outputId": "aefd173b-8914-4171-ee2b-332592ca9872"
      },
      "outputs": [
        {
          "output_type": "stream",
          "name": "stdout",
          "text": [
            "df schema 1:\n",
            "root\n",
            " |-- Bank Name: string (nullable = true)\n",
            " |-- City: string (nullable = true)\n",
            " |-- ST: string (nullable = true)\n",
            " |-- CERT: integer (nullable = true)\n",
            " |-- Acquiring Institution: string (nullable = true)\n",
            " |-- Closing Date: string (nullable = true)\n",
            "\n"
          ]
        }
      ],
      "source": [
        "print('df schema 1:')\n",
        "df.printSchema()"
      ]
    },
    {
      "cell_type": "markdown",
      "metadata": {
        "id": "OSHkkGVBhd-F"
      },
      "source": [
        "# Remove Duplicates"
      ]
    },
    {
      "cell_type": "code",
      "execution_count": 20,
      "metadata": {
        "colab": {
          "base_uri": "https://localhost:8080/"
        },
        "id": "CcqzJ65IV0Fa",
        "outputId": "7352ee64-bfc2-488c-f17d-344bf61ba81e"
      },
      "outputs": [
        {
          "output_type": "stream",
          "name": "stdout",
          "text": [
            "df.count\t\t: 561\n",
            "df.columns\t: ['Bank Name', 'City', 'ST', 'CERT', 'Acquiring Institution', 'Closing Date']\n"
          ]
        }
      ],
      "source": [
        "df = df.dropDuplicates()\n",
        "print('df.count\t\t:', df.count())\n",
        "print('df.columns\t:', df.columns)"
      ]
    },
    {
      "cell_type": "markdown",
      "metadata": {
        "id": "olIfm2KIicOn"
      },
      "source": [
        "# Select specific columns"
      ]
    },
    {
      "cell_type": "code",
      "execution_count": 22,
      "metadata": {
        "colab": {
          "base_uri": "https://localhost:8080/"
        },
        "id": "3wBMsReAWSUF",
        "outputId": "bc64edfa-f3f5-41e5-ef44-3a61a2c04f29"
      },
      "outputs": [
        {
          "output_type": "stream",
          "name": "stdout",
          "text": [
            "+--------------------+----------------+\n",
            "|           Bank Name|            City|\n",
            "+--------------------+----------------+\n",
            "| First Bank of Idaho|         Ketchum|\n",
            "|Amcore Bank, Nati...|        Rockford|\n",
            "|        Venture Bank|           Lacey|\n",
            "|First State Bank ...|           Altus|\n",
            "|Valley Capital Ba...|            Mesa|\n",
            "|Michigan Heritage...|Farmington Hills|\n",
            "|Columbia Savings ...|      Cincinnati|\n",
            "|       Fidelity Bank|        Dearborn|\n",
            "|The Park Avenue Bank|        Valdosta|\n",
            "|Western Commercia...|  Woodland Hills|\n",
            "|        Syringa Bank|           Boise|\n",
            "|Republic Federal ...|           Miami|\n",
            "|Westside Communit...|University Place|\n",
            "|   First United Bank|           Crete|\n",
            "|HarVest Bank of M...|    Gaithersburg|\n",
            "|            BankEast|       Knoxville|\n",
            "|    Polk County Bank|        Johnston|\n",
            "|Colorado Capital ...|     Castle Rock|\n",
            "|         Access Bank|        Champlin|\n",
            "|Pacific National ...|   San Francisco|\n",
            "+--------------------+----------------+\n",
            "only showing top 20 rows\n",
            "\n"
          ]
        }
      ],
      "source": [
        "df2 = df.select(*['Bank Name', 'City'])\n",
        "df2.show()"
      ]
    },
    {
      "cell_type": "markdown",
      "metadata": {
        "id": "WMvFVdP_oK7W"
      },
      "source": [
        "# Select multiple columns"
      ]
    },
    {
      "cell_type": "code",
      "execution_count": 23,
      "metadata": {
        "colab": {
          "base_uri": "https://localhost:8080/"
        },
        "id": "fS3tpP6qoLVu",
        "outputId": "880a04fe-bb35-46fc-cc9d-37a001cc476c"
      },
      "outputs": [
        {
          "output_type": "stream",
          "name": "stdout",
          "text": [
            "+---------------------+------------+--------------------+----------------+\n",
            "|Acquiring Institution|Closing Date|           Bank Name|            City|\n",
            "+---------------------+------------+--------------------+----------------+\n",
            "|      U.S. Bank, N.A.|   24-Apr-09| First Bank of Idaho|         Ketchum|\n",
            "|          Harris N.A.|   23-Apr-10|Amcore Bank, Nati...|        Rockford|\n",
            "| First-Citizens Ba...|   11-Sep-09|        Venture Bank|           Lacey|\n",
            "|         Herring Bank|   31-Jul-09|First State Bank ...|           Altus|\n",
            "| Enterprise Bank &...|   11-Dec-09|Valley Capital Ba...|            Mesa|\n",
            "|       Level One Bank|   24-Apr-09|Michigan Heritage...|Farmington Hills|\n",
            "| United Fidelity B...|   23-May-14|Columbia Savings ...|      Cincinnati|\n",
            "| The Huntington Na...|   30-Mar-12|       Fidelity Bank|        Dearborn|\n",
            "|   Bank of the Ozarks|   29-Apr-11|The Park Avenue Bank|        Valdosta|\n",
            "| First California ...|    5-Nov-10|Western Commercia...|  Woodland Hills|\n",
            "|         Sunwest Bank|   31-Jan-14|        Syringa Bank|           Boise|\n",
            "|      1st United Bank|   11-Dec-09|Republic Federal ...|           Miami|\n",
            "|         Sunwest Bank|   11-Jan-13|Westside Communit...|University Place|\n",
            "| Old Plank Trail C...|   28-Sep-12|   First United Bank|           Crete|\n",
            "|             Sonabank|   27-Apr-12|HarVest Bank of M...|    Gaithersburg|\n",
            "|      U.S. Bank, N.A.|   27-Jan-12|            BankEast|       Knoxville|\n",
            "|  Grinnell State Bank|   18-Nov-11|    Polk County Bank|        Johnston|\n",
            "| First-Citizens Ba...|    8-Jul-11|Colorado Capital ...|     Castle Rock|\n",
            "|            PrinsBank|    7-May-10|         Access Bank|        Champlin|\n",
            "|       U.S. Bank N.A.|   30-Oct-09|Pacific National ...|   San Francisco|\n",
            "+---------------------+------------+--------------------+----------------+\n",
            "only showing top 20 rows\n",
            "\n"
          ]
        }
      ],
      "source": [
        "col_l = list(set(df.columns)  - {'CERT','ST'})\n",
        "df2 = df.select(*col_l)\n",
        "df2.show()"
      ]
    },
    {
      "cell_type": "markdown",
      "metadata": {
        "id": "Zfc5uWaoi_R2"
      },
      "source": [
        "# Rename columns"
      ]
    },
    {
      "cell_type": "code",
      "execution_count": 24,
      "metadata": {
        "colab": {
          "base_uri": "https://localhost:8080/"
        },
        "id": "PdOkLYzlisvy",
        "outputId": "a06240e0-ac49-4ffe-f22b-6027e7f2c9e5"
      },
      "outputs": [
        {
          "output_type": "stream",
          "name": "stdout",
          "text": [
            "+--------------------+----------------+-----+-----+--------------------+------------+\n",
            "|           bank_name|            City|state| cert|     acq_institution|closing_date|\n",
            "+--------------------+----------------+-----+-----+--------------------+------------+\n",
            "| First Bank of Idaho|         Ketchum|   ID|34396|     U.S. Bank, N.A.|   24-Apr-09|\n",
            "|Amcore Bank, Nati...|        Rockford|   IL| 3735|         Harris N.A.|   23-Apr-10|\n",
            "|        Venture Bank|           Lacey|   WA|22868|First-Citizens Ba...|   11-Sep-09|\n",
            "|First State Bank ...|           Altus|   OK| 9873|        Herring Bank|   31-Jul-09|\n",
            "|Valley Capital Ba...|            Mesa|   AZ|58399|Enterprise Bank &...|   11-Dec-09|\n",
            "|Michigan Heritage...|Farmington Hills|   MI|34369|      Level One Bank|   24-Apr-09|\n",
            "|Columbia Savings ...|      Cincinnati|   OH|32284|United Fidelity B...|   23-May-14|\n",
            "|       Fidelity Bank|        Dearborn|   MI|33883|The Huntington Na...|   30-Mar-12|\n",
            "|The Park Avenue Bank|        Valdosta|   GA|19797|  Bank of the Ozarks|   29-Apr-11|\n",
            "|Western Commercia...|  Woodland Hills|   CA|58087|First California ...|    5-Nov-10|\n",
            "|        Syringa Bank|           Boise|   ID|34296|        Sunwest Bank|   31-Jan-14|\n",
            "|Republic Federal ...|           Miami|   FL|22846|     1st United Bank|   11-Dec-09|\n",
            "|Westside Communit...|University Place|   WA|33997|        Sunwest Bank|   11-Jan-13|\n",
            "|   First United Bank|           Crete|   IL|20685|Old Plank Trail C...|   28-Sep-12|\n",
            "|HarVest Bank of M...|    Gaithersburg|   MD|57766|            Sonabank|   27-Apr-12|\n",
            "|            BankEast|       Knoxville|   TN|19869|     U.S. Bank, N.A.|   27-Jan-12|\n",
            "|    Polk County Bank|        Johnston|   IA|14194| Grinnell State Bank|   18-Nov-11|\n",
            "|Colorado Capital ...|     Castle Rock|   CO|34522|First-Citizens Ba...|    8-Jul-11|\n",
            "|         Access Bank|        Champlin|   MN|16476|           PrinsBank|    7-May-10|\n",
            "|Pacific National ...|   San Francisco|   CA|30006|      U.S. Bank N.A.|   30-Oct-09|\n",
            "+--------------------+----------------+-----+-----+--------------------+------------+\n",
            "only showing top 20 rows\n",
            "\n"
          ]
        }
      ],
      "source": [
        "df2 = df \\\n",
        "  .withColumnRenamed('Bank Name'            , 'bank_name') \\\n",
        "  .withColumnRenamed('Acquiring Institution', 'acq_institution') \\\n",
        "  .withColumnRenamed('Closing Date'         , 'closing_date') \\\n",
        "  .withColumnRenamed('ST'                   , 'state') \\\n",
        "  .withColumnRenamed('CERT'                 , 'cert') #\\\n",
        "\n",
        "df2.show()"
      ]
    },
    {
      "cell_type": "markdown",
      "metadata": {
        "id": "momxuupJnqPd"
      },
      "source": [
        "# Add columns"
      ]
    },
    {
      "cell_type": "code",
      "execution_count": 25,
      "metadata": {
        "colab": {
          "base_uri": "https://localhost:8080/"
        },
        "id": "uDKwdHg5l_nm",
        "outputId": "a8cb2c06-0f7d-4c56-c637-7918039c719c"
      },
      "outputs": [
        {
          "output_type": "stream",
          "name": "stdout",
          "text": [
            "+--------------------+----------------+---+-----+---------------------+------------+-----+\n",
            "|           Bank Name|            City| ST| CERT|Acquiring Institution|Closing Date|state|\n",
            "+--------------------+----------------+---+-----+---------------------+------------+-----+\n",
            "| First Bank of Idaho|         Ketchum| ID|34396|      U.S. Bank, N.A.|   24-Apr-09|   ID|\n",
            "|Amcore Bank, Nati...|        Rockford| IL| 3735|          Harris N.A.|   23-Apr-10|   IL|\n",
            "|        Venture Bank|           Lacey| WA|22868| First-Citizens Ba...|   11-Sep-09|   WA|\n",
            "|First State Bank ...|           Altus| OK| 9873|         Herring Bank|   31-Jul-09|   OK|\n",
            "|Valley Capital Ba...|            Mesa| AZ|58399| Enterprise Bank &...|   11-Dec-09|   AZ|\n",
            "|Michigan Heritage...|Farmington Hills| MI|34369|       Level One Bank|   24-Apr-09|   MI|\n",
            "|Columbia Savings ...|      Cincinnati| OH|32284| United Fidelity B...|   23-May-14|   OH|\n",
            "|       Fidelity Bank|        Dearborn| MI|33883| The Huntington Na...|   30-Mar-12|   MI|\n",
            "|The Park Avenue Bank|        Valdosta| GA|19797|   Bank of the Ozarks|   29-Apr-11|   GA|\n",
            "|Western Commercia...|  Woodland Hills| CA|58087| First California ...|    5-Nov-10|   CA|\n",
            "|        Syringa Bank|           Boise| ID|34296|         Sunwest Bank|   31-Jan-14|   ID|\n",
            "|Republic Federal ...|           Miami| FL|22846|      1st United Bank|   11-Dec-09|   FL|\n",
            "|Westside Communit...|University Place| WA|33997|         Sunwest Bank|   11-Jan-13|   WA|\n",
            "|   First United Bank|           Crete| IL|20685| Old Plank Trail C...|   28-Sep-12|   IL|\n",
            "|HarVest Bank of M...|    Gaithersburg| MD|57766|             Sonabank|   27-Apr-12|   MD|\n",
            "|            BankEast|       Knoxville| TN|19869|      U.S. Bank, N.A.|   27-Jan-12|   TN|\n",
            "|    Polk County Bank|        Johnston| IA|14194|  Grinnell State Bank|   18-Nov-11|   IA|\n",
            "|Colorado Capital ...|     Castle Rock| CO|34522| First-Citizens Ba...|    8-Jul-11|   CO|\n",
            "|         Access Bank|        Champlin| MN|16476|            PrinsBank|    7-May-10|   MN|\n",
            "|Pacific National ...|   San Francisco| CA|30006|       U.S. Bank N.A.|   30-Oct-09|   CA|\n",
            "+--------------------+----------------+---+-----+---------------------+------------+-----+\n",
            "only showing top 20 rows\n",
            "\n"
          ]
        }
      ],
      "source": [
        "df2 = df.withColumn('state', col('ST'))\n",
        "df2.show()"
      ]
    },
    {
      "cell_type": "markdown",
      "metadata": {
        "id": "EjkXUUpvou7B"
      },
      "source": [
        "# Add constant column"
      ]
    },
    {
      "cell_type": "code",
      "execution_count": 26,
      "metadata": {
        "colab": {
          "base_uri": "https://localhost:8080/"
        },
        "id": "0-gSou1GnpBd",
        "outputId": "3b7320ff-433b-449e-9490-e6964b5bf126"
      },
      "outputs": [
        {
          "output_type": "stream",
          "name": "stdout",
          "text": [
            "+--------------------+--------+---+-----+---------------------+------------+-------+\n",
            "|           Bank Name|    City| ST| CERT|Acquiring Institution|Closing Date|country|\n",
            "+--------------------+--------+---+-----+---------------------+------------+-------+\n",
            "| First Bank of Idaho| Ketchum| ID|34396|      U.S. Bank, N.A.|   24-Apr-09|     US|\n",
            "|Amcore Bank, Nati...|Rockford| IL| 3735|          Harris N.A.|   23-Apr-10|     US|\n",
            "+--------------------+--------+---+-----+---------------------+------------+-------+\n",
            "only showing top 2 rows\n",
            "\n"
          ]
        }
      ],
      "source": [
        "df2 = df.withColumn('country', lit('US'))\n",
        "df2.show(2)"
      ]
    },
    {
      "cell_type": "markdown",
      "metadata": {
        "id": "wx7fAtmqZxSH"
      },
      "source": [
        "# Drop columns"
      ]
    },
    {
      "cell_type": "code",
      "execution_count": 27,
      "metadata": {
        "colab": {
          "base_uri": "https://localhost:8080/"
        },
        "id": "fAKuWe7nZxmc",
        "outputId": "c8ad6b51-122f-49d8-b205-fcbd7344b110"
      },
      "outputs": [
        {
          "output_type": "stream",
          "name": "stdout",
          "text": [
            "+--------------------+--------+---+---------------------+------------+\n",
            "|           Bank Name|    City| ST|Acquiring Institution|Closing Date|\n",
            "+--------------------+--------+---+---------------------+------------+\n",
            "| First Bank of Idaho| Ketchum| ID|      U.S. Bank, N.A.|   24-Apr-09|\n",
            "|Amcore Bank, Nati...|Rockford| IL|          Harris N.A.|   23-Apr-10|\n",
            "+--------------------+--------+---+---------------------+------------+\n",
            "only showing top 2 rows\n",
            "\n"
          ]
        }
      ],
      "source": [
        "df2 = df.drop('CERT')\n",
        "df2.show(2)"
      ]
    },
    {
      "cell_type": "markdown",
      "metadata": {
        "id": "AG7tuEZpaGll"
      },
      "source": [
        "# Drop multiple columns"
      ]
    },
    {
      "cell_type": "code",
      "execution_count": 28,
      "metadata": {
        "colab": {
          "base_uri": "https://localhost:8080/"
        },
        "id": "56E1uJPQpZJH",
        "outputId": "e7bccc4d-9cf3-42c2-c660-be6565143e89"
      },
      "outputs": [
        {
          "output_type": "stream",
          "name": "stdout",
          "text": [
            "+--------------------+--------+---------------------+------------+\n",
            "|           Bank Name|    City|Acquiring Institution|Closing Date|\n",
            "+--------------------+--------+---------------------+------------+\n",
            "| First Bank of Idaho| Ketchum|      U.S. Bank, N.A.|   24-Apr-09|\n",
            "|Amcore Bank, Nati...|Rockford|          Harris N.A.|   23-Apr-10|\n",
            "+--------------------+--------+---------------------+------------+\n",
            "only showing top 2 rows\n",
            "\n"
          ]
        }
      ],
      "source": [
        "df2 = df.drop(*['CERT','ST'])\n",
        "df2.show(2)"
      ]
    },
    {
      "cell_type": "code",
      "execution_count": 29,
      "metadata": {
        "colab": {
          "base_uri": "https://localhost:8080/"
        },
        "id": "WuVEE3SqaFvC",
        "outputId": "4398e3f0-ae08-4a8e-c8fc-ed8cc607caf5"
      },
      "outputs": [
        {
          "output_type": "stream",
          "name": "stdout",
          "text": [
            "+--------------------+--------+---------------------+------------+\n",
            "|           Bank Name|    City|Acquiring Institution|Closing Date|\n",
            "+--------------------+--------+---------------------+------------+\n",
            "| First Bank of Idaho| Ketchum|      U.S. Bank, N.A.|   24-Apr-09|\n",
            "|Amcore Bank, Nati...|Rockford|          Harris N.A.|   23-Apr-10|\n",
            "+--------------------+--------+---------------------+------------+\n",
            "only showing top 2 rows\n",
            "\n"
          ]
        }
      ],
      "source": [
        "df2 = reduce(DataFrame.drop, ['CERT','ST'], df)\n",
        "df2.show(2)"
      ]
    },
    {
      "cell_type": "markdown",
      "metadata": {
        "id": "PhuwX3AwbRiu"
      },
      "source": [
        "# Filter data"
      ]
    },
    {
      "cell_type": "code",
      "execution_count": 30,
      "metadata": {
        "colab": {
          "base_uri": "https://localhost:8080/"
        },
        "id": "yeA5BOpJbD5O",
        "outputId": "b771d31a-22b3-4836-80c6-80f1f39c5b49"
      },
      "outputs": [
        {
          "output_type": "stream",
          "name": "stdout",
          "text": [
            "df.count  : 561\n",
            "df2.count : 4\n",
            "df3.count : 9\n",
            "df4.count : 73\n"
          ]
        }
      ],
      "source": [
        "# Equal to values\n",
        "df2 = df.where(df['ST'] == 'NE')\n",
        "\n",
        "# Between values\n",
        "df3 = df.where(df['CERT'].between('1000','2000'))\n",
        "\n",
        "# Is inside multiple values\n",
        "df4 = df.where(df['ST'].isin('NE','IL'))\n",
        "\n",
        "print('df.count  :', df.count())\n",
        "print('df2.count :', df2.count())\n",
        "print('df3.count :', df3.count())\n",
        "print('df4.count :', df4.count())\n"
      ]
    },
    {
      "cell_type": "markdown",
      "source": [
        "# Filter data using logical operators"
      ],
      "metadata": {
        "id": "mJ-nC6NXEpBl"
      }
    },
    {
      "cell_type": "code",
      "source": [
        "df2 = df.where((df['ST'] == 'NE') & (df['City'] == 'Ericson'))\n",
        "df2.show(3)"
      ],
      "metadata": {
        "colab": {
          "base_uri": "https://localhost:8080/"
        },
        "id": "3F5b9o8LEs0G",
        "outputId": "7ffecc38-0658-40c0-e12d-ef7d5afc760a"
      },
      "execution_count": 31,
      "outputs": [
        {
          "output_type": "stream",
          "name": "stdout",
          "text": [
            "+------------------+-------+---+-----+---------------------+------------+\n",
            "|         Bank Name|   City| ST| CERT|Acquiring Institution|Closing Date|\n",
            "+------------------+-------+---+-----+---------------------+------------+\n",
            "|Ericson State Bank|Ericson| NE|18265| Farmers and Merch...|   14-Feb-20|\n",
            "+------------------+-------+---+-----+---------------------+------------+\n",
            "\n"
          ]
        }
      ]
    },
    {
      "cell_type": "markdown",
      "metadata": {
        "id": "BOAWTJcIVLrs"
      },
      "source": [
        "# Replace values in dataframe"
      ]
    },
    {
      "cell_type": "code",
      "execution_count": 32,
      "metadata": {
        "colab": {
          "base_uri": "https://localhost:8080/"
        },
        "id": "vJkLrgi-VMqM",
        "outputId": "9beae4b1-47ac-4719-f7aa-719d5978c17d"
      },
      "outputs": [
        {
          "output_type": "stream",
          "name": "stdout",
          "text": [
            "+--------------------+--------+---+-----+---------------------+------------+\n",
            "|           Bank Name|    City| ST| CERT|Acquiring Institution|Closing Date|\n",
            "+--------------------+--------+---+-----+---------------------+------------+\n",
            "| First Bank of Idaho| Ketchum| ID|34396|      U.S. Bank, N.A.|   24-Apr-09|\n",
            "|Amcore Bank, Nati...|Rockford| IL| 3735|          Harris N.A.|   23-Apr-10|\n",
            "+--------------------+--------+---+-----+---------------------+------------+\n",
            "only showing top 2 rows\n",
            "\n",
            "Replace 7 in the above dataframe with 17 at all instances\n",
            "+--------------------+--------+---+-----+---------------------+------------+\n",
            "|           Bank Name|    City| ST| CERT|Acquiring Institution|Closing Date|\n",
            "+--------------------+--------+---+-----+---------------------+------------+\n",
            "| First Bank of Idaho| Ketchum| ID|34396|      U.S. Bank, N.A.|   24-Apr-09|\n",
            "|Amcore Bank, Nati...|Rockford| IL| 3735|          Harris N.A.|   23-Apr-10|\n",
            "+--------------------+--------+---+-----+---------------------+------------+\n",
            "only showing top 2 rows\n",
            "\n"
          ]
        }
      ],
      "source": [
        "# Pre replace\n",
        "df.show(2)\n",
        "\n",
        "# Post replace\n",
        "print('Replace 7 in the above dataframe with 17 at all instances')\n",
        "df.na.replace(7,17).show(2)"
      ]
    },
    {
      "cell_type": "code",
      "source": [],
      "metadata": {
        "id": "K6tXMTuUE9Sx"
      },
      "execution_count": null,
      "outputs": []
    }
  ],
  "metadata": {
    "colab": {
      "provenance": []
    },
    "kernelspec": {
      "display_name": "Python 3",
      "name": "python3"
    }
  },
  "nbformat": 4,
  "nbformat_minor": 0
}