{
  "nbformat": 4,
  "nbformat_minor": 0,
  "metadata": {
    "colab": {
      "provenance": [],
      "collapsed_sections": [
        "-Nlc3edfaDei"
      ]
    },
    "kernelspec": {
      "name": "python3",
      "display_name": "Python 3"
    },
    "language_info": {
      "name": "python"
    }
  },
  "cells": [
    {
      "cell_type": "markdown",
      "source": [
        "#**Aula 1 - Tratando os Dados**"
      ],
      "metadata": {
        "id": "t0hKQ2fXP7HB"
      }
    },
    {
      "cell_type": "code",
      "execution_count": null,
      "metadata": {
        "id": "doraVfEMHysN"
      },
      "outputs": [],
      "source": [
        "import pandas as pd"
      ]
    },
    {
      "cell_type": "code",
      "source": [
        "cadastrados = pd.read_csv('https://github.com/alura-tech/alura-tech-pos-data-science-credit-scoring-streamlit/blob/main/dados/clientes_cadastrados.csv?raw=True')"
      ],
      "metadata": {
        "id": "QSqtfUnOH1N6"
      },
      "execution_count": null,
      "outputs": []
    },
    {
      "cell_type": "code",
      "source": [
        "cadastrados.head()"
      ],
      "metadata": {
        "colab": {
          "base_uri": "https://localhost:8080/",
          "height": 357
        },
        "id": "Da4D_Y2UI1DT",
        "outputId": "c26e3873-af66-4401-e4a9-54004dc99802"
      },
      "execution_count": null,
      "outputs": [
        {
          "output_type": "execute_result",
          "data": {
            "text/plain": [
              "   ID_Cliente Genero Tem_carro Tem_casa_propria  Qtd_filhos  Rendimento_anual  \\\n",
              "0     5008804      M         Y                Y           0          427500.0   \n",
              "1     5008805      M         Y                Y           0          427500.0   \n",
              "2     5008806      M         Y                Y           0          112500.0   \n",
              "3     5008808      F         N                Y           0          270000.0   \n",
              "4     5008809      F         N                Y           0          270000.0   \n",
              "\n",
              "    Categoria_de_renda Grau_escolaridade   Estado_civil  \\\n",
              "0            Empregado   Ensino superior  União-estável   \n",
              "1            Empregado   Ensino superior  União-estável   \n",
              "2            Empregado      Ensino médio         Casado   \n",
              "3  Associado comercial      Ensino médio       Solteiro   \n",
              "4  Associado comercial      Ensino médio       Solteiro   \n",
              "\n",
              "                    Moradia  Idade  Anos_empregado  Tem_celular  \\\n",
              "0       Apartamento alugado -12005           -4542            1   \n",
              "1       Apartamento alugado -12005           -4542            1   \n",
              "2  Casa/apartamento próprio -21474           -1134            1   \n",
              "3  Casa/apartamento próprio -19110           -3051            1   \n",
              "4  Casa/apartamento próprio -19110           -3051            1   \n",
              "\n",
              "   Tem_telefone_trabalho  Tem_telefone_fixo  Tem_email   Ocupacao  \\\n",
              "0                      1                  0          0        NaN   \n",
              "1                      1                  0          0        NaN   \n",
              "2                      0                  0          0  Segurança   \n",
              "3                      0                  1          1     Vendas   \n",
              "4                      0                  1          1     Vendas   \n",
              "\n",
              "   Tamanho_familia  \n",
              "0              2.0  \n",
              "1              2.0  \n",
              "2              2.0  \n",
              "3              1.0  \n",
              "4              1.0  "
            ],
            "text/html": [
              "\n",
              "  <div id=\"df-2074e480-e8e9-40a7-9711-b0bdfa764d9d\">\n",
              "    <div class=\"colab-df-container\">\n",
              "      <div>\n",
              "<style scoped>\n",
              "    .dataframe tbody tr th:only-of-type {\n",
              "        vertical-align: middle;\n",
              "    }\n",
              "\n",
              "    .dataframe tbody tr th {\n",
              "        vertical-align: top;\n",
              "    }\n",
              "\n",
              "    .dataframe thead th {\n",
              "        text-align: right;\n",
              "    }\n",
              "</style>\n",
              "<table border=\"1\" class=\"dataframe\">\n",
              "  <thead>\n",
              "    <tr style=\"text-align: right;\">\n",
              "      <th></th>\n",
              "      <th>ID_Cliente</th>\n",
              "      <th>Genero</th>\n",
              "      <th>Tem_carro</th>\n",
              "      <th>Tem_casa_propria</th>\n",
              "      <th>Qtd_filhos</th>\n",
              "      <th>Rendimento_anual</th>\n",
              "      <th>Categoria_de_renda</th>\n",
              "      <th>Grau_escolaridade</th>\n",
              "      <th>Estado_civil</th>\n",
              "      <th>Moradia</th>\n",
              "      <th>Idade</th>\n",
              "      <th>Anos_empregado</th>\n",
              "      <th>Tem_celular</th>\n",
              "      <th>Tem_telefone_trabalho</th>\n",
              "      <th>Tem_telefone_fixo</th>\n",
              "      <th>Tem_email</th>\n",
              "      <th>Ocupacao</th>\n",
              "      <th>Tamanho_familia</th>\n",
              "    </tr>\n",
              "  </thead>\n",
              "  <tbody>\n",
              "    <tr>\n",
              "      <th>0</th>\n",
              "      <td>5008804</td>\n",
              "      <td>M</td>\n",
              "      <td>Y</td>\n",
              "      <td>Y</td>\n",
              "      <td>0</td>\n",
              "      <td>427500.0</td>\n",
              "      <td>Empregado</td>\n",
              "      <td>Ensino superior</td>\n",
              "      <td>União-estável</td>\n",
              "      <td>Apartamento alugado</td>\n",
              "      <td>-12005</td>\n",
              "      <td>-4542</td>\n",
              "      <td>1</td>\n",
              "      <td>1</td>\n",
              "      <td>0</td>\n",
              "      <td>0</td>\n",
              "      <td>NaN</td>\n",
              "      <td>2.0</td>\n",
              "    </tr>\n",
              "    <tr>\n",
              "      <th>1</th>\n",
              "      <td>5008805</td>\n",
              "      <td>M</td>\n",
              "      <td>Y</td>\n",
              "      <td>Y</td>\n",
              "      <td>0</td>\n",
              "      <td>427500.0</td>\n",
              "      <td>Empregado</td>\n",
              "      <td>Ensino superior</td>\n",
              "      <td>União-estável</td>\n",
              "      <td>Apartamento alugado</td>\n",
              "      <td>-12005</td>\n",
              "      <td>-4542</td>\n",
              "      <td>1</td>\n",
              "      <td>1</td>\n",
              "      <td>0</td>\n",
              "      <td>0</td>\n",
              "      <td>NaN</td>\n",
              "      <td>2.0</td>\n",
              "    </tr>\n",
              "    <tr>\n",
              "      <th>2</th>\n",
              "      <td>5008806</td>\n",
              "      <td>M</td>\n",
              "      <td>Y</td>\n",
              "      <td>Y</td>\n",
              "      <td>0</td>\n",
              "      <td>112500.0</td>\n",
              "      <td>Empregado</td>\n",
              "      <td>Ensino médio</td>\n",
              "      <td>Casado</td>\n",
              "      <td>Casa/apartamento próprio</td>\n",
              "      <td>-21474</td>\n",
              "      <td>-1134</td>\n",
              "      <td>1</td>\n",
              "      <td>0</td>\n",
              "      <td>0</td>\n",
              "      <td>0</td>\n",
              "      <td>Segurança</td>\n",
              "      <td>2.0</td>\n",
              "    </tr>\n",
              "    <tr>\n",
              "      <th>3</th>\n",
              "      <td>5008808</td>\n",
              "      <td>F</td>\n",
              "      <td>N</td>\n",
              "      <td>Y</td>\n",
              "      <td>0</td>\n",
              "      <td>270000.0</td>\n",
              "      <td>Associado comercial</td>\n",
              "      <td>Ensino médio</td>\n",
              "      <td>Solteiro</td>\n",
              "      <td>Casa/apartamento próprio</td>\n",
              "      <td>-19110</td>\n",
              "      <td>-3051</td>\n",
              "      <td>1</td>\n",
              "      <td>0</td>\n",
              "      <td>1</td>\n",
              "      <td>1</td>\n",
              "      <td>Vendas</td>\n",
              "      <td>1.0</td>\n",
              "    </tr>\n",
              "    <tr>\n",
              "      <th>4</th>\n",
              "      <td>5008809</td>\n",
              "      <td>F</td>\n",
              "      <td>N</td>\n",
              "      <td>Y</td>\n",
              "      <td>0</td>\n",
              "      <td>270000.0</td>\n",
              "      <td>Associado comercial</td>\n",
              "      <td>Ensino médio</td>\n",
              "      <td>Solteiro</td>\n",
              "      <td>Casa/apartamento próprio</td>\n",
              "      <td>-19110</td>\n",
              "      <td>-3051</td>\n",
              "      <td>1</td>\n",
              "      <td>0</td>\n",
              "      <td>1</td>\n",
              "      <td>1</td>\n",
              "      <td>Vendas</td>\n",
              "      <td>1.0</td>\n",
              "    </tr>\n",
              "  </tbody>\n",
              "</table>\n",
              "</div>\n",
              "      <button class=\"colab-df-convert\" onclick=\"convertToInteractive('df-2074e480-e8e9-40a7-9711-b0bdfa764d9d')\"\n",
              "              title=\"Convert this dataframe to an interactive table.\"\n",
              "              style=\"display:none;\">\n",
              "        \n",
              "  <svg xmlns=\"http://www.w3.org/2000/svg\" height=\"24px\"viewBox=\"0 0 24 24\"\n",
              "       width=\"24px\">\n",
              "    <path d=\"M0 0h24v24H0V0z\" fill=\"none\"/>\n",
              "    <path d=\"M18.56 5.44l.94 2.06.94-2.06 2.06-.94-2.06-.94-.94-2.06-.94 2.06-2.06.94zm-11 1L8.5 8.5l.94-2.06 2.06-.94-2.06-.94L8.5 2.5l-.94 2.06-2.06.94zm10 10l.94 2.06.94-2.06 2.06-.94-2.06-.94-.94-2.06-.94 2.06-2.06.94z\"/><path d=\"M17.41 7.96l-1.37-1.37c-.4-.4-.92-.59-1.43-.59-.52 0-1.04.2-1.43.59L10.3 9.45l-7.72 7.72c-.78.78-.78 2.05 0 2.83L4 21.41c.39.39.9.59 1.41.59.51 0 1.02-.2 1.41-.59l7.78-7.78 2.81-2.81c.8-.78.8-2.07 0-2.86zM5.41 20L4 18.59l7.72-7.72 1.47 1.35L5.41 20z\"/>\n",
              "  </svg>\n",
              "      </button>\n",
              "      \n",
              "  <style>\n",
              "    .colab-df-container {\n",
              "      display:flex;\n",
              "      flex-wrap:wrap;\n",
              "      gap: 12px;\n",
              "    }\n",
              "\n",
              "    .colab-df-convert {\n",
              "      background-color: #E8F0FE;\n",
              "      border: none;\n",
              "      border-radius: 50%;\n",
              "      cursor: pointer;\n",
              "      display: none;\n",
              "      fill: #1967D2;\n",
              "      height: 32px;\n",
              "      padding: 0 0 0 0;\n",
              "      width: 32px;\n",
              "    }\n",
              "\n",
              "    .colab-df-convert:hover {\n",
              "      background-color: #E2EBFA;\n",
              "      box-shadow: 0px 1px 2px rgba(60, 64, 67, 0.3), 0px 1px 3px 1px rgba(60, 64, 67, 0.15);\n",
              "      fill: #174EA6;\n",
              "    }\n",
              "\n",
              "    [theme=dark] .colab-df-convert {\n",
              "      background-color: #3B4455;\n",
              "      fill: #D2E3FC;\n",
              "    }\n",
              "\n",
              "    [theme=dark] .colab-df-convert:hover {\n",
              "      background-color: #434B5C;\n",
              "      box-shadow: 0px 1px 3px 1px rgba(0, 0, 0, 0.15);\n",
              "      filter: drop-shadow(0px 1px 2px rgba(0, 0, 0, 0.3));\n",
              "      fill: #FFFFFF;\n",
              "    }\n",
              "  </style>\n",
              "\n",
              "      <script>\n",
              "        const buttonEl =\n",
              "          document.querySelector('#df-2074e480-e8e9-40a7-9711-b0bdfa764d9d button.colab-df-convert');\n",
              "        buttonEl.style.display =\n",
              "          google.colab.kernel.accessAllowed ? 'block' : 'none';\n",
              "\n",
              "        async function convertToInteractive(key) {\n",
              "          const element = document.querySelector('#df-2074e480-e8e9-40a7-9711-b0bdfa764d9d');\n",
              "          const dataTable =\n",
              "            await google.colab.kernel.invokeFunction('convertToInteractive',\n",
              "                                                     [key], {});\n",
              "          if (!dataTable) return;\n",
              "\n",
              "          const docLinkHtml = 'Like what you see? Visit the ' +\n",
              "            '<a target=\"_blank\" href=https://colab.research.google.com/notebooks/data_table.ipynb>data table notebook</a>'\n",
              "            + ' to learn more about interactive tables.';\n",
              "          element.innerHTML = '';\n",
              "          dataTable['output_type'] = 'display_data';\n",
              "          await google.colab.output.renderOutput(dataTable, element);\n",
              "          const docLink = document.createElement('div');\n",
              "          docLink.innerHTML = docLinkHtml;\n",
              "          element.appendChild(docLink);\n",
              "        }\n",
              "      </script>\n",
              "    </div>\n",
              "  </div>\n",
              "  "
            ]
          },
          "metadata": {},
          "execution_count": 3
        }
      ]
    },
    {
      "cell_type": "code",
      "source": [
        "cadastrados.shape"
      ],
      "metadata": {
        "colab": {
          "base_uri": "https://localhost:8080/"
        },
        "id": "S6Xr5_oqPrbM",
        "outputId": "8974f04b-3ddb-46f7-dfe5-d21cdc85fbc5"
      },
      "execution_count": null,
      "outputs": [
        {
          "output_type": "execute_result",
          "data": {
            "text/plain": [
              "(438557, 18)"
            ]
          },
          "metadata": {},
          "execution_count": 4
        }
      ]
    },
    {
      "cell_type": "code",
      "source": [
        "cadastrados['ID_Cliente'].value_counts()"
      ],
      "metadata": {
        "colab": {
          "base_uri": "https://localhost:8080/"
        },
        "id": "qjbDqHuDI3t_",
        "outputId": "a2946da7-ff97-4809-af54-e12d356a635c"
      },
      "execution_count": null,
      "outputs": [
        {
          "output_type": "execute_result",
          "data": {
            "text/plain": [
              "7137299    2\n",
              "7702238    2\n",
              "7282535    2\n",
              "7243768    2\n",
              "7050948    2\n",
              "          ..\n",
              "5690727    1\n",
              "6621262    1\n",
              "6621261    1\n",
              "6621260    1\n",
              "6842885    1\n",
              "Name: ID_Cliente, Length: 438510, dtype: int64"
            ]
          },
          "metadata": {},
          "execution_count": 5
        }
      ]
    },
    {
      "cell_type": "code",
      "source": [
        "cadastrados.duplicated().sum()"
      ],
      "metadata": {
        "colab": {
          "base_uri": "https://localhost:8080/"
        },
        "id": "8uydmQOQP4wo",
        "outputId": "48d6c8ef-6471-4c2c-c930-ea6a5d4f8b4a"
      },
      "execution_count": null,
      "outputs": [
        {
          "output_type": "execute_result",
          "data": {
            "text/plain": [
              "0"
            ]
          },
          "metadata": {},
          "execution_count": 6
        }
      ]
    },
    {
      "cell_type": "code",
      "source": [
        "cadastrados['ID_Cliente'].duplicated()"
      ],
      "metadata": {
        "colab": {
          "base_uri": "https://localhost:8080/"
        },
        "id": "GyO4ER0wP4zN",
        "outputId": "ab5207e2-643b-41d7-b090-b4f2d9e06bac"
      },
      "execution_count": null,
      "outputs": [
        {
          "output_type": "execute_result",
          "data": {
            "text/plain": [
              "0         False\n",
              "1         False\n",
              "2         False\n",
              "3         False\n",
              "4         False\n",
              "          ...  \n",
              "438552    False\n",
              "438553    False\n",
              "438554    False\n",
              "438555    False\n",
              "438556    False\n",
              "Name: ID_Cliente, Length: 438557, dtype: bool"
            ]
          },
          "metadata": {},
          "execution_count": 7
        }
      ]
    },
    {
      "cell_type": "code",
      "source": [
        "cadastrados[cadastrados['ID_Cliente'].duplicated(keep=False)].shape"
      ],
      "metadata": {
        "colab": {
          "base_uri": "https://localhost:8080/"
        },
        "id": "fV13ueFsP41Z",
        "outputId": "7a387c11-4051-4b24-95fd-0bbed53961a1"
      },
      "execution_count": null,
      "outputs": [
        {
          "output_type": "execute_result",
          "data": {
            "text/plain": [
              "(94, 18)"
            ]
          },
          "metadata": {},
          "execution_count": 8
        }
      ]
    },
    {
      "cell_type": "code",
      "source": [
        "id_repetidos = cadastrados[cadastrados['ID_Cliente'].duplicated(keep=False)]['ID_Cliente']"
      ],
      "metadata": {
        "id": "FIfogHFvP43f"
      },
      "execution_count": null,
      "outputs": []
    },
    {
      "cell_type": "code",
      "source": [
        "df_cadastrados_limpo = cadastrados.drop(id_repetidos.index)"
      ],
      "metadata": {
        "id": "twokveaEP453"
      },
      "execution_count": null,
      "outputs": []
    },
    {
      "cell_type": "code",
      "source": [
        "df_cadastrados_limpo.head()"
      ],
      "metadata": {
        "colab": {
          "base_uri": "https://localhost:8080/",
          "height": 357
        },
        "id": "NJiCM_IvP48O",
        "outputId": "4f209cd0-524c-4e72-f371-dd9675265cad"
      },
      "execution_count": null,
      "outputs": [
        {
          "output_type": "execute_result",
          "data": {
            "text/plain": [
              "   ID_Cliente Genero Tem_carro Tem_casa_propria  Qtd_filhos  Rendimento_anual  \\\n",
              "0     5008804      M         Y                Y           0          427500.0   \n",
              "1     5008805      M         Y                Y           0          427500.0   \n",
              "2     5008806      M         Y                Y           0          112500.0   \n",
              "3     5008808      F         N                Y           0          270000.0   \n",
              "4     5008809      F         N                Y           0          270000.0   \n",
              "\n",
              "    Categoria_de_renda Grau_escolaridade   Estado_civil  \\\n",
              "0            Empregado   Ensino superior  União-estável   \n",
              "1            Empregado   Ensino superior  União-estável   \n",
              "2            Empregado      Ensino médio         Casado   \n",
              "3  Associado comercial      Ensino médio       Solteiro   \n",
              "4  Associado comercial      Ensino médio       Solteiro   \n",
              "\n",
              "                    Moradia  Idade  Anos_empregado  Tem_celular  \\\n",
              "0       Apartamento alugado -12005           -4542            1   \n",
              "1       Apartamento alugado -12005           -4542            1   \n",
              "2  Casa/apartamento próprio -21474           -1134            1   \n",
              "3  Casa/apartamento próprio -19110           -3051            1   \n",
              "4  Casa/apartamento próprio -19110           -3051            1   \n",
              "\n",
              "   Tem_telefone_trabalho  Tem_telefone_fixo  Tem_email   Ocupacao  \\\n",
              "0                      1                  0          0        NaN   \n",
              "1                      1                  0          0        NaN   \n",
              "2                      0                  0          0  Segurança   \n",
              "3                      0                  1          1     Vendas   \n",
              "4                      0                  1          1     Vendas   \n",
              "\n",
              "   Tamanho_familia  \n",
              "0              2.0  \n",
              "1              2.0  \n",
              "2              2.0  \n",
              "3              1.0  \n",
              "4              1.0  "
            ],
            "text/html": [
              "\n",
              "  <div id=\"df-29a23bdc-f205-434b-8481-5fd092ee7910\">\n",
              "    <div class=\"colab-df-container\">\n",
              "      <div>\n",
              "<style scoped>\n",
              "    .dataframe tbody tr th:only-of-type {\n",
              "        vertical-align: middle;\n",
              "    }\n",
              "\n",
              "    .dataframe tbody tr th {\n",
              "        vertical-align: top;\n",
              "    }\n",
              "\n",
              "    .dataframe thead th {\n",
              "        text-align: right;\n",
              "    }\n",
              "</style>\n",
              "<table border=\"1\" class=\"dataframe\">\n",
              "  <thead>\n",
              "    <tr style=\"text-align: right;\">\n",
              "      <th></th>\n",
              "      <th>ID_Cliente</th>\n",
              "      <th>Genero</th>\n",
              "      <th>Tem_carro</th>\n",
              "      <th>Tem_casa_propria</th>\n",
              "      <th>Qtd_filhos</th>\n",
              "      <th>Rendimento_anual</th>\n",
              "      <th>Categoria_de_renda</th>\n",
              "      <th>Grau_escolaridade</th>\n",
              "      <th>Estado_civil</th>\n",
              "      <th>Moradia</th>\n",
              "      <th>Idade</th>\n",
              "      <th>Anos_empregado</th>\n",
              "      <th>Tem_celular</th>\n",
              "      <th>Tem_telefone_trabalho</th>\n",
              "      <th>Tem_telefone_fixo</th>\n",
              "      <th>Tem_email</th>\n",
              "      <th>Ocupacao</th>\n",
              "      <th>Tamanho_familia</th>\n",
              "    </tr>\n",
              "  </thead>\n",
              "  <tbody>\n",
              "    <tr>\n",
              "      <th>0</th>\n",
              "      <td>5008804</td>\n",
              "      <td>M</td>\n",
              "      <td>Y</td>\n",
              "      <td>Y</td>\n",
              "      <td>0</td>\n",
              "      <td>427500.0</td>\n",
              "      <td>Empregado</td>\n",
              "      <td>Ensino superior</td>\n",
              "      <td>União-estável</td>\n",
              "      <td>Apartamento alugado</td>\n",
              "      <td>-12005</td>\n",
              "      <td>-4542</td>\n",
              "      <td>1</td>\n",
              "      <td>1</td>\n",
              "      <td>0</td>\n",
              "      <td>0</td>\n",
              "      <td>NaN</td>\n",
              "      <td>2.0</td>\n",
              "    </tr>\n",
              "    <tr>\n",
              "      <th>1</th>\n",
              "      <td>5008805</td>\n",
              "      <td>M</td>\n",
              "      <td>Y</td>\n",
              "      <td>Y</td>\n",
              "      <td>0</td>\n",
              "      <td>427500.0</td>\n",
              "      <td>Empregado</td>\n",
              "      <td>Ensino superior</td>\n",
              "      <td>União-estável</td>\n",
              "      <td>Apartamento alugado</td>\n",
              "      <td>-12005</td>\n",
              "      <td>-4542</td>\n",
              "      <td>1</td>\n",
              "      <td>1</td>\n",
              "      <td>0</td>\n",
              "      <td>0</td>\n",
              "      <td>NaN</td>\n",
              "      <td>2.0</td>\n",
              "    </tr>\n",
              "    <tr>\n",
              "      <th>2</th>\n",
              "      <td>5008806</td>\n",
              "      <td>M</td>\n",
              "      <td>Y</td>\n",
              "      <td>Y</td>\n",
              "      <td>0</td>\n",
              "      <td>112500.0</td>\n",
              "      <td>Empregado</td>\n",
              "      <td>Ensino médio</td>\n",
              "      <td>Casado</td>\n",
              "      <td>Casa/apartamento próprio</td>\n",
              "      <td>-21474</td>\n",
              "      <td>-1134</td>\n",
              "      <td>1</td>\n",
              "      <td>0</td>\n",
              "      <td>0</td>\n",
              "      <td>0</td>\n",
              "      <td>Segurança</td>\n",
              "      <td>2.0</td>\n",
              "    </tr>\n",
              "    <tr>\n",
              "      <th>3</th>\n",
              "      <td>5008808</td>\n",
              "      <td>F</td>\n",
              "      <td>N</td>\n",
              "      <td>Y</td>\n",
              "      <td>0</td>\n",
              "      <td>270000.0</td>\n",
              "      <td>Associado comercial</td>\n",
              "      <td>Ensino médio</td>\n",
              "      <td>Solteiro</td>\n",
              "      <td>Casa/apartamento próprio</td>\n",
              "      <td>-19110</td>\n",
              "      <td>-3051</td>\n",
              "      <td>1</td>\n",
              "      <td>0</td>\n",
              "      <td>1</td>\n",
              "      <td>1</td>\n",
              "      <td>Vendas</td>\n",
              "      <td>1.0</td>\n",
              "    </tr>\n",
              "    <tr>\n",
              "      <th>4</th>\n",
              "      <td>5008809</td>\n",
              "      <td>F</td>\n",
              "      <td>N</td>\n",
              "      <td>Y</td>\n",
              "      <td>0</td>\n",
              "      <td>270000.0</td>\n",
              "      <td>Associado comercial</td>\n",
              "      <td>Ensino médio</td>\n",
              "      <td>Solteiro</td>\n",
              "      <td>Casa/apartamento próprio</td>\n",
              "      <td>-19110</td>\n",
              "      <td>-3051</td>\n",
              "      <td>1</td>\n",
              "      <td>0</td>\n",
              "      <td>1</td>\n",
              "      <td>1</td>\n",
              "      <td>Vendas</td>\n",
              "      <td>1.0</td>\n",
              "    </tr>\n",
              "  </tbody>\n",
              "</table>\n",
              "</div>\n",
              "      <button class=\"colab-df-convert\" onclick=\"convertToInteractive('df-29a23bdc-f205-434b-8481-5fd092ee7910')\"\n",
              "              title=\"Convert this dataframe to an interactive table.\"\n",
              "              style=\"display:none;\">\n",
              "        \n",
              "  <svg xmlns=\"http://www.w3.org/2000/svg\" height=\"24px\"viewBox=\"0 0 24 24\"\n",
              "       width=\"24px\">\n",
              "    <path d=\"M0 0h24v24H0V0z\" fill=\"none\"/>\n",
              "    <path d=\"M18.56 5.44l.94 2.06.94-2.06 2.06-.94-2.06-.94-.94-2.06-.94 2.06-2.06.94zm-11 1L8.5 8.5l.94-2.06 2.06-.94-2.06-.94L8.5 2.5l-.94 2.06-2.06.94zm10 10l.94 2.06.94-2.06 2.06-.94-2.06-.94-.94-2.06-.94 2.06-2.06.94z\"/><path d=\"M17.41 7.96l-1.37-1.37c-.4-.4-.92-.59-1.43-.59-.52 0-1.04.2-1.43.59L10.3 9.45l-7.72 7.72c-.78.78-.78 2.05 0 2.83L4 21.41c.39.39.9.59 1.41.59.51 0 1.02-.2 1.41-.59l7.78-7.78 2.81-2.81c.8-.78.8-2.07 0-2.86zM5.41 20L4 18.59l7.72-7.72 1.47 1.35L5.41 20z\"/>\n",
              "  </svg>\n",
              "      </button>\n",
              "      \n",
              "  <style>\n",
              "    .colab-df-container {\n",
              "      display:flex;\n",
              "      flex-wrap:wrap;\n",
              "      gap: 12px;\n",
              "    }\n",
              "\n",
              "    .colab-df-convert {\n",
              "      background-color: #E8F0FE;\n",
              "      border: none;\n",
              "      border-radius: 50%;\n",
              "      cursor: pointer;\n",
              "      display: none;\n",
              "      fill: #1967D2;\n",
              "      height: 32px;\n",
              "      padding: 0 0 0 0;\n",
              "      width: 32px;\n",
              "    }\n",
              "\n",
              "    .colab-df-convert:hover {\n",
              "      background-color: #E2EBFA;\n",
              "      box-shadow: 0px 1px 2px rgba(60, 64, 67, 0.3), 0px 1px 3px 1px rgba(60, 64, 67, 0.15);\n",
              "      fill: #174EA6;\n",
              "    }\n",
              "\n",
              "    [theme=dark] .colab-df-convert {\n",
              "      background-color: #3B4455;\n",
              "      fill: #D2E3FC;\n",
              "    }\n",
              "\n",
              "    [theme=dark] .colab-df-convert:hover {\n",
              "      background-color: #434B5C;\n",
              "      box-shadow: 0px 1px 3px 1px rgba(0, 0, 0, 0.15);\n",
              "      filter: drop-shadow(0px 1px 2px rgba(0, 0, 0, 0.3));\n",
              "      fill: #FFFFFF;\n",
              "    }\n",
              "  </style>\n",
              "\n",
              "      <script>\n",
              "        const buttonEl =\n",
              "          document.querySelector('#df-29a23bdc-f205-434b-8481-5fd092ee7910 button.colab-df-convert');\n",
              "        buttonEl.style.display =\n",
              "          google.colab.kernel.accessAllowed ? 'block' : 'none';\n",
              "\n",
              "        async function convertToInteractive(key) {\n",
              "          const element = document.querySelector('#df-29a23bdc-f205-434b-8481-5fd092ee7910');\n",
              "          const dataTable =\n",
              "            await google.colab.kernel.invokeFunction('convertToInteractive',\n",
              "                                                     [key], {});\n",
              "          if (!dataTable) return;\n",
              "\n",
              "          const docLinkHtml = 'Like what you see? Visit the ' +\n",
              "            '<a target=\"_blank\" href=https://colab.research.google.com/notebooks/data_table.ipynb>data table notebook</a>'\n",
              "            + ' to learn more about interactive tables.';\n",
              "          element.innerHTML = '';\n",
              "          dataTable['output_type'] = 'display_data';\n",
              "          await google.colab.output.renderOutput(dataTable, element);\n",
              "          const docLink = document.createElement('div');\n",
              "          docLink.innerHTML = docLinkHtml;\n",
              "          element.appendChild(docLink);\n",
              "        }\n",
              "      </script>\n",
              "    </div>\n",
              "  </div>\n",
              "  "
            ]
          },
          "metadata": {},
          "execution_count": 11
        }
      ]
    },
    {
      "cell_type": "code",
      "source": [
        "df_cadastrados_limpo['ID_Cliente'].value_counts()"
      ],
      "metadata": {
        "colab": {
          "base_uri": "https://localhost:8080/"
        },
        "id": "RSc49D0RRNH3",
        "outputId": "70b6fcaa-d4bf-4a72-e64f-e98b6e27d1c8"
      },
      "execution_count": null,
      "outputs": [
        {
          "output_type": "execute_result",
          "data": {
            "text/plain": [
              "5008804    1\n",
              "6147691    1\n",
              "6147689    1\n",
              "6147688    1\n",
              "6147685    1\n",
              "          ..\n",
              "6093492    1\n",
              "5690720    1\n",
              "6538938    1\n",
              "6538937    1\n",
              "6842885    1\n",
              "Name: ID_Cliente, Length: 438463, dtype: int64"
            ]
          },
          "metadata": {},
          "execution_count": 12
        }
      ]
    },
    {
      "cell_type": "code",
      "source": [
        "df_cadastrados_limpo.isnull().sum()"
      ],
      "metadata": {
        "colab": {
          "base_uri": "https://localhost:8080/"
        },
        "id": "Y9oNYQBIRNKa",
        "outputId": "d3152aad-0159-4fae-e2f3-fc9012e917b3"
      },
      "execution_count": null,
      "outputs": [
        {
          "output_type": "execute_result",
          "data": {
            "text/plain": [
              "ID_Cliente                    0\n",
              "Genero                        0\n",
              "Tem_carro                     0\n",
              "Tem_casa_propria              0\n",
              "Qtd_filhos                    0\n",
              "Rendimento_anual              0\n",
              "Categoria_de_renda            0\n",
              "Grau_escolaridade             0\n",
              "Estado_civil                  0\n",
              "Moradia                       0\n",
              "Idade                         0\n",
              "Anos_empregado                0\n",
              "Tem_celular                   0\n",
              "Tem_telefone_trabalho         0\n",
              "Tem_telefone_fixo             0\n",
              "Tem_email                     0\n",
              "Ocupacao                 134177\n",
              "Tamanho_familia               0\n",
              "dtype: int64"
            ]
          },
          "metadata": {},
          "execution_count": 13
        }
      ]
    },
    {
      "cell_type": "code",
      "source": [
        "df_cadastrados_limpo['Ocupacao'].unique()"
      ],
      "metadata": {
        "colab": {
          "base_uri": "https://localhost:8080/"
        },
        "id": "DBc-_B2nRNMt",
        "outputId": "5c0df51c-82d7-4c5e-c62b-9b87152438a9"
      },
      "execution_count": null,
      "outputs": [
        {
          "output_type": "execute_result",
          "data": {
            "text/plain": [
              "array([nan, 'Segurança', 'Vendas', 'Contabilidade', 'Construção Civil',\n",
              "       'Gerência', 'Motorista', 'Equipe principal', 'Alta tecnologia',\n",
              "       'Limpeza', 'Serviço privado', 'Cozinha', 'Baixa qualificação',\n",
              "       'Medicina', 'Secretariado', 'Garçom', 'RH', 'Corretor imobiliário',\n",
              "       'TI'], dtype=object)"
            ]
          },
          "metadata": {},
          "execution_count": 14
        }
      ]
    },
    {
      "cell_type": "code",
      "source": [
        "df_cadastrados_limpo['Ocupacao'].fillna(value='Outro', inplace=True)"
      ],
      "metadata": {
        "id": "RzSEzMM8RNOe"
      },
      "execution_count": null,
      "outputs": []
    },
    {
      "cell_type": "code",
      "source": [
        "df_cadastrados_limpo.nunique()"
      ],
      "metadata": {
        "colab": {
          "base_uri": "https://localhost:8080/"
        },
        "id": "ikS2ycAlRNQz",
        "outputId": "edd74f87-3e44-4a36-d03a-c87a4813b6d2"
      },
      "execution_count": null,
      "outputs": [
        {
          "output_type": "execute_result",
          "data": {
            "text/plain": [
              "ID_Cliente               438463\n",
              "Genero                        2\n",
              "Tem_carro                     2\n",
              "Tem_casa_propria              2\n",
              "Qtd_filhos                   12\n",
              "Rendimento_anual            866\n",
              "Categoria_de_renda            5\n",
              "Grau_escolaridade             5\n",
              "Estado_civil                  5\n",
              "Moradia                       6\n",
              "Idade                     16379\n",
              "Anos_empregado             9406\n",
              "Tem_celular                   1\n",
              "Tem_telefone_trabalho         2\n",
              "Tem_telefone_fixo             2\n",
              "Tem_email                     2\n",
              "Ocupacao                     19\n",
              "Tamanho_familia              13\n",
              "dtype: int64"
            ]
          },
          "metadata": {},
          "execution_count": 16
        }
      ]
    },
    {
      "cell_type": "code",
      "source": [
        "df_cadastrados_limpo.drop('Genero', axis=1, inplace=True)"
      ],
      "metadata": {
        "id": "ddBmEiNMSAF7"
      },
      "execution_count": null,
      "outputs": []
    },
    {
      "cell_type": "code",
      "source": [
        "df_cadastrados_limpo.drop('Tem_celular', axis=1, inplace=True)"
      ],
      "metadata": {
        "id": "dKX6kTGURNT2"
      },
      "execution_count": null,
      "outputs": []
    },
    {
      "cell_type": "code",
      "source": [
        "df_cadastrados_limpo['Tem_carro'].unique()"
      ],
      "metadata": {
        "colab": {
          "base_uri": "https://localhost:8080/"
        },
        "id": "EAtIgc_cR2yE",
        "outputId": "ee628844-98f9-42db-b5e3-1b6d0dbe2858"
      },
      "execution_count": null,
      "outputs": [
        {
          "output_type": "execute_result",
          "data": {
            "text/plain": [
              "array(['Y', 'N'], dtype=object)"
            ]
          },
          "metadata": {},
          "execution_count": 19
        }
      ]
    },
    {
      "cell_type": "code",
      "source": [
        "df_cadastrados_limpo['Tem_casa_propria'].unique()"
      ],
      "metadata": {
        "colab": {
          "base_uri": "https://localhost:8080/"
        },
        "id": "mmmwBdqbR20c",
        "outputId": "ccfb6da8-6f5b-4e45-bbc3-400d41f6e276"
      },
      "execution_count": null,
      "outputs": [
        {
          "output_type": "execute_result",
          "data": {
            "text/plain": [
              "array(['Y', 'N'], dtype=object)"
            ]
          },
          "metadata": {},
          "execution_count": 20
        }
      ]
    },
    {
      "cell_type": "code",
      "source": [
        "df_cadastrados_limpo['Tem_telefone_trabalho'].unique()"
      ],
      "metadata": {
        "colab": {
          "base_uri": "https://localhost:8080/"
        },
        "id": "3he_WVtFR23B",
        "outputId": "cc90f168-f74e-4369-c236-ddaecaf165af"
      },
      "execution_count": null,
      "outputs": [
        {
          "output_type": "execute_result",
          "data": {
            "text/plain": [
              "array([1, 0])"
            ]
          },
          "metadata": {},
          "execution_count": 21
        }
      ]
    },
    {
      "cell_type": "code",
      "source": [
        "df_cadastrados_limpo['Tem_telefone_fixo'].unique()"
      ],
      "metadata": {
        "colab": {
          "base_uri": "https://localhost:8080/"
        },
        "id": "FJdS-03FSLi2",
        "outputId": "ba49a869-9314-41e5-98b6-3f81569f9694"
      },
      "execution_count": null,
      "outputs": [
        {
          "output_type": "execute_result",
          "data": {
            "text/plain": [
              "array([0, 1])"
            ]
          },
          "metadata": {},
          "execution_count": 22
        }
      ]
    },
    {
      "cell_type": "code",
      "source": [
        "df_cadastrados_limpo['Tem_email'].unique()"
      ],
      "metadata": {
        "colab": {
          "base_uri": "https://localhost:8080/"
        },
        "id": "-T7PHIBgSLlH",
        "outputId": "e496ac0c-0b14-45a4-eeba-9aa707a027ab"
      },
      "execution_count": null,
      "outputs": [
        {
          "output_type": "execute_result",
          "data": {
            "text/plain": [
              "array([0, 1])"
            ]
          },
          "metadata": {},
          "execution_count": 23
        }
      ]
    },
    {
      "cell_type": "code",
      "source": [
        "df_cadastrados_limpo['Tem_carro'] = df_cadastrados_limpo['Tem_carro'].replace(['Y','N'],[1,0])\n",
        "df_cadastrados_limpo['Tem_casa_propria'] = df_cadastrados_limpo['Tem_casa_propria'].replace(['Y','N'],[1,0])"
      ],
      "metadata": {
        "id": "V9Q1-CtKSLnl"
      },
      "execution_count": null,
      "outputs": []
    },
    {
      "cell_type": "code",
      "source": [
        "df_cadastrados_limpo.head()"
      ],
      "metadata": {
        "colab": {
          "base_uri": "https://localhost:8080/",
          "height": 357
        },
        "id": "bfzyqV0JSlSw",
        "outputId": "3ec929b0-ac23-4c75-edc2-702815285e01"
      },
      "execution_count": null,
      "outputs": [
        {
          "output_type": "execute_result",
          "data": {
            "text/plain": [
              "   ID_Cliente  Tem_carro  Tem_casa_propria  Qtd_filhos  Rendimento_anual  \\\n",
              "0     5008804          1                 1           0          427500.0   \n",
              "1     5008805          1                 1           0          427500.0   \n",
              "2     5008806          1                 1           0          112500.0   \n",
              "3     5008808          0                 1           0          270000.0   \n",
              "4     5008809          0                 1           0          270000.0   \n",
              "\n",
              "    Categoria_de_renda Grau_escolaridade   Estado_civil  \\\n",
              "0            Empregado   Ensino superior  União-estável   \n",
              "1            Empregado   Ensino superior  União-estável   \n",
              "2            Empregado      Ensino médio         Casado   \n",
              "3  Associado comercial      Ensino médio       Solteiro   \n",
              "4  Associado comercial      Ensino médio       Solteiro   \n",
              "\n",
              "                    Moradia  Idade  Anos_empregado  Tem_telefone_trabalho  \\\n",
              "0       Apartamento alugado -12005           -4542                      1   \n",
              "1       Apartamento alugado -12005           -4542                      1   \n",
              "2  Casa/apartamento próprio -21474           -1134                      0   \n",
              "3  Casa/apartamento próprio -19110           -3051                      0   \n",
              "4  Casa/apartamento próprio -19110           -3051                      0   \n",
              "\n",
              "   Tem_telefone_fixo  Tem_email   Ocupacao  Tamanho_familia  \n",
              "0                  0          0      Outro              2.0  \n",
              "1                  0          0      Outro              2.0  \n",
              "2                  0          0  Segurança              2.0  \n",
              "3                  1          1     Vendas              1.0  \n",
              "4                  1          1     Vendas              1.0  "
            ],
            "text/html": [
              "\n",
              "  <div id=\"df-577b2016-33f5-4e2b-ae8d-4a89cd5cd7e2\">\n",
              "    <div class=\"colab-df-container\">\n",
              "      <div>\n",
              "<style scoped>\n",
              "    .dataframe tbody tr th:only-of-type {\n",
              "        vertical-align: middle;\n",
              "    }\n",
              "\n",
              "    .dataframe tbody tr th {\n",
              "        vertical-align: top;\n",
              "    }\n",
              "\n",
              "    .dataframe thead th {\n",
              "        text-align: right;\n",
              "    }\n",
              "</style>\n",
              "<table border=\"1\" class=\"dataframe\">\n",
              "  <thead>\n",
              "    <tr style=\"text-align: right;\">\n",
              "      <th></th>\n",
              "      <th>ID_Cliente</th>\n",
              "      <th>Tem_carro</th>\n",
              "      <th>Tem_casa_propria</th>\n",
              "      <th>Qtd_filhos</th>\n",
              "      <th>Rendimento_anual</th>\n",
              "      <th>Categoria_de_renda</th>\n",
              "      <th>Grau_escolaridade</th>\n",
              "      <th>Estado_civil</th>\n",
              "      <th>Moradia</th>\n",
              "      <th>Idade</th>\n",
              "      <th>Anos_empregado</th>\n",
              "      <th>Tem_telefone_trabalho</th>\n",
              "      <th>Tem_telefone_fixo</th>\n",
              "      <th>Tem_email</th>\n",
              "      <th>Ocupacao</th>\n",
              "      <th>Tamanho_familia</th>\n",
              "    </tr>\n",
              "  </thead>\n",
              "  <tbody>\n",
              "    <tr>\n",
              "      <th>0</th>\n",
              "      <td>5008804</td>\n",
              "      <td>1</td>\n",
              "      <td>1</td>\n",
              "      <td>0</td>\n",
              "      <td>427500.0</td>\n",
              "      <td>Empregado</td>\n",
              "      <td>Ensino superior</td>\n",
              "      <td>União-estável</td>\n",
              "      <td>Apartamento alugado</td>\n",
              "      <td>-12005</td>\n",
              "      <td>-4542</td>\n",
              "      <td>1</td>\n",
              "      <td>0</td>\n",
              "      <td>0</td>\n",
              "      <td>Outro</td>\n",
              "      <td>2.0</td>\n",
              "    </tr>\n",
              "    <tr>\n",
              "      <th>1</th>\n",
              "      <td>5008805</td>\n",
              "      <td>1</td>\n",
              "      <td>1</td>\n",
              "      <td>0</td>\n",
              "      <td>427500.0</td>\n",
              "      <td>Empregado</td>\n",
              "      <td>Ensino superior</td>\n",
              "      <td>União-estável</td>\n",
              "      <td>Apartamento alugado</td>\n",
              "      <td>-12005</td>\n",
              "      <td>-4542</td>\n",
              "      <td>1</td>\n",
              "      <td>0</td>\n",
              "      <td>0</td>\n",
              "      <td>Outro</td>\n",
              "      <td>2.0</td>\n",
              "    </tr>\n",
              "    <tr>\n",
              "      <th>2</th>\n",
              "      <td>5008806</td>\n",
              "      <td>1</td>\n",
              "      <td>1</td>\n",
              "      <td>0</td>\n",
              "      <td>112500.0</td>\n",
              "      <td>Empregado</td>\n",
              "      <td>Ensino médio</td>\n",
              "      <td>Casado</td>\n",
              "      <td>Casa/apartamento próprio</td>\n",
              "      <td>-21474</td>\n",
              "      <td>-1134</td>\n",
              "      <td>0</td>\n",
              "      <td>0</td>\n",
              "      <td>0</td>\n",
              "      <td>Segurança</td>\n",
              "      <td>2.0</td>\n",
              "    </tr>\n",
              "    <tr>\n",
              "      <th>3</th>\n",
              "      <td>5008808</td>\n",
              "      <td>0</td>\n",
              "      <td>1</td>\n",
              "      <td>0</td>\n",
              "      <td>270000.0</td>\n",
              "      <td>Associado comercial</td>\n",
              "      <td>Ensino médio</td>\n",
              "      <td>Solteiro</td>\n",
              "      <td>Casa/apartamento próprio</td>\n",
              "      <td>-19110</td>\n",
              "      <td>-3051</td>\n",
              "      <td>0</td>\n",
              "      <td>1</td>\n",
              "      <td>1</td>\n",
              "      <td>Vendas</td>\n",
              "      <td>1.0</td>\n",
              "    </tr>\n",
              "    <tr>\n",
              "      <th>4</th>\n",
              "      <td>5008809</td>\n",
              "      <td>0</td>\n",
              "      <td>1</td>\n",
              "      <td>0</td>\n",
              "      <td>270000.0</td>\n",
              "      <td>Associado comercial</td>\n",
              "      <td>Ensino médio</td>\n",
              "      <td>Solteiro</td>\n",
              "      <td>Casa/apartamento próprio</td>\n",
              "      <td>-19110</td>\n",
              "      <td>-3051</td>\n",
              "      <td>0</td>\n",
              "      <td>1</td>\n",
              "      <td>1</td>\n",
              "      <td>Vendas</td>\n",
              "      <td>1.0</td>\n",
              "    </tr>\n",
              "  </tbody>\n",
              "</table>\n",
              "</div>\n",
              "      <button class=\"colab-df-convert\" onclick=\"convertToInteractive('df-577b2016-33f5-4e2b-ae8d-4a89cd5cd7e2')\"\n",
              "              title=\"Convert this dataframe to an interactive table.\"\n",
              "              style=\"display:none;\">\n",
              "        \n",
              "  <svg xmlns=\"http://www.w3.org/2000/svg\" height=\"24px\"viewBox=\"0 0 24 24\"\n",
              "       width=\"24px\">\n",
              "    <path d=\"M0 0h24v24H0V0z\" fill=\"none\"/>\n",
              "    <path d=\"M18.56 5.44l.94 2.06.94-2.06 2.06-.94-2.06-.94-.94-2.06-.94 2.06-2.06.94zm-11 1L8.5 8.5l.94-2.06 2.06-.94-2.06-.94L8.5 2.5l-.94 2.06-2.06.94zm10 10l.94 2.06.94-2.06 2.06-.94-2.06-.94-.94-2.06-.94 2.06-2.06.94z\"/><path d=\"M17.41 7.96l-1.37-1.37c-.4-.4-.92-.59-1.43-.59-.52 0-1.04.2-1.43.59L10.3 9.45l-7.72 7.72c-.78.78-.78 2.05 0 2.83L4 21.41c.39.39.9.59 1.41.59.51 0 1.02-.2 1.41-.59l7.78-7.78 2.81-2.81c.8-.78.8-2.07 0-2.86zM5.41 20L4 18.59l7.72-7.72 1.47 1.35L5.41 20z\"/>\n",
              "  </svg>\n",
              "      </button>\n",
              "      \n",
              "  <style>\n",
              "    .colab-df-container {\n",
              "      display:flex;\n",
              "      flex-wrap:wrap;\n",
              "      gap: 12px;\n",
              "    }\n",
              "\n",
              "    .colab-df-convert {\n",
              "      background-color: #E8F0FE;\n",
              "      border: none;\n",
              "      border-radius: 50%;\n",
              "      cursor: pointer;\n",
              "      display: none;\n",
              "      fill: #1967D2;\n",
              "      height: 32px;\n",
              "      padding: 0 0 0 0;\n",
              "      width: 32px;\n",
              "    }\n",
              "\n",
              "    .colab-df-convert:hover {\n",
              "      background-color: #E2EBFA;\n",
              "      box-shadow: 0px 1px 2px rgba(60, 64, 67, 0.3), 0px 1px 3px 1px rgba(60, 64, 67, 0.15);\n",
              "      fill: #174EA6;\n",
              "    }\n",
              "\n",
              "    [theme=dark] .colab-df-convert {\n",
              "      background-color: #3B4455;\n",
              "      fill: #D2E3FC;\n",
              "    }\n",
              "\n",
              "    [theme=dark] .colab-df-convert:hover {\n",
              "      background-color: #434B5C;\n",
              "      box-shadow: 0px 1px 3px 1px rgba(0, 0, 0, 0.15);\n",
              "      filter: drop-shadow(0px 1px 2px rgba(0, 0, 0, 0.3));\n",
              "      fill: #FFFFFF;\n",
              "    }\n",
              "  </style>\n",
              "\n",
              "      <script>\n",
              "        const buttonEl =\n",
              "          document.querySelector('#df-577b2016-33f5-4e2b-ae8d-4a89cd5cd7e2 button.colab-df-convert');\n",
              "        buttonEl.style.display =\n",
              "          google.colab.kernel.accessAllowed ? 'block' : 'none';\n",
              "\n",
              "        async function convertToInteractive(key) {\n",
              "          const element = document.querySelector('#df-577b2016-33f5-4e2b-ae8d-4a89cd5cd7e2');\n",
              "          const dataTable =\n",
              "            await google.colab.kernel.invokeFunction('convertToInteractive',\n",
              "                                                     [key], {});\n",
              "          if (!dataTable) return;\n",
              "\n",
              "          const docLinkHtml = 'Like what you see? Visit the ' +\n",
              "            '<a target=\"_blank\" href=https://colab.research.google.com/notebooks/data_table.ipynb>data table notebook</a>'\n",
              "            + ' to learn more about interactive tables.';\n",
              "          element.innerHTML = '';\n",
              "          dataTable['output_type'] = 'display_data';\n",
              "          await google.colab.output.renderOutput(dataTable, element);\n",
              "          const docLink = document.createElement('div');\n",
              "          docLink.innerHTML = docLinkHtml;\n",
              "          element.appendChild(docLink);\n",
              "        }\n",
              "      </script>\n",
              "    </div>\n",
              "  </div>\n",
              "  "
            ]
          },
          "metadata": {},
          "execution_count": 25
        }
      ]
    },
    {
      "cell_type": "code",
      "source": [
        "# Tratamento da feature Idade\n",
        "df_cadastrados_limpo['Idade']=-df_cadastrados_limpo['Idade']/365.2425"
      ],
      "metadata": {
        "id": "1l-JAk9kSlzo"
      },
      "execution_count": null,
      "outputs": []
    },
    {
      "cell_type": "code",
      "source": [
        "df_cadastrados_limpo['Anos_empregado'].value_counts()"
      ],
      "metadata": {
        "colab": {
          "base_uri": "https://localhost:8080/"
        },
        "id": "P2m_RryqVEWZ",
        "outputId": "1263340f-f320-4f37-97cf-7d4d7a01a520"
      },
      "execution_count": null,
      "outputs": [
        {
          "output_type": "execute_result",
          "data": {
            "text/plain": [
              " 365243    75314\n",
              "-218         262\n",
              "-1678        251\n",
              "-249         241\n",
              "-978         240\n",
              "           ...  \n",
              "-13529         1\n",
              "-10223         1\n",
              "-8917          1\n",
              "-11429         1\n",
              "-8105          1\n",
              "Name: Anos_empregado, Length: 9406, dtype: int64"
            ]
          },
          "metadata": {},
          "execution_count": 27
        }
      ]
    },
    {
      "cell_type": "code",
      "source": [
        "# Tratamento da feature anos empregado\n",
        "df_cadastrados_limpo['Anos_empregado']=-df_cadastrados_limpo['Anos_empregado']/365.2425"
      ],
      "metadata": {
        "id": "LCEfxMVsSl2B"
      },
      "execution_count": null,
      "outputs": []
    },
    {
      "cell_type": "code",
      "source": [
        "df_cadastrados_limpo['Anos_empregado'].value_counts()"
      ],
      "metadata": {
        "colab": {
          "base_uri": "https://localhost:8080/"
        },
        "id": "kddnds1nTlcL",
        "outputId": "903add0e-6c2d-4859-a4cd-002884f3bf8f"
      },
      "execution_count": null,
      "outputs": [
        {
          "output_type": "execute_result",
          "data": {
            "text/plain": [
              "-1000.001369    75314\n",
              " 0.596864         262\n",
              " 4.594208         251\n",
              " 0.681739         241\n",
              " 2.677673         240\n",
              "                ...  \n",
              " 37.041144          1\n",
              " 27.989623          1\n",
              " 24.413917          1\n",
              " 31.291539          1\n",
              " 22.190736          1\n",
              "Name: Anos_empregado, Length: 9406, dtype: int64"
            ]
          },
          "metadata": {},
          "execution_count": 29
        }
      ]
    },
    {
      "cell_type": "code",
      "source": [
        "df_cadastrados_limpo.loc[df_cadastrados_limpo['Anos_empregado']<0,'Anos_empregado']=0"
      ],
      "metadata": {
        "id": "PvjyZxUaT_FA"
      },
      "execution_count": null,
      "outputs": []
    },
    {
      "cell_type": "code",
      "source": [
        "df_cadastrados_limpo['Anos_empregado'].value_counts()"
      ],
      "metadata": {
        "colab": {
          "base_uri": "https://localhost:8080/"
        },
        "id": "6BcDA8gcUEa4",
        "outputId": "513de5d6-a8e8-4e6f-c6ae-d6f789aa062f"
      },
      "execution_count": null,
      "outputs": [
        {
          "output_type": "execute_result",
          "data": {
            "text/plain": [
              "0.000000     75314\n",
              "0.596864       262\n",
              "4.594208       251\n",
              "0.681739       241\n",
              "2.677673       240\n",
              "             ...  \n",
              "37.041144        1\n",
              "27.989623        1\n",
              "24.413917        1\n",
              "31.291539        1\n",
              "22.190736        1\n",
              "Name: Anos_empregado, Length: 9406, dtype: int64"
            ]
          },
          "metadata": {},
          "execution_count": 31
        }
      ]
    },
    {
      "cell_type": "code",
      "source": [
        "df_cadastrados_limpo.head()"
      ],
      "metadata": {
        "colab": {
          "base_uri": "https://localhost:8080/",
          "height": 357
        },
        "id": "NJU24RwZSlVA",
        "outputId": "acc56884-5d88-491b-8c6e-52676dde7bbd"
      },
      "execution_count": null,
      "outputs": [
        {
          "output_type": "execute_result",
          "data": {
            "text/plain": [
              "   ID_Cliente  Tem_carro  Tem_casa_propria  Qtd_filhos  Rendimento_anual  \\\n",
              "0     5008804          1                 1           0          427500.0   \n",
              "1     5008805          1                 1           0          427500.0   \n",
              "2     5008806          1                 1           0          112500.0   \n",
              "3     5008808          0                 1           0          270000.0   \n",
              "4     5008809          0                 1           0          270000.0   \n",
              "\n",
              "    Categoria_de_renda Grau_escolaridade   Estado_civil  \\\n",
              "0            Empregado   Ensino superior  União-estável   \n",
              "1            Empregado   Ensino superior  União-estável   \n",
              "2            Empregado      Ensino médio         Casado   \n",
              "3  Associado comercial      Ensino médio       Solteiro   \n",
              "4  Associado comercial      Ensino médio       Solteiro   \n",
              "\n",
              "                    Moradia      Idade  Anos_empregado  Tem_telefone_trabalho  \\\n",
              "0       Apartamento alugado  32.868574       12.435574                      1   \n",
              "1       Apartamento alugado  32.868574       12.435574                      1   \n",
              "2  Casa/apartamento próprio  58.793815        3.104787                      0   \n",
              "3  Casa/apartamento próprio  52.321403        8.353354                      0   \n",
              "4  Casa/apartamento próprio  52.321403        8.353354                      0   \n",
              "\n",
              "   Tem_telefone_fixo  Tem_email   Ocupacao  Tamanho_familia  \n",
              "0                  0          0      Outro              2.0  \n",
              "1                  0          0      Outro              2.0  \n",
              "2                  0          0  Segurança              2.0  \n",
              "3                  1          1     Vendas              1.0  \n",
              "4                  1          1     Vendas              1.0  "
            ],
            "text/html": [
              "\n",
              "  <div id=\"df-8c4357d5-51dc-420d-a002-f84ee70d78af\">\n",
              "    <div class=\"colab-df-container\">\n",
              "      <div>\n",
              "<style scoped>\n",
              "    .dataframe tbody tr th:only-of-type {\n",
              "        vertical-align: middle;\n",
              "    }\n",
              "\n",
              "    .dataframe tbody tr th {\n",
              "        vertical-align: top;\n",
              "    }\n",
              "\n",
              "    .dataframe thead th {\n",
              "        text-align: right;\n",
              "    }\n",
              "</style>\n",
              "<table border=\"1\" class=\"dataframe\">\n",
              "  <thead>\n",
              "    <tr style=\"text-align: right;\">\n",
              "      <th></th>\n",
              "      <th>ID_Cliente</th>\n",
              "      <th>Tem_carro</th>\n",
              "      <th>Tem_casa_propria</th>\n",
              "      <th>Qtd_filhos</th>\n",
              "      <th>Rendimento_anual</th>\n",
              "      <th>Categoria_de_renda</th>\n",
              "      <th>Grau_escolaridade</th>\n",
              "      <th>Estado_civil</th>\n",
              "      <th>Moradia</th>\n",
              "      <th>Idade</th>\n",
              "      <th>Anos_empregado</th>\n",
              "      <th>Tem_telefone_trabalho</th>\n",
              "      <th>Tem_telefone_fixo</th>\n",
              "      <th>Tem_email</th>\n",
              "      <th>Ocupacao</th>\n",
              "      <th>Tamanho_familia</th>\n",
              "    </tr>\n",
              "  </thead>\n",
              "  <tbody>\n",
              "    <tr>\n",
              "      <th>0</th>\n",
              "      <td>5008804</td>\n",
              "      <td>1</td>\n",
              "      <td>1</td>\n",
              "      <td>0</td>\n",
              "      <td>427500.0</td>\n",
              "      <td>Empregado</td>\n",
              "      <td>Ensino superior</td>\n",
              "      <td>União-estável</td>\n",
              "      <td>Apartamento alugado</td>\n",
              "      <td>32.868574</td>\n",
              "      <td>12.435574</td>\n",
              "      <td>1</td>\n",
              "      <td>0</td>\n",
              "      <td>0</td>\n",
              "      <td>Outro</td>\n",
              "      <td>2.0</td>\n",
              "    </tr>\n",
              "    <tr>\n",
              "      <th>1</th>\n",
              "      <td>5008805</td>\n",
              "      <td>1</td>\n",
              "      <td>1</td>\n",
              "      <td>0</td>\n",
              "      <td>427500.0</td>\n",
              "      <td>Empregado</td>\n",
              "      <td>Ensino superior</td>\n",
              "      <td>União-estável</td>\n",
              "      <td>Apartamento alugado</td>\n",
              "      <td>32.868574</td>\n",
              "      <td>12.435574</td>\n",
              "      <td>1</td>\n",
              "      <td>0</td>\n",
              "      <td>0</td>\n",
              "      <td>Outro</td>\n",
              "      <td>2.0</td>\n",
              "    </tr>\n",
              "    <tr>\n",
              "      <th>2</th>\n",
              "      <td>5008806</td>\n",
              "      <td>1</td>\n",
              "      <td>1</td>\n",
              "      <td>0</td>\n",
              "      <td>112500.0</td>\n",
              "      <td>Empregado</td>\n",
              "      <td>Ensino médio</td>\n",
              "      <td>Casado</td>\n",
              "      <td>Casa/apartamento próprio</td>\n",
              "      <td>58.793815</td>\n",
              "      <td>3.104787</td>\n",
              "      <td>0</td>\n",
              "      <td>0</td>\n",
              "      <td>0</td>\n",
              "      <td>Segurança</td>\n",
              "      <td>2.0</td>\n",
              "    </tr>\n",
              "    <tr>\n",
              "      <th>3</th>\n",
              "      <td>5008808</td>\n",
              "      <td>0</td>\n",
              "      <td>1</td>\n",
              "      <td>0</td>\n",
              "      <td>270000.0</td>\n",
              "      <td>Associado comercial</td>\n",
              "      <td>Ensino médio</td>\n",
              "      <td>Solteiro</td>\n",
              "      <td>Casa/apartamento próprio</td>\n",
              "      <td>52.321403</td>\n",
              "      <td>8.353354</td>\n",
              "      <td>0</td>\n",
              "      <td>1</td>\n",
              "      <td>1</td>\n",
              "      <td>Vendas</td>\n",
              "      <td>1.0</td>\n",
              "    </tr>\n",
              "    <tr>\n",
              "      <th>4</th>\n",
              "      <td>5008809</td>\n",
              "      <td>0</td>\n",
              "      <td>1</td>\n",
              "      <td>0</td>\n",
              "      <td>270000.0</td>\n",
              "      <td>Associado comercial</td>\n",
              "      <td>Ensino médio</td>\n",
              "      <td>Solteiro</td>\n",
              "      <td>Casa/apartamento próprio</td>\n",
              "      <td>52.321403</td>\n",
              "      <td>8.353354</td>\n",
              "      <td>0</td>\n",
              "      <td>1</td>\n",
              "      <td>1</td>\n",
              "      <td>Vendas</td>\n",
              "      <td>1.0</td>\n",
              "    </tr>\n",
              "  </tbody>\n",
              "</table>\n",
              "</div>\n",
              "      <button class=\"colab-df-convert\" onclick=\"convertToInteractive('df-8c4357d5-51dc-420d-a002-f84ee70d78af')\"\n",
              "              title=\"Convert this dataframe to an interactive table.\"\n",
              "              style=\"display:none;\">\n",
              "        \n",
              "  <svg xmlns=\"http://www.w3.org/2000/svg\" height=\"24px\"viewBox=\"0 0 24 24\"\n",
              "       width=\"24px\">\n",
              "    <path d=\"M0 0h24v24H0V0z\" fill=\"none\"/>\n",
              "    <path d=\"M18.56 5.44l.94 2.06.94-2.06 2.06-.94-2.06-.94-.94-2.06-.94 2.06-2.06.94zm-11 1L8.5 8.5l.94-2.06 2.06-.94-2.06-.94L8.5 2.5l-.94 2.06-2.06.94zm10 10l.94 2.06.94-2.06 2.06-.94-2.06-.94-.94-2.06-.94 2.06-2.06.94z\"/><path d=\"M17.41 7.96l-1.37-1.37c-.4-.4-.92-.59-1.43-.59-.52 0-1.04.2-1.43.59L10.3 9.45l-7.72 7.72c-.78.78-.78 2.05 0 2.83L4 21.41c.39.39.9.59 1.41.59.51 0 1.02-.2 1.41-.59l7.78-7.78 2.81-2.81c.8-.78.8-2.07 0-2.86zM5.41 20L4 18.59l7.72-7.72 1.47 1.35L5.41 20z\"/>\n",
              "  </svg>\n",
              "      </button>\n",
              "      \n",
              "  <style>\n",
              "    .colab-df-container {\n",
              "      display:flex;\n",
              "      flex-wrap:wrap;\n",
              "      gap: 12px;\n",
              "    }\n",
              "\n",
              "    .colab-df-convert {\n",
              "      background-color: #E8F0FE;\n",
              "      border: none;\n",
              "      border-radius: 50%;\n",
              "      cursor: pointer;\n",
              "      display: none;\n",
              "      fill: #1967D2;\n",
              "      height: 32px;\n",
              "      padding: 0 0 0 0;\n",
              "      width: 32px;\n",
              "    }\n",
              "\n",
              "    .colab-df-convert:hover {\n",
              "      background-color: #E2EBFA;\n",
              "      box-shadow: 0px 1px 2px rgba(60, 64, 67, 0.3), 0px 1px 3px 1px rgba(60, 64, 67, 0.15);\n",
              "      fill: #174EA6;\n",
              "    }\n",
              "\n",
              "    [theme=dark] .colab-df-convert {\n",
              "      background-color: #3B4455;\n",
              "      fill: #D2E3FC;\n",
              "    }\n",
              "\n",
              "    [theme=dark] .colab-df-convert:hover {\n",
              "      background-color: #434B5C;\n",
              "      box-shadow: 0px 1px 3px 1px rgba(0, 0, 0, 0.15);\n",
              "      filter: drop-shadow(0px 1px 2px rgba(0, 0, 0, 0.3));\n",
              "      fill: #FFFFFF;\n",
              "    }\n",
              "  </style>\n",
              "\n",
              "      <script>\n",
              "        const buttonEl =\n",
              "          document.querySelector('#df-8c4357d5-51dc-420d-a002-f84ee70d78af button.colab-df-convert');\n",
              "        buttonEl.style.display =\n",
              "          google.colab.kernel.accessAllowed ? 'block' : 'none';\n",
              "\n",
              "        async function convertToInteractive(key) {\n",
              "          const element = document.querySelector('#df-8c4357d5-51dc-420d-a002-f84ee70d78af');\n",
              "          const dataTable =\n",
              "            await google.colab.kernel.invokeFunction('convertToInteractive',\n",
              "                                                     [key], {});\n",
              "          if (!dataTable) return;\n",
              "\n",
              "          const docLinkHtml = 'Like what you see? Visit the ' +\n",
              "            '<a target=\"_blank\" href=https://colab.research.google.com/notebooks/data_table.ipynb>data table notebook</a>'\n",
              "            + ' to learn more about interactive tables.';\n",
              "          element.innerHTML = '';\n",
              "          dataTable['output_type'] = 'display_data';\n",
              "          await google.colab.output.renderOutput(dataTable, element);\n",
              "          const docLink = document.createElement('div');\n",
              "          docLink.innerHTML = docLinkHtml;\n",
              "          element.appendChild(docLink);\n",
              "        }\n",
              "      </script>\n",
              "    </div>\n",
              "  </div>\n",
              "  "
            ]
          },
          "metadata": {},
          "execution_count": 32
        }
      ]
    },
    {
      "cell_type": "code",
      "source": [
        "import matplotlib.pyplot as plt\n",
        "import seaborn as sns"
      ],
      "metadata": {
        "id": "kxkp57EdUMW_"
      },
      "execution_count": null,
      "outputs": []
    },
    {
      "cell_type": "code",
      "source": [
        "corr = df_cadastrados_limpo.corr()\n",
        "plt.figure(figsize = (20,10))\n",
        "sns.heatmap(corr, cmap=\"Blues\", annot=True)"
      ],
      "metadata": {
        "colab": {
          "base_uri": "https://localhost:8080/",
          "height": 411
        },
        "id": "GVkx1K50UO52",
        "outputId": "4c8e2ba6-32c2-461f-b7da-1062f01d427d"
      },
      "execution_count": null,
      "outputs": [
        {
          "output_type": "execute_result",
          "data": {
            "text/plain": [
              "<matplotlib.axes._subplots.AxesSubplot at 0x7f937911fad0>"
            ]
          },
          "metadata": {},
          "execution_count": 34
        },
        {
          "output_type": "display_data",
          "data": {
            "text/plain": [
              "<Figure size 1440x720 with 2 Axes>"
            ],
            "image/png": "[encoded data removed]"
          },
          "metadata": {
            "needs_background": "light"
          }
        }
      ]
    },
    {
      "cell_type": "code",
      "source": [
        "df_cadastrados_limpo.drop(['Qtd_filhos'], axis=1, inplace=True)"
      ],
      "metadata": {
        "id": "mKXk6U6iUO8F"
      },
      "execution_count": null,
      "outputs": []
    },
    {
      "cell_type": "code",
      "source": [
        "df_cadastrados_limpo=df_cadastrados_limpo[['ID_Cliente', 'Tem_carro', 'Tem_casa_propria', \n",
        "                                           'Tem_telefone_trabalho', 'Tem_telefone_fixo', 'Tem_email',\n",
        "                                           'Tamanho_familia', 'Rendimento_anual', 'Idade', 'Anos_empregado',\n",
        "                                           'Categoria_de_renda', 'Grau_escolaridade', 'Estado_civil',\n",
        "                                           'Moradia', 'Ocupacao']]"
      ],
      "metadata": {
        "id": "XYtiU9wMUO-J"
      },
      "execution_count": null,
      "outputs": []
    },
    {
      "cell_type": "code",
      "source": [
        "df_cadastrados_limpo.head()"
      ],
      "metadata": {
        "colab": {
          "base_uri": "https://localhost:8080/",
          "height": 357
        },
        "id": "jsPdtaD3UPAJ",
        "outputId": "91b007ce-c089-4ad6-ba19-358ca6eacc6f"
      },
      "execution_count": null,
      "outputs": [
        {
          "output_type": "execute_result",
          "data": {
            "text/plain": [
              "   ID_Cliente  Tem_carro  Tem_casa_propria  Tem_telefone_trabalho  \\\n",
              "0     5008804          1                 1                      1   \n",
              "1     5008805          1                 1                      1   \n",
              "2     5008806          1                 1                      0   \n",
              "3     5008808          0                 1                      0   \n",
              "4     5008809          0                 1                      0   \n",
              "\n",
              "   Tem_telefone_fixo  Tem_email  Tamanho_familia  Rendimento_anual      Idade  \\\n",
              "0                  0          0              2.0          427500.0  32.868574   \n",
              "1                  0          0              2.0          427500.0  32.868574   \n",
              "2                  0          0              2.0          112500.0  58.793815   \n",
              "3                  1          1              1.0          270000.0  52.321403   \n",
              "4                  1          1              1.0          270000.0  52.321403   \n",
              "\n",
              "   Anos_empregado   Categoria_de_renda Grau_escolaridade   Estado_civil  \\\n",
              "0       12.435574            Empregado   Ensino superior  União-estável   \n",
              "1       12.435574            Empregado   Ensino superior  União-estável   \n",
              "2        3.104787            Empregado      Ensino médio         Casado   \n",
              "3        8.353354  Associado comercial      Ensino médio       Solteiro   \n",
              "4        8.353354  Associado comercial      Ensino médio       Solteiro   \n",
              "\n",
              "                    Moradia   Ocupacao  \n",
              "0       Apartamento alugado      Outro  \n",
              "1       Apartamento alugado      Outro  \n",
              "2  Casa/apartamento próprio  Segurança  \n",
              "3  Casa/apartamento próprio     Vendas  \n",
              "4  Casa/apartamento próprio     Vendas  "
            ],
            "text/html": [
              "\n",
              "  <div id=\"df-b891fe57-13a2-461d-a37c-4622819f14a8\">\n",
              "    <div class=\"colab-df-container\">\n",
              "      <div>\n",
              "<style scoped>\n",
              "    .dataframe tbody tr th:only-of-type {\n",
              "        vertical-align: middle;\n",
              "    }\n",
              "\n",
              "    .dataframe tbody tr th {\n",
              "        vertical-align: top;\n",
              "    }\n",
              "\n",
              "    .dataframe thead th {\n",
              "        text-align: right;\n",
              "    }\n",
              "</style>\n",
              "<table border=\"1\" class=\"dataframe\">\n",
              "  <thead>\n",
              "    <tr style=\"text-align: right;\">\n",
              "      <th></th>\n",
              "      <th>ID_Cliente</th>\n",
              "      <th>Tem_carro</th>\n",
              "      <th>Tem_casa_propria</th>\n",
              "      <th>Tem_telefone_trabalho</th>\n",
              "      <th>Tem_telefone_fixo</th>\n",
              "      <th>Tem_email</th>\n",
              "      <th>Tamanho_familia</th>\n",
              "      <th>Rendimento_anual</th>\n",
              "      <th>Idade</th>\n",
              "      <th>Anos_empregado</th>\n",
              "      <th>Categoria_de_renda</th>\n",
              "      <th>Grau_escolaridade</th>\n",
              "      <th>Estado_civil</th>\n",
              "      <th>Moradia</th>\n",
              "      <th>Ocupacao</th>\n",
              "    </tr>\n",
              "  </thead>\n",
              "  <tbody>\n",
              "    <tr>\n",
              "      <th>0</th>\n",
              "      <td>5008804</td>\n",
              "      <td>1</td>\n",
              "      <td>1</td>\n",
              "      <td>1</td>\n",
              "      <td>0</td>\n",
              "      <td>0</td>\n",
              "      <td>2.0</td>\n",
              "      <td>427500.0</td>\n",
              "      <td>32.868574</td>\n",
              "      <td>12.435574</td>\n",
              "      <td>Empregado</td>\n",
              "      <td>Ensino superior</td>\n",
              "      <td>União-estável</td>\n",
              "      <td>Apartamento alugado</td>\n",
              "      <td>Outro</td>\n",
              "    </tr>\n",
              "    <tr>\n",
              "      <th>1</th>\n",
              "      <td>5008805</td>\n",
              "      <td>1</td>\n",
              "      <td>1</td>\n",
              "      <td>1</td>\n",
              "      <td>0</td>\n",
              "      <td>0</td>\n",
              "      <td>2.0</td>\n",
              "      <td>427500.0</td>\n",
              "      <td>32.868574</td>\n",
              "      <td>12.435574</td>\n",
              "      <td>Empregado</td>\n",
              "      <td>Ensino superior</td>\n",
              "      <td>União-estável</td>\n",
              "      <td>Apartamento alugado</td>\n",
              "      <td>Outro</td>\n",
              "    </tr>\n",
              "    <tr>\n",
              "      <th>2</th>\n",
              "      <td>5008806</td>\n",
              "      <td>1</td>\n",
              "      <td>1</td>\n",
              "      <td>0</td>\n",
              "      <td>0</td>\n",
              "      <td>0</td>\n",
              "      <td>2.0</td>\n",
              "      <td>112500.0</td>\n",
              "      <td>58.793815</td>\n",
              "      <td>3.104787</td>\n",
              "      <td>Empregado</td>\n",
              "      <td>Ensino médio</td>\n",
              "      <td>Casado</td>\n",
              "      <td>Casa/apartamento próprio</td>\n",
              "      <td>Segurança</td>\n",
              "    </tr>\n",
              "    <tr>\n",
              "      <th>3</th>\n",
              "      <td>5008808</td>\n",
              "      <td>0</td>\n",
              "      <td>1</td>\n",
              "      <td>0</td>\n",
              "      <td>1</td>\n",
              "      <td>1</td>\n",
              "      <td>1.0</td>\n",
              "      <td>270000.0</td>\n",
              "      <td>52.321403</td>\n",
              "      <td>8.353354</td>\n",
              "      <td>Associado comercial</td>\n",
              "      <td>Ensino médio</td>\n",
              "      <td>Solteiro</td>\n",
              "      <td>Casa/apartamento próprio</td>\n",
              "      <td>Vendas</td>\n",
              "    </tr>\n",
              "    <tr>\n",
              "      <th>4</th>\n",
              "      <td>5008809</td>\n",
              "      <td>0</td>\n",
              "      <td>1</td>\n",
              "      <td>0</td>\n",
              "      <td>1</td>\n",
              "      <td>1</td>\n",
              "      <td>1.0</td>\n",
              "      <td>270000.0</td>\n",
              "      <td>52.321403</td>\n",
              "      <td>8.353354</td>\n",
              "      <td>Associado comercial</td>\n",
              "      <td>Ensino médio</td>\n",
              "      <td>Solteiro</td>\n",
              "      <td>Casa/apartamento próprio</td>\n",
              "      <td>Vendas</td>\n",
              "    </tr>\n",
              "  </tbody>\n",
              "</table>\n",
              "</div>\n",
              "      <button class=\"colab-df-convert\" onclick=\"convertToInteractive('df-b891fe57-13a2-461d-a37c-4622819f14a8')\"\n",
              "              title=\"Convert this dataframe to an interactive table.\"\n",
              "              style=\"display:none;\">\n",
              "        \n",
              "  <svg xmlns=\"http://www.w3.org/2000/svg\" height=\"24px\"viewBox=\"0 0 24 24\"\n",
              "       width=\"24px\">\n",
              "    <path d=\"M0 0h24v24H0V0z\" fill=\"none\"/>\n",
              "    <path d=\"M18.56 5.44l.94 2.06.94-2.06 2.06-.94-2.06-.94-.94-2.06-.94 2.06-2.06.94zm-11 1L8.5 8.5l.94-2.06 2.06-.94-2.06-.94L8.5 2.5l-.94 2.06-2.06.94zm10 10l.94 2.06.94-2.06 2.06-.94-2.06-.94-.94-2.06-.94 2.06-2.06.94z\"/><path d=\"M17.41 7.96l-1.37-1.37c-.4-.4-.92-.59-1.43-.59-.52 0-1.04.2-1.43.59L10.3 9.45l-7.72 7.72c-.78.78-.78 2.05 0 2.83L4 21.41c.39.39.9.59 1.41.59.51 0 1.02-.2 1.41-.59l7.78-7.78 2.81-2.81c.8-.78.8-2.07 0-2.86zM5.41 20L4 18.59l7.72-7.72 1.47 1.35L5.41 20z\"/>\n",
              "  </svg>\n",
              "      </button>\n",
              "      \n",
              "  <style>\n",
              "    .colab-df-container {\n",
              "      display:flex;\n",
              "      flex-wrap:wrap;\n",
              "      gap: 12px;\n",
              "    }\n",
              "\n",
              "    .colab-df-convert {\n",
              "      background-color: #E8F0FE;\n",
              "      border: none;\n",
              "      border-radius: 50%;\n",
              "      cursor: pointer;\n",
              "      display: none;\n",
              "      fill: #1967D2;\n",
              "      height: 32px;\n",
              "      padding: 0 0 0 0;\n",
              "      width: 32px;\n",
              "    }\n",
              "\n",
              "    .colab-df-convert:hover {\n",
              "      background-color: #E2EBFA;\n",
              "      box-shadow: 0px 1px 2px rgba(60, 64, 67, 0.3), 0px 1px 3px 1px rgba(60, 64, 67, 0.15);\n",
              "      fill: #174EA6;\n",
              "    }\n",
              "\n",
              "    [theme=dark] .colab-df-convert {\n",
              "      background-color: #3B4455;\n",
              "      fill: #D2E3FC;\n",
              "    }\n",
              "\n",
              "    [theme=dark] .colab-df-convert:hover {\n",
              "      background-color: #434B5C;\n",
              "      box-shadow: 0px 1px 3px 1px rgba(0, 0, 0, 0.15);\n",
              "      filter: drop-shadow(0px 1px 2px rgba(0, 0, 0, 0.3));\n",
              "      fill: #FFFFFF;\n",
              "    }\n",
              "  </style>\n",
              "\n",
              "      <script>\n",
              "        const buttonEl =\n",
              "          document.querySelector('#df-b891fe57-13a2-461d-a37c-4622819f14a8 button.colab-df-convert');\n",
              "        buttonEl.style.display =\n",
              "          google.colab.kernel.accessAllowed ? 'block' : 'none';\n",
              "\n",
              "        async function convertToInteractive(key) {\n",
              "          const element = document.querySelector('#df-b891fe57-13a2-461d-a37c-4622819f14a8');\n",
              "          const dataTable =\n",
              "            await google.colab.kernel.invokeFunction('convertToInteractive',\n",
              "                                                     [key], {});\n",
              "          if (!dataTable) return;\n",
              "\n",
              "          const docLinkHtml = 'Like what you see? Visit the ' +\n",
              "            '<a target=\"_blank\" href=https://colab.research.google.com/notebooks/data_table.ipynb>data table notebook</a>'\n",
              "            + ' to learn more about interactive tables.';\n",
              "          element.innerHTML = '';\n",
              "          dataTable['output_type'] = 'display_data';\n",
              "          await google.colab.output.renderOutput(dataTable, element);\n",
              "          const docLink = document.createElement('div');\n",
              "          docLink.innerHTML = docLinkHtml;\n",
              "          element.appendChild(docLink);\n",
              "        }\n",
              "      </script>\n",
              "    </div>\n",
              "  </div>\n",
              "  "
            ]
          },
          "metadata": {},
          "execution_count": 37
        }
      ]
    },
    {
      "cell_type": "code",
      "source": [
        "colunas_quantitativas = ['Tamanho_familia', 'Rendimento_anual', 'Idade', 'Anos_empregado']"
      ],
      "metadata": {
        "id": "FaTcdMRFUkv7"
      },
      "execution_count": null,
      "outputs": []
    },
    {
      "cell_type": "code",
      "source": [
        "df_cadastrados_limpo[colunas_quantitativas].describe()"
      ],
      "metadata": {
        "colab": {
          "base_uri": "https://localhost:8080/",
          "height": 300
        },
        "id": "xWcvmwLVUk1Z",
        "outputId": "2bcb0987-50ad-48f6-9b1e-8731b4600343"
      },
      "execution_count": null,
      "outputs": [
        {
          "output_type": "execute_result",
          "data": {
            "text/plain": [
              "       Tamanho_familia  Rendimento_anual          Idade  Anos_empregado\n",
              "count    438463.000000      4.384630e+05  438463.000000   438463.000000\n",
              "mean          2.194461      1.875220e+05      43.800857        5.948371\n",
              "std           0.897194      1.100832e+05      11.458262        6.564112\n",
              "min           1.000000      2.610000e+04      20.504186        0.000000\n",
              "25%           2.000000      1.215000e+05      34.262168        1.015763\n",
              "50%           2.000000      1.611000e+05      42.793487        4.019247\n",
              "75%           3.000000      2.250000e+05      53.345380        8.495725\n",
              "max          20.000000      6.750000e+06      68.997994       47.998248"
            ],
            "text/html": [
              "\n",
              "  <div id=\"df-a80065c2-8da3-4c0d-9108-d721d3db0b44\">\n",
              "    <div class=\"colab-df-container\">\n",
              "      <div>\n",
              "<style scoped>\n",
              "    .dataframe tbody tr th:only-of-type {\n",
              "        vertical-align: middle;\n",
              "    }\n",
              "\n",
              "    .dataframe tbody tr th {\n",
              "        vertical-align: top;\n",
              "    }\n",
              "\n",
              "    .dataframe thead th {\n",
              "        text-align: right;\n",
              "    }\n",
              "</style>\n",
              "<table border=\"1\" class=\"dataframe\">\n",
              "  <thead>\n",
              "    <tr style=\"text-align: right;\">\n",
              "      <th></th>\n",
              "      <th>Tamanho_familia</th>\n",
              "      <th>Rendimento_anual</th>\n",
              "      <th>Idade</th>\n",
              "      <th>Anos_empregado</th>\n",
              "    </tr>\n",
              "  </thead>\n",
              "  <tbody>\n",
              "    <tr>\n",
              "      <th>count</th>\n",
              "      <td>438463.000000</td>\n",
              "      <td>4.384630e+05</td>\n",
              "      <td>438463.000000</td>\n",
              "      <td>438463.000000</td>\n",
              "    </tr>\n",
              "    <tr>\n",
              "      <th>mean</th>\n",
              "      <td>2.194461</td>\n",
              "      <td>1.875220e+05</td>\n",
              "      <td>43.800857</td>\n",
              "      <td>5.948371</td>\n",
              "    </tr>\n",
              "    <tr>\n",
              "      <th>std</th>\n",
              "      <td>0.897194</td>\n",
              "      <td>1.100832e+05</td>\n",
              "      <td>11.458262</td>\n",
              "      <td>6.564112</td>\n",
              "    </tr>\n",
              "    <tr>\n",
              "      <th>min</th>\n",
              "      <td>1.000000</td>\n",
              "      <td>2.610000e+04</td>\n",
              "      <td>20.504186</td>\n",
              "      <td>0.000000</td>\n",
              "    </tr>\n",
              "    <tr>\n",
              "      <th>25%</th>\n",
              "      <td>2.000000</td>\n",
              "      <td>1.215000e+05</td>\n",
              "      <td>34.262168</td>\n",
              "      <td>1.015763</td>\n",
              "    </tr>\n",
              "    <tr>\n",
              "      <th>50%</th>\n",
              "      <td>2.000000</td>\n",
              "      <td>1.611000e+05</td>\n",
              "      <td>42.793487</td>\n",
              "      <td>4.019247</td>\n",
              "    </tr>\n",
              "    <tr>\n",
              "      <th>75%</th>\n",
              "      <td>3.000000</td>\n",
              "      <td>2.250000e+05</td>\n",
              "      <td>53.345380</td>\n",
              "      <td>8.495725</td>\n",
              "    </tr>\n",
              "    <tr>\n",
              "      <th>max</th>\n",
              "      <td>20.000000</td>\n",
              "      <td>6.750000e+06</td>\n",
              "      <td>68.997994</td>\n",
              "      <td>47.998248</td>\n",
              "    </tr>\n",
              "  </tbody>\n",
              "</table>\n",
              "</div>\n",
              "      <button class=\"colab-df-convert\" onclick=\"convertToInteractive('df-a80065c2-8da3-4c0d-9108-d721d3db0b44')\"\n",
              "              title=\"Convert this dataframe to an interactive table.\"\n",
              "              style=\"display:none;\">\n",
              "        \n",
              "  <svg xmlns=\"http://www.w3.org/2000/svg\" height=\"24px\"viewBox=\"0 0 24 24\"\n",
              "       width=\"24px\">\n",
              "    <path d=\"M0 0h24v24H0V0z\" fill=\"none\"/>\n",
              "    <path d=\"M18.56 5.44l.94 2.06.94-2.06 2.06-.94-2.06-.94-.94-2.06-.94 2.06-2.06.94zm-11 1L8.5 8.5l.94-2.06 2.06-.94-2.06-.94L8.5 2.5l-.94 2.06-2.06.94zm10 10l.94 2.06.94-2.06 2.06-.94-2.06-.94-.94-2.06-.94 2.06-2.06.94z\"/><path d=\"M17.41 7.96l-1.37-1.37c-.4-.4-.92-.59-1.43-.59-.52 0-1.04.2-1.43.59L10.3 9.45l-7.72 7.72c-.78.78-.78 2.05 0 2.83L4 21.41c.39.39.9.59 1.41.59.51 0 1.02-.2 1.41-.59l7.78-7.78 2.81-2.81c.8-.78.8-2.07 0-2.86zM5.41 20L4 18.59l7.72-7.72 1.47 1.35L5.41 20z\"/>\n",
              "  </svg>\n",
              "      </button>\n",
              "      \n",
              "  <style>\n",
              "    .colab-df-container {\n",
              "      display:flex;\n",
              "      flex-wrap:wrap;\n",
              "      gap: 12px;\n",
              "    }\n",
              "\n",
              "    .colab-df-convert {\n",
              "      background-color: #E8F0FE;\n",
              "      border: none;\n",
              "      border-radius: 50%;\n",
              "      cursor: pointer;\n",
              "      display: none;\n",
              "      fill: #1967D2;\n",
              "      height: 32px;\n",
              "      padding: 0 0 0 0;\n",
              "      width: 32px;\n",
              "    }\n",
              "\n",
              "    .colab-df-convert:hover {\n",
              "      background-color: #E2EBFA;\n",
              "      box-shadow: 0px 1px 2px rgba(60, 64, 67, 0.3), 0px 1px 3px 1px rgba(60, 64, 67, 0.15);\n",
              "      fill: #174EA6;\n",
              "    }\n",
              "\n",
              "    [theme=dark] .colab-df-convert {\n",
              "      background-color: #3B4455;\n",
              "      fill: #D2E3FC;\n",
              "    }\n",
              "\n",
              "    [theme=dark] .colab-df-convert:hover {\n",
              "      background-color: #434B5C;\n",
              "      box-shadow: 0px 1px 3px 1px rgba(0, 0, 0, 0.15);\n",
              "      filter: drop-shadow(0px 1px 2px rgba(0, 0, 0, 0.3));\n",
              "      fill: #FFFFFF;\n",
              "    }\n",
              "  </style>\n",
              "\n",
              "      <script>\n",
              "        const buttonEl =\n",
              "          document.querySelector('#df-a80065c2-8da3-4c0d-9108-d721d3db0b44 button.colab-df-convert');\n",
              "        buttonEl.style.display =\n",
              "          google.colab.kernel.accessAllowed ? 'block' : 'none';\n",
              "\n",
              "        async function convertToInteractive(key) {\n",
              "          const element = document.querySelector('#df-a80065c2-8da3-4c0d-9108-d721d3db0b44');\n",
              "          const dataTable =\n",
              "            await google.colab.kernel.invokeFunction('convertToInteractive',\n",
              "                                                     [key], {});\n",
              "          if (!dataTable) return;\n",
              "\n",
              "          const docLinkHtml = 'Like what you see? Visit the ' +\n",
              "            '<a target=\"_blank\" href=https://colab.research.google.com/notebooks/data_table.ipynb>data table notebook</a>'\n",
              "            + ' to learn more about interactive tables.';\n",
              "          element.innerHTML = '';\n",
              "          dataTable['output_type'] = 'display_data';\n",
              "          await google.colab.output.renderOutput(dataTable, element);\n",
              "          const docLink = document.createElement('div');\n",
              "          docLink.innerHTML = docLinkHtml;\n",
              "          element.appendChild(docLink);\n",
              "        }\n",
              "      </script>\n",
              "    </div>\n",
              "  </div>\n",
              "  "
            ]
          },
          "metadata": {},
          "execution_count": 39
        }
      ]
    },
    {
      "cell_type": "code",
      "source": [
        "df_cadastrados_limpo['Categoria_de_renda'].value_counts(normalize = True) * 100"
      ],
      "metadata": {
        "colab": {
          "base_uri": "https://localhost:8080/"
        },
        "id": "xFrHGCMwVsON",
        "outputId": "cc6cf591-cf89-45a2-dd49-b7d8f773ca59"
      },
      "execution_count": null,
      "outputs": [
        {
          "output_type": "execute_result",
          "data": {
            "text/plain": [
              "Empregado              51.557144\n",
              "Associado comercial    22.972520\n",
              "Pensionista            17.214223\n",
              "Servidor público        8.252236\n",
              "Estudante               0.003877\n",
              "Name: Categoria_de_renda, dtype: float64"
            ]
          },
          "metadata": {},
          "execution_count": 40
        }
      ]
    },
    {
      "cell_type": "code",
      "source": [
        "df_cadastrados_limpo['Grau_escolaridade'].value_counts(normalize = True) * 100"
      ],
      "metadata": {
        "colab": {
          "base_uri": "https://localhost:8080/"
        },
        "id": "KEK73PeKVsQo",
        "outputId": "f0e002d6-df17-45a4-bbaa-54c058d2a649"
      },
      "execution_count": null,
      "outputs": [
        {
          "output_type": "execute_result",
          "data": {
            "text/plain": [
              "Ensino médio                  68.821314\n",
              "Ensino superior               26.797928\n",
              "Ensino superior incompleto     3.385690\n",
              "Ensino fundamental             0.923909\n",
              "Pós-graduação                  0.071158\n",
              "Name: Grau_escolaridade, dtype: float64"
            ]
          },
          "metadata": {},
          "execution_count": 41
        }
      ]
    },
    {
      "cell_type": "code",
      "source": [
        "df_cadastrados_limpo['Estado_civil'].value_counts(normalize = True) * 100"
      ],
      "metadata": {
        "colab": {
          "base_uri": "https://localhost:8080/"
        },
        "id": "LdUCs64mVsTM",
        "outputId": "4888bf7d-9633-4c19-ad06-e86457044c5d"
      },
      "execution_count": null,
      "outputs": [
        {
          "output_type": "execute_result",
          "data": {
            "text/plain": [
              "Casado           68.367912\n",
              "Solteiro         12.601976\n",
              "União-estável     8.329323\n",
              "Divorciado        6.214663\n",
              "Viúvo             4.486125\n",
              "Name: Estado_civil, dtype: float64"
            ]
          },
          "metadata": {},
          "execution_count": 42
        }
      ]
    },
    {
      "cell_type": "code",
      "source": [
        "df_cadastrados_limpo['Moradia'].value_counts(normalize = True) * 100"
      ],
      "metadata": {
        "colab": {
          "base_uri": "https://localhost:8080/"
        },
        "id": "y4tEHxclVsVi",
        "outputId": "f6eedea6-0afb-4b76-b54d-3c98ec492049"
      },
      "execution_count": null,
      "outputs": [
        {
          "output_type": "execute_result",
          "data": {
            "text/plain": [
              "Casa/apartamento próprio    89.801876\n",
              "Mora com os pais             4.349740\n",
              "Habitação pública            3.241094\n",
              "Apartamento alugado          1.362259\n",
              "Apartamento comercial        0.894032\n",
              "Cooperativa habitacional     0.350999\n",
              "Name: Moradia, dtype: float64"
            ]
          },
          "metadata": {},
          "execution_count": 43
        }
      ]
    },
    {
      "cell_type": "code",
      "source": [
        "df_cadastrados_limpo['Ocupacao'].value_counts(normalize = True) * 100"
      ],
      "metadata": {
        "colab": {
          "base_uri": "https://localhost:8080/"
        },
        "id": "MWbHjV5FVsYA",
        "outputId": "78df4312-f564-4e0f-84dd-d3de756d0438"
      },
      "execution_count": null,
      "outputs": [
        {
          "output_type": "execute_result",
          "data": {
            "text/plain": [
              "Outro                   30.601670\n",
              "Construção Civil        17.840730\n",
              "Equipe principal         9.805388\n",
              "Vendas                   9.371828\n",
              "Gerência                 8.091219\n",
              "Motorista                5.949191\n",
              "Alta tecnologia          3.941724\n",
              "Contabilidade            3.644549\n",
              "Medicina                 3.083042\n",
              "Cozinha                  1.841432\n",
              "Segurança                1.822959\n",
              "Limpeza                  1.332610\n",
              "Serviço privado          0.787980\n",
              "Baixa qualificação       0.488069\n",
              "Secretariado             0.466174\n",
              "Garçom                   0.379736\n",
              "Corretor imobiliário     0.237420\n",
              "RH                       0.176526\n",
              "TI                       0.137754\n",
              "Name: Ocupacao, dtype: float64"
            ]
          },
          "metadata": {},
          "execution_count": 44
        }
      ]
    },
    {
      "cell_type": "code",
      "source": [
        "import matplotlib as mpl"
      ],
      "metadata": {
        "id": "u7fybOvoUk3u"
      },
      "execution_count": null,
      "outputs": []
    },
    {
      "cell_type": "code",
      "source": [
        "#Configurações dos gráficos:\n",
        "mpl.rcParams['font.size'] = 14\n",
        "mpl.rcParams['figure.figsize'] = (10,6)"
      ],
      "metadata": {
        "id": "9VufWHoqUxCP"
      },
      "execution_count": null,
      "outputs": []
    },
    {
      "cell_type": "code",
      "source": [
        "sns.histplot(data=df_cadastrados_limpo, x='Rendimento_anual', bins=50) \n",
        "plt.xticks(rotation=45)\n",
        "plt.show()"
      ],
      "metadata": {
        "colab": {
          "base_uri": "https://localhost:8080/",
          "height": 386
        },
        "id": "udaRGXiqUxEy",
        "outputId": "aa66955b-5fba-4ccb-af79-139f5122663c"
      },
      "execution_count": null,
      "outputs": [
        {
          "output_type": "display_data",
          "data": {
            "text/plain": [
              "<Figure size 720x432 with 1 Axes>"
            ],
            "image/png": "[encoded data removed]"
          },
          "metadata": {
            "needs_background": "light"
          }
        }
      ]
    },
    {
      "cell_type": "code",
      "source": [
        "sns.boxplot(data=df_cadastrados_limpo, y='Rendimento_anual') \n",
        "plt.xticks(rotation=45)\n",
        "plt.show()"
      ],
      "metadata": {
        "colab": {
          "base_uri": "https://localhost:8080/",
          "height": 375
        },
        "id": "fIt7baGkUxG-",
        "outputId": "7662c2b5-1670-49a9-a34a-16eaaa4fbabe"
      },
      "execution_count": null,
      "outputs": [
        {
          "output_type": "display_data",
          "data": {
            "text/plain": [
              "<Figure size 720x432 with 1 Axes>"
            ],
            "image/png": "[encoded data removed]"
          },
          "metadata": {
            "needs_background": "light"
          }
        }
      ]
    },
    {
      "cell_type": "code",
      "source": [
        "sns.histplot(data=df_cadastrados_limpo, x='Anos_empregado', bins=50) \n",
        "plt.xticks(rotation=45)\n",
        "plt.show()"
      ],
      "metadata": {
        "colab": {
          "base_uri": "https://localhost:8080/",
          "height": 390
        },
        "id": "f7gGEDicU5P-",
        "outputId": "43bd3c86-83f6-4e6f-c5dd-df6232e2339e"
      },
      "execution_count": null,
      "outputs": [
        {
          "output_type": "display_data",
          "data": {
            "text/plain": [
              "<Figure size 720x432 with 1 Axes>"
            ],
            "image/png": "[encoded data removed]"
          },
          "metadata": {
            "needs_background": "light"
          }
        }
      ]
    },
    {
      "cell_type": "code",
      "source": [
        "sns.boxplot(data=df_cadastrados_limpo, y='Anos_empregado') \n",
        "plt.xticks(rotation=45)\n",
        "plt.show()"
      ],
      "metadata": {
        "colab": {
          "base_uri": "https://localhost:8080/",
          "height": 364
        },
        "id": "GDIMBIArU5SV",
        "outputId": "9722ab0a-6ae8-49b9-da55-3a681571af74"
      },
      "execution_count": null,
      "outputs": [
        {
          "output_type": "display_data",
          "data": {
            "text/plain": [
              "<Figure size 720x432 with 1 Axes>"
            ],
            "image/png": "[encoded data removed]"
          },
          "metadata": {
            "needs_background": "light"
          }
        }
      ]
    },
    {
      "cell_type": "code",
      "source": [
        "sns.histplot(data=df_cadastrados_limpo, x='Idade', bins=10) \n",
        "plt.xticks(rotation=45)\n",
        "plt.show()"
      ],
      "metadata": {
        "colab": {
          "base_uri": "https://localhost:8080/",
          "height": 399
        },
        "id": "yyS8PdqzU5Um",
        "outputId": "dacd1338-a777-4a8c-b5b0-c1fc04a7172d"
      },
      "execution_count": null,
      "outputs": [
        {
          "output_type": "display_data",
          "data": {
            "text/plain": [
              "<Figure size 720x432 with 1 Axes>"
            ],
            "image/png": "[encoded data removed]"
          },
          "metadata": {
            "needs_background": "light"
          }
        }
      ]
    },
    {
      "cell_type": "code",
      "source": [
        "sns.histplot(data=df_cadastrados_limpo, x='Tamanho_familia', bins=10) \n",
        "plt.xticks(rotation=45)\n",
        "plt.show()"
      ],
      "metadata": {
        "colab": {
          "base_uri": "https://localhost:8080/",
          "height": 402
        },
        "id": "iRb19_wJU5W3",
        "outputId": "4fc36993-4b29-4aa7-eb59-1ea8d20b5191"
      },
      "execution_count": null,
      "outputs": [
        {
          "output_type": "display_data",
          "data": {
            "text/plain": [
              "<Figure size 720x432 with 1 Axes>"
            ],
            "image/png": "[encoded data removed]"
          },
          "metadata": {
            "needs_background": "light"
          }
        }
      ]
    },
    {
      "cell_type": "code",
      "source": [
        "sns.boxplot(data=df_cadastrados_limpo, y='Tamanho_familia') \n",
        "plt.xticks(rotation=45)\n",
        "plt.show()"
      ],
      "metadata": {
        "colab": {
          "base_uri": "https://localhost:8080/",
          "height": 361
        },
        "id": "_zY2wkbpU5ZR",
        "outputId": "e00bff06-542f-4d06-d765-0f08b8701ac2"
      },
      "execution_count": null,
      "outputs": [
        {
          "output_type": "display_data",
          "data": {
            "text/plain": [
              "<Figure size 720x432 with 1 Axes>"
            ],
            "image/png": "[encoded data removed]"
          },
          "metadata": {
            "needs_background": "light"
          }
        }
      ]
    },
    {
      "cell_type": "code",
      "source": [
        "'''Técnica para remoção de outliers a partir de um intervalo de confiança\n",
        "o valor +- o desvio-padrão'''\n",
        "\n",
        "coluna = df_cadastrados_limpo['Rendimento_anual']\n",
        "\n",
        "coluna_med = coluna.mean()\n",
        "coluna_std = coluna.std()\n",
        "\n",
        "limite_sup = coluna_med + (2 * coluna_std)\n",
        "limite_inf = coluna_med - (2 * coluna_std)\n",
        "\n",
        "index_outliers = []\n",
        "\n",
        "for index, valor in coluna.items(): \n",
        "  if valor > limite_sup or valor < limite_inf:\n",
        "    index_outliers.append(index)\n",
        "\n",
        "len(index_outliers)"
      ],
      "metadata": {
        "colab": {
          "base_uri": "https://localhost:8080/"
        },
        "id": "vxG5qNlnU5bh",
        "outputId": "08f513b5-26b3-4d1a-f8a9-e6c844160ef0"
      },
      "execution_count": null,
      "outputs": [
        {
          "output_type": "execute_result",
          "data": {
            "text/plain": [
              "12641"
            ]
          },
          "metadata": {},
          "execution_count": 54
        }
      ]
    },
    {
      "cell_type": "code",
      "source": [
        "df_clientes_cadastrados_sem_outliers = df_cadastrados_limpo.drop(index_outliers)\n",
        "df_clientes_cadastrados_sem_outliers.shape"
      ],
      "metadata": {
        "colab": {
          "base_uri": "https://localhost:8080/"
        },
        "id": "Y3MzDhmWVLad",
        "outputId": "8a01504e-9957-49f7-925d-00a3851ce47f"
      },
      "execution_count": null,
      "outputs": [
        {
          "output_type": "execute_result",
          "data": {
            "text/plain": [
              "(425822, 15)"
            ]
          },
          "metadata": {},
          "execution_count": 55
        }
      ]
    },
    {
      "cell_type": "code",
      "source": [
        "sns.boxplot(data=df_clientes_cadastrados_sem_outliers, y='Rendimento_anual') \n",
        "plt.xticks(rotation=45)\n",
        "plt.show()"
      ],
      "metadata": {
        "colab": {
          "base_uri": "https://localhost:8080/",
          "height": 351
        },
        "id": "ZuFuIC_pVLcq",
        "outputId": "4e3bb26d-f3a4-4fb5-e9af-5cfc6053c758"
      },
      "execution_count": null,
      "outputs": [
        {
          "output_type": "display_data",
          "data": {
            "text/plain": [
              "<Figure size 720x432 with 1 Axes>"
            ],
            "image/png": "[encoded data removed]"
          },
          "metadata": {
            "needs_background": "light"
          }
        }
      ]
    },
    {
      "cell_type": "code",
      "source": [
        "df_clientes_cadastrados_sem_outliers['Rendimento_anual'].max"
      ],
      "metadata": {
        "colab": {
          "base_uri": "https://localhost:8080/"
        },
        "id": "mulXqvGfVVK4",
        "outputId": "15dcca20-3802-406a-d114-5ce10fbf9b4f"
      },
      "execution_count": null,
      "outputs": [
        {
          "output_type": "execute_result",
          "data": {
            "text/plain": [
              "<bound method NDFrame._add_numeric_operations.<locals>.max of 2         112500.0\n",
              "3         270000.0\n",
              "4         270000.0\n",
              "5         270000.0\n",
              "6         270000.0\n",
              "            ...   \n",
              "438552    135000.0\n",
              "438553    103500.0\n",
              "438554     54000.0\n",
              "438555     72000.0\n",
              "438556    121500.0\n",
              "Name: Rendimento_anual, Length: 425822, dtype: float64>"
            ]
          },
          "metadata": {},
          "execution_count": 57
        }
      ]
    },
    {
      "cell_type": "code",
      "source": [
        "fig = plt.figure(figsize=(10,6))\n",
        "ax = sns.histplot(data=df_clientes_cadastrados_sem_outliers, x='Rendimento_anual', bins=15)\n",
        "plt.xticks(rotation=360)\n",
        "ax.set_title('Distribuição da renda anual', fontsize = 20, loc='left')\n",
        "ax.set_ylabel('Número de pessoas', fontsize = 18)\n",
        "ax.set_xlabel('Renda anual ($)', fontsize = 18)\n",
        "ax.yaxis.set_tick_params(labelsize=12)\n",
        "ax.xaxis.set_tick_params(labelsize=12)\n",
        "plt.show()"
      ],
      "metadata": {
        "colab": {
          "base_uri": "https://localhost:8080/",
          "height": 415
        },
        "id": "z5Mh59u9VVNQ",
        "outputId": "a5914fe4-8a49-41d9-a600-9764e3af7388"
      },
      "execution_count": null,
      "outputs": [
        {
          "output_type": "display_data",
          "data": {
            "text/plain": [
              "<Figure size 720x432 with 1 Axes>"
            ],
            "image/png": "[encoded data removed]"
          },
          "metadata": {
            "needs_background": "light"
          }
        }
      ]
    },
    {
      "cell_type": "code",
      "source": [
        "df_clientes_cadastrados_tratamento1 = df_clientes_cadastrados_sem_outliers\n",
        "df_clientes_cadastrados_tratamento1.shape"
      ],
      "metadata": {
        "colab": {
          "base_uri": "https://localhost:8080/"
        },
        "id": "H9HV8UTgVVPU",
        "outputId": "a5311f25-5455-4ad3-c317-e888364609a1"
      },
      "execution_count": null,
      "outputs": [
        {
          "output_type": "execute_result",
          "data": {
            "text/plain": [
              "(425822, 15)"
            ]
          },
          "metadata": {},
          "execution_count": 212
        }
      ]
    }
  ]
}