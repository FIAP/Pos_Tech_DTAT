{
  "nbformat": 4,
  "nbformat_minor": 0,
  "metadata": {
    "colab": {
      "provenance": [],
      "toc_visible": true
    },
    "kernelspec": {
      "name": "python3",
      "display_name": "Python 3"
    },
    "language_info": {
      "name": "python"
    }
  },
  "cells": [
    {
      "cell_type": "markdown",
      "source": [
        "# Instalação do PySpark no Google Colab"
      ],
      "metadata": {
        "id": "DtPi3zvhItBb"
      }
    },
    {
      "cell_type": "code",
      "source": [
        "!pip install pyspark"
      ],
      "metadata": {
        "colab": {
          "base_uri": "https://localhost:8080/"
        },
        "id": "gZ-JqwDpIzmN",
        "outputId": "531f1254-591c-4193-8581-004258b36736"
      },
      "execution_count": 1,
      "outputs": [
        {
          "output_type": "stream",
          "name": "stdout",
          "text": [
            "Collecting pyspark\n",
            "  Downloading pyspark-3.4.1.tar.gz (310.8 MB)\n",
            "\u001b[2K     \u001b[90m━━━━━━━━━━━━━━━━━━━━━━━━━━━━━━━━━━━━━━━\u001b[0m \u001b[32m310.8/310.8 MB\u001b[0m \u001b[31m2.2 MB/s\u001b[0m eta \u001b[36m0:00:00\u001b[0m\n",
            "\u001b[?25h  Preparing metadata (setup.py) ... \u001b[?25l\u001b[?25hdone\n",
            "Requirement already satisfied: py4j==0.10.9.7 in /usr/local/lib/python3.10/dist-packages (from pyspark) (0.10.9.7)\n",
            "Building wheels for collected packages: pyspark\n",
            "  Building wheel for pyspark (setup.py) ... \u001b[?25l\u001b[?25hdone\n",
            "  Created wheel for pyspark: filename=pyspark-3.4.1-py2.py3-none-any.whl size=311285387 sha256=fd3b81376b78f1a39d314836fe35e74ba7859eaaa7f3967a3d024bf8ee44bb07\n",
            "  Stored in directory: /root/.cache/pip/wheels/0d/77/a3/ff2f74cc9ab41f8f594dabf0579c2a7c6de920d584206e0834\n",
            "Successfully built pyspark\n",
            "Installing collected packages: pyspark\n",
            "Successfully installed pyspark-3.4.1\n"
          ]
        }
      ]
    },
    {
      "cell_type": "code",
      "source": [
        "!pip install findspark"
      ],
      "metadata": {
        "colab": {
          "base_uri": "https://localhost:8080/"
        },
        "id": "f3Md3fv3I_XG",
        "outputId": "cb0c0eed-d1a8-43c2-dfbc-fd70ba640296"
      },
      "execution_count": 2,
      "outputs": [
        {
          "output_type": "stream",
          "name": "stdout",
          "text": [
            "Collecting findspark\n",
            "  Downloading findspark-2.0.1-py2.py3-none-any.whl (4.4 kB)\n",
            "Installing collected packages: findspark\n",
            "Successfully installed findspark-2.0.1\n"
          ]
        }
      ]
    },
    {
      "cell_type": "code",
      "source": [
        "from pyspark import SparkContext\n",
        "from pyspark.sql import SparkSession"
      ],
      "metadata": {
        "id": "Qy0Z0nZHI8Wp"
      },
      "execution_count": 3,
      "outputs": []
    },
    {
      "cell_type": "code",
      "source": [
        "sc = SparkContext.getOrCreate()"
      ],
      "metadata": {
        "id": "5eQ7NvRzJ0uQ"
      },
      "execution_count": 4,
      "outputs": []
    },
    {
      "cell_type": "code",
      "source": [
        "spark = SparkSession.builder.appName('PySpark DataFrame').getOrCreate()"
      ],
      "metadata": {
        "id": "UZJ896PgJ2K1"
      },
      "execution_count": 5,
      "outputs": []
    },
    {
      "cell_type": "markdown",
      "source": [
        "# Transformations"
      ],
      "metadata": {
        "id": "sT0u3nVcjVcf"
      }
    },
    {
      "cell_type": "markdown",
      "source": [
        "## map()"
      ],
      "metadata": {
        "id": "5pUVpU6yIwwQ"
      }
    },
    {
      "cell_type": "code",
      "execution_count": 6,
      "metadata": {
        "colab": {
          "base_uri": "https://localhost:8080/"
        },
        "id": "kYKiwxjzImXY",
        "outputId": "195ffe97-3388-4c65-bdcf-8e87282a04df"
      },
      "outputs": [
        {
          "output_type": "stream",
          "name": "stdout",
          "text": [
            "[2, 4, 6, 8, 10]\n"
          ]
        }
      ],
      "source": [
        "data= [1, 2, 3, 4, 5]\n",
        "myRDD= sc.parallelize(data)\n",
        "newRDD= myRDD.map(lambda x: x*2)\n",
        "print(newRDD.collect())"
      ]
    },
    {
      "cell_type": "markdown",
      "source": [
        "## filter()"
      ],
      "metadata": {
        "id": "EGkIstSWKHV_"
      }
    },
    {
      "cell_type": "code",
      "source": [
        "data= [1, 2, 3, 4, 5, 6, 7, 8, 9, 10]\n",
        "myRDD= sc.parallelize(data)\n",
        "newRDD= myRDD.filter(lambda x: x%2 == 0)\n",
        "print(newRDD.collect())"
      ],
      "metadata": {
        "colab": {
          "base_uri": "https://localhost:8080/"
        },
        "id": "nsJ_5vZ4KIxm",
        "outputId": "1de35852-e21a-4759-b5a6-acec58f78aba"
      },
      "execution_count": 7,
      "outputs": [
        {
          "output_type": "stream",
          "name": "stdout",
          "text": [
            "[2, 4, 6, 8, 10]\n"
          ]
        }
      ]
    },
    {
      "cell_type": "markdown",
      "source": [
        "## distinct()"
      ],
      "metadata": {
        "id": "k66NCOyXKMGH"
      }
    },
    {
      "cell_type": "code",
      "source": [
        "data= [1, 1, 1, 2, 2, 2, 3, 3, 3, 3]\n",
        "myRDD= sc.parallelize(data)\n",
        "newRDD= myRDD.distinct()\n",
        "print(newRDD.collect())"
      ],
      "metadata": {
        "colab": {
          "base_uri": "https://localhost:8080/"
        },
        "id": "segwXsP4KNjO",
        "outputId": "bb807f39-75cd-4699-fc3f-2c417812ba10"
      },
      "execution_count": 8,
      "outputs": [
        {
          "output_type": "stream",
          "name": "stdout",
          "text": [
            "[2, 1, 3]\n"
          ]
        }
      ]
    },
    {
      "cell_type": "markdown",
      "source": [
        "## GroupByKey()"
      ],
      "metadata": {
        "id": "c4SOApzYKPC5"
      }
    },
    {
      "cell_type": "code",
      "source": [
        "myRDD = sc.parallelize([('a', 1), ('a', 2), ('a', 3), ('b', 1)])\n",
        "resultList= myRDD.groupByKey().mapValues(list)\n",
        "resultList.collect()"
      ],
      "metadata": {
        "colab": {
          "base_uri": "https://localhost:8080/"
        },
        "id": "N3-m37wMKQW1",
        "outputId": "dc0460f7-4398-4431-d918-057b97767bd4"
      },
      "execution_count": 9,
      "outputs": [
        {
          "output_type": "execute_result",
          "data": {
            "text/plain": [
              "[('b', [1]), ('a', [1, 2, 3])]"
            ]
          },
          "metadata": {},
          "execution_count": 9
        }
      ]
    },
    {
      "cell_type": "markdown",
      "source": [
        "## ReduceByKey()"
      ],
      "metadata": {
        "id": "-wwgB4nSKYVq"
      }
    },
    {
      "cell_type": "code",
      "source": [
        "from operator import add\n",
        "myRDD = sc.parallelize([('a', 1), ('a', 2), ('a', 3), ('b', 1)])\n",
        "newRDD= myRDD.reduceByKey(add)\n",
        "newRDD.collect()"
      ],
      "metadata": {
        "colab": {
          "base_uri": "https://localhost:8080/"
        },
        "id": "nyGxP_ufKZ6y",
        "outputId": "8007adc5-7e53-47f2-f280-edecad10e602"
      },
      "execution_count": 12,
      "outputs": [
        {
          "output_type": "execute_result",
          "data": {
            "text/plain": [
              "[('b', 1), ('a', 6)]"
            ]
          },
          "metadata": {},
          "execution_count": 12
        }
      ]
    },
    {
      "cell_type": "markdown",
      "source": [
        "## SortByKey()"
      ],
      "metadata": {
        "id": "4pJjGTUrKkAi"
      }
    },
    {
      "cell_type": "code",
      "source": [
        "myRDD = sc.parallelize([('c', 1), ('d', 2), ('a', 3), ('b', 4)])\n",
        "#sort by key\n",
        "newRDD= myRDD.sortByKey()\n",
        "newRDD.collect()"
      ],
      "metadata": {
        "colab": {
          "base_uri": "https://localhost:8080/"
        },
        "id": "nya6PABeKldr",
        "outputId": "fa697297-cc5f-4aaf-dafc-bafd15eb457e"
      },
      "execution_count": 13,
      "outputs": [
        {
          "output_type": "execute_result",
          "data": {
            "text/plain": [
              "[('a', 3), ('b', 4), ('c', 1), ('d', 2)]"
            ]
          },
          "metadata": {},
          "execution_count": 13
        }
      ]
    },
    {
      "cell_type": "markdown",
      "source": [
        "## Union()"
      ],
      "metadata": {
        "id": "qQiAF9EpKq3n"
      }
    },
    {
      "cell_type": "code",
      "source": [
        "myRDD1 = sc.parallelize([1, 2, 3, 4])\n",
        "myRDD2 = sc.parallelize([ 3, 4, 5, 6, 7])\n",
        "#union of myRDD1 and myRDD2\n",
        "newRDD = myRDD1.union(myRDD2)\n",
        "newRDD.collect()"
      ],
      "metadata": {
        "colab": {
          "base_uri": "https://localhost:8080/"
        },
        "id": "LxfM314VKsnA",
        "outputId": "83dada18-a122-4071-90d8-19af45faf09d"
      },
      "execution_count": 14,
      "outputs": [
        {
          "output_type": "execute_result",
          "data": {
            "text/plain": [
              "[1, 2, 3, 4, 3, 4, 5, 6, 7]"
            ]
          },
          "metadata": {},
          "execution_count": 14
        }
      ]
    },
    {
      "cell_type": "markdown",
      "source": [
        "# Actions"
      ],
      "metadata": {
        "id": "R5eqe2hPKugZ"
      }
    },
    {
      "cell_type": "markdown",
      "source": [
        "## count()"
      ],
      "metadata": {
        "id": "MZ_WZU1EKzVL"
      }
    },
    {
      "cell_type": "code",
      "source": [
        "data= [1, 1, 1, 4, 5, 6, 7, 8, 9, 10]\n",
        "myRDD= sc.parallelize(data)\n",
        "#Returns 4 as output\n",
        "myRDD.count()"
      ],
      "metadata": {
        "colab": {
          "base_uri": "https://localhost:8080/"
        },
        "id": "PIXVbiyAKySe",
        "outputId": "7ccc52c9-2a0c-4cb2-989b-fa3082a5f177"
      },
      "execution_count": 16,
      "outputs": [
        {
          "output_type": "execute_result",
          "data": {
            "text/plain": [
              "10"
            ]
          },
          "metadata": {},
          "execution_count": 16
        }
      ]
    },
    {
      "cell_type": "markdown",
      "source": [
        "## reduce()"
      ],
      "metadata": {
        "id": "Hv1Ha7gEK4x3"
      }
    },
    {
      "cell_type": "code",
      "source": [
        "data= [1, 2, 3, 4, 5]\n",
        "myRDD= sc.parallelize(data)\n",
        "#returns the product of all the elements\n",
        "myRDD.reduce(lambda x, y: x * y)"
      ],
      "metadata": {
        "colab": {
          "base_uri": "https://localhost:8080/"
        },
        "id": "01tur36zK6am",
        "outputId": "74be0a6e-a0b6-4402-a757-852f35da7812"
      },
      "execution_count": 17,
      "outputs": [
        {
          "output_type": "execute_result",
          "data": {
            "text/plain": [
              "120"
            ]
          },
          "metadata": {},
          "execution_count": 17
        }
      ]
    },
    {
      "cell_type": "markdown",
      "source": [
        "## foreach()"
      ],
      "metadata": {
        "id": "QpULVIk4LBr6"
      }
    },
    {
      "cell_type": "code",
      "source": [
        "def fun(x):\n",
        "    print(x)\n",
        "data= ['Scala', 'Python', 'Java', 'R']\n",
        "myRDD= sc.parallelize(data)\n",
        "#function applied to all the elements\n",
        "myRDD.foreach(fun)"
      ],
      "metadata": {
        "id": "Gm7iAf0YLDnP"
      },
      "execution_count": 18,
      "outputs": []
    },
    {
      "cell_type": "markdown",
      "source": [
        "## countByValue()"
      ],
      "metadata": {
        "id": "Yw6gTUqBLHF0"
      }
    },
    {
      "cell_type": "code",
      "source": [
        "data= ['Python', 'Scala', 'Python', 'R', 'Python', 'Java', 'R']\n",
        "myRDD= sc.parallelize(data)\n",
        "#items() returns a list with all the dictionary keys and values returned by countByValue()\n",
        "myRDD.countByValue().items()"
      ],
      "metadata": {
        "colab": {
          "base_uri": "https://localhost:8080/"
        },
        "id": "u1ySKgxJLIRW",
        "outputId": "b9f526e9-5e3d-4b0d-bf92-f04112896181"
      },
      "execution_count": 19,
      "outputs": [
        {
          "output_type": "execute_result",
          "data": {
            "text/plain": [
              "dict_items([('Python', 3), ('Scala', 1), ('R', 2), ('Java', 1)])"
            ]
          },
          "metadata": {},
          "execution_count": 19
        }
      ]
    },
    {
      "cell_type": "markdown",
      "source": [
        "## countByKey()"
      ],
      "metadata": {
        "id": "9FhAg63XLcqr"
      }
    },
    {
      "cell_type": "code",
      "source": [
        "data= [('a', 1), ('b', 1), ('c', 1), ('a', 1)]\n",
        "myRDD = sc.parallelize(data)\n",
        "myRDD.countByKey().items()"
      ],
      "metadata": {
        "colab": {
          "base_uri": "https://localhost:8080/"
        },
        "id": "DrLHUTGaLfSX",
        "outputId": "3331c42a-5f6d-4c19-eaa2-39099c73ee94"
      },
      "execution_count": 20,
      "outputs": [
        {
          "output_type": "execute_result",
          "data": {
            "text/plain": [
              "dict_items([('a', 2), ('b', 1), ('c', 1)])"
            ]
          },
          "metadata": {},
          "execution_count": 20
        }
      ]
    },
    {
      "cell_type": "markdown",
      "source": [
        "## take(n)"
      ],
      "metadata": {
        "id": "2PI_T0PnLlVL"
      }
    },
    {
      "cell_type": "code",
      "source": [
        "data= [2, 5, 3, 8, 4]\n",
        "myRDD= sc.parallelize(data)\n",
        "#return the first 3 elements\n",
        "myRDD.take(3)"
      ],
      "metadata": {
        "colab": {
          "base_uri": "https://localhost:8080/"
        },
        "id": "z2jLc1B5LmzG",
        "outputId": "43a16f84-5047-4205-fbd8-500045854770"
      },
      "execution_count": 22,
      "outputs": [
        {
          "output_type": "execute_result",
          "data": {
            "text/plain": [
              "[2, 5, 3]"
            ]
          },
          "metadata": {},
          "execution_count": 22
        }
      ]
    },
    {
      "cell_type": "markdown",
      "source": [
        "## top(n)"
      ],
      "metadata": {
        "id": "9ZHLsm5YLqCK"
      }
    },
    {
      "cell_type": "code",
      "source": [
        "data= [2, 5, 3, 8, 4]\n",
        "myRDD= sc.parallelize(data)\n",
        "#return the first 2 elements\n",
        "myRDD.top(3)"
      ],
      "metadata": {
        "colab": {
          "base_uri": "https://localhost:8080/"
        },
        "id": "TNZCb9sOLrLG",
        "outputId": "649d68bd-2707-43bc-aaa4-564cafbc6304"
      },
      "execution_count": 24,
      "outputs": [
        {
          "output_type": "execute_result",
          "data": {
            "text/plain": [
              "[8, 5, 4]"
            ]
          },
          "metadata": {},
          "execution_count": 24
        }
      ]
    },
    {
      "cell_type": "code",
      "source": [],
      "metadata": {
        "id": "K7BEC_fvmypM"
      },
      "execution_count": null,
      "outputs": []
    }
  ]
}