{
 "cells": [
  {
   "cell_type": "code",
   "execution_count": 18,
   "metadata": {},
   "outputs": [
    {
     "name": "stdout",
     "output_type": "stream",
     "text": [
      "Collecting pandas\n",
      "  Downloading pandas-2.0.3-cp311-cp311-win_amd64.whl (10.6 MB)\n",
      "                                              0.0/10.6 MB ? eta -:--:--\n",
      "                                              0.3/10.6 MB 5.2 MB/s eta 0:00:02\n",
      "     ---                                      0.9/10.6 MB 9.3 MB/s eta 0:00:02\n",
      "     ------                                   1.8/10.6 MB 12.6 MB/s eta 0:00:01\n",
      "     ---------                                2.5/10.6 MB 13.4 MB/s eta 0:00:01\n",
      "     ------------                             3.4/10.6 MB 14.4 MB/s eta 0:00:01\n",
      "     -----------------                        4.5/10.6 MB 16.0 MB/s eta 0:00:01\n",
      "     --------------------------------         8.5/10.6 MB 19.5 MB/s eta 0:00:01\n",
      "     -------------------------------------   10.2/10.6 MB 19.8 MB/s eta 0:00:01\n",
      "     --------------------------------------  10.6/10.6 MB 22.5 MB/s eta 0:00:01\n",
      "     --------------------------------------- 10.6/10.6 MB 18.7 MB/s eta 0:00:00\n",
      "Requirement already satisfied: python-dateutil>=2.8.2 in c:\\users\\eddie\\appdata\\roaming\\python\\python311\\site-packages (from pandas) (2.8.2)\n",
      "Collecting pytz>=2020.1 (from pandas)\n",
      "  Downloading pytz-2023.3-py2.py3-none-any.whl (502 kB)\n",
      "                                              0.0/502.3 kB ? eta -:--:--\n",
      "     ------------------------------------- 502.3/502.3 kB 15.4 MB/s eta 0:00:00\n",
      "Collecting tzdata>=2022.1 (from pandas)\n",
      "  Downloading tzdata-2023.3-py2.py3-none-any.whl (341 kB)\n",
      "                                              0.0/341.8 kB ? eta -:--:--\n",
      "     ------------------------------------- 341.8/341.8 kB 10.4 MB/s eta 0:00:00\n",
      "Requirement already satisfied: numpy>=1.21.0 in c:\\users\\eddie\\appdata\\local\\programs\\python\\python311\\lib\\site-packages (from pandas) (1.25.0)\n",
      "Requirement already satisfied: six>=1.5 in c:\\users\\eddie\\appdata\\roaming\\python\\python311\\site-packages (from python-dateutil>=2.8.2->pandas) (1.16.0)\n",
      "Installing collected packages: pytz, tzdata, pandas\n",
      "Successfully installed pandas-2.0.3 pytz-2023.3 tzdata-2023.3\n",
      "Note: you may need to restart the kernel to use updated packages.\n"
     ]
    }
   ],
   "source": [
    "pip install pandas"
   ]
  },
  {
   "cell_type": "markdown",
   "metadata": {},
   "source": [
    "## Análise de Negócios\n",
    "### Preços dos combustíveis ofertados nos postos"
   ]
  },
  {
   "cell_type": "markdown",
   "metadata": {},
   "source": [
    "<img src = 'preco_combustivel.jpeg'>"
   ]
  },
  {
   "cell_type": "markdown",
   "metadata": {},
   "source": [
    "### Fomos contratados por uma Petroleira para construir uma análise de negócios para entender a dinâmica de preços que está sendo ofertado pelos postos.\n",
    "1 - Teremos que trabalhar com Dados Existentes <br/>\n",
    "link: https://www.gov.br/anp/pt-br/centrais-de-conteudo/dados-abertos/serie-historica-de-precos-de-combustiveis <br/>\n",
    "<img src = 'anp.png'><br/>\n",
    "<br/>\n",
    "Como foi uma solicitação do nosso cliente, teremos que avaliar os ultimos 5 anos da base de dados.<br/>\n",
    "<img src = 'tabela_base_dados.png'><br/>\n",
    "\n",
    "<br/>\n",
    "Quando abrimos as tabelas nos deparamos que cada semestre possui uma quantidade muito grande de dados, logo juntas 5 anos (10 tabelas) fica difícil!<br/>\n",
    "<br/>\n",
    "Como muitas das vezes não temos o Engenheiro de Dados, temos que dar os nossos pulos!<br/>\n"
   ]
  },
  {
   "cell_type": "markdown",
   "metadata": {},
   "source": [
    "2 - Armazenar esses dados em um banco de dados <br/>\n",
    "<img src = 'PostgreSQL-logo.png'><br/>\n",
    "<img src = 'postgre1.png'><br/>"
   ]
  },
  {
   "cell_type": "code",
   "execution_count": 12,
   "metadata": {},
   "outputs": [
    {
     "data": {
      "text/plain": [
       "'\\nCREATE TABLE anp.preco_combustivel(\\n\\t\\tregiao \\t\\t\\t\\tvarchar(255)\\n\\t\\t,estado\\t\\t\\t\\tvarchar(255)\\n\\t\\t,municipio\\t\\t\\tvarchar(255)\\n\\t\\t,revenda\\t\\t\\tvarchar(255)\\n\\t\\t,cnpj\\t\\t\\t\\tvarchar(255)\\n\\t\\t,nome_rua\\t\\t\\tvarchar(255)\\t\\n\\t\\t,numero_rua\\t\\t\\tvarchar(255)\\n\\t\\t,complemento\\t\\tvarchar(255)\\n\\t\\t,bairro\\t\\t\\t\\tvarchar(255)\\n\\t\\t,cep\\t\\t\\t\\tvarchar(255)\\n\\t\\t,produto\\t\\t\\tvarchar(255)\\n\\t\\t,data_coleta\\t\\tdate\\n\\t\\t,valor_venda\\t\\tfloat\\n\\t\\t,unidade_medida\\t\\tvarchar(255)\\n\\t\\t,bandeira\\t\\t\\tvarchar(255)\\n\\n)\\n'"
      ]
     },
     "execution_count": 12,
     "metadata": {},
     "output_type": "execute_result"
    }
   ],
   "source": [
    "\"\"\"\n",
    "CREATE TABLE anp.preco_combustivel(\n",
    "\t\tregiao \t\t\t\tvarchar(255)\n",
    "\t\t,estado\t\t\t\tvarchar(255)\n",
    "\t\t,municipio\t\t\tvarchar(255)\n",
    "\t\t,revenda\t\t\tvarchar(255)\n",
    "\t\t,cnpj\t\t\t\tvarchar(255)\n",
    "\t\t,nome_rua\t\t\tvarchar(255)\t\n",
    "\t\t,numero_rua\t\t\tvarchar(255)\n",
    "\t\t,complemento\t\tvarchar(255)\n",
    "\t\t,bairro\t\t\t\tvarchar(255)\n",
    "\t\t,cep\t\t\t\tvarchar(255)\n",
    "\t\t,produto\t\t\tvarchar(255)\n",
    "\t\t,data_coleta\t\tdate\n",
    "\t\t,valor_venda\t\tfloat\n",
    "\t\t,unidade_medida\t\tvarchar(255)\n",
    "\t\t,bandeira\t\t\tvarchar(255)\n",
    "\n",
    ")\n",
    "\"\"\""
   ]
  },
  {
   "cell_type": "markdown",
   "metadata": {},
   "source": [
    "Carga de dados no Banco! <br/>\n",
    "Utilizaremos o Knime<br/>\n",
    "<img src = 'knime.png'><br/>\n",
    "<img src = 'knime2.png'><br/>\n",
    "Para atender as nossas necessidades vamos construir desta forma.<br/>\n",
    "<img src = 'knime3.png'><br/>"
   ]
  },
  {
   "cell_type": "markdown",
   "metadata": {},
   "source": [
    "3 - Utilizar esses dados para as nossas análises <br/>"
   ]
  },
  {
   "cell_type": "markdown",
   "metadata": {},
   "source": [
    "Instalando as bibliotecas"
   ]
  },
  {
   "cell_type": "code",
   "execution_count": 12,
   "metadata": {},
   "outputs": [
    {
     "name": "stdout",
     "output_type": "stream",
     "text": [
      "Collecting psycopg2\n",
      "  Downloading psycopg2-2.9.6-cp311-cp311-win_amd64.whl (1.2 MB)\n",
      "                                              0.0/1.2 MB ? eta -:--:--\n",
      "     ---------                                0.3/1.2 MB 8.9 MB/s eta 0:00:01\n",
      "     ---------------------------------------  1.2/1.2 MB 14.7 MB/s eta 0:00:01\n",
      "     ---------------------------------------- 1.2/1.2 MB 10.6 MB/s eta 0:00:00\n",
      "Installing collected packages: psycopg2\n",
      "Successfully installed psycopg2-2.9.6\n",
      "Note: you may need to restart the kernel to use updated packages.\n"
     ]
    }
   ],
   "source": [
    "pip install psycopg2"
   ]
  },
  {
   "cell_type": "code",
   "execution_count": 21,
   "metadata": {},
   "outputs": [],
   "source": [
    "import pandas as pd\n",
    "import pandas.io.sql as sqlio\n",
    "import psycopg2 as ps"
   ]
  },
  {
   "cell_type": "code",
   "execution_count": 23,
   "metadata": {},
   "outputs": [],
   "source": [
    "conn = ps.connect(dbname = 'anp',\n",
    "                    user ='postgres',\n",
    "                    password = 'postgres',\n",
    "                    host = 'localhost',\n",
    "                    port = '5432' )"
   ]
  },
  {
   "cell_type": "code",
   "execution_count": 24,
   "metadata": {},
   "outputs": [],
   "source": [
    "sql = \"\"\"\n",
    "SELECT * FROM anp.preco_combustivel\n",
    "\"\"\""
   ]
  },
  {
   "cell_type": "code",
   "execution_count": 25,
   "metadata": {},
   "outputs": [
    {
     "name": "stderr",
     "output_type": "stream",
     "text": [
      "C:\\Users\\eddie\\AppData\\Local\\Temp\\ipykernel_6444\\76855033.py:1: UserWarning: pandas only supports SQLAlchemy connectable (engine/connection) or database string URI or sqlite3 DBAPI2 connection. Other DBAPI2 objects are not tested. Please consider using SQLAlchemy.\n",
      "  df = sqlio.read_sql_query(sql, conn)\n"
     ]
    }
   ],
   "source": [
    "df = sqlio.read_sql_query(sql, conn)"
   ]
  },
  {
   "cell_type": "code",
   "execution_count": 26,
   "metadata": {},
   "outputs": [
    {
     "data": {
      "text/html": [
       "<div>\n",
       "<style scoped>\n",
       "    .dataframe tbody tr th:only-of-type {\n",
       "        vertical-align: middle;\n",
       "    }\n",
       "\n",
       "    .dataframe tbody tr th {\n",
       "        vertical-align: top;\n",
       "    }\n",
       "\n",
       "    .dataframe thead th {\n",
       "        text-align: right;\n",
       "    }\n",
       "</style>\n",
       "<table border=\"1\" class=\"dataframe\">\n",
       "  <thead>\n",
       "    <tr style=\"text-align: right;\">\n",
       "      <th></th>\n",
       "      <th>regiao</th>\n",
       "      <th>estado</th>\n",
       "      <th>municipio</th>\n",
       "      <th>revenda</th>\n",
       "      <th>cnpj</th>\n",
       "      <th>nome_rua</th>\n",
       "      <th>numero_rua</th>\n",
       "      <th>complemento</th>\n",
       "      <th>bairro</th>\n",
       "      <th>cep</th>\n",
       "      <th>produto</th>\n",
       "      <th>data_coleta</th>\n",
       "      <th>valor_venda</th>\n",
       "      <th>unidade_medida</th>\n",
       "      <th>bandeira</th>\n",
       "    </tr>\n",
       "  </thead>\n",
       "  <tbody>\n",
       "    <tr>\n",
       "      <th>0</th>\n",
       "      <td>SE</td>\n",
       "      <td>MG</td>\n",
       "      <td>ARAGUARI</td>\n",
       "      <td>AUTO POSTO JL LTDA</td>\n",
       "      <td>06.315.263/0001-76</td>\n",
       "      <td>AVENIDA VEREADOR GERALDO TEODORO</td>\n",
       "      <td>290</td>\n",
       "      <td>None</td>\n",
       "      <td>BOSQUE</td>\n",
       "      <td>38446-124</td>\n",
       "      <td>DIESEL S10</td>\n",
       "      <td>2022-07-26</td>\n",
       "      <td>7.69</td>\n",
       "      <td>R$ / litro</td>\n",
       "      <td>VIBRA ENERGIA</td>\n",
       "    </tr>\n",
       "    <tr>\n",
       "      <th>1</th>\n",
       "      <td>SE</td>\n",
       "      <td>MG</td>\n",
       "      <td>ARAGUARI</td>\n",
       "      <td>AUTO POSTO JL LTDA</td>\n",
       "      <td>06.315.263/0001-76</td>\n",
       "      <td>AVENIDA VEREADOR GERALDO TEODORO</td>\n",
       "      <td>290</td>\n",
       "      <td>None</td>\n",
       "      <td>BOSQUE</td>\n",
       "      <td>38446-124</td>\n",
       "      <td>DIESEL</td>\n",
       "      <td>2022-07-26</td>\n",
       "      <td>7.69</td>\n",
       "      <td>R$ / litro</td>\n",
       "      <td>VIBRA ENERGIA</td>\n",
       "    </tr>\n",
       "    <tr>\n",
       "      <th>2</th>\n",
       "      <td>SE</td>\n",
       "      <td>MG</td>\n",
       "      <td>ARAGUARI</td>\n",
       "      <td>AUTO POSTO JL LTDA</td>\n",
       "      <td>06.315.263/0001-76</td>\n",
       "      <td>AVENIDA VEREADOR GERALDO TEODORO</td>\n",
       "      <td>290</td>\n",
       "      <td>None</td>\n",
       "      <td>BOSQUE</td>\n",
       "      <td>38446-124</td>\n",
       "      <td>ETANOL</td>\n",
       "      <td>2022-07-26</td>\n",
       "      <td>4.09</td>\n",
       "      <td>R$ / litro</td>\n",
       "      <td>VIBRA ENERGIA</td>\n",
       "    </tr>\n",
       "    <tr>\n",
       "      <th>3</th>\n",
       "      <td>SE</td>\n",
       "      <td>MG</td>\n",
       "      <td>ARAGUARI</td>\n",
       "      <td>AUTO POSTO JL LTDA</td>\n",
       "      <td>06.315.263/0001-76</td>\n",
       "      <td>AVENIDA VEREADOR GERALDO TEODORO</td>\n",
       "      <td>290</td>\n",
       "      <td>None</td>\n",
       "      <td>BOSQUE</td>\n",
       "      <td>38446-124</td>\n",
       "      <td>GASOLINA</td>\n",
       "      <td>2022-07-26</td>\n",
       "      <td>5.59</td>\n",
       "      <td>R$ / litro</td>\n",
       "      <td>VIBRA ENERGIA</td>\n",
       "    </tr>\n",
       "    <tr>\n",
       "      <th>4</th>\n",
       "      <td>SE</td>\n",
       "      <td>MG</td>\n",
       "      <td>OLIVEIRA</td>\n",
       "      <td>POSTO PERFORMANCE LTDA.</td>\n",
       "      <td>26.391.185/0001-04</td>\n",
       "      <td>RUA AMINTAS DE SOUZA</td>\n",
       "      <td>149</td>\n",
       "      <td>None</td>\n",
       "      <td>CENTRO</td>\n",
       "      <td>35540-000</td>\n",
       "      <td>DIESEL</td>\n",
       "      <td>2022-07-26</td>\n",
       "      <td>7.25</td>\n",
       "      <td>R$ / litro</td>\n",
       "      <td>BRANCA</td>\n",
       "    </tr>\n",
       "  </tbody>\n",
       "</table>\n",
       "</div>"
      ],
      "text/plain": [
       "  regiao estado municipio                  revenda                 cnpj  \\\n",
       "0     SE     MG  ARAGUARI       AUTO POSTO JL LTDA   06.315.263/0001-76   \n",
       "1     SE     MG  ARAGUARI       AUTO POSTO JL LTDA   06.315.263/0001-76   \n",
       "2     SE     MG  ARAGUARI       AUTO POSTO JL LTDA   06.315.263/0001-76   \n",
       "3     SE     MG  ARAGUARI       AUTO POSTO JL LTDA   06.315.263/0001-76   \n",
       "4     SE     MG  OLIVEIRA  POSTO PERFORMANCE LTDA.   26.391.185/0001-04   \n",
       "\n",
       "                           nome_rua numero_rua complemento  bairro        cep  \\\n",
       "0  AVENIDA VEREADOR GERALDO TEODORO        290        None  BOSQUE  38446-124   \n",
       "1  AVENIDA VEREADOR GERALDO TEODORO        290        None  BOSQUE  38446-124   \n",
       "2  AVENIDA VEREADOR GERALDO TEODORO        290        None  BOSQUE  38446-124   \n",
       "3  AVENIDA VEREADOR GERALDO TEODORO        290        None  BOSQUE  38446-124   \n",
       "4              RUA AMINTAS DE SOUZA        149        None  CENTRO  35540-000   \n",
       "\n",
       "      produto data_coleta  valor_venda unidade_medida       bandeira  \n",
       "0  DIESEL S10  2022-07-26         7.69     R$ / litro  VIBRA ENERGIA  \n",
       "1      DIESEL  2022-07-26         7.69     R$ / litro  VIBRA ENERGIA  \n",
       "2      ETANOL  2022-07-26         4.09     R$ / litro  VIBRA ENERGIA  \n",
       "3    GASOLINA  2022-07-26         5.59     R$ / litro  VIBRA ENERGIA  \n",
       "4      DIESEL  2022-07-26         7.25     R$ / litro         BRANCA  "
      ]
     },
     "execution_count": 26,
     "metadata": {},
     "output_type": "execute_result"
    }
   ],
   "source": [
    "df.head()"
   ]
  },
  {
   "cell_type": "code",
   "execution_count": 27,
   "metadata": {},
   "outputs": [
    {
     "name": "stdout",
     "output_type": "stream",
     "text": [
      "<class 'pandas.core.frame.DataFrame'>\n",
      "RangeIndex: 4401370 entries, 0 to 4401369\n",
      "Data columns (total 15 columns):\n",
      " #   Column          Dtype  \n",
      "---  ------          -----  \n",
      " 0   regiao          object \n",
      " 1   estado          object \n",
      " 2   municipio       object \n",
      " 3   revenda         object \n",
      " 4   cnpj            object \n",
      " 5   nome_rua        object \n",
      " 6   numero_rua      object \n",
      " 7   complemento     object \n",
      " 8   bairro          object \n",
      " 9   cep             object \n",
      " 10  produto         object \n",
      " 11  data_coleta     object \n",
      " 12  valor_venda     float64\n",
      " 13  unidade_medida  object \n",
      " 14  bandeira        object \n",
      "dtypes: float64(1), object(14)\n",
      "memory usage: 503.7+ MB\n"
     ]
    }
   ],
   "source": [
    "df.info()"
   ]
  },
  {
   "cell_type": "code",
   "execution_count": 28,
   "metadata": {},
   "outputs": [
    {
     "data": {
      "text/plain": [
       "(4401370, 15)"
      ]
     },
     "execution_count": 28,
     "metadata": {},
     "output_type": "execute_result"
    }
   ],
   "source": [
    "df.shape"
   ]
  },
  {
   "cell_type": "code",
   "execution_count": null,
   "metadata": {},
   "outputs": [],
   "source": []
  }
 ],
 "metadata": {
  "kernelspec": {
   "display_name": "Python 3.9.12 64-bit",
   "language": "python",
   "name": "python3"
  },
  "language_info": {
   "codemirror_mode": {
    "name": "ipython",
    "version": 3
   },
   "file_extension": ".py",
   "mimetype": "text/x-python",
   "name": "python",
   "nbconvert_exporter": "python",
   "pygments_lexer": "ipython3",
   "version": "3.11.4"
  },
  "orig_nbformat": 4,
  "vscode": {
   "interpreter": {
    "hash": "8682c474af1cf416eccb63a411a7c81c15a3947ae2d19cb89592b512035f24d4"
   }
  }
 },
 "nbformat": 4,
 "nbformat_minor": 2
}
