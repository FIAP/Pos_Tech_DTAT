{
 "cells": [
  {
   "cell_type": "markdown",
   "metadata": {},
   "source": [
    "## Análise de Negócios\n",
    "### Preços dos combustíveis ofertados nos postos"
   ]
  },
  {
   "cell_type": "markdown",
   "metadata": {},
   "source": [
    "<img src = 'preco_combustivel.jpeg'>"
   ]
  },
  {
   "cell_type": "markdown",
   "metadata": {},
   "source": [
    "### Fomos contratados por uma Petroleira para construir uma análise de negócios para entender a dinâmica de preços que está sendo ofertado pelos postos.\n",
    "1 - Teremos que trabalhar com Dados Existentes <br/>\n",
    "link: https://www.gov.br/anp/pt-br/centrais-de-conteudo/dados-abertos/serie-historica-de-precos-de-combustiveis <br/>\n",
    "<img src = 'anp.png'><br/>\n",
    "<br/>\n",
    "Como foi uma solicitação do nosso cliente, teremos que avaliar os ultimos 5 anos da base de dados.<br/>\n",
    "<img src = 'tabela_base_dados.png'><br/>\n",
    "\n",
    "<br/>\n",
    "Quando abrimos as tabelas nos deparamos que cada semestre possui uma quantidade muito grande de dados, logo juntas 5 anos (10 tabelas) fica difícil!<br/>\n",
    "<br/>\n",
    "Como muitas das vezes não temos o Engenheiro de Dados, temos que dar os nossos pulos!<br/>\n"
   ]
  },
  {
   "cell_type": "markdown",
   "metadata": {},
   "source": [
    "2 - Armazenar esses dados em um banco de dados <br/>\n",
    "<img src = 'PostgreSQL-logo.png'><br/>\n",
    "<img src = 'postgre1.png'><br/>"
   ]
  },
  {
   "cell_type": "code",
   "execution_count": 1,
   "metadata": {},
   "outputs": [
    {
     "data": {
      "text/plain": [
       "'\\nCREATE TABLE anp.preco_combustivel(\\n\\t\\tregiao \\t\\t\\t\\tvarchar(255)\\n\\t\\t,estado\\t\\t\\t\\tvarchar(255)\\n\\t\\t,municipio\\t\\t\\tvarchar(255)\\n\\t\\t,revenda\\t\\t\\tvarchar(255)\\n\\t\\t,cnpj\\t\\t\\t\\tvarchar(255)\\n\\t\\t,nome_rua\\t\\t\\tvarchar(255)\\t\\n\\t\\t,numero_rua\\t\\t\\tvarchar(255)\\n\\t\\t,complemento\\t\\tvarchar(255)\\n\\t\\t,bairro\\t\\t\\t\\tvarchar(255)\\n\\t\\t,cep\\t\\t\\t\\tvarchar(255)\\n\\t\\t,produto\\t\\t\\tvarchar(255)\\n\\t\\t,data_coleta\\t\\tdate\\n\\t\\t,valor_venda\\t\\tfloat\\n\\t\\t,unidade_medida\\t\\tvarchar(255)\\n\\t\\t,bandeira\\t\\t\\tvarchar(255)\\n\\n)\\n'"
      ]
     },
     "execution_count": 1,
     "metadata": {},
     "output_type": "execute_result"
    }
   ],
   "source": [
    "\"\"\"\n",
    "CREATE TABLE anp.preco_combustivel(\n",
    "\t\tregiao \t\t\t\tvarchar(255)\n",
    "\t\t,estado\t\t\t\tvarchar(255)\n",
    "\t\t,municipio\t\t\tvarchar(255)\n",
    "\t\t,revenda\t\t\tvarchar(255)\n",
    "\t\t,cnpj\t\t\t\tvarchar(255)\n",
    "\t\t,nome_rua\t\t\tvarchar(255)\t\n",
    "\t\t,numero_rua\t\t\tvarchar(255)\n",
    "\t\t,complemento\t\tvarchar(255)\n",
    "\t\t,bairro\t\t\t\tvarchar(255)\n",
    "\t\t,cep\t\t\t\tvarchar(255)\n",
    "\t\t,produto\t\t\tvarchar(255)\n",
    "\t\t,data_coleta\t\tdate\n",
    "\t\t,valor_venda\t\tfloat\n",
    "\t\t,unidade_medida\t\tvarchar(255)\n",
    "\t\t,bandeira\t\t\tvarchar(255)\n",
    "\n",
    ")\n",
    "\"\"\""
   ]
  },
  {
   "cell_type": "markdown",
   "metadata": {},
   "source": [
    "Carga de dados no Banco! <br/>\n",
    "Utilizaremos o Knime<br/>\n",
    "<img src = 'knime.png'><br/>\n",
    "<img src = 'knime2.png'><br/>\n",
    "Para atender as nossas necessidades vamos construir desta forma.<br/>\n",
    "<img src = 'knime3.png'><br/>"
   ]
  },
  {
   "cell_type": "markdown",
   "metadata": {},
   "source": [
    "3 - Utilizar esses dados para as nossas análises <br/>"
   ]
  },
  {
   "cell_type": "markdown",
   "metadata": {},
   "source": [
    "Instalando as bibliotecas"
   ]
  },
  {
   "cell_type": "code",
   "execution_count": 2,
   "metadata": {},
   "outputs": [],
   "source": [
    "#pip install psycopg2"
   ]
  },
  {
   "cell_type": "code",
   "execution_count": 3,
   "metadata": {},
   "outputs": [],
   "source": [
    "import pandas as pd\n",
    "import pandas.io.sql as sqlio\n",
    "import psycopg2 as ps\n",
    "\n",
    "import warnings\n",
    "warnings.filterwarnings('ignore')"
   ]
  },
  {
   "cell_type": "code",
   "execution_count": 4,
   "metadata": {},
   "outputs": [],
   "source": [
    "conn = ps.connect(dbname = 'anp',\n",
    "                    user ='postgres',\n",
    "                    password = 'degard',\n",
    "                    host = 'localhost',\n",
    "                    port = '5432' )"
   ]
  },
  {
   "cell_type": "code",
   "execution_count": 5,
   "metadata": {},
   "outputs": [],
   "source": [
    "sql = \"\"\"\n",
    "SELECT * FROM anp.preco_combustivel\n",
    "\"\"\""
   ]
  },
  {
   "cell_type": "code",
   "execution_count": 6,
   "metadata": {},
   "outputs": [],
   "source": [
    "df = sqlio.read_sql_query(sql, conn)"
   ]
  },
  {
   "cell_type": "markdown",
   "metadata": {},
   "source": [
    "Visualizar as 5 primeiras informações"
   ]
  },
  {
   "cell_type": "code",
   "execution_count": 7,
   "metadata": {},
   "outputs": [
    {
     "data": {
      "text/html": [
       "<div>\n",
       "<style scoped>\n",
       "    .dataframe tbody tr th:only-of-type {\n",
       "        vertical-align: middle;\n",
       "    }\n",
       "\n",
       "    .dataframe tbody tr th {\n",
       "        vertical-align: top;\n",
       "    }\n",
       "\n",
       "    .dataframe thead th {\n",
       "        text-align: right;\n",
       "    }\n",
       "</style>\n",
       "<table border=\"1\" class=\"dataframe\">\n",
       "  <thead>\n",
       "    <tr style=\"text-align: right;\">\n",
       "      <th></th>\n",
       "      <th>regiao</th>\n",
       "      <th>estado</th>\n",
       "      <th>municipio</th>\n",
       "      <th>revenda</th>\n",
       "      <th>cnpj</th>\n",
       "      <th>nome_rua</th>\n",
       "      <th>numero_rua</th>\n",
       "      <th>complemento</th>\n",
       "      <th>bairro</th>\n",
       "      <th>cep</th>\n",
       "      <th>produto</th>\n",
       "      <th>data_coleta</th>\n",
       "      <th>valor_venda</th>\n",
       "      <th>unidade_medida</th>\n",
       "      <th>bandeira</th>\n",
       "    </tr>\n",
       "  </thead>\n",
       "  <tbody>\n",
       "    <tr>\n",
       "      <th>0</th>\n",
       "      <td>SE</td>\n",
       "      <td>MG</td>\n",
       "      <td>ARAGUARI</td>\n",
       "      <td>AUTO POSTO JL LTDA</td>\n",
       "      <td>06.315.263/0001-76</td>\n",
       "      <td>AVENIDA VEREADOR GERALDO TEODORO</td>\n",
       "      <td>290</td>\n",
       "      <td>None</td>\n",
       "      <td>BOSQUE</td>\n",
       "      <td>38446-124</td>\n",
       "      <td>DIESEL S10</td>\n",
       "      <td>2022-07-26</td>\n",
       "      <td>7.69</td>\n",
       "      <td>R$ / litro</td>\n",
       "      <td>VIBRA ENERGIA</td>\n",
       "    </tr>\n",
       "    <tr>\n",
       "      <th>1</th>\n",
       "      <td>SE</td>\n",
       "      <td>MG</td>\n",
       "      <td>ARAGUARI</td>\n",
       "      <td>AUTO POSTO JL LTDA</td>\n",
       "      <td>06.315.263/0001-76</td>\n",
       "      <td>AVENIDA VEREADOR GERALDO TEODORO</td>\n",
       "      <td>290</td>\n",
       "      <td>None</td>\n",
       "      <td>BOSQUE</td>\n",
       "      <td>38446-124</td>\n",
       "      <td>DIESEL</td>\n",
       "      <td>2022-07-26</td>\n",
       "      <td>7.69</td>\n",
       "      <td>R$ / litro</td>\n",
       "      <td>VIBRA ENERGIA</td>\n",
       "    </tr>\n",
       "    <tr>\n",
       "      <th>2</th>\n",
       "      <td>SE</td>\n",
       "      <td>MG</td>\n",
       "      <td>ARAGUARI</td>\n",
       "      <td>AUTO POSTO JL LTDA</td>\n",
       "      <td>06.315.263/0001-76</td>\n",
       "      <td>AVENIDA VEREADOR GERALDO TEODORO</td>\n",
       "      <td>290</td>\n",
       "      <td>None</td>\n",
       "      <td>BOSQUE</td>\n",
       "      <td>38446-124</td>\n",
       "      <td>ETANOL</td>\n",
       "      <td>2022-07-26</td>\n",
       "      <td>4.09</td>\n",
       "      <td>R$ / litro</td>\n",
       "      <td>VIBRA ENERGIA</td>\n",
       "    </tr>\n",
       "    <tr>\n",
       "      <th>3</th>\n",
       "      <td>SE</td>\n",
       "      <td>MG</td>\n",
       "      <td>ARAGUARI</td>\n",
       "      <td>AUTO POSTO JL LTDA</td>\n",
       "      <td>06.315.263/0001-76</td>\n",
       "      <td>AVENIDA VEREADOR GERALDO TEODORO</td>\n",
       "      <td>290</td>\n",
       "      <td>None</td>\n",
       "      <td>BOSQUE</td>\n",
       "      <td>38446-124</td>\n",
       "      <td>GASOLINA</td>\n",
       "      <td>2022-07-26</td>\n",
       "      <td>5.59</td>\n",
       "      <td>R$ / litro</td>\n",
       "      <td>VIBRA ENERGIA</td>\n",
       "    </tr>\n",
       "    <tr>\n",
       "      <th>4</th>\n",
       "      <td>SE</td>\n",
       "      <td>MG</td>\n",
       "      <td>OLIVEIRA</td>\n",
       "      <td>POSTO PERFORMANCE LTDA.</td>\n",
       "      <td>26.391.185/0001-04</td>\n",
       "      <td>RUA AMINTAS DE SOUZA</td>\n",
       "      <td>149</td>\n",
       "      <td>None</td>\n",
       "      <td>CENTRO</td>\n",
       "      <td>35540-000</td>\n",
       "      <td>DIESEL</td>\n",
       "      <td>2022-07-26</td>\n",
       "      <td>7.25</td>\n",
       "      <td>R$ / litro</td>\n",
       "      <td>BRANCA</td>\n",
       "    </tr>\n",
       "  </tbody>\n",
       "</table>\n",
       "</div>"
      ],
      "text/plain": [
       "  regiao estado municipio                  revenda                 cnpj  \\\n",
       "0     SE     MG  ARAGUARI       AUTO POSTO JL LTDA   06.315.263/0001-76   \n",
       "1     SE     MG  ARAGUARI       AUTO POSTO JL LTDA   06.315.263/0001-76   \n",
       "2     SE     MG  ARAGUARI       AUTO POSTO JL LTDA   06.315.263/0001-76   \n",
       "3     SE     MG  ARAGUARI       AUTO POSTO JL LTDA   06.315.263/0001-76   \n",
       "4     SE     MG  OLIVEIRA  POSTO PERFORMANCE LTDA.   26.391.185/0001-04   \n",
       "\n",
       "                           nome_rua numero_rua complemento  bairro        cep  \\\n",
       "0  AVENIDA VEREADOR GERALDO TEODORO        290        None  BOSQUE  38446-124   \n",
       "1  AVENIDA VEREADOR GERALDO TEODORO        290        None  BOSQUE  38446-124   \n",
       "2  AVENIDA VEREADOR GERALDO TEODORO        290        None  BOSQUE  38446-124   \n",
       "3  AVENIDA VEREADOR GERALDO TEODORO        290        None  BOSQUE  38446-124   \n",
       "4              RUA AMINTAS DE SOUZA        149        None  CENTRO  35540-000   \n",
       "\n",
       "      produto data_coleta  valor_venda unidade_medida       bandeira  \n",
       "0  DIESEL S10  2022-07-26         7.69     R$ / litro  VIBRA ENERGIA  \n",
       "1      DIESEL  2022-07-26         7.69     R$ / litro  VIBRA ENERGIA  \n",
       "2      ETANOL  2022-07-26         4.09     R$ / litro  VIBRA ENERGIA  \n",
       "3    GASOLINA  2022-07-26         5.59     R$ / litro  VIBRA ENERGIA  \n",
       "4      DIESEL  2022-07-26         7.25     R$ / litro         BRANCA  "
      ]
     },
     "execution_count": 7,
     "metadata": {},
     "output_type": "execute_result"
    }
   ],
   "source": [
    "df.head()"
   ]
  },
  {
   "cell_type": "code",
   "execution_count": 8,
   "metadata": {},
   "outputs": [
    {
     "name": "stdout",
     "output_type": "stream",
     "text": [
      "Quantidade de linhas e colunas (4401370, 15)\n"
     ]
    }
   ],
   "source": [
    "print(f'Quantidade de linhas e colunas {df.shape}')"
   ]
  },
  {
   "cell_type": "markdown",
   "metadata": {},
   "source": [
    "Tipo das Colunas"
   ]
  },
  {
   "cell_type": "code",
   "execution_count": 9,
   "metadata": {},
   "outputs": [
    {
     "name": "stdout",
     "output_type": "stream",
     "text": [
      "<class 'pandas.core.frame.DataFrame'>\n",
      "RangeIndex: 4401370 entries, 0 to 4401369\n",
      "Data columns (total 15 columns):\n",
      " #   Column          Dtype  \n",
      "---  ------          -----  \n",
      " 0   regiao          object \n",
      " 1   estado          object \n",
      " 2   municipio       object \n",
      " 3   revenda         object \n",
      " 4   cnpj            object \n",
      " 5   nome_rua        object \n",
      " 6   numero_rua      object \n",
      " 7   complemento     object \n",
      " 8   bairro          object \n",
      " 9   cep             object \n",
      " 10  produto         object \n",
      " 11  data_coleta     object \n",
      " 12  valor_venda     float64\n",
      " 13  unidade_medida  object \n",
      " 14  bandeira        object \n",
      "dtypes: float64(1), object(14)\n",
      "memory usage: 503.7+ MB\n"
     ]
    }
   ],
   "source": [
    "df.info()"
   ]
  },
  {
   "cell_type": "code",
   "execution_count": 10,
   "metadata": {},
   "outputs": [],
   "source": [
    "df['data_coleta']= pd.to_datetime(df['data_coleta'])"
   ]
  },
  {
   "cell_type": "code",
   "execution_count": 11,
   "metadata": {},
   "outputs": [
    {
     "name": "stdout",
     "output_type": "stream",
     "text": [
      "<class 'pandas.core.frame.DataFrame'>\n",
      "RangeIndex: 4401370 entries, 0 to 4401369\n",
      "Data columns (total 15 columns):\n",
      " #   Column          Dtype         \n",
      "---  ------          -----         \n",
      " 0   regiao          object        \n",
      " 1   estado          object        \n",
      " 2   municipio       object        \n",
      " 3   revenda         object        \n",
      " 4   cnpj            object        \n",
      " 5   nome_rua        object        \n",
      " 6   numero_rua      object        \n",
      " 7   complemento     object        \n",
      " 8   bairro          object        \n",
      " 9   cep             object        \n",
      " 10  produto         object        \n",
      " 11  data_coleta     datetime64[ns]\n",
      " 12  valor_venda     float64       \n",
      " 13  unidade_medida  object        \n",
      " 14  bandeira        object        \n",
      "dtypes: datetime64[ns](1), float64(1), object(13)\n",
      "memory usage: 503.7+ MB\n"
     ]
    }
   ],
   "source": [
    "df.info()"
   ]
  },
  {
   "cell_type": "markdown",
   "metadata": {},
   "source": [
    "Verificar se há nulos nas colunas"
   ]
  },
  {
   "cell_type": "code",
   "execution_count": 12,
   "metadata": {},
   "outputs": [
    {
     "data": {
      "text/plain": [
       "regiao                  0\n",
       "estado                  0\n",
       "municipio               0\n",
       "revenda                 0\n",
       "cnpj                    0\n",
       "nome_rua                0\n",
       "numero_rua           2775\n",
       "complemento       3354329\n",
       "bairro              13416\n",
       "cep                     0\n",
       "produto                 0\n",
       "data_coleta             0\n",
       "valor_venda             0\n",
       "unidade_medida          0\n",
       "bandeira                0\n",
       "dtype: int64"
      ]
     },
     "execution_count": 12,
     "metadata": {},
     "output_type": "execute_result"
    }
   ],
   "source": [
    "df.isnull().sum()"
   ]
  },
  {
   "cell_type": "markdown",
   "metadata": {},
   "source": [
    "Selecionar as colunas que vamos trabalhar<br/>\n",
    "regiao, estado, municipio, produto, data_coleta, valor_venda, bandeira"
   ]
  },
  {
   "cell_type": "code",
   "execution_count": 13,
   "metadata": {},
   "outputs": [],
   "source": [
    "df_anp = df[['data_coleta', 'regiao', 'estado', 'municipio', 'bandeira','produto', 'valor_venda']]"
   ]
  },
  {
   "cell_type": "code",
   "execution_count": 14,
   "metadata": {},
   "outputs": [
    {
     "data": {
      "text/html": [
       "<div>\n",
       "<style scoped>\n",
       "    .dataframe tbody tr th:only-of-type {\n",
       "        vertical-align: middle;\n",
       "    }\n",
       "\n",
       "    .dataframe tbody tr th {\n",
       "        vertical-align: top;\n",
       "    }\n",
       "\n",
       "    .dataframe thead th {\n",
       "        text-align: right;\n",
       "    }\n",
       "</style>\n",
       "<table border=\"1\" class=\"dataframe\">\n",
       "  <thead>\n",
       "    <tr style=\"text-align: right;\">\n",
       "      <th></th>\n",
       "      <th>data_coleta</th>\n",
       "      <th>regiao</th>\n",
       "      <th>estado</th>\n",
       "      <th>municipio</th>\n",
       "      <th>bandeira</th>\n",
       "      <th>produto</th>\n",
       "      <th>valor_venda</th>\n",
       "    </tr>\n",
       "  </thead>\n",
       "  <tbody>\n",
       "    <tr>\n",
       "      <th>0</th>\n",
       "      <td>2022-07-26</td>\n",
       "      <td>SE</td>\n",
       "      <td>MG</td>\n",
       "      <td>ARAGUARI</td>\n",
       "      <td>VIBRA ENERGIA</td>\n",
       "      <td>DIESEL S10</td>\n",
       "      <td>7.69</td>\n",
       "    </tr>\n",
       "    <tr>\n",
       "      <th>1</th>\n",
       "      <td>2022-07-26</td>\n",
       "      <td>SE</td>\n",
       "      <td>MG</td>\n",
       "      <td>ARAGUARI</td>\n",
       "      <td>VIBRA ENERGIA</td>\n",
       "      <td>DIESEL</td>\n",
       "      <td>7.69</td>\n",
       "    </tr>\n",
       "    <tr>\n",
       "      <th>2</th>\n",
       "      <td>2022-07-26</td>\n",
       "      <td>SE</td>\n",
       "      <td>MG</td>\n",
       "      <td>ARAGUARI</td>\n",
       "      <td>VIBRA ENERGIA</td>\n",
       "      <td>ETANOL</td>\n",
       "      <td>4.09</td>\n",
       "    </tr>\n",
       "    <tr>\n",
       "      <th>3</th>\n",
       "      <td>2022-07-26</td>\n",
       "      <td>SE</td>\n",
       "      <td>MG</td>\n",
       "      <td>ARAGUARI</td>\n",
       "      <td>VIBRA ENERGIA</td>\n",
       "      <td>GASOLINA</td>\n",
       "      <td>5.59</td>\n",
       "    </tr>\n",
       "    <tr>\n",
       "      <th>4</th>\n",
       "      <td>2022-07-26</td>\n",
       "      <td>SE</td>\n",
       "      <td>MG</td>\n",
       "      <td>OLIVEIRA</td>\n",
       "      <td>BRANCA</td>\n",
       "      <td>DIESEL</td>\n",
       "      <td>7.25</td>\n",
       "    </tr>\n",
       "  </tbody>\n",
       "</table>\n",
       "</div>"
      ],
      "text/plain": [
       "  data_coleta regiao estado municipio       bandeira     produto  valor_venda\n",
       "0  2022-07-26     SE     MG  ARAGUARI  VIBRA ENERGIA  DIESEL S10         7.69\n",
       "1  2022-07-26     SE     MG  ARAGUARI  VIBRA ENERGIA      DIESEL         7.69\n",
       "2  2022-07-26     SE     MG  ARAGUARI  VIBRA ENERGIA      ETANOL         4.09\n",
       "3  2022-07-26     SE     MG  ARAGUARI  VIBRA ENERGIA    GASOLINA         5.59\n",
       "4  2022-07-26     SE     MG  OLIVEIRA         BRANCA      DIESEL         7.25"
      ]
     },
     "execution_count": 14,
     "metadata": {},
     "output_type": "execute_result"
    }
   ],
   "source": [
    "df_anp.head()"
   ]
  },
  {
   "cell_type": "code",
   "execution_count": 15,
   "metadata": {},
   "outputs": [],
   "source": [
    "df_anp['ano'] = df_anp['data_coleta'].dt.year\n",
    "df_anp['mes'] = df_anp['data_coleta'].dt.month"
   ]
  },
  {
   "cell_type": "code",
   "execution_count": 16,
   "metadata": {},
   "outputs": [
    {
     "data": {
      "text/html": [
       "<div>\n",
       "<style scoped>\n",
       "    .dataframe tbody tr th:only-of-type {\n",
       "        vertical-align: middle;\n",
       "    }\n",
       "\n",
       "    .dataframe tbody tr th {\n",
       "        vertical-align: top;\n",
       "    }\n",
       "\n",
       "    .dataframe thead th {\n",
       "        text-align: right;\n",
       "    }\n",
       "</style>\n",
       "<table border=\"1\" class=\"dataframe\">\n",
       "  <thead>\n",
       "    <tr style=\"text-align: right;\">\n",
       "      <th></th>\n",
       "      <th>data_coleta</th>\n",
       "      <th>regiao</th>\n",
       "      <th>estado</th>\n",
       "      <th>municipio</th>\n",
       "      <th>bandeira</th>\n",
       "      <th>produto</th>\n",
       "      <th>valor_venda</th>\n",
       "      <th>ano</th>\n",
       "      <th>mes</th>\n",
       "    </tr>\n",
       "  </thead>\n",
       "  <tbody>\n",
       "    <tr>\n",
       "      <th>0</th>\n",
       "      <td>2022-07-26</td>\n",
       "      <td>SE</td>\n",
       "      <td>MG</td>\n",
       "      <td>ARAGUARI</td>\n",
       "      <td>VIBRA ENERGIA</td>\n",
       "      <td>DIESEL S10</td>\n",
       "      <td>7.69</td>\n",
       "      <td>2022</td>\n",
       "      <td>7</td>\n",
       "    </tr>\n",
       "    <tr>\n",
       "      <th>1</th>\n",
       "      <td>2022-07-26</td>\n",
       "      <td>SE</td>\n",
       "      <td>MG</td>\n",
       "      <td>ARAGUARI</td>\n",
       "      <td>VIBRA ENERGIA</td>\n",
       "      <td>DIESEL</td>\n",
       "      <td>7.69</td>\n",
       "      <td>2022</td>\n",
       "      <td>7</td>\n",
       "    </tr>\n",
       "    <tr>\n",
       "      <th>2</th>\n",
       "      <td>2022-07-26</td>\n",
       "      <td>SE</td>\n",
       "      <td>MG</td>\n",
       "      <td>ARAGUARI</td>\n",
       "      <td>VIBRA ENERGIA</td>\n",
       "      <td>ETANOL</td>\n",
       "      <td>4.09</td>\n",
       "      <td>2022</td>\n",
       "      <td>7</td>\n",
       "    </tr>\n",
       "    <tr>\n",
       "      <th>3</th>\n",
       "      <td>2022-07-26</td>\n",
       "      <td>SE</td>\n",
       "      <td>MG</td>\n",
       "      <td>ARAGUARI</td>\n",
       "      <td>VIBRA ENERGIA</td>\n",
       "      <td>GASOLINA</td>\n",
       "      <td>5.59</td>\n",
       "      <td>2022</td>\n",
       "      <td>7</td>\n",
       "    </tr>\n",
       "    <tr>\n",
       "      <th>4</th>\n",
       "      <td>2022-07-26</td>\n",
       "      <td>SE</td>\n",
       "      <td>MG</td>\n",
       "      <td>OLIVEIRA</td>\n",
       "      <td>BRANCA</td>\n",
       "      <td>DIESEL</td>\n",
       "      <td>7.25</td>\n",
       "      <td>2022</td>\n",
       "      <td>7</td>\n",
       "    </tr>\n",
       "  </tbody>\n",
       "</table>\n",
       "</div>"
      ],
      "text/plain": [
       "  data_coleta regiao estado municipio       bandeira     produto  valor_venda  \\\n",
       "0  2022-07-26     SE     MG  ARAGUARI  VIBRA ENERGIA  DIESEL S10         7.69   \n",
       "1  2022-07-26     SE     MG  ARAGUARI  VIBRA ENERGIA      DIESEL         7.69   \n",
       "2  2022-07-26     SE     MG  ARAGUARI  VIBRA ENERGIA      ETANOL         4.09   \n",
       "3  2022-07-26     SE     MG  ARAGUARI  VIBRA ENERGIA    GASOLINA         5.59   \n",
       "4  2022-07-26     SE     MG  OLIVEIRA         BRANCA      DIESEL         7.25   \n",
       "\n",
       "    ano  mes  \n",
       "0  2022    7  \n",
       "1  2022    7  \n",
       "2  2022    7  \n",
       "3  2022    7  \n",
       "4  2022    7  "
      ]
     },
     "execution_count": 16,
     "metadata": {},
     "output_type": "execute_result"
    }
   ],
   "source": [
    "df_anp.head()"
   ]
  },
  {
   "cell_type": "markdown",
   "metadata": {},
   "source": [
    "Estatística Básica"
   ]
  },
  {
   "cell_type": "code",
   "execution_count": 17,
   "metadata": {},
   "outputs": [
    {
     "data": {
      "text/html": [
       "<div>\n",
       "<style scoped>\n",
       "    .dataframe tbody tr th:only-of-type {\n",
       "        vertical-align: middle;\n",
       "    }\n",
       "\n",
       "    .dataframe tbody tr th {\n",
       "        vertical-align: top;\n",
       "    }\n",
       "\n",
       "    .dataframe thead th {\n",
       "        text-align: right;\n",
       "    }\n",
       "</style>\n",
       "<table border=\"1\" class=\"dataframe\">\n",
       "  <thead>\n",
       "    <tr style=\"text-align: right;\">\n",
       "      <th></th>\n",
       "      <th>data_coleta</th>\n",
       "      <th>valor_venda</th>\n",
       "      <th>ano</th>\n",
       "      <th>mes</th>\n",
       "    </tr>\n",
       "  </thead>\n",
       "  <tbody>\n",
       "    <tr>\n",
       "      <th>count</th>\n",
       "      <td>4401370</td>\n",
       "      <td>4401370.00</td>\n",
       "      <td>4401370.00</td>\n",
       "      <td>4401370.00</td>\n",
       "    </tr>\n",
       "    <tr>\n",
       "      <th>mean</th>\n",
       "      <td>2020-05-29 04:40:07.617630464</td>\n",
       "      <td>4.48</td>\n",
       "      <td>2019.93</td>\n",
       "      <td>6.27</td>\n",
       "    </tr>\n",
       "    <tr>\n",
       "      <th>min</th>\n",
       "      <td>2018-01-01 00:00:00</td>\n",
       "      <td>1.76</td>\n",
       "      <td>2018.00</td>\n",
       "      <td>1.00</td>\n",
       "    </tr>\n",
       "    <tr>\n",
       "      <th>25%</th>\n",
       "      <td>2019-02-18 00:00:00</td>\n",
       "      <td>3.52</td>\n",
       "      <td>2019.00</td>\n",
       "      <td>3.00</td>\n",
       "    </tr>\n",
       "    <tr>\n",
       "      <th>50%</th>\n",
       "      <td>2020-03-25 00:00:00</td>\n",
       "      <td>4.19</td>\n",
       "      <td>2020.00</td>\n",
       "      <td>6.00</td>\n",
       "    </tr>\n",
       "    <tr>\n",
       "      <th>75%</th>\n",
       "      <td>2021-10-20 00:00:00</td>\n",
       "      <td>5.20</td>\n",
       "      <td>2021.00</td>\n",
       "      <td>9.00</td>\n",
       "    </tr>\n",
       "    <tr>\n",
       "      <th>max</th>\n",
       "      <td>2022-12-30 00:00:00</td>\n",
       "      <td>9.65</td>\n",
       "      <td>2022.00</td>\n",
       "      <td>12.00</td>\n",
       "    </tr>\n",
       "    <tr>\n",
       "      <th>std</th>\n",
       "      <td>NaN</td>\n",
       "      <td>1.30</td>\n",
       "      <td>1.45</td>\n",
       "      <td>3.38</td>\n",
       "    </tr>\n",
       "  </tbody>\n",
       "</table>\n",
       "</div>"
      ],
      "text/plain": [
       "                         data_coleta  valor_venda         ano         mes\n",
       "count                        4401370   4401370.00  4401370.00  4401370.00\n",
       "mean   2020-05-29 04:40:07.617630464         4.48     2019.93        6.27\n",
       "min              2018-01-01 00:00:00         1.76     2018.00        1.00\n",
       "25%              2019-02-18 00:00:00         3.52     2019.00        3.00\n",
       "50%              2020-03-25 00:00:00         4.19     2020.00        6.00\n",
       "75%              2021-10-20 00:00:00         5.20     2021.00        9.00\n",
       "max              2022-12-30 00:00:00         9.65     2022.00       12.00\n",
       "std                              NaN         1.30        1.45        3.38"
      ]
     },
     "execution_count": 17,
     "metadata": {},
     "output_type": "execute_result"
    }
   ],
   "source": [
    "df_anp.describe().round(2)"
   ]
  },
  {
   "cell_type": "markdown",
   "metadata": {},
   "source": [
    "Quais são os tipos de produtos que são comercializados?"
   ]
  },
  {
   "cell_type": "code",
   "execution_count": 18,
   "metadata": {},
   "outputs": [
    {
     "name": "stdout",
     "output_type": "stream",
     "text": [
      "Os produtos conecializados['DIESEL S10' 'DIESEL' 'ETANOL' 'GASOLINA' 'GASOLINA ADITIVADA' 'GNV']\n"
     ]
    }
   ],
   "source": [
    "#Visualizando os valores únicos\n",
    "print(f'Os produtos conecializados{df_anp.produto.unique()}')"
   ]
  },
  {
   "cell_type": "markdown",
   "metadata": {},
   "source": [
    "Quais anos estão na Base?"
   ]
  },
  {
   "cell_type": "code",
   "execution_count": 19,
   "metadata": {},
   "outputs": [
    {
     "name": "stdout",
     "output_type": "stream",
     "text": [
      "Os anos da Base: [2022 2018 2019 2020 2021]\n"
     ]
    }
   ],
   "source": [
    "#Visualizando os valores únicos\n",
    "print(f'Os anos da Base: {df_anp.ano.unique()}')"
   ]
  },
  {
   "cell_type": "markdown",
   "metadata": {},
   "source": [
    "Descobrindo os valores mínimos, máximos e médios dos produtos por ano"
   ]
  },
  {
   "cell_type": "code",
   "execution_count": 29,
   "metadata": {},
   "outputs": [],
   "source": [
    "df_anp_valor = df_anp[['ano', 'produto', 'valor_venda']]"
   ]
  },
  {
   "cell_type": "code",
   "execution_count": 30,
   "metadata": {},
   "outputs": [
    {
     "data": {
      "text/html": [
       "<div>\n",
       "<style scoped>\n",
       "    .dataframe tbody tr th:only-of-type {\n",
       "        vertical-align: middle;\n",
       "    }\n",
       "\n",
       "    .dataframe tbody tr th {\n",
       "        vertical-align: top;\n",
       "    }\n",
       "\n",
       "    .dataframe thead tr th {\n",
       "        text-align: left;\n",
       "    }\n",
       "\n",
       "    .dataframe thead tr:last-of-type th {\n",
       "        text-align: right;\n",
       "    }\n",
       "</style>\n",
       "<table border=\"1\" class=\"dataframe\">\n",
       "  <thead>\n",
       "    <tr>\n",
       "      <th></th>\n",
       "      <th></th>\n",
       "      <th colspan=\"3\" halign=\"left\">valor_venda</th>\n",
       "    </tr>\n",
       "    <tr>\n",
       "      <th></th>\n",
       "      <th></th>\n",
       "      <th>min</th>\n",
       "      <th>max</th>\n",
       "      <th>mean</th>\n",
       "    </tr>\n",
       "    <tr>\n",
       "      <th>produto</th>\n",
       "      <th>ano</th>\n",
       "      <th></th>\n",
       "      <th></th>\n",
       "      <th></th>\n",
       "    </tr>\n",
       "  </thead>\n",
       "  <tbody>\n",
       "    <tr>\n",
       "      <th rowspan=\"5\" valign=\"top\">DIESEL</th>\n",
       "      <th>2018</th>\n",
       "      <td>2.80</td>\n",
       "      <td>5.20</td>\n",
       "      <td>3.50</td>\n",
       "    </tr>\n",
       "    <tr>\n",
       "      <th>2019</th>\n",
       "      <td>2.87</td>\n",
       "      <td>4.99</td>\n",
       "      <td>3.60</td>\n",
       "    </tr>\n",
       "    <tr>\n",
       "      <th>2020</th>\n",
       "      <td>2.45</td>\n",
       "      <td>5.09</td>\n",
       "      <td>3.42</td>\n",
       "    </tr>\n",
       "    <tr>\n",
       "      <th>2021</th>\n",
       "      <td>3.10</td>\n",
       "      <td>6.99</td>\n",
       "      <td>4.69</td>\n",
       "    </tr>\n",
       "    <tr>\n",
       "      <th>2022</th>\n",
       "      <td>3.14</td>\n",
       "      <td>9.00</td>\n",
       "      <td>6.63</td>\n",
       "    </tr>\n",
       "    <tr>\n",
       "      <th rowspan=\"5\" valign=\"top\">DIESEL S10</th>\n",
       "      <th>2018</th>\n",
       "      <td>2.84</td>\n",
       "      <td>5.30</td>\n",
       "      <td>3.59</td>\n",
       "    </tr>\n",
       "    <tr>\n",
       "      <th>2019</th>\n",
       "      <td>2.79</td>\n",
       "      <td>5.09</td>\n",
       "      <td>3.69</td>\n",
       "    </tr>\n",
       "    <tr>\n",
       "      <th>2020</th>\n",
       "      <td>2.46</td>\n",
       "      <td>5.38</td>\n",
       "      <td>3.51</td>\n",
       "    </tr>\n",
       "    <tr>\n",
       "      <th>2021</th>\n",
       "      <td>2.80</td>\n",
       "      <td>6.96</td>\n",
       "      <td>4.74</td>\n",
       "    </tr>\n",
       "    <tr>\n",
       "      <th>2022</th>\n",
       "      <td>3.59</td>\n",
       "      <td>9.65</td>\n",
       "      <td>6.73</td>\n",
       "    </tr>\n",
       "    <tr>\n",
       "      <th rowspan=\"5\" valign=\"top\">ETANOL</th>\n",
       "      <th>2018</th>\n",
       "      <td>1.90</td>\n",
       "      <td>4.98</td>\n",
       "      <td>3.13</td>\n",
       "    </tr>\n",
       "    <tr>\n",
       "      <th>2019</th>\n",
       "      <td>2.10</td>\n",
       "      <td>5.47</td>\n",
       "      <td>3.17</td>\n",
       "    </tr>\n",
       "    <tr>\n",
       "      <th>2020</th>\n",
       "      <td>1.80</td>\n",
       "      <td>5.15</td>\n",
       "      <td>3.18</td>\n",
       "    </tr>\n",
       "    <tr>\n",
       "      <th>2021</th>\n",
       "      <td>2.05</td>\n",
       "      <td>7.90</td>\n",
       "      <td>4.67</td>\n",
       "    </tr>\n",
       "    <tr>\n",
       "      <th>2022</th>\n",
       "      <td>2.49</td>\n",
       "      <td>7.98</td>\n",
       "      <td>4.85</td>\n",
       "    </tr>\n",
       "    <tr>\n",
       "      <th rowspan=\"5\" valign=\"top\">GASOLINA</th>\n",
       "      <th>2018</th>\n",
       "      <td>3.37</td>\n",
       "      <td>6.29</td>\n",
       "      <td>4.45</td>\n",
       "    </tr>\n",
       "    <tr>\n",
       "      <th>2019</th>\n",
       "      <td>3.39</td>\n",
       "      <td>6.29</td>\n",
       "      <td>4.42</td>\n",
       "    </tr>\n",
       "    <tr>\n",
       "      <th>2020</th>\n",
       "      <td>2.87</td>\n",
       "      <td>5.90</td>\n",
       "      <td>4.28</td>\n",
       "    </tr>\n",
       "    <tr>\n",
       "      <th>2021</th>\n",
       "      <td>3.10</td>\n",
       "      <td>8.00</td>\n",
       "      <td>5.89</td>\n",
       "    </tr>\n",
       "    <tr>\n",
       "      <th>2022</th>\n",
       "      <td>3.49</td>\n",
       "      <td>8.99</td>\n",
       "      <td>6.32</td>\n",
       "    </tr>\n",
       "    <tr>\n",
       "      <th rowspan=\"3\" valign=\"top\">GASOLINA ADITIVADA</th>\n",
       "      <th>2020</th>\n",
       "      <td>3.69</td>\n",
       "      <td>6.00</td>\n",
       "      <td>4.59</td>\n",
       "    </tr>\n",
       "    <tr>\n",
       "      <th>2021</th>\n",
       "      <td>3.46</td>\n",
       "      <td>8.99</td>\n",
       "      <td>6.04</td>\n",
       "    </tr>\n",
       "    <tr>\n",
       "      <th>2022</th>\n",
       "      <td>4.09</td>\n",
       "      <td>9.28</td>\n",
       "      <td>6.47</td>\n",
       "    </tr>\n",
       "    <tr>\n",
       "      <th rowspan=\"5\" valign=\"top\">GNV</th>\n",
       "      <th>2018</th>\n",
       "      <td>1.76</td>\n",
       "      <td>4.10</td>\n",
       "      <td>2.73</td>\n",
       "    </tr>\n",
       "    <tr>\n",
       "      <th>2019</th>\n",
       "      <td>2.00</td>\n",
       "      <td>4.56</td>\n",
       "      <td>3.22</td>\n",
       "    </tr>\n",
       "    <tr>\n",
       "      <th>2020</th>\n",
       "      <td>2.00</td>\n",
       "      <td>4.78</td>\n",
       "      <td>3.17</td>\n",
       "    </tr>\n",
       "    <tr>\n",
       "      <th>2021</th>\n",
       "      <td>2.38</td>\n",
       "      <td>6.70</td>\n",
       "      <td>3.89</td>\n",
       "    </tr>\n",
       "    <tr>\n",
       "      <th>2022</th>\n",
       "      <td>3.17</td>\n",
       "      <td>7.99</td>\n",
       "      <td>5.04</td>\n",
       "    </tr>\n",
       "  </tbody>\n",
       "</table>\n",
       "</div>"
      ],
      "text/plain": [
       "                        valor_venda            \n",
       "                                min   max  mean\n",
       "produto            ano                         \n",
       "DIESEL             2018        2.80  5.20  3.50\n",
       "                   2019        2.87  4.99  3.60\n",
       "                   2020        2.45  5.09  3.42\n",
       "                   2021        3.10  6.99  4.69\n",
       "                   2022        3.14  9.00  6.63\n",
       "DIESEL S10         2018        2.84  5.30  3.59\n",
       "                   2019        2.79  5.09  3.69\n",
       "                   2020        2.46  5.38  3.51\n",
       "                   2021        2.80  6.96  4.74\n",
       "                   2022        3.59  9.65  6.73\n",
       "ETANOL             2018        1.90  4.98  3.13\n",
       "                   2019        2.10  5.47  3.17\n",
       "                   2020        1.80  5.15  3.18\n",
       "                   2021        2.05  7.90  4.67\n",
       "                   2022        2.49  7.98  4.85\n",
       "GASOLINA           2018        3.37  6.29  4.45\n",
       "                   2019        3.39  6.29  4.42\n",
       "                   2020        2.87  5.90  4.28\n",
       "                   2021        3.10  8.00  5.89\n",
       "                   2022        3.49  8.99  6.32\n",
       "GASOLINA ADITIVADA 2020        3.69  6.00  4.59\n",
       "                   2021        3.46  8.99  6.04\n",
       "                   2022        4.09  9.28  6.47\n",
       "GNV                2018        1.76  4.10  2.73\n",
       "                   2019        2.00  4.56  3.22\n",
       "                   2020        2.00  4.78  3.17\n",
       "                   2021        2.38  6.70  3.89\n",
       "                   2022        3.17  7.99  5.04"
      ]
     },
     "execution_count": 30,
     "metadata": {},
     "output_type": "execute_result"
    }
   ],
   "source": [
    "df_anp_valor.groupby(['produto','ano']).agg(['min', 'max', 'mean']).round(2)"
   ]
  },
  {
   "cell_type": "code",
   "execution_count": 31,
   "metadata": {},
   "outputs": [],
   "source": [
    "df_anp_valor_estado = df_anp[['ano', 'produto', 'estado','valor_venda']]"
   ]
  },
  {
   "cell_type": "code",
   "execution_count": 32,
   "metadata": {},
   "outputs": [
    {
     "data": {
      "text/html": [
       "<div>\n",
       "<style scoped>\n",
       "    .dataframe tbody tr th:only-of-type {\n",
       "        vertical-align: middle;\n",
       "    }\n",
       "\n",
       "    .dataframe tbody tr th {\n",
       "        vertical-align: top;\n",
       "    }\n",
       "\n",
       "    .dataframe thead tr th {\n",
       "        text-align: left;\n",
       "    }\n",
       "\n",
       "    .dataframe thead tr:last-of-type th {\n",
       "        text-align: right;\n",
       "    }\n",
       "</style>\n",
       "<table border=\"1\" class=\"dataframe\">\n",
       "  <thead>\n",
       "    <tr>\n",
       "      <th></th>\n",
       "      <th></th>\n",
       "      <th></th>\n",
       "      <th colspan=\"3\" halign=\"left\">valor_venda</th>\n",
       "    </tr>\n",
       "    <tr>\n",
       "      <th></th>\n",
       "      <th></th>\n",
       "      <th></th>\n",
       "      <th>min</th>\n",
       "      <th>max</th>\n",
       "      <th>mean</th>\n",
       "    </tr>\n",
       "    <tr>\n",
       "      <th>produto</th>\n",
       "      <th>ano</th>\n",
       "      <th>estado</th>\n",
       "      <th></th>\n",
       "      <th></th>\n",
       "      <th></th>\n",
       "    </tr>\n",
       "  </thead>\n",
       "  <tbody>\n",
       "    <tr>\n",
       "      <th rowspan=\"5\" valign=\"top\">DIESEL</th>\n",
       "      <th rowspan=\"5\" valign=\"top\">2018</th>\n",
       "      <th>AC</th>\n",
       "      <td>3.38</td>\n",
       "      <td>4.89</td>\n",
       "      <td>4.29</td>\n",
       "    </tr>\n",
       "    <tr>\n",
       "      <th>AL</th>\n",
       "      <td>3.10</td>\n",
       "      <td>4.23</td>\n",
       "      <td>3.60</td>\n",
       "    </tr>\n",
       "    <tr>\n",
       "      <th>AM</th>\n",
       "      <td>3.09</td>\n",
       "      <td>4.49</td>\n",
       "      <td>3.63</td>\n",
       "    </tr>\n",
       "    <tr>\n",
       "      <th>AP</th>\n",
       "      <td>3.29</td>\n",
       "      <td>4.51</td>\n",
       "      <td>3.88</td>\n",
       "    </tr>\n",
       "    <tr>\n",
       "      <th>BA</th>\n",
       "      <td>2.99</td>\n",
       "      <td>5.20</td>\n",
       "      <td>3.51</td>\n",
       "    </tr>\n",
       "    <tr>\n",
       "      <th>...</th>\n",
       "      <th>...</th>\n",
       "      <th>...</th>\n",
       "      <td>...</td>\n",
       "      <td>...</td>\n",
       "      <td>...</td>\n",
       "    </tr>\n",
       "    <tr>\n",
       "      <th rowspan=\"5\" valign=\"top\">GNV</th>\n",
       "      <th rowspan=\"5\" valign=\"top\">2022</th>\n",
       "      <th>RN</th>\n",
       "      <td>4.11</td>\n",
       "      <td>4.99</td>\n",
       "      <td>4.50</td>\n",
       "    </tr>\n",
       "    <tr>\n",
       "      <th>RS</th>\n",
       "      <td>4.59</td>\n",
       "      <td>6.89</td>\n",
       "      <td>5.88</td>\n",
       "    </tr>\n",
       "    <tr>\n",
       "      <th>SC</th>\n",
       "      <td>4.00</td>\n",
       "      <td>6.89</td>\n",
       "      <td>5.50</td>\n",
       "    </tr>\n",
       "    <tr>\n",
       "      <th>SE</th>\n",
       "      <td>4.47</td>\n",
       "      <td>5.49</td>\n",
       "      <td>4.99</td>\n",
       "    </tr>\n",
       "    <tr>\n",
       "      <th>SP</th>\n",
       "      <td>3.59</td>\n",
       "      <td>6.99</td>\n",
       "      <td>5.22</td>\n",
       "    </tr>\n",
       "  </tbody>\n",
       "</table>\n",
       "<p>727 rows × 3 columns</p>\n",
       "</div>"
      ],
      "text/plain": [
       "                    valor_venda            \n",
       "                            min   max  mean\n",
       "produto ano  estado                        \n",
       "DIESEL  2018 AC            3.38  4.89  4.29\n",
       "             AL            3.10  4.23  3.60\n",
       "             AM            3.09  4.49  3.63\n",
       "             AP            3.29  4.51  3.88\n",
       "             BA            2.99  5.20  3.51\n",
       "...                         ...   ...   ...\n",
       "GNV     2022 RN            4.11  4.99  4.50\n",
       "             RS            4.59  6.89  5.88\n",
       "             SC            4.00  6.89  5.50\n",
       "             SE            4.47  5.49  4.99\n",
       "             SP            3.59  6.99  5.22\n",
       "\n",
       "[727 rows x 3 columns]"
      ]
     },
     "execution_count": 32,
     "metadata": {},
     "output_type": "execute_result"
    }
   ],
   "source": [
    "df_anp_valor_estado.groupby(['produto','ano','estado']).agg(['min', 'max', 'mean']).round(2)"
   ]
  },
  {
   "cell_type": "markdown",
   "metadata": {},
   "source": [
    "Descobrir a quantidade de bandeiras por produto/ano"
   ]
  },
  {
   "cell_type": "code",
   "execution_count": 22,
   "metadata": {},
   "outputs": [],
   "source": [
    "df_anp_bandeira = df_anp[['ano','bandeira','produto']]"
   ]
  },
  {
   "cell_type": "code",
   "execution_count": 25,
   "metadata": {},
   "outputs": [
    {
     "data": {
      "text/plain": [
       "ano   produto           \n",
       "2018  DIESEL                64\n",
       "      DIESEL S10            66\n",
       "      ETANOL                66\n",
       "      GASOLINA              66\n",
       "      GNV                   24\n",
       "2019  DIESEL                59\n",
       "      DIESEL S10            61\n",
       "      ETANOL                63\n",
       "      GASOLINA              64\n",
       "      GNV                   22\n",
       "2020  DIESEL                52\n",
       "      DIESEL S10            57\n",
       "      ETANOL                58\n",
       "      GASOLINA              58\n",
       "      GASOLINA ADITIVADA    43\n",
       "      GNV                   23\n",
       "2021  DIESEL                54\n",
       "      DIESEL S10            54\n",
       "      ETANOL                55\n",
       "      GASOLINA              55\n",
       "      GASOLINA ADITIVADA    54\n",
       "      GNV                   22\n",
       "2022  DIESEL                51\n",
       "      DIESEL S10            60\n",
       "      ETANOL                60\n",
       "      GASOLINA              60\n",
       "      GASOLINA ADITIVADA    58\n",
       "      GNV                   24\n",
       "Name: bandeira, dtype: int64"
      ]
     },
     "execution_count": 25,
     "metadata": {},
     "output_type": "execute_result"
    }
   ],
   "source": [
    "df_anp_bandeira.groupby(['ano','produto']).bandeira.nunique()"
   ]
  },
  {
   "cell_type": "code",
   "execution_count": 34,
   "metadata": {},
   "outputs": [],
   "source": [
    "df_anp_bandeira_estado = df_anp[['ano','bandeira','produto', 'estado']]"
   ]
  },
  {
   "cell_type": "code",
   "execution_count": 35,
   "metadata": {},
   "outputs": [
    {
     "data": {
      "text/plain": [
       "ano   produto  estado\n",
       "2018  DIESEL   AC         6\n",
       "               AL         7\n",
       "               AM         9\n",
       "               AP         3\n",
       "               BA        10\n",
       "                         ..\n",
       "2022  GNV      RN         5\n",
       "               RS         6\n",
       "               SC         8\n",
       "               SE         5\n",
       "               SP         7\n",
       "Name: bandeira, Length: 727, dtype: int64"
      ]
     },
     "execution_count": 35,
     "metadata": {},
     "output_type": "execute_result"
    }
   ],
   "source": [
    "df_anp_bandeira_estado.groupby(['ano','produto','estado']).bandeira.nunique()"
   ]
  },
  {
   "cell_type": "code",
   "execution_count": null,
   "metadata": {},
   "outputs": [],
   "source": []
  }
 ],
 "metadata": {
  "kernelspec": {
   "display_name": "Python 3.9.12 64-bit",
   "language": "python",
   "name": "python3"
  },
  "language_info": {
   "codemirror_mode": {
    "name": "ipython",
    "version": 3
   },
   "file_extension": ".py",
   "mimetype": "text/x-python",
   "name": "python",
   "nbconvert_exporter": "python",
   "pygments_lexer": "ipython3",
   "version": "3.11.4"
  },
  "orig_nbformat": 4,
  "vscode": {
   "interpreter": {
    "hash": "8682c474af1cf416eccb63a411a7c81c15a3947ae2d19cb89592b512035f24d4"
   }
  }
 },
 "nbformat": 4,
 "nbformat_minor": 2
}
